{
  "nbformat": 4,
  "nbformat_minor": 0,
  "metadata": {
    "colab": {
      "name": "Big Data Milk.ipynb",
      "provenance": [],
      "collapsed_sections": [],
      "toc_visible": true,
      "include_colab_link": true
    },
    "kernelspec": {
      "name": "python3",
      "display_name": "Python 3"
    }
  },
  "cells": [
    {
      "cell_type": "markdown",
      "metadata": {
        "id": "view-in-github",
        "colab_type": "text"
      },
      "source": [
        "<a href=\"https://colab.research.google.com/github/bartianbosch/Melk/blob/Oscar/Big_Data_Milk_Oscar.ipynb\" target=\"_parent\"><img src=\"https://colab.research.google.com/assets/colab-badge.svg\" alt=\"Open In Colab\"/></a>"
      ]
    },
    {
      "cell_type": "markdown",
      "metadata": {
        "id": "zSVRLt9dJyKM"
      },
      "source": [
        "Big Data Groupwork Milk\n"
      ]
    },
    {
      "cell_type": "code",
      "metadata": {
        "id": "o3LZGS6nWtSx",
        "colab": {
          "base_uri": "https://localhost:8080/"
        },
        "outputId": "f268c599-fcf5-4286-ac57-32124ca371dc"
      },
      "source": [
        "!apt-get update\n",
        "!apt-get install openjdk-8-jdk-headless -qq > /dev/null\n",
        "!wget -q http://downloads.apache.org/spark/spark-2.4.7/spark-2.4.7-bin-hadoop2.7.tgz\n",
        "!tar xf spark-2.4.7-bin-hadoop2.7.tgz\n",
        "!pip install -q findspark\n",
        "\n",
        "import os\n",
        "os.environ[\"JAVA_HOME\"] = \"/usr/lib/jvm/java-8-openjdk-amd64\"\n",
        "os.environ[\"SPARK_HOME\"] = \"/content/spark-2.4.7-bin-hadoop2.7\"\n",
        "\n",
        "import findspark\n",
        "findspark.init()\n",
        "from pyspark.sql import SparkSession\n",
        "sp = SparkSession.builder.master(\"local[*]\").getOrCreate()\n",
        "\n",
        "from pyspark import SparkContext\n",
        "from pyspark.sql import SparkSession\n",
        "sc = SparkContext.getOrCreate()\n",
        "spark = SparkSession.builder.getOrCreate()\n",
        "\n",
        "from pyspark.sql import SQLContext\n",
        "sqlContext = SQLContext(sc)\n",
        "\n",
        "# Added our own necessary imports \n",
        "import seaborn as sns\n",
        "\n",
        "from pyspark import SparkFiles\n",
        "\n",
        "import pandas as pd\n",
        "import matplotlib.pyplot as plt\n",
        "plt.close('all')\n",
        "plt.rcParams['figure.figsize'] = [30, 20]\n",
        "\n",
        "from pyspark.sql import types\n",
        "from pyspark.sql import functions as psf\n",
        "from pyspark.ml.feature import VectorAssembler\n",
        "\n",
        "from pyspark.ml.regression import LinearRegression\n",
        "from pyspark.ml.regression import LinearRegressionModel\n",
        "from pyspark.ml import Pipeline\n",
        "\n",
        "from pyspark.ml.evaluation import RegressionEvaluator\n",
        "\n",
        "from pyspark.ml.tuning import ParamGridBuilder, CrossValidator\n",
        "\n",
        "from pyspark.ml.regression import LinearRegression\n",
        "\n",
        "# Mounting drive\n",
        "from google.colab import drive\n",
        "drive.mount('/content/gdrive/')"
      ],
      "execution_count": 180,
      "outputs": [
        {
          "output_type": "stream",
          "text": [
            "Hit:1 https://cloud.r-project.org/bin/linux/ubuntu bionic-cran40/ InRelease\n",
            "Ign:2 https://developer.download.nvidia.com/compute/cuda/repos/ubuntu1804/x86_64  InRelease\n",
            "Ign:3 https://developer.download.nvidia.com/compute/machine-learning/repos/ubuntu1804/x86_64  InRelease\n",
            "Hit:4 https://developer.download.nvidia.com/compute/cuda/repos/ubuntu1804/x86_64  Release\n",
            "Hit:5 https://developer.download.nvidia.com/compute/machine-learning/repos/ubuntu1804/x86_64  Release\n",
            "Hit:6 http://security.ubuntu.com/ubuntu bionic-security InRelease\n",
            "Hit:7 http://ppa.launchpad.net/c2d4u.team/c2d4u4.0+/ubuntu bionic InRelease\n",
            "Hit:8 http://archive.ubuntu.com/ubuntu bionic InRelease\n",
            "Hit:9 http://archive.ubuntu.com/ubuntu bionic-updates InRelease\n",
            "Hit:11 http://ppa.launchpad.net/graphics-drivers/ppa/ubuntu bionic InRelease\n",
            "Hit:12 http://archive.ubuntu.com/ubuntu bionic-backports InRelease\n",
            "Reading package lists... Done\n",
            "Drive already mounted at /content/gdrive/; to attempt to forcibly remount, call drive.mount(\"/content/gdrive/\", force_remount=True).\n"
          ],
          "name": "stdout"
        }
      ]
    },
    {
      "cell_type": "markdown",
      "metadata": {
        "id": "BMSmDG4GLso4"
      },
      "source": [
        "Loading the data into a DF\n"
      ]
    },
    {
      "cell_type": "code",
      "metadata": {
        "id": "E9lkii3ALw4O"
      },
      "source": [
        "## Loading the data\n",
        "\n",
        "# Downloading the preprocessed datafile from the github in raw format\n",
        "url = 'https://raw.githubusercontent.com/bartianbosch/Melk/main/ff_dairy_v1_preprocessed.csv'\n",
        "url = 'https://raw.githubusercontent.com/bartianbosch/Melk/main/ff_dairy_v1_preprocessed_someNAfilledin.csv'\n",
        "fileName = url.split('/')[-1] #The filename is everything after \"main/\"\n",
        "\n",
        "# Prepare and load the file into a spark rdd\n",
        "spark.sparkContext.addFile(url)\n",
        "\n",
        "# Also load the data to a pandas table, just in case we need it for testing.\n",
        "milk_pd=pd.read_csv(url, encoding='latin1')\n"
      ],
      "execution_count": 181,
      "outputs": []
    },
    {
      "cell_type": "code",
      "metadata": {
        "id": "vFz1OVe9gzl-"
      },
      "source": [
        "# To check pandas dataframe, uncomment the following line:\n",
        "\n",
        "#milk_pd"
      ],
      "execution_count": 182,
      "outputs": []
    },
    {
      "cell_type": "code",
      "metadata": {
        "id": "fDwnD2s2W-H-"
      },
      "source": [
        "# To check spark rdd, uncomment the following line:\n",
        "#milk_rdd.show(5)"
      ],
      "execution_count": 183,
      "outputs": []
    },
    {
      "cell_type": "markdown",
      "metadata": {
        "id": "iCd12fxv0q5P"
      },
      "source": [
        "\n",
        "\n",
        "---\n",
        "\n",
        "\n",
        "## Creating a Machine Learning Model"
      ]
    },
    {
      "cell_type": "markdown",
      "metadata": {
        "id": "pMloXHglEdhH"
      },
      "source": [
        "### Data Preparation"
      ]
    },
    {
      "cell_type": "code",
      "metadata": {
        "id": "bgm-WDfsu1Yz"
      },
      "source": [
        "## Fixing the RDD columns datatypes\n",
        "\n",
        "# We need to change the datatype of each column in the rdd, to be able to\n",
        "# process it correctly.\n",
        "\n",
        "# TO-DO! FIND A WAY TO USE STRING COLUMNS IN ANALYSIS.\n",
        "\n",
        "# Creating a function to set the given columns to the given datatype.\n",
        "def fixType(datasetName, colName, dataType):\n",
        "  \"\"\"Takes a dataset and returns the dataset with the given column set to the given dataype\"\"\"\n",
        "  return datasetName.withColumn(colName, psf.col(colName).cast(dataType))\n",
        "\n",
        "# Preparing Lists with the column names according to which type they need to be.\n",
        "allColumns = ['Cow number', 'Date', 'Barn', 'Barn part', 'Treatment', 'Lactation number', 'Days in milk', 'Day number', 'Week', 'Period (VP = preperiod, HP = trial period)', 'Period part (VP = preperiod, HP = trial period)', 'Intake basal ration (kg dm)', 'Intake total ration (kg dm)', 'Water intake (kg)', 'Concentrate intake (kg)', 'Weight (kg)', 'BCS', 'Backfat Thickness', 'Milk yield (kg)', 'Fat%', 'Protein%', 'Urea (mg/kg)', 'SCC (*1000/ml)', 'Lactose%', 'Avg Temperature (degC)', 'Air speed', 'Max temperature (degC)', 'Rumination time (min/day)', 'Avg pH', 'Avg Rumen Temperature ', 'Time pH<5,8 (h)', 'Manure consistency (1=fluid, 5= hard)', 'Manure fibre score (1=short, 5 = long)', 'Number of kernels', 'Manure sieving residu (%)', 'Manure dm (g/kg OM)', 'Manure starch (g/kg dm)', 'Urin-pH', 'Intake pre-period (kg dm)', 'Milk yield prepreriod (kg)', 'Fat% preperiod', 'Protein% preperiod', 'Fat preperiod (kg)', 'Protein preperiod (kg)', 'ECM preperiod (kg)', 'ECM (kg)', 'Crude fiber (g/day)', 'Sugar (g/day)', 'Crude protein (g/day)', 'Crude fat (g/day)', 'Starch (g/day)', 'Ca (g/day)', 'P (g/day)', 'Na (g/day)', 'Cl (g/day)', 'K (g/day)', 'Mg (g/day)', 'nXP (g/day)', 'RNB (g/day)', 'MELK (g/day)', 'NEL (g/day)', 'WDE (g/day)', 'EKB (g/day)', 'WDS (g/day)', 'SPK (g/day)', 'TPK (g/day)', 'SPE (g/day)', 'TPE (g/day)', 'plusI (/day)', 'WI (/day)', 'GP (g/day)', 'Crude fiber (g/kg dm)', 'Sugar (g/kg dm)', 'Crude protein (g/kg dm)', 'Crude fat (g/kg dm)', 'Starch (g/kg dm)', 'Ca (g/kg dm)', 'P (g/kg dm)', 'Na (g/kg dm)', 'Cl (g/kg dm)', 'K (g/kg dm)', 'Mg (g/kg dm)', 'nXP (g/kg dm)', 'RNB (g/kg dm)', 'MELK (/kg dm)', 'NEL (MJ/kg dm)', 'WDE (g/kg dm)', 'EKB (g/kg dm)', 'WDS (g/kg dm)', 'SPK (g/kg dm)', 'TPK (g/kg dm)', 'SPE (g/kg dm)', 'TPE (g/kg dm)', 'plusI (/kg dm)', 'WI (/kg dm)', 'GP (g/kg dm)']\n",
        "doubleColumns = ['Intake basal ration (kg dm)', 'Intake total ration (kg dm)', 'Water intake (kg)', 'Concentrate intake (kg)', 'Weight (kg)', 'BCS', 'Milk yield (kg)', 'Fat%', 'Protein%', 'Lactose%', 'Avg Temperature (degC)', 'Air speed', 'Max temperature (degC)', 'Avg pH', 'Avg Rumen Temperature ', 'Time pH<5,8 (h)', 'Number of kernels', 'Manure sieving residu (%)', 'Manure starch (g/kg dm)', 'Urin-pH', 'Intake pre-period (kg dm)', 'Milk yield prepreriod (kg)', 'Fat% preperiod', 'Protein% preperiod', 'Fat preperiod (kg)', 'Protein preperiod (kg)', 'ECM preperiod (kg)', 'ECM (kg)']\n",
        "intColumns = ['Cow number', 'Barn', 'Barn part', 'Lactation number', 'Days in milk', 'Day number', 'Week', 'Backfat Thickness', 'Urea (mg/kg)', 'SCC (*1000/ml)', 'Rumination time (min/day)', 'Manure consistency (1=fluid, 5= hard)', 'Manure fibre score (1=short, 5 = long)', 'Manure dm (g/kg OM)', 'Crude fiber (g/day)', 'Sugar (g/day)', 'Crude protein (g/day)', 'Crude fat (g/day)', 'Starch (g/day)', 'Ca (g/day)', 'P (g/day)', 'Na (g/day)', 'Cl (g/day)', 'K (g/day)', 'Mg (g/day)', 'nXP (g/day)', 'RNB (g/day)', 'MELK (g/day)', 'NEL (g/day)', 'WDE (g/day)', 'EKB (g/day)', 'WDS (g/day)', 'SPK (g/day)', 'TPK (g/day)', 'SPE (g/day)', 'TPE (g/day)', 'plusI (/day)', 'WI (/day)', 'GP (g/day)', 'Crude fiber (g/kg dm)', 'Sugar (g/kg dm)', 'Crude protein (g/kg dm)', 'Crude fat (g/kg dm)', 'Starch (g/kg dm)', 'Ca (g/kg dm)', 'P (g/kg dm)', 'Na (g/kg dm)', 'Cl (g/kg dm)', 'K (g/kg dm)', 'Mg (g/kg dm)', 'nXP (g/kg dm)', 'RNB (g/kg dm)', 'MELK (/kg dm)', 'NEL (MJ/kg dm)', 'WDE (g/kg dm)', 'EKB (g/kg dm)', 'WDS (g/kg dm)', 'SPK (g/kg dm)', 'TPK (g/kg dm)', 'SPE (g/kg dm)', 'TPE (g/kg dm)', 'plusI (/kg dm)', 'WI (/kg dm)', 'GP (g/kg dm)']\n",
        "stringColumn = ['Treatment', 'Period (VP = preperiod, HP = trial period)', 'Period part (VP = preperiod, HP = trial period)']\n",
        "milk_rdd2 = milk_rdd\n",
        "\n",
        "# Setting the columns to the correct type\n",
        "for colName in doubleColumns:\n",
        "  milk_rdd2 = fixType(milk_rdd2, colName, \"double\")\n",
        "for colName in intColumns:\n",
        "  milk_rdd2 = fixType(milk_rdd2, colName, \"int\")\n",
        "milk_rdd2 = milk_rdd2.withColumn(\"Date\", psf.col(\"Date\").cast(\"date\"))\n",
        "\n",
        "# Uncomment the next line to check the schema\n",
        "#milk_rdd2.printSchema()\n"
      ],
      "execution_count": 184,
      "outputs": []
    },
    {
      "cell_type": "code",
      "metadata": {
        "id": "AM5UfQQx0qbE",
        "colab": {
          "base_uri": "https://localhost:8080/"
        },
        "outputId": "0be022b5-f461-4570-9a49-7c7c55ba3343"
      },
      "source": [
        "## Create the vectorizer that adds the features column needed to run the machine learning pipeline\n",
        "\n",
        "### To change on which columns the LR model is build you only need to change ###\n",
        "### the 2 variables: inputColNames and labelColName ###\n",
        "\n",
        "inputColNames = ['Water intake (kg)','Fat%', 'Protein%', 'Lactose%','Urea (mg/kg)', 'SCC (*1000/ml)']\n",
        "inputColNames = ['Protein%','Cl (g/kg dm)','K (g/kg dm)','Fat%']\n",
        "#inputColNames = ['Ca (g/day)', 'P (g/day)', 'Na (g/day)']\n",
        "#inputColNames = doubleColumns[0:10]\n",
        "#inputColNames = intColumn\n",
        "\n",
        "labelColName = \"Milk yield (kg)\"\n",
        "predictionColName = \"Predicted \" + labelColName\n",
        "\n",
        "# Removing the label column from the input column if it ended in there on accident\n",
        "if labelColName in inputColNames: inputColNames.remove(labelColName)\n",
        "\n",
        "# Drop empty values (otherwise it can't work with the data)\n",
        "# WE MIGHT NEED TO FIND AN ALTERNATIVE TO DROPPING ANY ROW WITH BLANKS!\n",
        "milk_rdd3 = milk_rdd2.select(inputColNames+[labelColName]).dropna(how='any')\n",
        "milk_rdd3.show(5)"
      ],
      "execution_count": 185,
      "outputs": [
        {
          "output_type": "stream",
          "text": [
            "+--------+------------+-----------+----+---------------+\n",
            "|Protein%|Cl (g/kg dm)|K (g/kg dm)|Fat%|Milk yield (kg)|\n",
            "+--------+------------+-----------+----+---------------+\n",
            "|    2.97|           5|         15|3.49|          40.12|\n",
            "|    2.89|           5|         15|3.33|          42.09|\n",
            "|    2.88|           4|         14|3.45|          36.26|\n",
            "|    2.87|           5|         15|3.89|          31.12|\n",
            "|    2.58|           5|         15|3.67|          26.67|\n",
            "+--------+------------+-----------+----+---------------+\n",
            "only showing top 5 rows\n",
            "\n"
          ],
          "name": "stdout"
        }
      ]
    },
    {
      "cell_type": "code",
      "metadata": {
        "id": "87Ex-qp2jhfg"
      },
      "source": [
        "### EXPERIMENTING WITH FILLING IN NA ###\n",
        "\n",
        "df = milk_rdd2.select(inputColNames+[labelColName])"
      ],
      "execution_count": 186,
      "outputs": []
    },
    {
      "cell_type": "code",
      "metadata": {
        "id": "6YNUG7MEvJJv"
      },
      "source": [
        "## Assembling the vectorizer\n",
        "vectorizer = VectorAssembler(\n",
        "    inputCols=inputColNames, \n",
        "    outputCol=\"features\")"
      ],
      "execution_count": 187,
      "outputs": []
    },
    {
      "cell_type": "code",
      "metadata": {
        "id": "buoMQkQtGRnD",
        "colab": {
          "base_uri": "https://localhost:8080/"
        },
        "outputId": "38d134a1-e31b-40fe-ca4d-b8e379cad13d"
      },
      "source": [
        "## Splitting the dataset into a training and testing portion.\n",
        "\n",
        "# Setting a seed for reproducible results.\n",
        "ourSeed = 1234  # default = 1234\n",
        "\n",
        "# Randomly splitting the dataset (default 20% test, 80% train)\n",
        "(testSetDF, trainingSetDF) = milk_rdd3.randomSplit([2.0,8.0],seed=ourSeed)\n",
        "\n",
        "# Uncomment to cache these datasets for performance\n",
        "testSetDF.cache()\n",
        "trainingSetDF.cache()"
      ],
      "execution_count": 188,
      "outputs": [
        {
          "output_type": "execute_result",
          "data": {
            "text/plain": [
              "DataFrame[Protein%: double, Cl (g/kg dm): int, K (g/kg dm): int, Fat%: double, Milk yield (kg): double]"
            ]
          },
          "metadata": {
            "tags": []
          },
          "execution_count": 188
        }
      ]
    },
    {
      "cell_type": "markdown",
      "metadata": {
        "id": "OVIF87r80veI"
      },
      "source": [
        "### Linear Regression Machine Learning Model"
      ]
    },
    {
      "cell_type": "code",
      "metadata": {
        "id": "C5RGiNe_0yYi",
        "colab": {
          "base_uri": "https://localhost:8080/"
        },
        "outputId": "70b8fa76-4fd8-4adb-9545-a45f2eaf9fb0"
      },
      "source": [
        "## Training a linear regression model with the default settings.\n",
        "\n",
        "# Initialize the linear regression learner with default values for the parameters\n",
        "lr = LinearRegression()\n",
        "\n",
        "# Setting the name of the column with the values that need to be learned\n",
        "# and setting the name of the column where the predicted results will be saved.\n",
        "lr.setLabelCol(labelColName)\\\n",
        "  .setPredictionCol(predictionColName)\n",
        "\n",
        "# Create a pipeline that performs the vectorizer and the Linear Regression\n",
        "# learning model.\n",
        "lrPipeline = Pipeline()\n",
        "lrPipeline.setStages([vectorizer, lr])\n",
        "\n",
        "# Uncomment the next line to show if the training set was created correctly\n",
        "#trainingSetDF.show(5)\n",
        "\n",
        "# Train the model on the training set with the default settings.\n",
        "trainingSetDF.show(5)\n",
        "lrModel = lrPipeline.fit(trainingSetDF)\n"
      ],
      "execution_count": 189,
      "outputs": [
        {
          "output_type": "stream",
          "text": [
            "+--------+------------+-----------+----+---------------+\n",
            "|Protein%|Cl (g/kg dm)|K (g/kg dm)|Fat%|Milk yield (kg)|\n",
            "+--------+------------+-----------+----+---------------+\n",
            "|    2.44|           5|         15| 3.1|           41.0|\n",
            "|     2.5|           5|         15|3.03|          40.23|\n",
            "|    2.51|           4|         14|3.54|          43.03|\n",
            "|    2.52|           5|         15|2.96|          42.16|\n",
            "|    2.53|           5|         15|3.05|          39.22|\n",
            "+--------+------------+-----------+----+---------------+\n",
            "only showing top 5 rows\n",
            "\n"
          ],
          "name": "stdout"
        }
      ]
    },
    {
      "cell_type": "code",
      "metadata": {
        "colab": {
          "base_uri": "https://localhost:8080/"
        },
        "id": "9cpYGku4pmNH",
        "outputId": "dab955d1-db4e-46d3-a565-dbd72fc653a6"
      },
      "source": [
        "## Inspecting the results of the previous model\n",
        "\n",
        "# The coefficients (i.e., weights) are as follows:\n",
        "weights = lrModel.stages[1].coefficients\n",
        "\n",
        "# The corresponding features for these weights are:\n",
        "featuresNoLabel = vectorizer.getInputCols()\n",
        "\n",
        "# Print coefficients \n",
        "list(zip(featuresNoLabel, weights))\n",
        "print(list(zip(featuresNoLabel, weights)))\n",
        " \n",
        " # Print the intercept\n",
        "print(\"Intercept: \",lrModel.stages[1].intercept)"
      ],
      "execution_count": 190,
      "outputs": [
        {
          "output_type": "stream",
          "text": [
            "[('Protein%', -6.1213833272497755), ('Cl (g/kg dm)', -5.947361777166492), ('K (g/kg dm)', -0.42474906206454627), ('Fat%', -2.462043522523435)]\n",
            "Intercept:  95.59516736804768\n"
          ],
          "name": "stdout"
        }
      ]
    },
    {
      "cell_type": "code",
      "metadata": {
        "colab": {
          "base_uri": "https://localhost:8080/",
          "height": 1000
        },
        "id": "zMeIb7kUBSad",
        "outputId": "3834b6a0-8872-4f71-adc6-e066f69743cf"
      },
      "source": [
        "## Model Predictions:\n",
        "\n",
        " # Apply our LR model to the test data and predict power output\n",
        "predictionsLR = lrModel.transform(testSetDF).select(inputColNames+[labelColName]+[predictionColName])\n",
        "\n",
        " # Print the first 15 rows of your predictions\n",
        "predictionsLR.show(15)\n",
        "\n",
        "#Plotting predicted against actual values to show linearity\n",
        "sns.scatterplot(x=labelColName, y=predictionColName, data=predictionsLR.toPandas())"
      ],
      "execution_count": 191,
      "outputs": [
        {
          "output_type": "stream",
          "text": [
            "+--------+------------+-----------+----+---------------+-------------------------+\n",
            "|Protein%|Cl (g/kg dm)|K (g/kg dm)|Fat%|Milk yield (kg)|Predicted Milk yield (kg)|\n",
            "+--------+------------+-----------+----+---------------+-------------------------+\n",
            "|    2.54|           5|         15|3.21|          30.12|        36.03564919273237|\n",
            "|    2.58|           5|         15|3.67|          26.67|       34.658253839281606|\n",
            "|    2.65|           5|         15| 2.9|          23.37|        36.12553051871716|\n",
            "|    2.65|           5|         15|3.07|          45.75|        35.70698311988818|\n",
            "|    2.66|           5|         15| 2.9|          37.48|        36.06431668544466|\n",
            "|    2.67|           5|         15|2.84|          42.15|       36.150825463523574|\n",
            "|    2.67|           5|         15|4.24|          43.67|        32.70396453199076|\n",
            "|    2.69|           5|         15|2.92|          42.33|        35.83143431517669|\n",
            "|     2.7|           5|         15|2.98|           39.2|         35.6224978705528|\n",
            "|     2.7|           5|         15|3.06|          38.36|       35.425534388750926|\n",
            "|    2.72|           5|         15|3.55|          33.35|        34.09670539616945|\n",
            "|    2.73|           5|         15| 3.3|          36.38|         34.6510024435278|\n",
            "|    2.74|           4|         14|3.21|          36.69|        41.18348336651346|\n",
            "|    2.74|           5|         15|2.72|          47.14|        36.01777385331891|\n",
            "|    2.76|           4|         14| 3.4|          38.79|        40.59326743068901|\n",
            "+--------+------------+-----------+----+---------------+-------------------------+\n",
            "only showing top 15 rows\n",
            "\n"
          ],
          "name": "stdout"
        },
        {
          "output_type": "execute_result",
          "data": {
            "text/plain": [
              "<matplotlib.axes._subplots.AxesSubplot at 0x7f23ca012828>"
            ]
          },
          "metadata": {
            "tags": []
          },
          "execution_count": 191
        },
        {
          "output_type": "display_data",
          "data": {
            "image/png": "[encoded data removed]",
            "text/plain": [
              "<Figure size 2160x1440 with 1 Axes>"
            ]
          },
          "metadata": {
            "tags": []
          }
        }
      ]
    },
    {
      "cell_type": "code",
      "metadata": {
        "colab": {
          "base_uri": "https://localhost:8080/"
        },
        "id": "_Yyx6H5QC-Qx",
        "outputId": "53c9a699-9213-4c6f-d01c-a2cd46503086"
      },
      "source": [
        "## Compute an evaluation metric for our test dataset\n",
        "\n",
        "# Create an RMSE evaluator using the label and predicted columns\n",
        "regEval = RegressionEvaluator(predictionCol=predictionColName, labelCol=labelColName, metricName=\"rmse\")\n",
        "\n",
        "# Run the evaluator on the DataFrame\n",
        "rmse = regEval.evaluate(predictionsLR)\n",
        "\n",
        "# Print the Root Mean Squared Error\n",
        "print(\"Root Mean Squared Error: %.2f\" % rmse)"
      ],
      "execution_count": 192,
      "outputs": [
        {
          "output_type": "stream",
          "text": [
            "Root Mean Squared Error: 6.16\n"
          ],
          "name": "stdout"
        }
      ]
    },
    {
      "cell_type": "code",
      "metadata": {
        "colab": {
          "base_uri": "https://localhost:8080/"
        },
        "id": "bNt3i7O3DiHn",
        "outputId": "413b8598-11d5-4a69-d6b7-379d876c83d6"
      },
      "source": [
        "## Compute R-squared evaluation metric for our test dataset\n",
        "\n",
        "r2 = regEval.evaluate(predictionsLR, {regEval.metricName: \"r2\"})\n",
        "\n",
        "# Print R-squard\n",
        "print(\"r2: {0:.2f}\".format(r2))"
      ],
      "execution_count": 193,
      "outputs": [
        {
          "output_type": "stream",
          "text": [
            "r2: 0.28\n"
          ],
          "name": "stdout"
        }
      ]
    },
    {
      "cell_type": "markdown",
      "metadata": {
        "id": "tALWfJ9w29bf"
      },
      "source": [
        "### Parameter Tuning and Evaluation"
      ]
    },
    {
      "cell_type": "code",
      "metadata": {
        "id": "-6VStMZb3DMx"
      },
      "source": [
        "## Use paramater tuning to try to create a better linear regression model\n",
        "\n",
        "# We can reuse the RegressionEvaluator, regEval, to judge the model based on the best Root Mean Squared Error\n",
        "# Let's create our CrossValidator with 3 fold cross validation\n",
        "crossval = CrossValidator(estimator=lrPipeline, evaluator=regEval, numFolds=3)\n",
        "\n",
        "# Tune over our regularization parameter from 0.01 to 0.10\n",
        "regParam = [x / 100.0 for x in range(1, 11)]\n",
        "\n",
        "# Create a paramter grid using the ParamGridBuilder,\n",
        "# and add the grid to the CrossValidator\n",
        "paramGrid = (ParamGridBuilder()\n",
        "             .addGrid(lr.regParam, regParam)\n",
        "             .build())\n",
        "crossval.setEstimatorParamMaps(paramGrid)\n",
        "\n",
        "# Find and return the best model\n",
        "cvModel = crossval.fit(trainingSetDF).bestModel"
      ],
      "execution_count": 194,
      "outputs": []
    },
    {
      "cell_type": "code",
      "metadata": {
        "colab": {
          "base_uri": "https://localhost:8080/"
        },
        "id": "3Gixa0vq6PGK",
        "outputId": "7c23d9bd-aa0e-4d47-f132-a76ec7871bed"
      },
      "source": [
        "## Evaluate the new tuned model by comparing it to the default linear regression\n",
        "\n",
        "# Use cvModel to compute an evaluation metric for our test dataset: testSetDF\n",
        "predictionsRL = cvModel.transform(testSetDF).select(inputColNames+[labelColName]+[predictionColName])\n",
        "\n",
        "# Run the previously created RMSE evaluator, regEval, on the predictionsAndLabelsDF DataFrame\n",
        "rmseLR = regEval.evaluate(predictionsRL)\n",
        "\n",
        "# Compute the r2 evaluation metric for our test dataset\n",
        "r2LR = regEval.evaluate(predictionsRL, {regEval.metricName: \"r2\"})\n",
        "\n",
        "# Printing the rounded values to compare the 2 linear regression models.\n",
        "print(\"Original Root Mean Squared Error: {0:2.2f}\".format(rmse))\n",
        "print(\"New Root Mean Squared Error: {0:2.2f}\".format(rmseLR))\n",
        "print(\"Old r2: {0:2.2f}\".format(r2))\n",
        "print(\"New r2: {0:2.2f}\".format(r2LR))\n",
        "\n",
        "# Printing unrounded values for better testing purpose\n",
        "print(\"\\r\\n\",\"Un-rouned values printed above in same order:\\r\\n\",rmse,rmseLR,r2,r2LR)"
      ],
      "execution_count": 195,
      "outputs": [
        {
          "output_type": "stream",
          "text": [
            "Original Root Mean Squared Error: 6.16\n",
            "New Root Mean Squared Error: 6.16\n",
            "Old r2: 0.28\n",
            "New r2: 0.28\n",
            "\r\n",
            " Un-rouned values printed above in same order:\r\n",
            " 6.16013201449258 6.160117066422721 0.28079851738060746 0.2808020077801431\n"
          ],
          "name": "stdout"
        }
      ]
    },
    {
      "cell_type": "markdown",
      "metadata": {
        "id": "CClquqzcs9lM"
      },
      "source": [
        "# Visualization"
      ]
    },
    {
      "cell_type": "markdown",
      "metadata": {
        "id": "2N0JNXWVtI8Q"
      },
      "source": [
        "## Plotting sample of dataset against 1 column"
      ]
    },
    {
      "cell_type": "code",
      "metadata": {
        "id": "M9FkzfxCvcFR"
      },
      "source": [
        "## Copy of setting the correct columns to allow easier plotting\n",
        "\n",
        "### CHANGE inputColNames (list of x) AND LabelColName (y) TO CREATE THE\n",
        "### DESIRED PLOTS. # ONLY 10 x VALUES CAN BE ENTERED AT A TIME\n",
        "\n",
        "inputColNames = ['Water intake (kg)','Fat%', 'Protein%', 'Lactose%','Urea (mg/kg)', 'SCC (*1000/ml)']\n",
        "#inputColNames = doubleColumns[0:10]\n",
        "\n",
        "labelColName = \"Milk yield (kg)\"\n",
        "predictionColName = \"Predicted \" + labelColName\n",
        "\n",
        "# Removing the label column from the input column if it ended in there on accident\n",
        "if labelColName in inputColNames: inputColNames.remove(labelColName)\n",
        "\n",
        "# Drop empty values (otherwise it can't work with the data)\n",
        "# WE MIGHT NEED TO FIND AN ALTERNATIVE TO DROPPING ANY ROW WITH BLANKS!\n",
        "# CURRENTLY EXPERIMENTING WITH NOT DROPPING NA FOR THE PLOTTING\n",
        "#milk_rdd3 = milk_rdd2.dropna(how='any', subset=inputColNames+[labelColName])\n",
        "milk_rdd3 = milk_rdd2.select(inputColNames+[labelColName])"
      ],
      "execution_count": null,
      "outputs": []
    },
    {
      "cell_type": "code",
      "metadata": {
        "id": "XOSmSbuQtdAD"
      },
      "source": [
        "## Plotting the columns versus the labelcolumn to get inital idea of linear regression\n",
        "\n",
        "### Trying to plot more than 10 plots at the same time results in empty plots ###\n",
        "\n",
        "milk_rdd3_sample = milk_rdd3.select(inputColNames+[labelColName]).sample(False,0.5)\n",
        "#print(milk_rdd3_sample)\n",
        "sns.set(rc={'figure.figsize':(10,10)})\n",
        "\n",
        "for column in inputColNames:\n",
        "  plt.figure()\n",
        "  sns.lmplot(x=column, y=labelColName,data=milk_rdd3_sample.toPandas())\n",
        "  plt.title(labelColName+\" vs \"+column)\n",
        "  plt.xlabel(column)\n",
        "  plt.ylabel(labelColName)"
      ],
      "execution_count": null,
      "outputs": []
    },
    {
      "cell_type": "code",
      "metadata": {
        "id": "1zNCmZM8zf_h"
      },
      "source": [
        "inset = doubleColumns+intColumns\n",
        "inset.remove(\"Milk yield (kg)\")\n",
        "print(inset)\n",
        "bigshitresult = {}\n",
        "for bigshit in inset:\n",
        "\n",
        "\n",
        "  ## Create the vectorizer that adds the features column needed to run the machine learning pipeline\n",
        "\n",
        "  ### To change on which columns the LR model is build you only need to change ###\n",
        "  ### the 2 variables: inputColNames and labelColName ###\n",
        "\n",
        "  inputColNames = [bigshit]\n",
        "  #inputColNames = ['Water intake (kg)','Fat%', 'Protein%', 'Lactose%','Urea (mg/kg)', 'SCC (*1000/ml)']\n",
        "  #inputColNames = ['Water intake (kg)','Fat%', 'Protein%', 'Lactose%']\n",
        "  #inputColNames = ['Ca (g/day)', 'P (g/day)', 'Na (g/day)']\n",
        "  #inputColNames = doubleColumns[0:10]\n",
        "  #inputColNames = intColumn\n",
        "\n",
        "  labelColName = \"Milk yield (kg)\"\n",
        "  predictionColName = \"Predicted \" + labelColName\n",
        "\n",
        "  # Removing the label column from the input column if it ended in there on accident\n",
        "  if labelColName in inputColNames: inputColNames.remove(labelColName)\n",
        "\n",
        "  # Drop empty values (otherwise it can't work with the data)\n",
        "  # WE MIGHT NEED TO FIND AN ALTERNATIVE TO DROPPING ANY ROW WITH BLANKS!\n",
        "  milk_rdd3 = milk_rdd2.dropna(how='any', subset=inputColNames+[labelColName])\n",
        "\n",
        "  ## Assembling the vectorizer\n",
        "  vectorizer = VectorAssembler(\n",
        "      inputCols=inputColNames, \n",
        "      outputCol=\"features\")\n",
        "\n",
        "  ## Splitting the dataset into a training and testing portion.\n",
        "\n",
        "  # Setting a seed for reproducible results.\n",
        "  ourSeed = 1234  # default = 1234\n",
        "\n",
        "  # Randomly splitting the dataset (default 20% test, 80% train)\n",
        "  (testSetDF, trainingSetDF) = milk_rdd3.randomSplit([2.0,8.0],seed=ourSeed)\n",
        "\n",
        "  # Uncomment to cache these datasets for performance\n",
        "  testSetDF.cache()\n",
        "  trainingSetDF.cache()\n",
        "\n",
        "  ## Training a linear regression model with the default settings.\n",
        "\n",
        "  # Initialize the linear regression learner with default values for the parameters\n",
        "  lr = LinearRegression()\n",
        "\n",
        "  # Setting the name of the column with the values that need to be learned\n",
        "  # and setting the name of the column where the predicted results will be saved.\n",
        "  lr.setLabelCol(labelColName)\\\n",
        "    .setPredictionCol(predictionColName)\n",
        "\n",
        "  # Create a pipeline that performs the vectorizer and the Linear Regression\n",
        "  # learning model.\n",
        "  lrPipeline = Pipeline()\n",
        "  lrPipeline.setStages([vectorizer, lr])\n",
        "\n",
        "  # Uncomment the next line to show if the training set was created correctly\n",
        "  #trainingSetDF.show(5)\n",
        "\n",
        "  # Train the model on the training set with the default settings.\n",
        "  #trainingSetDF.show(5)\n",
        "  lrModel = lrPipeline.fit(trainingSetDF)\n",
        "\n",
        "  ## Inspecting the results of the previous model\n",
        "\n",
        "  # The coefficients (i.e., weights) are as follows:\n",
        "  weights = lrModel.stages[1].coefficients\n",
        "\n",
        "  # The corresponding features for these weights are:\n",
        "  featuresNoLabel = vectorizer.getInputCols()\n",
        "\n",
        "  # Print coefficients \n",
        "  list(zip(featuresNoLabel, weights))\n",
        "  print(list(zip(featuresNoLabel, weights)))\n",
        "  \n",
        "  # Print the intercept\n",
        "  print(\"Intercept: \",lrModel.stages[1].intercept)\n",
        "  #bigshitresult[bigshit]=list(zip(featuresNoLabel, weights))\n",
        "  bigshitresult[bigshit]=weights.values\n",
        "print(bigshitresult)\n",
        "\n",
        "with open(\"/result.txt\", \"w\") as l:\n",
        "  print(bigshitresult, file=l)"
      ],
      "execution_count": null,
      "outputs": []
    },
    {
      "cell_type": "code",
      "metadata": {
        "id": "JuX6va7R4nfk"
      },
      "source": [
        "l = []\n",
        "for k,v in bigshitresult.items():\n",
        "  l.append(v)\n",
        "\n",
        "import operator\n",
        "x = bigshitresult\n",
        "sorted_x = sorted(x.items(), key=operator.itemgetter(1))\n",
        "\n",
        "print(sorted_x)"
      ],
      "execution_count": null,
      "outputs": []
    }
  ]
}