{
  "nbformat": 4,
  "nbformat_minor": 0,
  "metadata": {
    "colab": {
      "name": "Big Data Milk Oscar 24-11 0919.ipynb",
      "provenance": [],
      "collapsed_sections": [],
      "include_colab_link": true
    },
    "kernelspec": {
      "name": "python3",
      "display_name": "Python 3"
    }
  },
  "cells": [
    {
      "cell_type": "markdown",
      "metadata": {
        "id": "view-in-github",
        "colab_type": "text"
      },
      "source": [
        "<a href=\"https://colab.research.google.com/github/bartianbosch/Melk/blob/Oscar/Big_Data_Milk_Oscar_24_11_0919.ipynb\" target=\"_parent\"><img src=\"https://colab.research.google.com/assets/colab-badge.svg\" alt=\"Open In Colab\"/></a>"
      ]
    },
    {
      "cell_type": "markdown",
      "metadata": {
        "id": "zSVRLt9dJyKM"
      },
      "source": [
        "# **Big Data Groupwork Milk**\n"
      ]
    },
    {
      "cell_type": "code",
      "metadata": {
        "id": "eTb7CCLrJvOG",
        "colab": {
          "base_uri": "https://localhost:8080/"
        },
        "outputId": "5052f676-b373-48a9-a5c4-4e5bdb4e870c"
      },
      "source": [
        "# To install and initialize Apache Spark, run this cell. After first time you can skip this cell and run the next one.\n",
        "!apt-get update\n",
        "!apt-get install openjdk-8-jdk-headless -qq > /dev/null\n",
        "!wget -q http://downloads.apache.org/spark/spark-2.4.7/spark-2.4.7-bin-hadoop2.7.tgz\n",
        "!tar xf spark-2.4.7-bin-hadoop2.7.tgz\n",
        "!pip install -q findspark\n",
        "\n",
        "import os\n",
        "os.environ[\"JAVA_HOME\"] = \"/usr/lib/jvm/java-8-openjdk-amd64\"\n",
        "os.environ[\"SPARK_HOME\"] = \"/content/spark-2.4.7-bin-hadoop2.7\"\n",
        "\n",
        "import findspark\n",
        "findspark.init()\n",
        "from pyspark.sql import SparkSession\n",
        "sp = SparkSession.builder.master(\"local[*]\").getOrCreate()\n",
        "\n",
        "from pyspark import SparkContext\n",
        "from pyspark.sql import SparkSession\n",
        "sc = SparkContext.getOrCreate()\n",
        "spark = SparkSession.builder.getOrCreate()\n",
        "\n",
        "from pyspark.sql import SQLContext\n",
        "sqlContext = SQLContext(sc)\n",
        "\n",
        "from google.colab import drive\n",
        "drive.mount('/gdrive')"
      ],
      "execution_count": null,
      "outputs": [
        {
          "output_type": "stream",
          "text": [
            "\r0% [Working]\r            \rGet:1 http://ppa.launchpad.net/c2d4u.team/c2d4u4.0+/ubuntu bionic InRelease [15.9 kB]\n",
            "\r0% [Waiting for headers] [Connecting to security.ubuntu.com (91.189.91.38)] [Co\r                                                                               \rHit:2 http://archive.ubuntu.com/ubuntu bionic InRelease\n",
            "\r0% [Connecting to security.ubuntu.com (91.189.91.38)] [Connected to cloud.r-pro\r                                                                               \rGet:3 http://archive.ubuntu.com/ubuntu bionic-updates InRelease [88.7 kB]\n",
            "\r                                                                               \rGet:4 https://cloud.r-project.org/bin/linux/ubuntu bionic-cran40/ InRelease [3,626 B]\n",
            "\r                                                                               \rHit:5 http://ppa.launchpad.net/graphics-drivers/ppa/ubuntu bionic InRelease\n",
            "\r0% [3 InRelease 69.2 kB/88.7 kB 78%] [Connecting to security.ubuntu.com (91.189\r0% [2 InRelease gpgv 242 kB] [3 InRelease 69.2 kB/88.7 kB 78%] [Connecting to s\r0% [2 InRelease gpgv 242 kB] [Waiting for headers] [Connecting to security.ubun\r                                                                               \rGet:6 http://archive.ubuntu.com/ubuntu bionic-backports InRelease [74.6 kB]\n",
            "Get:7 http://security.ubuntu.com/ubuntu bionic-security InRelease [88.7 kB]\n",
            "Ign:8 https://developer.download.nvidia.com/compute/cuda/repos/ubuntu1804/x86_64  InRelease\n",
            "Ign:9 https://developer.download.nvidia.com/compute/machine-learning/repos/ubuntu1804/x86_64  InRelease\n",
            "Get:10 https://developer.download.nvidia.com/compute/cuda/repos/ubuntu1804/x86_64  Release [697 B]\n",
            "Hit:11 https://developer.download.nvidia.com/compute/machine-learning/repos/ubuntu1804/x86_64  Release\n",
            "Get:12 https://developer.download.nvidia.com/compute/cuda/repos/ubuntu1804/x86_64  Release.gpg [836 B]\n",
            "Get:13 http://ppa.launchpad.net/c2d4u.team/c2d4u4.0+/ubuntu bionic/main Sources [1,690 kB]\n",
            "Get:14 http://ppa.launchpad.net/c2d4u.team/c2d4u4.0+/ubuntu bionic/main amd64 Packages [865 kB]\n",
            "Get:15 http://archive.ubuntu.com/ubuntu bionic-updates/multiverse amd64 Packages [54.3 kB]\n",
            "Get:16 http://archive.ubuntu.com/ubuntu bionic-updates/main amd64 Packages [2,208 kB]\n",
            "Get:17 http://archive.ubuntu.com/ubuntu bionic-updates/universe amd64 Packages [2,130 kB]\n",
            "Get:18 http://archive.ubuntu.com/ubuntu bionic-updates/restricted amd64 Packages [252 kB]\n",
            "Get:19 http://security.ubuntu.com/ubuntu bionic-security/main amd64 Packages [1,781 kB]\n",
            "Ign:21 https://developer.download.nvidia.com/compute/cuda/repos/ubuntu1804/x86_64  Packages\n",
            "Get:21 https://developer.download.nvidia.com/compute/cuda/repos/ubuntu1804/x86_64  Packages [442 kB]\n",
            "Get:22 http://security.ubuntu.com/ubuntu bionic-security/universe amd64 Packages [1,365 kB]\n",
            "Fetched 11.1 MB in 2s (4,446 kB/s)\n",
            "Reading package lists... Done\n",
            "Mounted at /gdrive\n"
          ],
          "name": "stdout"
        }
      ]
    },
    {
      "cell_type": "code",
      "metadata": {
        "colab": {
          "base_uri": "https://localhost:8080/"
        },
        "id": "-ck3QcvrruXV",
        "outputId": "a4ea7c6c-45ec-4017-ceb4-43812c63733f"
      },
      "source": [
        "#To initialize Apache Spark, run this cell.\n",
        "import os\n",
        "os.environ[\"JAVA_HOME\"] = \"/usr/lib/jvm/java-8-openjdk-amd64\"\n",
        "os.environ[\"SPARK_HOME\"] = \"/content/spark-2.4.7-bin-hadoop2.7\"\n",
        "\n",
        "import findspark\n",
        "findspark.init()\n",
        "from pyspark.sql import SparkSession\n",
        "sp = SparkSession.builder.master(\"local[*]\").getOrCreate()\n",
        "\n",
        "from pyspark import SparkContext\n",
        "from pyspark.sql import SparkSession\n",
        "sc = SparkContext.getOrCreate()\n",
        "spark = SparkSession.builder.getOrCreate()\n",
        "\n",
        "from pyspark.sql import SQLContext\n",
        "sqlContext = SQLContext(sc)\n",
        "\n",
        "from google.colab import drive\n",
        "drive.mount('/gdrive')"
      ],
      "execution_count": null,
      "outputs": [
        {
          "output_type": "stream",
          "text": [
            "Drive already mounted at /gdrive; to attempt to forcibly remount, call drive.mount(\"/gdrive\", force_remount=True).\n"
          ],
          "name": "stdout"
        }
      ]
    },
    {
      "cell_type": "markdown",
      "metadata": {
        "id": "BMSmDG4GLso4"
      },
      "source": [
        "Loading the data into a RDD\n"
      ]
    },
    {
      "cell_type": "code",
      "metadata": {
        "id": "E9lkii3ALw4O"
      },
      "source": [
        "milk_rdd = spark.read.csv('/gdrive/MyDrive/Big_Data_Groupwork/ff_dairy_v1.csv', header=True, inferSchema = True)"
      ],
      "execution_count": null,
      "outputs": []
    },
    {
      "cell_type": "code",
      "metadata": {
        "id": "xvzKly8-XkMI",
        "colab": {
          "base_uri": "https://localhost:8080/"
        },
        "outputId": "fe367fc9-8fbc-43c8-f969-d7313f14c7c5"
      },
      "source": [
        "milk_rdd"
      ],
      "execution_count": null,
      "outputs": [
        {
          "output_type": "execute_result",
          "data": {
            "text/plain": [
              "DataFrame[Cow number: int, Date: string, Barn: int, Barn part: int, Treatment: string, Lactation number: int, Days in milk: int, Day number: int, Week: int, Period (VP = preperiod, HP = trial period): string, Period part (VP = preperiod, HP = trial period): string, Intake basal ration (kg dm): double, Intake total ration (kg dm): double, Water intake (kg): double, Concentrate intake (kg): double, Weight (kg): double, BCS: double, Backfat Thickness: int, Milk yield (kg): double, Fat%: double, Protein%: double, Urea (mg/kg): int, SCC (*1000/ml): int, Lactose%: double, Avg. Temperature (�C): double, Air speed: double, Max. temperature (�C): double, Rumination time (min/day): int, Avg. pH: double, Avg. Rumen Temperature : double, Time pH<5,8 (h): double, Manure consistency (1=fluid, 5= hard): int, Manure fibre score (1=short, 5 = long): double, Number of kernels: double, Manure sieving residu (%): double, Manure dm (g/kg OM): int, Manure starch (g/kg dm): double, Urin-pH: double, Intake pre-period (kg dm): double, Milk yield prepreriod (kg): double, Fat% preperiod: double, Protein% preperiod: double, Fat preperiod (kg): double, Protein preperiod (kg): double, ECM preperiod (kg): double, ECM (kg): double, Crude fiber (g/day): string, Sugar (g/day): string, Crude protein (g/day): string, Crude fat (g/day): string, Starch (g/day): string, Ca (g/day): string, P (g/day): string, Na (g/day): string, Cl (g/day): string, K (g/day): string, Mg (g/day): string, nXP (g/day): string, RNB (g/day): string, MELK (g/day): string, NEL (g/day): string, WDE (g/day): string, EKB (g/day): string, WDS (g/day): string, SPK (g/day): string, TPK (g/day): string, SPE (g/day): string, TPE (g/day): string, �I (/day): string, WI (/day): string, GP (g/day): string, Crude fiber (g/kg dm): string, Sugar (g/kg dm): string, Crude protein (g/kg dm): string, Crude fat (g/kg dm): string, Starch (g/kg dm): string, Ca (g/kg dm): string, P (g/kg dm): string, Na (g/kg dm): string, Cl (g/kg dm): string, K (g/kg dm): string, Mg (g/kg dm): string, nXP (g/kg dm): string, RNB (g/kg dm): string, MELK (/kg dm): string, NEL (MJ/kg dm): string, WDE (g/kg dm): string, EKB (g/kg dm): string, WDS (g/kg dm): string, SPK (g/kg dm): string, TPK (g/kg dm): string, SPE (g/kg dm): string, TPE (g/kg dm): string, �I (/kg dm): string, WI (/kg dm): string, GP (g/kg dm): string]"
            ]
          },
          "metadata": {
            "tags": []
          },
          "execution_count": 4
        }
      ]
    },
    {
      "cell_type": "markdown",
      "metadata": {
        "id": "gAuud_XHZ-gc"
      },
      "source": [
        "\n",
        "---\n",
        "## Oscar's Playground:"
      ]
    },
    {
      "cell_type": "code",
      "metadata": {
        "colab": {
          "base_uri": "https://localhost:8080/"
        },
        "id": "xK4nQDLXaDrM",
        "outputId": "bfedcd47-41c8-497b-d691-7338d87c5359"
      },
      "source": [
        "import pandas as pd\n",
        "import matplotlib.pyplot as plt\n",
        "plt.close('all')\n",
        "\n",
        "data=pd.read_csv('/gdrive/MyDrive/Big_Data_Groupwork/ff_dairy_v1.csv', encoding='latin1')\n",
        "\n",
        "print(data.head())\n",
        "print(data.columns)\n",
        "\n",
        "plt.rcParams['figure.figsize'] = [30, 20]\n",
        "#data.plot( x='Date',y='Milk yield (kg)')\n",
        "\n",
        "print(data['I (/kg dm)'])"
      ],
      "execution_count": null,
      "outputs": [
        {
          "output_type": "stream",
          "text": [
            "   Cow number     Date  Barn  ...  I (/kg dm) WI (/kg dm)  GP (g/kg dm)\n",
            "0          61  16/6/14   6.0  ...          NaN         NaN           NaN\n",
            "1          61  17/6/14   6.0  ...          107         112           140\n",
            "2          61  18/6/14   6.0  ...          106         110           140\n",
            "3          61  19/6/14   6.0  ...          106         108           140\n",
            "4          61  20/6/14   6.0  ...          107         112           140\n",
            "\n",
            "[5 rows x 96 columns]\n",
            "Index(['Cow number', 'Date', 'Barn', 'Barn part', 'Treatment',\n",
            "       'Lactation number', 'Days in milk', 'Day number', 'Week',\n",
            "       'Period (VP = preperiod, HP = trial period)',\n",
            "       'Period part (VP = preperiod, HP = trial period)',\n",
            "       'Intake basal ration (kg dm)', 'Intake total ration (kg dm)',\n",
            "       'Water intake (kg)', 'Concentrate intake (kg)', 'Weight (kg)', 'BCS',\n",
            "       'Backfat Thickness', 'Milk yield (kg)', 'Fat%', 'Protein%',\n",
            "       'Urea (mg/kg)', 'SCC (*1000/ml)', 'Lactose%', 'Avg. Temperature (¡C)',\n",
            "       'Air speed', 'Max. temperature (¡C)', 'Rumination time (min/day)',\n",
            "       'Avg. pH', 'Avg. Rumen Temperature ', 'Time pH<5,8 (h)',\n",
            "       'Manure consistency (1=fluid, 5= hard)',\n",
            "       'Manure fibre score (1=short, 5 = long)', 'Number of kernels',\n",
            "       'Manure sieving residu (%)', 'Manure dm (g/kg OM)',\n",
            "       'Manure starch (g/kg dm)', 'Urin-pH', 'Intake pre-period (kg dm)',\n",
            "       'Milk yield prepreriod (kg)', 'Fat% preperiod', 'Protein% preperiod',\n",
            "       'Fat preperiod (kg)', 'Protein preperiod (kg)', 'ECM preperiod (kg)',\n",
            "       'ECM (kg)', 'Crude fiber (g/day)', 'Sugar (g/day)',\n",
            "       'Crude protein (g/day)', 'Crude fat (g/day)', 'Starch (g/day)',\n",
            "       'Ca (g/day)', 'P (g/day)', 'Na (g/day)', 'Cl (g/day)', 'K (g/day)',\n",
            "       'Mg (g/day)', 'nXP (g/day)', 'RNB (g/day)', 'MELK (g/day)',\n",
            "       'NEL (g/day)', 'WDE (g/day)', 'EKB (g/day)', 'WDS (g/day)',\n",
            "       'SPK (g/day)', 'TPK (g/day)', 'SPE (g/day)', 'TPE (g/day)', 'I (/day)',\n",
            "       'WI (/day)', 'GP (g/day)', 'Crude fiber (g/kg dm)', 'Sugar (g/kg dm)',\n",
            "       'Crude protein (g/kg dm)', 'Crude fat (g/kg dm)', 'Starch (g/kg dm)',\n",
            "       'Ca (g/kg dm)', 'P (g/kg dm)', 'Na (g/kg dm)', 'Cl (g/kg dm)',\n",
            "       'K (g/kg dm)', 'Mg (g/kg dm)', 'nXP (g/kg dm)', 'RNB (g/kg dm)',\n",
            "       'MELK (/kg dm)', 'NEL (MJ/kg dm)', 'WDE (g/kg dm)', 'EKB (g/kg dm)',\n",
            "       'WDS (g/kg dm)', 'SPK (g/kg dm)', 'TPK (g/kg dm)', 'SPE (g/kg dm)',\n",
            "       'TPE (g/kg dm)', 'I (/kg dm)', 'WI (/kg dm)', 'GP (g/kg dm)'],\n",
            "      dtype='object')\n",
            "0       NaN\n",
            "1       107\n",
            "2       106\n",
            "3       106\n",
            "4       107\n",
            "       ... \n",
            "8777    111\n",
            "8778    112\n",
            "8779    113\n",
            "8780    111\n",
            "8781    112\n",
            "Name: I (/kg dm), Length: 8782, dtype: object\n"
          ],
          "name": "stdout"
        }
      ]
    },
    {
      "cell_type": "markdown",
      "metadata": {
        "id": "fcEO1vjDssW4"
      },
      "source": [
        "\n",
        "\n",
        "---\n",
        "\n"
      ]
    }
  ]
}