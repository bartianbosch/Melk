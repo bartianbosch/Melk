{
  "nbformat": 4,
  "nbformat_minor": 0,
  "metadata": {
    "colab": {
      "name": "Big Data Milk.ipynb",
      "provenance": [],
      "collapsed_sections": [],
      "include_colab_link": true
    },
    "kernelspec": {
      "name": "python3",
      "display_name": "Python 3"
    }
  },
  "cells": [
    {
      "cell_type": "markdown",
      "metadata": {
        "id": "view-in-github",
        "colab_type": "text"
      },
      "source": [
        "<a href=\"https://colab.research.google.com/github/bartianbosch/Melk/blob/Oscar/Big_Data_Milk_Oscar_NoStrings.ipynb\" target=\"_parent\"><img src=\"https://colab.research.google.com/assets/colab-badge.svg\" alt=\"Open In Colab\"/></a>"
      ]
    },
    {
      "cell_type": "markdown",
      "metadata": {
        "id": "zSVRLt9dJyKM"
      },
      "source": [
        "Big Data Groupwork Milk\n"
      ]
    },
    {
      "cell_type": "code",
      "metadata": {
        "id": "o3LZGS6nWtSx",
        "colab": {
          "base_uri": "https://localhost:8080/"
        },
        "outputId": "62bbc148-25c6-43ef-d01c-89af6f78fb0c"
      },
      "source": [
        "## To download and update the necessary requirements initialize Apache Spark, run this cell\n",
        "!apt-get update\n",
        "!apt-get install openjdk-8-jdk-headless -qq > /dev/null\n",
        "!wget -q http://downloads.apache.org/spark/spark-2.4.7/spark-2.4.7-bin-hadoop2.7.tgz\n",
        "!tar xf spark-2.4.7-bin-hadoop2.7.tgz\n",
        "!pip install -q findspark\n",
        "\n",
        "import os\n",
        "os.environ[\"JAVA_HOME\"] = \"/usr/lib/jvm/java-8-openjdk-amd64\"\n",
        "os.environ[\"SPARK_HOME\"] = \"/content/spark-2.4.7-bin-hadoop2.7\"\n",
        "\n",
        "import findspark\n",
        "findspark.init()\n",
        "from pyspark.sql import SparkSession\n",
        "sp = SparkSession.builder.master(\"local[*]\").getOrCreate()\n",
        "\n",
        "from pyspark import SparkContext\n",
        "from pyspark.sql import SparkSession\n",
        "sc = SparkContext.getOrCreate()\n",
        "spark = SparkSession.builder.getOrCreate()\n",
        "\n",
        "from pyspark.sql import SQLContext\n",
        "sqlContext = SQLContext(sc)\n",
        "\n",
        "# Added our own necessary imports \n",
        "import seaborn as sns\n",
        "\n",
        "from pyspark import SparkFiles\n",
        "\n",
        "import pandas as pd\n",
        "import matplotlib.pyplot as plt\n",
        "plt.close('all')\n",
        "plt.rcParams['figure.figsize'] = [30, 20]\n",
        "\n",
        "from pyspark.sql import types, Window\n",
        "from pyspark.sql import functions as psf\n",
        "from pyspark.sql.functions import col, unix_timestamp, to_date\n",
        "from pyspark.ml.feature import VectorAssembler, StringIndexer, OneHotEncoderEstimator\n",
        "\n",
        "from pyspark.ml import Pipeline\n",
        "\n",
        "from pyspark.ml.regression import LinearRegression, LinearRegressionModel\n",
        "\n",
        "from pyspark.ml.evaluation import RegressionEvaluator\n",
        "\n",
        "from pyspark.ml.tuning import ParamGridBuilder, CrossValidator\n",
        "\n",
        "import sys\n",
        "\n",
        "\n",
        "# Mounting drive\n",
        "from google.colab import drive, files\n",
        "#drive.mount('/content/gdrive/')"
      ],
      "execution_count": 94,
      "outputs": [
        {
          "output_type": "stream",
          "text": [
            "\r0% [Working]\r            \rHit:1 https://cloud.r-project.org/bin/linux/ubuntu bionic-cran40/ InRelease\n",
            "\r0% [Connecting to archive.ubuntu.com (91.189.88.142)] [Connecting to security.u\r                                                                               \rIgn:2 https://developer.download.nvidia.com/compute/cuda/repos/ubuntu1804/x86_64  InRelease\n",
            "\r0% [Waiting for headers] [Connecting to security.ubuntu.com (91.189.91.39)] [Wa\r0% [1 InRelease gpgv 3,626 B] [Waiting for headers] [Connecting to security.ubu\r                                                                               \rIgn:3 https://developer.download.nvidia.com/compute/machine-learning/repos/ubuntu1804/x86_64  InRelease\n",
            "\r0% [1 InRelease gpgv 3,626 B] [Waiting for headers] [Waiting for headers] [Wait\r                                                                               \rHit:4 https://developer.download.nvidia.com/compute/cuda/repos/ubuntu1804/x86_64  Release\n",
            "\r0% [1 InRelease gpgv 3,626 B] [Waiting for headers] [Waiting for headers] [Wait\r                                                                               \rHit:5 https://developer.download.nvidia.com/compute/machine-learning/repos/ubuntu1804/x86_64  Release\n",
            "\r0% [1 InRelease gpgv 3,626 B] [Waiting for headers] [Waiting for headers] [Wait\r                                                                               \rHit:6 http://security.ubuntu.com/ubuntu bionic-security InRelease\n",
            "\r                                                                               \r0% [1 InRelease gpgv 3,626 B] [Waiting for headers] [Waiting for headers]\r                                                                         \rHit:7 http://archive.ubuntu.com/ubuntu bionic InRelease\n",
            "Hit:8 http://ppa.launchpad.net/c2d4u.team/c2d4u4.0+/ubuntu bionic InRelease\n",
            "Hit:9 http://archive.ubuntu.com/ubuntu bionic-updates InRelease\n",
            "Hit:10 http://archive.ubuntu.com/ubuntu bionic-backports InRelease\n",
            "Hit:11 http://ppa.launchpad.net/graphics-drivers/ppa/ubuntu bionic InRelease\n",
            "Reading package lists... Done\n"
          ],
          "name": "stdout"
        }
      ]
    },
    {
      "cell_type": "markdown",
      "metadata": {
        "id": "BMSmDG4GLso4"
      },
      "source": [
        "Loading the data into a DF\n"
      ]
    },
    {
      "cell_type": "code",
      "metadata": {
        "colab": {
          "base_uri": "https://localhost:8080/"
        },
        "id": "5eQ2_oU-GC_1",
        "outputId": "4562ace5-410b-4202-c191-24544b1ecc6d"
      },
      "source": [
        "## Loading the data\n",
        "\n",
        "fileName = 'ff_dairy_v1.csv'\n",
        "if not os.path.isfile(fileName):\n",
        "  uploaded = files.upload()\n",
        "\n",
        "# Prepare and load the file into a spark rdd\n",
        "spark.sparkContext.addFile(fileName)\n",
        "milk_rdd = spark.read.csv(SparkFiles.get(fileName), header=True)\n",
        "milk_rdd = milk_rdd.repartitionByRange(\"Cow number\")\n",
        "print(\"Number of partitions: \", milk_rdd.rdd.getNumPartitions())\n",
        "\n",
        "# Also load the data to a pandas table, just in case we need it for testing.\n",
        "milk_pd=pd.read_csv(fileName, encoding='latin1')"
      ],
      "execution_count": 95,
      "outputs": [
        {
          "output_type": "stream",
          "text": [
            "Number of partitions:  101\n"
          ],
          "name": "stdout"
        }
      ]
    },
    {
      "cell_type": "code",
      "metadata": {
        "id": "fDwnD2s2W-H-"
      },
      "source": [
        "# To check spark rdd, uncomment the following line:\n",
        "#milk_rdd.show(5)"
      ],
      "execution_count": 96,
      "outputs": []
    },
    {
      "cell_type": "code",
      "metadata": {
        "id": "vFz1OVe9gzl-"
      },
      "source": [
        "# To check pandas dataframe, uncomment the following line:\n",
        "#milk_pd"
      ],
      "execution_count": 97,
      "outputs": []
    },
    {
      "cell_type": "markdown",
      "metadata": {
        "id": "iCd12fxv0q5P"
      },
      "source": [
        "\n",
        "\n",
        "---\n",
        "\n",
        "\n",
        "## Creating a Machine Learning Model"
      ]
    },
    {
      "cell_type": "markdown",
      "metadata": {
        "id": "pMloXHglEdhH"
      },
      "source": [
        "### Data Preparation"
      ]
    },
    {
      "cell_type": "code",
      "metadata": {
        "id": "nsBJhDIZRAEg"
      },
      "source": [
        "## Renaming the columns with the unusable characters\n",
        "\n",
        "newColumnNames = list(map(lambda x: x.replace(\".\",\"\").replace(\"�C\",\"degC\").replace(\"�I\",\"plusI\"), milk_rdd.columns))\n",
        "\n",
        "milk_rdd2 = milk_rdd.toDF(*newColumnNames)"
      ],
      "execution_count": 98,
      "outputs": []
    },
    {
      "cell_type": "code",
      "metadata": {
        "id": "bgm-WDfsu1Yz"
      },
      "source": [
        "## Fixing the RDD columns datatypes\n",
        "\n",
        "# We need to change the datatype of each column in the rdd, to be able to\n",
        "# process it correctly.\n",
        "\n",
        "# Creating a function to set the given columns to the given datatype.\n",
        "def fixType(datasetName, colName, dataType):\n",
        "  \"\"\"Takes a dataset and returns the dataset with the given column set to the given dataype\"\"\"\n",
        "  return datasetName.withColumn(colName, psf.col(colName).cast(dataType))\n",
        "\n",
        "# Preparing Lists with the column names according to which type they need to be.\n",
        "allColumns = ['Cow number', 'Date', 'Barn', 'Barn part', 'Treatment', 'Lactation number', 'Days in milk', 'Day number', 'Week', 'Period (VP = preperiod, HP = trial period)', 'Period part (VP = preperiod, HP = trial period)', 'Intake basal ration (kg dm)', 'Intake total ration (kg dm)', 'Water intake (kg)', 'Concentrate intake (kg)', 'Weight (kg)', 'BCS', 'Backfat Thickness', 'Milk yield (kg)', 'Fat%', 'Protein%', 'Urea (mg/kg)', 'SCC (*1000/ml)', 'Lactose%', 'Avg Temperature (degC)', 'Air speed', 'Max temperature (degC)', 'Rumination time (min/day)', 'Avg pH', 'Avg Rumen Temperature ', 'Time pH<5,8 (h)', 'Manure consistency (1=fluid, 5= hard)', 'Manure fibre score (1=short, 5 = long)', 'Number of kernels', 'Manure sieving residu (%)', 'Manure dm (g/kg OM)', 'Manure starch (g/kg dm)', 'Urin-pH', 'Intake pre-period (kg dm)', 'Milk yield prepreriod (kg)', 'Fat% preperiod', 'Protein% preperiod', 'Fat preperiod (kg)', 'Protein preperiod (kg)', 'ECM preperiod (kg)', 'ECM (kg)', 'Crude fiber (g/day)', 'Sugar (g/day)', 'Crude protein (g/day)', 'Crude fat (g/day)', 'Starch (g/day)', 'Ca (g/day)', 'P (g/day)', 'Na (g/day)', 'Cl (g/day)', 'K (g/day)', 'Mg (g/day)', 'nXP (g/day)', 'RNB (g/day)', 'MELK (g/day)', 'NEL (g/day)', 'WDE (g/day)', 'EKB (g/day)', 'WDS (g/day)', 'SPK (g/day)', 'TPK (g/day)', 'SPE (g/day)', 'TPE (g/day)', 'plusI (/day)', 'WI (/day)', 'GP (g/day)', 'Crude fiber (g/kg dm)', 'Sugar (g/kg dm)', 'Crude protein (g/kg dm)', 'Crude fat (g/kg dm)', 'Starch (g/kg dm)', 'Ca (g/kg dm)', 'P (g/kg dm)', 'Na (g/kg dm)', 'Cl (g/kg dm)', 'K (g/kg dm)', 'Mg (g/kg dm)', 'nXP (g/kg dm)', 'RNB (g/kg dm)', 'MELK (/kg dm)', 'NEL (MJ/kg dm)', 'WDE (g/kg dm)', 'EKB (g/kg dm)', 'WDS (g/kg dm)', 'SPK (g/kg dm)', 'TPK (g/kg dm)', 'SPE (g/kg dm)', 'TPE (g/kg dm)', 'plusI (/kg dm)', 'WI (/kg dm)', 'GP (g/kg dm)']\n",
        "doubleColumns = ['Intake basal ration (kg dm)', 'Intake total ration (kg dm)', 'Water intake (kg)', 'Concentrate intake (kg)', 'Weight (kg)', 'BCS', 'Milk yield (kg)', 'Fat%', 'Protein%', 'Lactose%', 'Avg Temperature (degC)', 'Air speed', 'Max temperature (degC)', 'Avg pH', 'Avg Rumen Temperature ', 'Time pH<5,8 (h)', 'Number of kernels', 'Manure sieving residu (%)', 'Manure starch (g/kg dm)', 'Urin-pH', 'Intake pre-period (kg dm)', 'Milk yield prepreriod (kg)', 'Fat% preperiod', 'Protein% preperiod', 'Fat preperiod (kg)', 'Protein preperiod (kg)', 'ECM preperiod (kg)', 'ECM (kg)']\n",
        "intColumns = ['Cow number', 'Barn', 'Barn part', 'Lactation number', 'Days in milk', 'Day number', 'Week', 'Backfat Thickness', 'Urea (mg/kg)', 'SCC (*1000/ml)', 'Rumination time (min/day)', 'Manure consistency (1=fluid, 5= hard)', 'Manure fibre score (1=short, 5 = long)', 'Manure dm (g/kg OM)', 'Crude fiber (g/day)', 'Sugar (g/day)', 'Crude protein (g/day)', 'Crude fat (g/day)', 'Starch (g/day)', 'Ca (g/day)', 'P (g/day)', 'Na (g/day)', 'Cl (g/day)', 'K (g/day)', 'Mg (g/day)', 'nXP (g/day)', 'RNB (g/day)', 'MELK (g/day)', 'NEL (g/day)', 'WDE (g/day)', 'EKB (g/day)', 'WDS (g/day)', 'SPK (g/day)', 'TPK (g/day)', 'SPE (g/day)', 'TPE (g/day)', 'plusI (/day)', 'WI (/day)', 'GP (g/day)', 'Crude fiber (g/kg dm)', 'Sugar (g/kg dm)', 'Crude protein (g/kg dm)', 'Crude fat (g/kg dm)', 'Starch (g/kg dm)', 'Ca (g/kg dm)', 'P (g/kg dm)', 'Na (g/kg dm)', 'Cl (g/kg dm)', 'K (g/kg dm)', 'Mg (g/kg dm)', 'nXP (g/kg dm)', 'RNB (g/kg dm)', 'MELK (/kg dm)', 'NEL (MJ/kg dm)', 'WDE (g/kg dm)', 'EKB (g/kg dm)', 'WDS (g/kg dm)', 'SPK (g/kg dm)', 'TPK (g/kg dm)', 'SPE (g/kg dm)', 'TPE (g/kg dm)', 'plusI (/kg dm)', 'WI (/kg dm)', 'GP (g/kg dm)']\n",
        "stringColumn = ['Treatment', 'Period (VP = preperiod, HP = trial period)', 'Period part (VP = preperiod, HP = trial period)']\n",
        "\n",
        "\n",
        "# Setting the columns to the correct type\n",
        "for colName in doubleColumns:\n",
        "  milk_rdd2 = fixType(milk_rdd2, colName, \"double\")\n",
        "for colName in intColumns:\n",
        "  milk_rdd2 = fixType(milk_rdd2, colName, \"int\")\n",
        "#milk_rdd2 = milk_rdd2.withColumn(\"Date\", psf.col(\"Date\").cast(\"date\"))\n",
        "milk_rdd2 = milk_rdd2.withColumn(\"Date\", to_date(unix_timestamp(col('Date'), 'dd/MM/yy').cast(\"timestamp\")))\n",
        "\n",
        "# Uncomment the next line to check the schema\n",
        "#milk_rdd2.printSchema()\n"
      ],
      "execution_count": 99,
      "outputs": []
    },
    {
      "cell_type": "code",
      "metadata": {
        "id": "AM5UfQQx0qbE",
        "colab": {
          "base_uri": "https://localhost:8080/"
        },
        "outputId": "0d620aa8-7611-41b4-868d-0d921302621a"
      },
      "source": [
        "## Create the vectorizer that adds the features column needed to run the machine learning pipeline\n",
        "\n",
        "### To change on which columns the LR model is build you only need to change ###\n",
        "### the 2 variables: inputColNames and labelColName ###\n",
        "\n",
        "# Columns that should not be in the linear regression model\n",
        "doNotInput = ['Cow number', 'Date', 'Barn', 'Barn part']\n",
        "\n",
        "# Columns used as input for the LR model. Previously used are comented for ease of testing.\n",
        "#inputColNames = ['Protein preperiod (kg)','Crude fat (g/kg dm)','Protein%','Protein% preperiod','Fat%','Fat% preperiod']\n",
        "#inputColNames = ['Water intake (kg)','Fat%', 'Protein%', 'Lactose%','Urea (mg/kg)', 'SCC (*1000/ml)']\n",
        "#inputColNames = doubleColumns[0:10]\n",
        "#inputColNames = intColumns\n",
        "inputColNames = doubleColumns + intColumns\n",
        "#inputColNames = [x for x in allColumns if x not in doNotInput]\n",
        "\n",
        "\n",
        "print(inputColNames)\n",
        "\n",
        "# The name of the column which value you want to predict.\n",
        "labelColName = \"Milk yield (kg)\"\n",
        "\n",
        "# Generating the name column which will be filled with the predicted values.\n",
        "predictionColName = \"Predicted \" + labelColName\n",
        "\n",
        "# Removing the label column from the input column if it ended in there on accident\n",
        "if labelColName in inputColNames: inputColNames.remove(labelColName)\n"
      ],
      "execution_count": 100,
      "outputs": [
        {
          "output_type": "stream",
          "text": [
            "['Intake basal ration (kg dm)', 'Intake total ration (kg dm)', 'Water intake (kg)', 'Concentrate intake (kg)', 'Weight (kg)', 'BCS', 'Milk yield (kg)', 'Fat%', 'Protein%', 'Lactose%', 'Avg Temperature (degC)', 'Air speed', 'Max temperature (degC)', 'Avg pH', 'Avg Rumen Temperature ', 'Time pH<5,8 (h)', 'Number of kernels', 'Manure sieving residu (%)', 'Manure starch (g/kg dm)', 'Urin-pH', 'Intake pre-period (kg dm)', 'Milk yield prepreriod (kg)', 'Fat% preperiod', 'Protein% preperiod', 'Fat preperiod (kg)', 'Protein preperiod (kg)', 'ECM preperiod (kg)', 'ECM (kg)', 'Cow number', 'Barn', 'Barn part', 'Lactation number', 'Days in milk', 'Day number', 'Week', 'Backfat Thickness', 'Urea (mg/kg)', 'SCC (*1000/ml)', 'Rumination time (min/day)', 'Manure consistency (1=fluid, 5= hard)', 'Manure fibre score (1=short, 5 = long)', 'Manure dm (g/kg OM)', 'Crude fiber (g/day)', 'Sugar (g/day)', 'Crude protein (g/day)', 'Crude fat (g/day)', 'Starch (g/day)', 'Ca (g/day)', 'P (g/day)', 'Na (g/day)', 'Cl (g/day)', 'K (g/day)', 'Mg (g/day)', 'nXP (g/day)', 'RNB (g/day)', 'MELK (g/day)', 'NEL (g/day)', 'WDE (g/day)', 'EKB (g/day)', 'WDS (g/day)', 'SPK (g/day)', 'TPK (g/day)', 'SPE (g/day)', 'TPE (g/day)', 'plusI (/day)', 'WI (/day)', 'GP (g/day)', 'Crude fiber (g/kg dm)', 'Sugar (g/kg dm)', 'Crude protein (g/kg dm)', 'Crude fat (g/kg dm)', 'Starch (g/kg dm)', 'Ca (g/kg dm)', 'P (g/kg dm)', 'Na (g/kg dm)', 'Cl (g/kg dm)', 'K (g/kg dm)', 'Mg (g/kg dm)', 'nXP (g/kg dm)', 'RNB (g/kg dm)', 'MELK (/kg dm)', 'NEL (MJ/kg dm)', 'WDE (g/kg dm)', 'EKB (g/kg dm)', 'WDS (g/kg dm)', 'SPK (g/kg dm)', 'TPK (g/kg dm)', 'SPE (g/kg dm)', 'TPE (g/kg dm)', 'plusI (/kg dm)', 'WI (/kg dm)', 'GP (g/kg dm)']\n"
          ],
          "name": "stdout"
        }
      ]
    },
    {
      "cell_type": "code",
      "metadata": {
        "colab": {
          "base_uri": "https://localhost:8080/"
        },
        "id": "CNPiZnBtXHKd",
        "outputId": "2baa3016-5460-4d6d-a4cd-2e20e5632c41"
      },
      "source": [
        "### TEMPORARY FIX, BECAUSE REMOVING NA MAKES ALL VP COLLUMNS DISSAPEAR WHICH GIVES ERRORS ###\n",
        "#inputColNames.remove('Period (VP = preperiod, HP = trial period)')\n",
        "#milk_rdd2 = milk_rdd2.drop('Period (VP = preperiod, HP = trial period)').collect()\n",
        "\n",
        "print(inputColNames)\n",
        "print(milk_rdd2)"
      ],
      "execution_count": 101,
      "outputs": [
        {
          "output_type": "stream",
          "text": [
            "['Intake basal ration (kg dm)', 'Intake total ration (kg dm)', 'Water intake (kg)', 'Concentrate intake (kg)', 'Weight (kg)', 'BCS', 'Fat%', 'Protein%', 'Lactose%', 'Avg Temperature (degC)', 'Air speed', 'Max temperature (degC)', 'Avg pH', 'Avg Rumen Temperature ', 'Time pH<5,8 (h)', 'Number of kernels', 'Manure sieving residu (%)', 'Manure starch (g/kg dm)', 'Urin-pH', 'Intake pre-period (kg dm)', 'Milk yield prepreriod (kg)', 'Fat% preperiod', 'Protein% preperiod', 'Fat preperiod (kg)', 'Protein preperiod (kg)', 'ECM preperiod (kg)', 'ECM (kg)', 'Cow number', 'Barn', 'Barn part', 'Lactation number', 'Days in milk', 'Day number', 'Week', 'Backfat Thickness', 'Urea (mg/kg)', 'SCC (*1000/ml)', 'Rumination time (min/day)', 'Manure consistency (1=fluid, 5= hard)', 'Manure fibre score (1=short, 5 = long)', 'Manure dm (g/kg OM)', 'Crude fiber (g/day)', 'Sugar (g/day)', 'Crude protein (g/day)', 'Crude fat (g/day)', 'Starch (g/day)', 'Ca (g/day)', 'P (g/day)', 'Na (g/day)', 'Cl (g/day)', 'K (g/day)', 'Mg (g/day)', 'nXP (g/day)', 'RNB (g/day)', 'MELK (g/day)', 'NEL (g/day)', 'WDE (g/day)', 'EKB (g/day)', 'WDS (g/day)', 'SPK (g/day)', 'TPK (g/day)', 'SPE (g/day)', 'TPE (g/day)', 'plusI (/day)', 'WI (/day)', 'GP (g/day)', 'Crude fiber (g/kg dm)', 'Sugar (g/kg dm)', 'Crude protein (g/kg dm)', 'Crude fat (g/kg dm)', 'Starch (g/kg dm)', 'Ca (g/kg dm)', 'P (g/kg dm)', 'Na (g/kg dm)', 'Cl (g/kg dm)', 'K (g/kg dm)', 'Mg (g/kg dm)', 'nXP (g/kg dm)', 'RNB (g/kg dm)', 'MELK (/kg dm)', 'NEL (MJ/kg dm)', 'WDE (g/kg dm)', 'EKB (g/kg dm)', 'WDS (g/kg dm)', 'SPK (g/kg dm)', 'TPK (g/kg dm)', 'SPE (g/kg dm)', 'TPE (g/kg dm)', 'plusI (/kg dm)', 'WI (/kg dm)', 'GP (g/kg dm)']\n",
            "DataFrame[Cow number: int, Date: date, Barn: int, Barn part: int, Treatment: string, Lactation number: int, Days in milk: int, Day number: int, Week: int, Period (VP = preperiod, HP = trial period): string, Period part (VP = preperiod, HP = trial period): string, Intake basal ration (kg dm): double, Intake total ration (kg dm): double, Water intake (kg): double, Concentrate intake (kg): double, Weight (kg): double, BCS: double, Backfat Thickness: int, Milk yield (kg): double, Fat%: double, Protein%: double, Urea (mg/kg): int, SCC (*1000/ml): int, Lactose%: double, Avg Temperature (degC): double, Air speed: double, Max temperature (degC): double, Rumination time (min/day): int, Avg pH: double, Avg Rumen Temperature : double, Time pH<5,8 (h): double, Manure consistency (1=fluid, 5= hard): int, Manure fibre score (1=short, 5 = long): int, Number of kernels: double, Manure sieving residu (%): double, Manure dm (g/kg OM): int, Manure starch (g/kg dm): double, Urin-pH: double, Intake pre-period (kg dm): double, Milk yield prepreriod (kg): double, Fat% preperiod: double, Protein% preperiod: double, Fat preperiod (kg): double, Protein preperiod (kg): double, ECM preperiod (kg): double, ECM (kg): double, Crude fiber (g/day): int, Sugar (g/day): int, Crude protein (g/day): int, Crude fat (g/day): int, Starch (g/day): int, Ca (g/day): int, P (g/day): int, Na (g/day): int, Cl (g/day): int, K (g/day): int, Mg (g/day): int, nXP (g/day): int, RNB (g/day): int, MELK (g/day): int, NEL (g/day): int, WDE (g/day): int, EKB (g/day): int, WDS (g/day): int, SPK (g/day): int, TPK (g/day): int, SPE (g/day): int, TPE (g/day): int, plusI (/day): int, WI (/day): int, GP (g/day): int, Crude fiber (g/kg dm): int, Sugar (g/kg dm): int, Crude protein (g/kg dm): int, Crude fat (g/kg dm): int, Starch (g/kg dm): int, Ca (g/kg dm): int, P (g/kg dm): int, Na (g/kg dm): int, Cl (g/kg dm): int, K (g/kg dm): int, Mg (g/kg dm): int, nXP (g/kg dm): int, RNB (g/kg dm): int, MELK (/kg dm): int, NEL (MJ/kg dm): int, WDE (g/kg dm): int, EKB (g/kg dm): int, WDS (g/kg dm): int, SPK (g/kg dm): int, TPK (g/kg dm): int, SPE (g/kg dm): int, TPE (g/kg dm): int, plusI (/kg dm): int, WI (/kg dm): int, GP (g/kg dm): int]\n"
          ],
          "name": "stdout"
        }
      ]
    },
    {
      "cell_type": "code",
      "metadata": {
        "id": "5QBt3p08IFCU"
      },
      "source": [
        "# Forward fill blank values\n",
        "milk_data = milk_rdd2\n",
        "# define the window\n",
        "window = Window.partitionBy('Cow number').orderBy('Day number').rowsBetween(-sys.maxsize, 0)\n",
        "\n",
        "for column in milk_data.columns:\n",
        "  # define the forward-filled column\n",
        "  filled_column = psf.last(milk_data[column], ignorenulls=True).over(window)\n",
        "\n",
        "  # do the fill \n",
        "  milk_data = milk_data.withColumn(column,  filled_column)"
      ],
      "execution_count": 102,
      "outputs": []
    },
    {
      "cell_type": "code",
      "metadata": {
        "id": "mceLxQ7qIFub"
      },
      "source": [
        "# Drop empty values (otherwise the pipeline can't work with the data)\n",
        "milk_rdd3 = milk_data.dropna(how='any', subset=inputColNames+[labelColName])\n",
        "\n",
        "\n",
        "\n",
        "\n",
        "\n",
        "\n",
        "#milk_rdd3.show(5)\n",
        "\n",
        "# Uncomment the next line if you don't want to dropNA\n",
        "#milk_rdd3 = milk_data \n",
        "\n",
        "\n",
        "\n",
        "### TEMPORARY FIX, BECAUSE REMOVING NA MAKES ALL VP COLLUMNS DISSAPEAR WHICH GIVES ERRORS ###\n",
        "#milk_rdd3 = milk_rdd3.drop('Period (VP = preperiod, HP = trial period)')"
      ],
      "execution_count": 103,
      "outputs": []
    },
    {
      "cell_type": "code",
      "metadata": {
        "id": "6YNUG7MEvJJv"
      },
      "source": [
        "## Assembling the vectorizer\n",
        "vectorizer = VectorAssembler(\n",
        "    inputCols=inputColNames, \n",
        "    outputCol=\"features\")"
      ],
      "execution_count": 104,
      "outputs": []
    },
    {
      "cell_type": "code",
      "metadata": {
        "id": "buoMQkQtGRnD",
        "outputId": "601ef8b8-2d93-4dc2-ec84-6eeb234687d5",
        "colab": {
          "base_uri": "https://localhost:8080/"
        }
      },
      "source": [
        "## Splitting the dataset into a training and testing portion.\n",
        "\n",
        "# Setting a seed for reproducible results.\n",
        "ourSeed = 1234  # default = 1234\n",
        "\n",
        "# Randomly splitting the dataset (default 20% test, 80% train)\n",
        "(testSetDF, trainingSetDF) = milk_rdd3.randomSplit([2.0,8.0],seed=ourSeed)\n",
        "\n",
        "# Uncomment to cache these datasets for performance\n",
        "testSetDF.cache()\n",
        "trainingSetDF.cache()\n",
        "\n",
        "trainingSetDF.show(5)"
      ],
      "execution_count": 105,
      "outputs": [
        {
          "output_type": "stream",
          "text": [
            "+----------+----------+----+---------+---------+----------------+------------+----------+----+------------------------------------------+-----------------------------------------------+---------------------------+---------------------------+-----------------+-----------------------+-----------+----+-----------------+---------------+----+--------+------------+--------------+--------+----------------------+---------+----------------------+-------------------------+------+----------------------+---------------+-------------------------------------+--------------------------------------+-----------------+-------------------------+-------------------+-----------------------+-------+-------------------------+--------------------------+--------------+------------------+------------------+----------------------+------------------+--------+-------------------+-------------+---------------------+-----------------+--------------+----------+---------+----------+----------+---------+----------+-----------+-----------+------------+-----------+-----------+-----------+-----------+-----------+-----------+-----------+-----------+------------+---------+----------+---------------------+---------------+-----------------------+-------------------+----------------+------------+-----------+------------+------------+-----------+------------+-------------+-------------+-------------+--------------+-------------+-------------+-------------+-------------+-------------+-------------+-------------+--------------+-----------+------------+\n",
            "|Cow number|      Date|Barn|Barn part|Treatment|Lactation number|Days in milk|Day number|Week|Period (VP = preperiod, HP = trial period)|Period part (VP = preperiod, HP = trial period)|Intake basal ration (kg dm)|Intake total ration (kg dm)|Water intake (kg)|Concentrate intake (kg)|Weight (kg)| BCS|Backfat Thickness|Milk yield (kg)|Fat%|Protein%|Urea (mg/kg)|SCC (*1000/ml)|Lactose%|Avg Temperature (degC)|Air speed|Max temperature (degC)|Rumination time (min/day)|Avg pH|Avg Rumen Temperature |Time pH<5,8 (h)|Manure consistency (1=fluid, 5= hard)|Manure fibre score (1=short, 5 = long)|Number of kernels|Manure sieving residu (%)|Manure dm (g/kg OM)|Manure starch (g/kg dm)|Urin-pH|Intake pre-period (kg dm)|Milk yield prepreriod (kg)|Fat% preperiod|Protein% preperiod|Fat preperiod (kg)|Protein preperiod (kg)|ECM preperiod (kg)|ECM (kg)|Crude fiber (g/day)|Sugar (g/day)|Crude protein (g/day)|Crude fat (g/day)|Starch (g/day)|Ca (g/day)|P (g/day)|Na (g/day)|Cl (g/day)|K (g/day)|Mg (g/day)|nXP (g/day)|RNB (g/day)|MELK (g/day)|NEL (g/day)|WDE (g/day)|EKB (g/day)|WDS (g/day)|SPK (g/day)|TPK (g/day)|SPE (g/day)|TPE (g/day)|plusI (/day)|WI (/day)|GP (g/day)|Crude fiber (g/kg dm)|Sugar (g/kg dm)|Crude protein (g/kg dm)|Crude fat (g/kg dm)|Starch (g/kg dm)|Ca (g/kg dm)|P (g/kg dm)|Na (g/kg dm)|Cl (g/kg dm)|K (g/kg dm)|Mg (g/kg dm)|nXP (g/kg dm)|RNB (g/kg dm)|MELK (/kg dm)|NEL (MJ/kg dm)|WDE (g/kg dm)|EKB (g/kg dm)|WDS (g/kg dm)|SPK (g/kg dm)|TPK (g/kg dm)|SPE (g/kg dm)|TPE (g/kg dm)|plusI (/kg dm)|WI (/kg dm)|GP (g/kg dm)|\n",
            "+----------+----------+----+---------+---------+----------------+------------+----------+----+------------------------------------------+-----------------------------------------------+---------------------------+---------------------------+-----------------+-----------------------+-----------+----+-----------------+---------------+----+--------+------------+--------------+--------+----------------------+---------+----------------------+-------------------------+------+----------------------+---------------+-------------------------------------+--------------------------------------+-----------------+-------------------------+-------------------+-----------------------+-------+-------------------------+--------------------------+--------------+------------------+------------------+----------------------+------------------+--------+-------------------+-------------+---------------------+-----------------+--------------+----------+---------+----------+----------+---------+----------+-----------+-----------+------------+-----------+-----------+-----------+-----------+-----------+-----------+-----------+-----------+------------+---------+----------+---------------------+---------------+-----------------------+-------------------+----------------+------------+-----------+------------+------------+-----------+------------+-------------+-------------+-------------+--------------+-------------+-------------+-------------+-------------+-------------+-------------+-------------+--------------+-----------+------------+\n",
            "|       897|2014-08-14|   6|        2|        O|               1|         119|        59|   9|                                        HP|                                            HP2|                       35.5|                       38.9|             77.6|                  3.741|      560.0|4.25|                9|          34.61|3.68|     3.4|         252|            41|    4.92|                  17.5|      1.2|                  19.8|                      720|   5.9|                  38.9|            4.0|                                    3|                                     4|              0.0|                     31.8|                124|                    1.5|    8.2|                    18.82|                     33.65|          3.46|              3.16|              1.16|                  1.06|             31.08|   28.74|               6837|         1641|                 6078|             1361|          8730|       224|      164|        77|       190|      579|       128|       5400|          0|       42226|        267|       3378|        577|       2087|       7827|      17660|       2558|       4124|        4285|     4741|      5442|                  176|             42|                    156|                 35|             225|           6|          4|           2|           5|         15|           3|          139|            0|         1086|             7|           87|           15|           54|          201|          454|           66|          106|           110|        122|         140|\n",
            "|       897|2014-08-15|   6|        2|        O|               1|         120|        60|   9|                                        HP|                                            HP2|                       16.4|                       19.8|             77.7|                  3.741|      562.0|4.25|                9|          31.45|3.68|     3.4|         252|            41|    4.92|                  16.7|      1.0|                  20.0|                      714|   5.9|                  38.9|            6.2|                                    3|                                     4|              0.0|                     31.8|                124|                    1.5|    8.2|                    18.82|                     33.65|          3.46|              3.16|              1.16|                  1.06|             31.08|   28.74|               3284|          877|                 3193|              692|          4603|       120|       88|        41|        90|      287|        64|       2496|          0|       21591|        137|       1792|        290|       1074|       4063|       8947|       1278|       2118|        2202|     2238|      2767|                  166|             44|                    162|                 35|             233|           6|          4|           2|           5|         15|           3|          126|            0|         1092|             7|           91|           15|           54|          206|          453|           65|          107|           111|        113|         140|\n",
            "|       897|2014-08-16|   6|        2|        O|               1|         121|        61|   9|                                        HP|                                            HP2|                       21.2|                       24.5|             82.6|                  3.741|      566.0|4.25|                9|          33.09|3.68|     3.4|         252|            41|    4.92|                  16.6|      1.7|                  19.0|                      674|   5.9|                  38.9|            7.0|                                    3|                                     4|              0.0|                     31.8|                124|                    1.5|    8.2|                    18.82|                     33.65|          3.46|              3.16|              1.16|                  1.06|             31.08|   28.74|               4172|         1068|                 3915|              859|          5635|       146|      107|        50|       115|      360|        80|       3222|          0|       26752|        170|       2188|        362|       1327|       5004|      11126|       1598|       2620|        2723|     2864|      3436|                  170|             44|                    159|                 35|             230|           6|          4|           2|           5|         15|           3|          131|            0|         1090|             7|           89|           15|           54|          204|          453|           65|          107|           111|        117|         140|\n",
            "|       897|2014-08-17|   6|        2|        O|               1|         122|        62|   9|                                        HP|                                            HP2|                       17.4|                       20.7|             67.6|                  3.736|      561.0|4.25|                9|          27.03|3.68|     3.4|         252|            41|    4.92|                  16.0|      2.0|                  17.7|                      653|   5.8|                  39.0|            8.3|                                    3|                                     4|              0.0|                     31.8|                124|                    1.5|    8.2|                    18.82|                     33.65|          3.46|              3.16|              1.16|                  1.06|             31.08|   28.74|               3465|          915|                 3339|              726|          4812|       125|       92|        43|        95|      302|        67|       2644|          0|       22639|        144|       1872|        305|       1125|       4254|       9390|       1343|       2220|        2308|     2366|      2903|                  167|             44|                    161|                 35|             232|           6|          4|           2|           5|         15|           3|          128|            0|         1092|             7|           90|           15|           54|          205|          453|           65|          107|           111|        114|         140|\n",
            "|       897|2014-08-18|   6|        2|        O|               1|         123|        63|   9|                                        HP|                                            HP2|                       17.5|                       20.9|             70.2|                  3.741|      557.0|4.25|                9|          24.06|3.73|    3.33|         259|            45|    4.93|                  15.6|      2.0|                  17.2|                      688|   5.8|                  38.9|           11.7|                                    3|                                     4|              0.0|                     31.8|                124|                    1.5|    8.2|                    18.82|                     33.65|          3.46|              3.16|              1.16|                  1.06|             31.08|   30.05|               3488|          921|                 3359|              730|          4841|       126|       92|        43|        96|      304|        67|       2663|          0|       22780|        145|       1883|        307|       1132|       4280|       9449|       1351|       2233|        2322|     2383|      2921|                  167|             44|                    161|                 35|             232|           6|          4|           2|           5|         15|           3|          128|            0|         1092|             7|           90|           15|           54|          205|          453|           65|          107|           111|        114|         140|\n",
            "+----------+----------+----+---------+---------+----------------+------------+----------+----+------------------------------------------+-----------------------------------------------+---------------------------+---------------------------+-----------------+-----------------------+-----------+----+-----------------+---------------+----+--------+------------+--------------+--------+----------------------+---------+----------------------+-------------------------+------+----------------------+---------------+-------------------------------------+--------------------------------------+-----------------+-------------------------+-------------------+-----------------------+-------+-------------------------+--------------------------+--------------+------------------+------------------+----------------------+------------------+--------+-------------------+-------------+---------------------+-----------------+--------------+----------+---------+----------+----------+---------+----------+-----------+-----------+------------+-----------+-----------+-----------+-----------+-----------+-----------+-----------+-----------+------------+---------+----------+---------------------+---------------+-----------------------+-------------------+----------------+------------+-----------+------------+------------+-----------+------------+-------------+-------------+-------------+--------------+-------------+-------------+-------------+-------------+-------------+-------------+-------------+--------------+-----------+------------+\n",
            "only showing top 5 rows\n",
            "\n"
          ],
          "name": "stdout"
        }
      ]
    },
    {
      "cell_type": "markdown",
      "metadata": {
        "id": "OVIF87r80veI"
      },
      "source": [
        "### Linear Regression Machine Learning Model"
      ]
    },
    {
      "cell_type": "code",
      "metadata": {
        "id": "C5RGiNe_0yYi"
      },
      "source": [
        "## Training a linear regression model with the default settings.\n",
        "\n",
        "# Initialize the linear regression learner with default values for the parameters\n",
        "lr = LinearRegression()\n",
        "\n",
        "# Setting the name of the column with the values that need to be learned\n",
        "# and setting the name of the column where the predicted results will be saved.\n",
        "lr.setLabelCol(labelColName)\\\n",
        "  .setPredictionCol(predictionColName)\n",
        "\n",
        "# Create a pipeline that performs the vectorizer and the Linear Regression\n",
        "# learning model.\n",
        "lrPipeline = Pipeline(stages = [vectorizer] + [lr])\n",
        "\n",
        "# Uncomment the next line to show if the training set was created correctly\n",
        "#trainingSetDF.show(5)\n",
        "\n",
        "# Train the model on the training set with the default settings.\n",
        "lrModel = lrPipeline.fit(trainingSetDF)\n"
      ],
      "execution_count": 106,
      "outputs": []
    },
    {
      "cell_type": "code",
      "metadata": {
        "id": "9cpYGku4pmNH",
        "outputId": "c8a1bf37-20a9-4acb-a595-64d82ff18bfa",
        "colab": {
          "base_uri": "https://localhost:8080/"
        }
      },
      "source": [
        "## Inspecting the results of the previous model\n",
        "\n",
        "# The coefficients (i.e., weights) are as follows:\n",
        "weights = lrModel.stages[1].coefficients\n",
        "\n",
        "# The corresponding features for these weights are:\n",
        "featuresNoLabel = vectorizer.getInputCols()\n",
        "print(featuresNoLabel)\n",
        "\n",
        "# Print coefficients \n",
        "weightsList = list(zip(featuresNoLabel, weights))\n",
        "print(weightsList)\n",
        " \n",
        " # Print the intercept\n",
        "print(\"Intercept: \",lrModel.stages[1].intercept)"
      ],
      "execution_count": 115,
      "outputs": [
        {
          "output_type": "stream",
          "text": [
            "['Intake basal ration (kg dm)', 'Intake total ration (kg dm)', 'Water intake (kg)', 'Concentrate intake (kg)', 'Weight (kg)', 'BCS', 'Fat%', 'Protein%', 'Lactose%', 'Avg Temperature (degC)', 'Air speed', 'Max temperature (degC)', 'Avg pH', 'Avg Rumen Temperature ', 'Time pH<5,8 (h)', 'Number of kernels', 'Manure sieving residu (%)', 'Manure starch (g/kg dm)', 'Urin-pH', 'Intake pre-period (kg dm)', 'Milk yield prepreriod (kg)', 'Fat% preperiod', 'Protein% preperiod', 'Fat preperiod (kg)', 'Protein preperiod (kg)', 'ECM preperiod (kg)', 'ECM (kg)', 'Cow number', 'Barn', 'Barn part', 'Lactation number', 'Days in milk', 'Day number', 'Week', 'Backfat Thickness', 'Urea (mg/kg)', 'SCC (*1000/ml)', 'Rumination time (min/day)', 'Manure consistency (1=fluid, 5= hard)', 'Manure fibre score (1=short, 5 = long)', 'Manure dm (g/kg OM)', 'Crude fiber (g/day)', 'Sugar (g/day)', 'Crude protein (g/day)', 'Crude fat (g/day)', 'Starch (g/day)', 'Ca (g/day)', 'P (g/day)', 'Na (g/day)', 'Cl (g/day)', 'K (g/day)', 'Mg (g/day)', 'nXP (g/day)', 'RNB (g/day)', 'MELK (g/day)', 'NEL (g/day)', 'WDE (g/day)', 'EKB (g/day)', 'WDS (g/day)', 'SPK (g/day)', 'TPK (g/day)', 'SPE (g/day)', 'TPE (g/day)', 'plusI (/day)', 'WI (/day)', 'GP (g/day)', 'Crude fiber (g/kg dm)', 'Sugar (g/kg dm)', 'Crude protein (g/kg dm)', 'Crude fat (g/kg dm)', 'Starch (g/kg dm)', 'Ca (g/kg dm)', 'P (g/kg dm)', 'Na (g/kg dm)', 'Cl (g/kg dm)', 'K (g/kg dm)', 'Mg (g/kg dm)', 'nXP (g/kg dm)', 'RNB (g/kg dm)', 'MELK (/kg dm)', 'NEL (MJ/kg dm)', 'WDE (g/kg dm)', 'EKB (g/kg dm)', 'WDS (g/kg dm)', 'SPK (g/kg dm)', 'TPK (g/kg dm)', 'SPE (g/kg dm)', 'TPE (g/kg dm)', 'plusI (/kg dm)', 'WI (/kg dm)', 'GP (g/kg dm)']\n",
            "[('Intake basal ration (kg dm)', 0.2853068130659549), ('Intake total ration (kg dm)', -0.27845877294020177), ('Water intake (kg)', 0.06639267345978121), ('Concentrate intake (kg)', -0.23892444242486202), ('Weight (kg)', 0.04408428506050559), ('BCS', -0.5467273669854653), ('Fat%', 1.7567393654217707), ('Protein%', 4.666859043342814), ('Lactose%', -1.866472316798546), ('Avg Temperature (degC)', 0.1002126261247963), ('Air speed', 0.27019681865283535), ('Max temperature (degC)', -0.06149959013369855), ('Avg pH', 3.298237324125193), ('Avg Rumen Temperature ', 2.116078741101157), ('Time pH<5,8 (h)', 0.102866879496402), ('Number of kernels', 0.10010873341159925), ('Manure sieving residu (%)', 0.18770670905601328), ('Manure starch (g/kg dm)', 0.8764798824829474), ('Urin-pH', 4.2259967570266355), ('Intake pre-period (kg dm)', 0.05178498894624316), ('Milk yield prepreriod (kg)', 0.10115376956572289), ('Fat% preperiod', -20.505439810213318), ('Protein% preperiod', 3.971562160746294), ('Fat preperiod (kg)', -2.028958604725651), ('Protein preperiod (kg)', 7.974064550403938), ('ECM preperiod (kg)', 0.034443175887987086), ('ECM (kg)', 0.20119767743582276), ('Cow number', 0.005371030527105847), ('Barn', 0.0), ('Barn part', -1.1832486625988812), ('Lactation number', -0.610786662411085), ('Days in milk', -0.04134902806833578), ('Day number', -0.1836404500896112), ('Week', 0.47022542830375036), ('Backfat Thickness', -0.3558325634856337), ('Urea (mg/kg)', -0.019383892955097765), ('SCC (*1000/ml)', -0.03461991370879756), ('Rumination time (min/day)', 0.011409381170544707), ('Manure consistency (1=fluid, 5= hard)', -5.585659449459992), ('Manure fibre score (1=short, 5 = long)', 4.784177432078599), ('Manure dm (g/kg OM)', 0.2758957417205028), ('Crude fiber (g/day)', 0.0005334908588761391), ('Sugar (g/day)', -0.003351277470991706), ('Crude protein (g/day)', -0.0007548358982789013), ('Crude fat (g/day)', 0.0015178473970102286), ('Starch (g/day)', -0.0005395355309619304), ('Ca (g/day)', 0.03272458463503686), ('P (g/day)', -0.07128358920274319), ('Na (g/day)', 0.27923674876169513), ('Cl (g/day)', -0.0007305833091222797), ('K (g/day)', 0.004124577947748455), ('Mg (g/day)', 0.016249122756074548), ('nXP (g/day)', 0.0013903679014256986), ('RNB (g/day)', 0.0), ('MELK (g/day)', -4.556908046901262e-05), ('NEL (g/day)', 0.0005906899596442502), ('WDE (g/day)', -0.0016387333818581558), ('EKB (g/day)', 0.003659026186718524), ('WDS (g/day)', -0.00064697778139005), ('SPK (g/day)', -0.00042044849558949265), ('TPK (g/day)', -5.6793700733474904e-05), ('SPE (g/day)', 0.00035197933495402804), ('TPE (g/day)', -0.0005179260884488729), ('plusI (/day)', -0.0005012669639133307), ('WI (/day)', 0.001262057035332212), ('GP (g/day)', -0.0001918854847357837), ('Crude fiber (g/kg dm)', -0.5165597911178452), ('Sugar (g/kg dm)', 0.8398839449165917), ('Crude protein (g/kg dm)', 0.06561203361103198), ('Crude fat (g/kg dm)', 0.0), ('Starch (g/kg dm)', 0.7266489400704134), ('Ca (g/kg dm)', -0.6658980198731584), ('P (g/kg dm)', 1.0206130780552198), ('Na (g/kg dm)', 0.0), ('Cl (g/kg dm)', -0.5747054884643877), ('K (g/kg dm)', -2.392874942455031), ('Mg (g/kg dm)', 0.0), ('nXP (g/kg dm)', -0.7392631875862702), ('RNB (g/kg dm)', 0.0), ('MELK (/kg dm)', -0.8809322787152444), ('NEL (MJ/kg dm)', 0.0), ('WDE (g/kg dm)', -1.8573869726181518), ('EKB (g/kg dm)', 2.7707755949161794), ('WDS (g/kg dm)', -1.5068697242746738), ('SPK (g/kg dm)', -1.8341933550835805), ('TPK (g/kg dm)', -2.6707990666911687), ('SPE (g/kg dm)', 2.225870786876979), ('TPE (g/kg dm)', -0.888705441702628), ('plusI (/kg dm)', -1.9943864211671474), ('WI (/kg dm)', -0.34287443000925727), ('GP (g/kg dm)', 0.0)]\n",
            "Intercept:  2826.8221456191372\n"
          ],
          "name": "stdout"
        }
      ]
    },
    {
      "cell_type": "code",
      "metadata": {
        "id": "IEsSF6hQwU2V",
        "outputId": "dff77d3a-ae64-4f6a-bec6-680b48b8961c",
        "colab": {
          "base_uri": "https://localhost:8080/"
        }
      },
      "source": [
        "# Function that sorts a list of sublists on the second element of the sublist \n",
        "def Sort(sub_li):\n",
        "    sub_li.sort(key = lambda x: x[1]) \n",
        "    return sub_li \n",
        "  \n",
        "# Use the Sort function\n",
        "print(Sort(weightsList)) "
      ],
      "execution_count": 117,
      "outputs": [
        {
          "output_type": "stream",
          "text": [
            "[('Fat% preperiod', -20.505439810213318), ('Manure consistency (1=fluid, 5= hard)', -5.585659449459992), ('TPK (g/kg dm)', -2.6707990666911687), ('K (g/kg dm)', -2.392874942455031), ('Fat preperiod (kg)', -2.028958604725651), ('plusI (/kg dm)', -1.9943864211671474), ('Lactose%', -1.866472316798546), ('WDE (g/kg dm)', -1.8573869726181518), ('SPK (g/kg dm)', -1.8341933550835805), ('WDS (g/kg dm)', -1.5068697242746738), ('Barn part', -1.1832486625988812), ('TPE (g/kg dm)', -0.888705441702628), ('MELK (/kg dm)', -0.8809322787152444), ('nXP (g/kg dm)', -0.7392631875862702), ('Ca (g/kg dm)', -0.6658980198731584), ('Lactation number', -0.610786662411085), ('Cl (g/kg dm)', -0.5747054884643877), ('BCS', -0.5467273669854653), ('Crude fiber (g/kg dm)', -0.5165597911178452), ('Backfat Thickness', -0.3558325634856337), ('WI (/kg dm)', -0.34287443000925727), ('Intake total ration (kg dm)', -0.27845877294020177), ('Concentrate intake (kg)', -0.23892444242486202), ('Day number', -0.1836404500896112), ('P (g/day)', -0.07128358920274319), ('Max temperature (degC)', -0.06149959013369855), ('Days in milk', -0.04134902806833578), ('SCC (*1000/ml)', -0.03461991370879756), ('Urea (mg/kg)', -0.019383892955097765), ('Sugar (g/day)', -0.003351277470991706), ('WDE (g/day)', -0.0016387333818581558), ('Crude protein (g/day)', -0.0007548358982789013), ('Cl (g/day)', -0.0007305833091222797), ('WDS (g/day)', -0.00064697778139005), ('Starch (g/day)', -0.0005395355309619304), ('TPE (g/day)', -0.0005179260884488729), ('plusI (/day)', -0.0005012669639133307), ('SPK (g/day)', -0.00042044849558949265), ('GP (g/day)', -0.0001918854847357837), ('TPK (g/day)', -5.6793700733474904e-05), ('MELK (g/day)', -4.556908046901262e-05), ('Barn', 0.0), ('RNB (g/day)', 0.0), ('Crude fat (g/kg dm)', 0.0), ('Na (g/kg dm)', 0.0), ('Mg (g/kg dm)', 0.0), ('RNB (g/kg dm)', 0.0), ('NEL (MJ/kg dm)', 0.0), ('GP (g/kg dm)', 0.0), ('SPE (g/day)', 0.00035197933495402804), ('Crude fiber (g/day)', 0.0005334908588761391), ('NEL (g/day)', 0.0005906899596442502), ('WI (/day)', 0.001262057035332212), ('nXP (g/day)', 0.0013903679014256986), ('Crude fat (g/day)', 0.0015178473970102286), ('EKB (g/day)', 0.003659026186718524), ('K (g/day)', 0.004124577947748455), ('Cow number', 0.005371030527105847), ('Rumination time (min/day)', 0.011409381170544707), ('Mg (g/day)', 0.016249122756074548), ('Ca (g/day)', 0.03272458463503686), ('ECM preperiod (kg)', 0.034443175887987086), ('Weight (kg)', 0.04408428506050559), ('Intake pre-period (kg dm)', 0.05178498894624316), ('Crude protein (g/kg dm)', 0.06561203361103198), ('Water intake (kg)', 0.06639267345978121), ('Number of kernels', 0.10010873341159925), ('Avg Temperature (degC)', 0.1002126261247963), ('Milk yield prepreriod (kg)', 0.10115376956572289), ('Time pH<5,8 (h)', 0.102866879496402), ('Manure sieving residu (%)', 0.18770670905601328), ('ECM (kg)', 0.20119767743582276), ('Air speed', 0.27019681865283535), ('Manure dm (g/kg OM)', 0.2758957417205028), ('Na (g/day)', 0.27923674876169513), ('Intake basal ration (kg dm)', 0.2853068130659549), ('Week', 0.47022542830375036), ('Starch (g/kg dm)', 0.7266489400704134), ('Sugar (g/kg dm)', 0.8398839449165917), ('Manure starch (g/kg dm)', 0.8764798824829474), ('P (g/kg dm)', 1.0206130780552198), ('Fat%', 1.7567393654217707), ('Avg Rumen Temperature ', 2.116078741101157), ('SPE (g/kg dm)', 2.225870786876979), ('EKB (g/kg dm)', 2.7707755949161794), ('Avg pH', 3.298237324125193), ('Protein% preperiod', 3.971562160746294), ('Urin-pH', 4.2259967570266355), ('Protein%', 4.666859043342814), ('Manure fibre score (1=short, 5 = long)', 4.784177432078599), ('Protein preperiod (kg)', 7.974064550403938)]\n"
          ],
          "name": "stdout"
        }
      ]
    },
    {
      "cell_type": "code",
      "metadata": {
        "id": "zMeIb7kUBSad",
        "outputId": "9d4ee4e0-e3fa-4009-c729-a6d8ebe95e27",
        "colab": {
          "base_uri": "https://localhost:8080/",
          "height": 718
        }
      },
      "source": [
        "## Model Predictions:\n",
        "\n",
        " # Apply our LR model to the test data and predict power output\n",
        "predictionsLR = lrModel.transform(testSetDF).select(inputColNames+[labelColName]+[predictionColName])\n",
        "\n",
        " # Print the first 15 rows of your predictions\n",
        "predictionsLR.show(15)\n",
        "\n",
        "#Plotting predicted against actual values to show linearity\n",
        "sns.scatterplot(x=labelColName, y=predictionColName, data=predictionsLR.toPandas(),size=10)"
      ],
      "execution_count": 113,
      "outputs": [
        {
          "output_type": "stream",
          "text": [
            "+---------------------------+---------------------------+-----------------+-----------------------+-----------+----+----+--------+--------+----------------------+---------+----------------------+------+----------------------+---------------+-----------------+-------------------------+-----------------------+-------+-------------------------+--------------------------+--------------+------------------+------------------+----------------------+------------------+--------+----------+----+---------+----------------+------------+----------+----+-----------------+------------+--------------+-------------------------+-------------------------------------+--------------------------------------+-------------------+-------------------+-------------+---------------------+-----------------+--------------+----------+---------+----------+----------+---------+----------+-----------+-----------+------------+-----------+-----------+-----------+-----------+-----------+-----------+-----------+-----------+------------+---------+----------+---------------------+---------------+-----------------------+-------------------+----------------+------------+-----------+------------+------------+-----------+------------+-------------+-------------+-------------+--------------+-------------+-------------+-------------+-------------+-------------+-------------+-------------+--------------+-----------+------------+---------------+-------------------------+\n",
            "|Intake basal ration (kg dm)|Intake total ration (kg dm)|Water intake (kg)|Concentrate intake (kg)|Weight (kg)| BCS|Fat%|Protein%|Lactose%|Avg Temperature (degC)|Air speed|Max temperature (degC)|Avg pH|Avg Rumen Temperature |Time pH<5,8 (h)|Number of kernels|Manure sieving residu (%)|Manure starch (g/kg dm)|Urin-pH|Intake pre-period (kg dm)|Milk yield prepreriod (kg)|Fat% preperiod|Protein% preperiod|Fat preperiod (kg)|Protein preperiod (kg)|ECM preperiod (kg)|ECM (kg)|Cow number|Barn|Barn part|Lactation number|Days in milk|Day number|Week|Backfat Thickness|Urea (mg/kg)|SCC (*1000/ml)|Rumination time (min/day)|Manure consistency (1=fluid, 5= hard)|Manure fibre score (1=short, 5 = long)|Manure dm (g/kg OM)|Crude fiber (g/day)|Sugar (g/day)|Crude protein (g/day)|Crude fat (g/day)|Starch (g/day)|Ca (g/day)|P (g/day)|Na (g/day)|Cl (g/day)|K (g/day)|Mg (g/day)|nXP (g/day)|RNB (g/day)|MELK (g/day)|NEL (g/day)|WDE (g/day)|EKB (g/day)|WDS (g/day)|SPK (g/day)|TPK (g/day)|SPE (g/day)|TPE (g/day)|plusI (/day)|WI (/day)|GP (g/day)|Crude fiber (g/kg dm)|Sugar (g/kg dm)|Crude protein (g/kg dm)|Crude fat (g/kg dm)|Starch (g/kg dm)|Ca (g/kg dm)|P (g/kg dm)|Na (g/kg dm)|Cl (g/kg dm)|K (g/kg dm)|Mg (g/kg dm)|nXP (g/kg dm)|RNB (g/kg dm)|MELK (/kg dm)|NEL (MJ/kg dm)|WDE (g/kg dm)|EKB (g/kg dm)|WDS (g/kg dm)|SPK (g/kg dm)|TPK (g/kg dm)|SPE (g/kg dm)|TPE (g/kg dm)|plusI (/kg dm)|WI (/kg dm)|GP (g/kg dm)|Milk yield (kg)|Predicted Milk yield (kg)|\n",
            "+---------------------------+---------------------------+-----------------+-----------------------+-----------+----+----+--------+--------+----------------------+---------+----------------------+------+----------------------+---------------+-----------------+-------------------------+-----------------------+-------+-------------------------+--------------------------+--------------+------------------+------------------+----------------------+------------------+--------+----------+----+---------+----------------+------------+----------+----+-----------------+------------+--------------+-------------------------+-------------------------------------+--------------------------------------+-------------------+-------------------+-------------+---------------------+-----------------+--------------+----------+---------+----------+----------+---------+----------+-----------+-----------+------------+-----------+-----------+-----------+-----------+-----------+-----------+-----------+-----------+------------+---------+----------+---------------------+---------------+-----------------------+-------------------+----------------+------------+-----------+------------+------------+-----------+------------+-------------+-------------+-------------+--------------+-------------+-------------+-------------+-------------+-------------+-------------+-------------+--------------+-----------+------------+---------------+-------------------------+\n",
            "|                       13.5|                       16.8|             81.2|                  3.726|      563.0|4.25|3.82|    3.51|    4.78|                  18.4|      1.4|                  23.2|   5.6|                  38.8|           20.8|              0.0|                     31.8|                    1.5|    8.2|                    18.82|                     33.65|          3.46|              3.16|              1.16|                  1.06|             31.08|   29.82|       897|   6|        2|               1|         133|        73|  11|                9|         334|            58|                      690|                                    3|                                     4|                124|               2738|          758|                 2748|              589|          3966|       103|       76|        35|        75|      242|        54|       2051|          0|       18412|        117|       1547|        246|        918|       3482|       7605|       1081|       1809|        1881|     1854|      2355|                  163|             45|                    163|                 35|             236|           6|          5|           2|           4|         14|           3|          122|            0|         1094|             7|           92|           15|           55|          207|          452|           64|          108|           112|        110|         140|          24.35|       29.607518460666597|\n",
            "|                       11.7|                       15.0|             78.5|                  3.741|      573.5|4.25|3.72|    3.45|    4.83|                  18.0|      1.0|                  21.7|   5.6|                  38.9|           19.5|              0.0|                     31.8|                    1.5|    8.2|                    18.82|                     33.65|          3.46|              3.16|              1.16|                  1.06|             31.08|   29.01|       897|   6|        2|               1|         139|        79|  12|                9|         205|            54|                      584|                                    3|                                     4|                124|               2398|          686|                 2474|              525|          3574|        93|       68|        32|        66|      214|        48|       1772|          0|       16447|        105|       1396|        219|        821|       3125|       6775|        958|       1618|        1683|     1614|      2100|                  160|             46|                    165|                 35|             238|           6|          5|           2|           4|         14|           3|          118|            0|         1096|             7|           93|           15|           55|          208|          452|           64|          108|           112|        108|         140|          29.68|       31.482660457310885|\n",
            "|                       13.9|                       17.3|             78.5|                   3.74|      571.0|4.25|3.72|    3.45|    4.83|                  19.7|      0.9|                  24.5|   5.5|                  38.9|           24.0|              0.0|                     31.8|                    1.5|    8.2|                    18.82|                     33.65|          3.46|              3.16|              1.16|                  1.06|             31.08|   29.01|       897|   6|        2|               1|         143|        83|  12|                9|         205|            54|                      712|                                    3|                                     4|                124|               2822|          777|                 2819|              605|          4067|       106|       78|        36|        77|      249|        55|       2119|          0|       18913|        120|       1586|        253|        942|       3574|       7816|       1111|       1857|        1932|     1914|      2420|                  163|             45|                    163|                 35|             235|           6|          4|           2|           4|         14|           3|          123|            0|         1094|             7|           92|           15|           55|          207|          452|           64|          107|           112|        111|         140|          30.66|        28.50455702922045|\n",
            "|                       16.1|                       19.4|             74.8|                  3.741|      578.5|3.75|3.98|    3.57|    4.82|                  17.3|      0.9|                  17.3|   5.4|                  38.9|           24.0|              0.0|                     31.8|                    1.5|    8.2|                    18.82|                     33.65|          3.46|              3.16|              1.16|                  1.06|             31.08|   30.28|       897|   6|        2|               1|         150|        90|  13|                9|         346|            47|                      673|                                    3|                                     4|                124|               3215|          862|                 3137|              679|          4523|       118|       86|        40|        88|      281|        62|       2440|          0|       21193|        135|       1761|        285|       1054|       3990|       8779|       1253|       2079|        2162|     2190|      2715|                  166|             44|                    162|                 35|             233|           6|          4|           2|           5|         14|           3|          126|            0|         1093|             7|           91|           15|           54|          206|          453|           65|          107|           111|        113|         140|          28.16|       26.989741602491904|\n",
            "|                       28.9|                       36.0|            116.1|                  7.998|      656.0| 3.0|3.35|    3.16|    4.72|                  14.3|      0.9|                  19.0|   5.7|                  38.7|           17.5|              0.0|                     41.0|                   0.73|    8.1|                    31.52|                     50.64|          3.72|              3.05|              1.88|                  1.55|             47.93|   39.97|       764|   6|        2|               2|         144|        66|  10|                7|         180|            54|                      626|                                    2|                                     4|                111|               5858|         1624|                 5883|             1260|          8491|       221|      162|        75|       161|      518|       115|       4387|          0|       39414|        251|       3312|        527|       1965|       7456|      16279|       2313|       3872|        4027|     3967|      5041|                  163|             45|                    163|                 35|             236|           6|          5|           2|           4|         14|           3|          122|            0|         1094|             7|           92|           15|           55|          207|          452|           64|          108|           112|        110|         140|          46.13|        42.37023186700844|\n",
            "|                       25.7|                       32.8|            114.1|                  7.998|      660.0| 3.0|3.35|    3.16|    4.72|                  14.0|      1.1|                  18.2|   5.6|                  38.8|           19.8|              0.0|                     41.0|                   0.73|    8.1|                    31.52|                     50.64|          3.72|              3.05|              1.88|                  1.55|             47.93|   39.97|       764|   6|        2|               2|         147|        69|  10|                7|         180|            54|                      650|                                    2|                                     4|                111|               5265|         1497|                 5402|             1149|          7803|       204|      149|        69|       144|      469|       104|       3902|          0|       35970|        229|       3047|        479|       1796|       6828|      14825|       2099|       3537|        3680|     3550|      4595|                  160|             46|                    165|                 35|             238|           6|          5|           2|           4|         14|           3|          119|            0|         1096|             7|           93|           15|           55|          208|          452|           64|          108|           112|        108|         140|          39.45|        42.62366052004154|\n",
            "|                       20.2|                       24.9|             73.9|                  5.289|      670.0| 3.0|3.64|    3.21|    4.67|                  17.5|      0.8|                  21.9|   5.6|                  39.2|           20.5|              0.0|                     41.0|                   0.73|    8.1|                    31.52|                     50.64|          3.72|              3.05|              1.88|                  1.55|             47.93|   38.45|       764|   6|        2|               2|         156|        78|  12|                7|         200|            38|                      564|                                    2|                                     4|                111|               4076|         1117|                 4054|              871|          5849|       152|      112|        52|       112|      359|        80|       3066|          0|       27235|        173|       2280|        364|       1357|       5144|      11260|       1602|       2674|        2781|     2766|      3485|                  164|             45|                    163|                 35|             235|           6|          4|           2|           4|         14|           3|          123|            0|         1094|             7|           92|           15|           54|          207|          452|           64|          107|           112|        111|         140|          42.03|        37.72723719006399|\n",
            "|                       19.2|                       22.6|             72.7|                  3.844|      545.5|2.75|3.73|    3.49|    4.78|                  13.6|      0.5|                  18.0|   5.2|                  39.0|           24.0|              0.0|                     42.4|                    1.3|    8.3|                    21.13|                     34.61|          3.49|              3.31|              1.21|                  1.14|              32.4|   26.42|       885|   6|        1|               1|         159|        70|  10|                6|         262|            19|                      495|                                    4|                                     4|                128|               3807|          994|                 3632|              792|          5232|       136|       99|        46|       105|      330|        73|       2919|          0|       24699|        157|       2034|        333|       1227|       4633|      10254|       1469|       2420|        2516|     2605|      3169|                  168|             44|                    160|                 35|             231|           6|          4|           2|           5|         15|           3|          129|            0|         1091|             7|           90|           15|           54|          205|          453|           65|          107|           111|        115|         140|          26.15|       25.078191404944846|\n",
            "|                       18.4|                       21.9|             86.7|                  3.844|      558.0|2.75|3.73|    3.49|    4.78|                  17.0|      1.3|                  18.4|   5.1|                  39.1|           24.0|              0.0|                     42.4|                    1.3|    8.3|                    21.13|                     34.61|          3.49|              3.31|              1.21|                  1.14|              32.4|   26.42|       885|   6|        1|               1|         164|        75|  11|                6|         262|            19|                      582|                                    4|                                     4|                128|               3662|          963|                 3515|              765|          5064|       131|       96|        45|       101|      318|        70|       2800|          0|       23857|        151|       1970|        321|       1185|       4480|       9899|       1416|       2339|        2432|     2503|      3060|                  168|             44|                    161|                 35|             232|           6|          4|           2|           5|         15|           3|          128|            0|         1091|             7|           90|           15|           54|          205|          453|           65|          107|           111|        115|         140|          27.08|       28.648676131107095|\n",
            "|                       18.9|                       22.3|             70.5|                  3.844|      558.0|2.75|3.57|    3.57|    4.86|                  19.9|      0.8|                  26.2|   5.1|                  39.1|           24.0|              0.0|                     42.4|                    1.3|    8.3|                    21.13|                     34.61|          3.49|              3.31|              1.21|                  1.14|              32.4|   27.26|       885|   6|        1|               1|         169|        80|  12|                6|         178|            15|                      542|                                    4|                                     4|                128|               3747|          981|                 3583|              781|          5162|       134|       98|        46|       103|      325|        72|       2869|          0|       24349|        154|       2007|        328|       1210|       4569|      10107|       1447|       2386|        2481|     2562|      3124|                  168|             44|                    161|                 35|             231|           6|          4|           2|           5|         15|           3|          129|            0|         1091|             7|           90|           15|           54|          205|          453|           65|          107|           111|        115|         140|          32.57|       26.780788060486884|\n",
            "|                       20.7|                       24.1|             70.6|                  3.844|      544.0| 3.0| 4.0|    3.49|    4.71|                  18.4|      1.7|                  23.4|   4.9|                  39.1|           24.0|              0.0|                     42.4|                    1.3|    8.3|                    21.13|                     34.61|          3.49|              3.31|              1.21|                  1.14|              32.4|   28.57|       885|   6|        1|               1|         178|        89|  13|                8|         254|            21|                      503|                                    4|                                     4|                128|               4079|         1052|                 3853|              843|          5548|       144|      105|        49|       113|      353|        78|       3141|          0|       26279|        167|       2156|        355|       1304|       4921|      10921|       1567|       2574|        2676|     2796|      3374|                  169|             44|                    160|                 35|             230|           6|          4|           2|           5|         15|           3|          130|            0|         1090|             7|           89|           15|           54|          204|          453|           65|          107|           111|        116|         140|           26.1|       24.851064645608858|\n",
            "|                        9.8|                       14.6|             56.1|                  5.292|      573.5| 2.0|3.15|    2.93|    4.83|                  16.0|      2.0|                  17.7|   6.1|                  39.0|            2.5|              0.5|                     17.1|                   3.99|    8.3|                     20.9|                     41.41|          3.53|               2.8|              1.46|                  1.16|             37.61|    29.2|       395|   6|        6|               6|         131|        62|   9|                6|         243|            66|                      495|                                    3|                                     5|                149|               2156|          705|                 2496|              510|          3621|        96|       70|        32|        58|      201|        45|       1497|          0|       16091|        103|       1424|        210|        810|       3111|       6554|        911|       1591|        1657|     1413|      2041|                  148|             48|                    171|                 35|             248|           7|          5|           2|           4|         14|           3|          103|            0|         1104|             7|           98|           14|           56|          213|          450|           62|          109|           114|         97|         140|          29.47|       22.851402018787667|\n",
            "|                       12.2|                       17.0|             60.7|                  5.418|      570.0| 2.0|4.17|    2.88|    4.82|                  13.4|      1.1|                  17.8|   6.2|                  39.1|            0.0|              0.5|                     17.1|                   3.99|    8.3|                     20.9|                     41.41|          3.53|               2.8|              1.46|                  1.16|             37.61|   30.69|       395|   6|        6|               6|         134|        65|  10|                6|         284|           120|                      499|                                    3|                                     5|                149|               2598|          805|                 2873|              596|          4160|       109|       80|        37|        71|      238|        53|       1852|          0|       18740|        120|       1632|        246|        940|       3599|       7667|       1073|       1849|        1925|     1722|      2383|                  153|             47|                    169|                 35|             244|           6|          5|           2|           4|         14|           3|          109|            0|         1101|             7|           96|           14|           55|          211|          450|           63|          109|           113|        101|         140|           23.3|        26.74067889528942|\n",
            "|                       15.2|                       20.3|             70.9|                   5.67|      573.5| 2.0|3.67|    2.98|    4.65|                  13.6|      0.5|                  18.0|   6.1|                  38.9|            0.3|              0.5|                     17.1|                   3.99|    8.3|                     20.9|                     41.41|          3.53|               2.8|              1.46|                  1.16|             37.61|   24.68|       395|   6|        6|               6|         139|        70|  10|                6|         283|            53|                      519|                                    3|                                     5|                149|               3181|          942|                 3382|              711|          4891|       128|       94|        43|        87|      287|        64|       2316|          0|       22297|        142|       1914|        295|       1116|       4256|       9158|       1289|       2196|        2285|     2128|      2842|                  157|             46|                    167|                 35|             241|           6|          5|           2|           4|         14|           3|          114|            0|         1098|             7|           94|           15|           55|          210|          451|           64|          108|           113|        105|         140|          28.19|        28.62701597045043|\n",
            "|                       11.0|                       15.2|             68.3|                  4.662|      577.5| 2.0|3.67|    2.98|    4.65|                  15.5|      1.1|                  16.8|   6.2|                  39.1|            0.8|              0.5|                     17.1|                   3.99|    8.3|                     20.9|                     41.41|          3.53|               2.8|              1.46|                  1.16|             37.61|   24.68|       395|   6|        6|               6|         140|        71|  11|                6|         283|            53|                      562|                                    3|                                     5|                149|               2330|          713|                 2548|              530|          3689|        97|       71|        32|        63|      213|        47|       1670|          0|       16673|        107|       1446|        219|        836|       3197|       6829|        957|       1644|        1712|     1548|      2122|                  154|             47|                    168|                 35|             243|           6|          5|           2|           4|         14|           3|          110|            0|         1100|             7|           95|           14|           55|          211|          451|           63|          108|           113|        102|         140|          29.68|        27.25779329785746|\n",
            "+---------------------------+---------------------------+-----------------+-----------------------+-----------+----+----+--------+--------+----------------------+---------+----------------------+------+----------------------+---------------+-----------------+-------------------------+-----------------------+-------+-------------------------+--------------------------+--------------+------------------+------------------+----------------------+------------------+--------+----------+----+---------+----------------+------------+----------+----+-----------------+------------+--------------+-------------------------+-------------------------------------+--------------------------------------+-------------------+-------------------+-------------+---------------------+-----------------+--------------+----------+---------+----------+----------+---------+----------+-----------+-----------+------------+-----------+-----------+-----------+-----------+-----------+-----------+-----------+-----------+------------+---------+----------+---------------------+---------------+-----------------------+-------------------+----------------+------------+-----------+------------+------------+-----------+------------+-------------+-------------+-------------+--------------+-------------+-------------+-------------+-------------+-------------+-------------+-------------+--------------+-----------+------------+---------------+-------------------------+\n",
            "only showing top 15 rows\n",
            "\n"
          ],
          "name": "stdout"
        },
        {
          "output_type": "error",
          "ename": "TypeError",
          "evalue": "ignored",
          "traceback": [
            "\u001b[0;31m---------------------------------------------------------------------------\u001b[0m",
            "\u001b[0;31mTypeError\u001b[0m                                 Traceback (most recent call last)",
            "\u001b[0;32m<ipython-input-113-015bc5ba1acf>\u001b[0m in \u001b[0;36m<module>\u001b[0;34m()\u001b[0m\n\u001b[1;32m      8\u001b[0m \u001b[0;34m\u001b[0m\u001b[0m\n\u001b[1;32m      9\u001b[0m \u001b[0;31m#Plotting predicted against actual values to show linearity\u001b[0m\u001b[0;34m\u001b[0m\u001b[0;34m\u001b[0m\u001b[0;34m\u001b[0m\u001b[0m\n\u001b[0;32m---> 10\u001b[0;31m \u001b[0msns\u001b[0m\u001b[0;34m.\u001b[0m\u001b[0mscatterplot\u001b[0m\u001b[0;34m(\u001b[0m\u001b[0mx\u001b[0m\u001b[0;34m=\u001b[0m\u001b[0mlabelColName\u001b[0m\u001b[0;34m,\u001b[0m \u001b[0my\u001b[0m\u001b[0;34m=\u001b[0m\u001b[0mpredictionColName\u001b[0m\u001b[0;34m,\u001b[0m \u001b[0mdata\u001b[0m\u001b[0;34m=\u001b[0m\u001b[0mpredictionsLR\u001b[0m\u001b[0;34m.\u001b[0m\u001b[0mtoPandas\u001b[0m\u001b[0;34m(\u001b[0m\u001b[0;34m)\u001b[0m\u001b[0;34m,\u001b[0m\u001b[0msize\u001b[0m\u001b[0;34m=\u001b[0m\u001b[0;36m10\u001b[0m\u001b[0;34m)\u001b[0m\u001b[0;34m\u001b[0m\u001b[0;34m\u001b[0m\u001b[0m\n\u001b[0m",
            "\u001b[0;32m/usr/local/lib/python3.6/dist-packages/seaborn/_decorators.py\u001b[0m in \u001b[0;36minner_f\u001b[0;34m(*args, **kwargs)\u001b[0m\n\u001b[1;32m     44\u001b[0m             )\n\u001b[1;32m     45\u001b[0m         \u001b[0mkwargs\u001b[0m\u001b[0;34m.\u001b[0m\u001b[0mupdate\u001b[0m\u001b[0;34m(\u001b[0m\u001b[0;34m{\u001b[0m\u001b[0mk\u001b[0m\u001b[0;34m:\u001b[0m \u001b[0marg\u001b[0m \u001b[0;32mfor\u001b[0m \u001b[0mk\u001b[0m\u001b[0;34m,\u001b[0m \u001b[0marg\u001b[0m \u001b[0;32min\u001b[0m \u001b[0mzip\u001b[0m\u001b[0;34m(\u001b[0m\u001b[0msig\u001b[0m\u001b[0;34m.\u001b[0m\u001b[0mparameters\u001b[0m\u001b[0;34m,\u001b[0m \u001b[0margs\u001b[0m\u001b[0;34m)\u001b[0m\u001b[0;34m}\u001b[0m\u001b[0;34m)\u001b[0m\u001b[0;34m\u001b[0m\u001b[0;34m\u001b[0m\u001b[0m\n\u001b[0;32m---> 46\u001b[0;31m         \u001b[0;32mreturn\u001b[0m \u001b[0mf\u001b[0m\u001b[0;34m(\u001b[0m\u001b[0;34m**\u001b[0m\u001b[0mkwargs\u001b[0m\u001b[0;34m)\u001b[0m\u001b[0;34m\u001b[0m\u001b[0;34m\u001b[0m\u001b[0m\n\u001b[0m\u001b[1;32m     47\u001b[0m     \u001b[0;32mreturn\u001b[0m \u001b[0minner_f\u001b[0m\u001b[0;34m\u001b[0m\u001b[0;34m\u001b[0m\u001b[0m\n\u001b[1;32m     48\u001b[0m \u001b[0;34m\u001b[0m\u001b[0m\n",
            "\u001b[0;32m/usr/local/lib/python3.6/dist-packages/seaborn/relational.py\u001b[0m in \u001b[0;36mscatterplot\u001b[0;34m(x, y, hue, style, size, data, palette, hue_order, hue_norm, sizes, size_order, size_norm, markers, style_order, x_bins, y_bins, units, estimator, ci, n_boot, alpha, x_jitter, y_jitter, legend, ax, **kwargs)\u001b[0m\n\u001b[1;32m    796\u001b[0m         \u001b[0mx_bins\u001b[0m\u001b[0;34m=\u001b[0m\u001b[0mx_bins\u001b[0m\u001b[0;34m,\u001b[0m \u001b[0my_bins\u001b[0m\u001b[0;34m=\u001b[0m\u001b[0my_bins\u001b[0m\u001b[0;34m,\u001b[0m\u001b[0;34m\u001b[0m\u001b[0;34m\u001b[0m\u001b[0m\n\u001b[1;32m    797\u001b[0m         \u001b[0mestimator\u001b[0m\u001b[0;34m=\u001b[0m\u001b[0mestimator\u001b[0m\u001b[0;34m,\u001b[0m \u001b[0mci\u001b[0m\u001b[0;34m=\u001b[0m\u001b[0mci\u001b[0m\u001b[0;34m,\u001b[0m \u001b[0mn_boot\u001b[0m\u001b[0;34m=\u001b[0m\u001b[0mn_boot\u001b[0m\u001b[0;34m,\u001b[0m\u001b[0;34m\u001b[0m\u001b[0;34m\u001b[0m\u001b[0m\n\u001b[0;32m--> 798\u001b[0;31m         \u001b[0malpha\u001b[0m\u001b[0;34m=\u001b[0m\u001b[0malpha\u001b[0m\u001b[0;34m,\u001b[0m \u001b[0mx_jitter\u001b[0m\u001b[0;34m=\u001b[0m\u001b[0mx_jitter\u001b[0m\u001b[0;34m,\u001b[0m \u001b[0my_jitter\u001b[0m\u001b[0;34m=\u001b[0m\u001b[0my_jitter\u001b[0m\u001b[0;34m,\u001b[0m \u001b[0mlegend\u001b[0m\u001b[0;34m=\u001b[0m\u001b[0mlegend\u001b[0m\u001b[0;34m,\u001b[0m\u001b[0;34m\u001b[0m\u001b[0;34m\u001b[0m\u001b[0m\n\u001b[0m\u001b[1;32m    799\u001b[0m     )\n\u001b[1;32m    800\u001b[0m \u001b[0;34m\u001b[0m\u001b[0m\n",
            "\u001b[0;32m/usr/local/lib/python3.6/dist-packages/seaborn/relational.py\u001b[0m in \u001b[0;36m__init__\u001b[0;34m(self, data, variables, x_bins, y_bins, estimator, ci, n_boot, alpha, x_jitter, y_jitter, legend)\u001b[0m\n\u001b[1;32m    578\u001b[0m         )\n\u001b[1;32m    579\u001b[0m \u001b[0;34m\u001b[0m\u001b[0m\n\u001b[0;32m--> 580\u001b[0;31m         \u001b[0msuper\u001b[0m\u001b[0;34m(\u001b[0m\u001b[0;34m)\u001b[0m\u001b[0;34m.\u001b[0m\u001b[0m__init__\u001b[0m\u001b[0;34m(\u001b[0m\u001b[0mdata\u001b[0m\u001b[0;34m=\u001b[0m\u001b[0mdata\u001b[0m\u001b[0;34m,\u001b[0m \u001b[0mvariables\u001b[0m\u001b[0;34m=\u001b[0m\u001b[0mvariables\u001b[0m\u001b[0;34m)\u001b[0m\u001b[0;34m\u001b[0m\u001b[0;34m\u001b[0m\u001b[0m\n\u001b[0m\u001b[1;32m    581\u001b[0m \u001b[0;34m\u001b[0m\u001b[0m\n\u001b[1;32m    582\u001b[0m         \u001b[0mself\u001b[0m\u001b[0;34m.\u001b[0m\u001b[0malpha\u001b[0m \u001b[0;34m=\u001b[0m \u001b[0malpha\u001b[0m\u001b[0;34m\u001b[0m\u001b[0;34m\u001b[0m\u001b[0m\n",
            "\u001b[0;32m/usr/local/lib/python3.6/dist-packages/seaborn/_core.py\u001b[0m in \u001b[0;36m__init__\u001b[0;34m(self, data, variables)\u001b[0m\n\u001b[1;32m    602\u001b[0m     \u001b[0;32mdef\u001b[0m \u001b[0m__init__\u001b[0m\u001b[0;34m(\u001b[0m\u001b[0mself\u001b[0m\u001b[0;34m,\u001b[0m \u001b[0mdata\u001b[0m\u001b[0;34m=\u001b[0m\u001b[0;32mNone\u001b[0m\u001b[0;34m,\u001b[0m \u001b[0mvariables\u001b[0m\u001b[0;34m=\u001b[0m\u001b[0;34m{\u001b[0m\u001b[0;34m}\u001b[0m\u001b[0;34m)\u001b[0m\u001b[0;34m:\u001b[0m\u001b[0;34m\u001b[0m\u001b[0;34m\u001b[0m\u001b[0m\n\u001b[1;32m    603\u001b[0m \u001b[0;34m\u001b[0m\u001b[0m\n\u001b[0;32m--> 604\u001b[0;31m         \u001b[0mself\u001b[0m\u001b[0;34m.\u001b[0m\u001b[0massign_variables\u001b[0m\u001b[0;34m(\u001b[0m\u001b[0mdata\u001b[0m\u001b[0;34m,\u001b[0m \u001b[0mvariables\u001b[0m\u001b[0;34m)\u001b[0m\u001b[0;34m\u001b[0m\u001b[0;34m\u001b[0m\u001b[0m\n\u001b[0m\u001b[1;32m    605\u001b[0m \u001b[0;34m\u001b[0m\u001b[0m\n\u001b[1;32m    606\u001b[0m         \u001b[0;32mfor\u001b[0m \u001b[0mvar\u001b[0m\u001b[0;34m,\u001b[0m \u001b[0mcls\u001b[0m \u001b[0;32min\u001b[0m \u001b[0mself\u001b[0m\u001b[0;34m.\u001b[0m\u001b[0m_semantic_mappings\u001b[0m\u001b[0;34m.\u001b[0m\u001b[0mitems\u001b[0m\u001b[0;34m(\u001b[0m\u001b[0;34m)\u001b[0m\u001b[0;34m:\u001b[0m\u001b[0;34m\u001b[0m\u001b[0;34m\u001b[0m\u001b[0m\n",
            "\u001b[0;32m/usr/local/lib/python3.6/dist-packages/seaborn/_core.py\u001b[0m in \u001b[0;36massign_variables\u001b[0;34m(self, data, variables)\u001b[0m\n\u001b[1;32m    666\u001b[0m             \u001b[0mself\u001b[0m\u001b[0;34m.\u001b[0m\u001b[0minput_format\u001b[0m \u001b[0;34m=\u001b[0m \u001b[0;34m\"long\"\u001b[0m\u001b[0;34m\u001b[0m\u001b[0;34m\u001b[0m\u001b[0m\n\u001b[1;32m    667\u001b[0m             plot_data, variables = self._assign_variables_longform(\n\u001b[0;32m--> 668\u001b[0;31m                 \u001b[0mdata\u001b[0m\u001b[0;34m,\u001b[0m \u001b[0;34m**\u001b[0m\u001b[0mvariables\u001b[0m\u001b[0;34m,\u001b[0m\u001b[0;34m\u001b[0m\u001b[0;34m\u001b[0m\u001b[0m\n\u001b[0m\u001b[1;32m    669\u001b[0m             )\n\u001b[1;32m    670\u001b[0m \u001b[0;34m\u001b[0m\u001b[0m\n",
            "\u001b[0;32m/usr/local/lib/python3.6/dist-packages/seaborn/_core.py\u001b[0m in \u001b[0;36m_assign_variables_longform\u001b[0;34m(self, data, **kwargs)\u001b[0m\n\u001b[1;32m    893\u001b[0m                 \u001b[0;31m# Raise when data is present and a vector can't be combined with it\u001b[0m\u001b[0;34m\u001b[0m\u001b[0;34m\u001b[0m\u001b[0;34m\u001b[0m\u001b[0m\n\u001b[1;32m    894\u001b[0m                 \u001b[0;32mif\u001b[0m \u001b[0misinstance\u001b[0m\u001b[0;34m(\u001b[0m\u001b[0mdata\u001b[0m\u001b[0;34m,\u001b[0m \u001b[0mpd\u001b[0m\u001b[0;34m.\u001b[0m\u001b[0mDataFrame\u001b[0m\u001b[0;34m)\u001b[0m \u001b[0;32mand\u001b[0m \u001b[0;32mnot\u001b[0m \u001b[0misinstance\u001b[0m\u001b[0;34m(\u001b[0m\u001b[0mval\u001b[0m\u001b[0;34m,\u001b[0m \u001b[0mpd\u001b[0m\u001b[0;34m.\u001b[0m\u001b[0mSeries\u001b[0m\u001b[0;34m)\u001b[0m\u001b[0;34m:\u001b[0m\u001b[0;34m\u001b[0m\u001b[0;34m\u001b[0m\u001b[0m\n\u001b[0;32m--> 895\u001b[0;31m                     \u001b[0;32mif\u001b[0m \u001b[0mval\u001b[0m \u001b[0;32mis\u001b[0m \u001b[0;32mnot\u001b[0m \u001b[0;32mNone\u001b[0m \u001b[0;32mand\u001b[0m \u001b[0mlen\u001b[0m\u001b[0;34m(\u001b[0m\u001b[0mdata\u001b[0m\u001b[0;34m)\u001b[0m \u001b[0;34m!=\u001b[0m \u001b[0mlen\u001b[0m\u001b[0;34m(\u001b[0m\u001b[0mval\u001b[0m\u001b[0;34m)\u001b[0m\u001b[0;34m:\u001b[0m\u001b[0;34m\u001b[0m\u001b[0;34m\u001b[0m\u001b[0m\n\u001b[0m\u001b[1;32m    896\u001b[0m                         \u001b[0mval_cls\u001b[0m \u001b[0;34m=\u001b[0m \u001b[0mval\u001b[0m\u001b[0;34m.\u001b[0m\u001b[0m__class__\u001b[0m\u001b[0;34m.\u001b[0m\u001b[0m__name__\u001b[0m\u001b[0;34m\u001b[0m\u001b[0;34m\u001b[0m\u001b[0m\n\u001b[1;32m    897\u001b[0m                         err = (\n",
            "\u001b[0;31mTypeError\u001b[0m: object of type 'int' has no len()"
          ]
        }
      ]
    },
    {
      "cell_type": "code",
      "metadata": {
        "id": "_Yyx6H5QC-Qx",
        "outputId": "86156342-1746-4f01-a6f4-b556157d47ae",
        "colab": {
          "base_uri": "https://localhost:8080/"
        }
      },
      "source": [
        "## Compute an evaluation metric for our test dataset\n",
        "\n",
        "# Create an RMSE evaluator using the label and predicted columns\n",
        "regEval = RegressionEvaluator(predictionCol=predictionColName, labelCol=labelColName, metricName=\"rmse\")\n",
        "\n",
        "# Run the evaluator on the DataFrame\n",
        "rmse = regEval.evaluate(predictionsLR)\n",
        "\n",
        "# Print the Root Mean Squared Error\n",
        "print(\"Root Mean Squared Error: %.2f\" % rmse)"
      ],
      "execution_count": 109,
      "outputs": [
        {
          "output_type": "stream",
          "text": [
            "Root Mean Squared Error: 3.89\n"
          ],
          "name": "stdout"
        }
      ]
    },
    {
      "cell_type": "code",
      "metadata": {
        "id": "bNt3i7O3DiHn",
        "outputId": "997fb3f8-cd49-4ffb-a8df-5485dd2b12ff",
        "colab": {
          "base_uri": "https://localhost:8080/"
        }
      },
      "source": [
        "## Compute R-squared evaluation metric for our test dataset\n",
        "\n",
        "r2 = regEval.evaluate(predictionsLR, {regEval.metricName: \"r2\"})\n",
        "\n",
        "# Print R-squard\n",
        "print(\"r2: {0:.2f}\".format(r2))"
      ],
      "execution_count": 110,
      "outputs": [
        {
          "output_type": "stream",
          "text": [
            "r2: 0.39\n"
          ],
          "name": "stdout"
        }
      ]
    },
    {
      "cell_type": "markdown",
      "metadata": {
        "id": "tALWfJ9w29bf"
      },
      "source": [
        "### Parameter Tuning and Evaluation"
      ]
    },
    {
      "cell_type": "code",
      "metadata": {
        "id": "-6VStMZb3DMx",
        "outputId": "578816f1-0131-428e-d420-65210b139966",
        "colab": {
          "base_uri": "https://localhost:8080/",
          "height": 426
        }
      },
      "source": [
        "## Use paramater tuning to try to create a better linear regression model\n",
        "\n",
        "# We can reuse the RegressionEvaluator, regEval, to judge the model based on the best Root Mean Squared Error\n",
        "# Let's create our CrossValidator with 3 fold cross validation\n",
        "crossval = CrossValidator(estimator=lrPipeline, evaluator=regEval, numFolds=3)\n",
        "\n",
        "# Tune over our regularization parameter from 0.01 to 0.10\n",
        "regParam = [x / 100.0 for x in range(1, 11)]\n",
        "\n",
        "# Create a paramter grid using the ParamGridBuilder,\n",
        "# and add the grid to the CrossValidator\n",
        "paramGrid = (ParamGridBuilder()\n",
        "             .addGrid(lr.regParam, regParam)\n",
        "             .build())\n",
        "crossval.setEstimatorParamMaps(paramGrid)\n",
        "\n",
        "# Find and return the best model\n",
        "cvModel = crossval.fit(trainingSetDF).bestModel"
      ],
      "execution_count": 111,
      "outputs": [
        {
          "output_type": "error",
          "ename": "KeyboardInterrupt",
          "evalue": "ignored",
          "traceback": [
            "\u001b[0;31m---------------------------------------------------------------------------\u001b[0m",
            "\u001b[0;31mIndexError\u001b[0m                                Traceback (most recent call last)",
            "\u001b[0;32m/usr/lib/python3.6/multiprocessing/pool.py\u001b[0m in \u001b[0;36mnext\u001b[0;34m(self, timeout)\u001b[0m\n\u001b[1;32m    719\u001b[0m             \u001b[0;32mtry\u001b[0m\u001b[0;34m:\u001b[0m\u001b[0;34m\u001b[0m\u001b[0;34m\u001b[0m\u001b[0m\n\u001b[0;32m--> 720\u001b[0;31m                 \u001b[0mitem\u001b[0m \u001b[0;34m=\u001b[0m \u001b[0mself\u001b[0m\u001b[0;34m.\u001b[0m\u001b[0m_items\u001b[0m\u001b[0;34m.\u001b[0m\u001b[0mpopleft\u001b[0m\u001b[0;34m(\u001b[0m\u001b[0;34m)\u001b[0m\u001b[0;34m\u001b[0m\u001b[0;34m\u001b[0m\u001b[0m\n\u001b[0m\u001b[1;32m    721\u001b[0m             \u001b[0;32mexcept\u001b[0m \u001b[0mIndexError\u001b[0m\u001b[0;34m:\u001b[0m\u001b[0;34m\u001b[0m\u001b[0;34m\u001b[0m\u001b[0m\n",
            "\u001b[0;31mIndexError\u001b[0m: pop from an empty deque",
            "\nDuring handling of the above exception, another exception occurred:\n",
            "\u001b[0;31mKeyboardInterrupt\u001b[0m                         Traceback (most recent call last)",
            "\u001b[0;32m<ipython-input-111-6f98e4bfa7cf>\u001b[0m in \u001b[0;36m<module>\u001b[0;34m()\u001b[0m\n\u001b[1;32m     16\u001b[0m \u001b[0;34m\u001b[0m\u001b[0m\n\u001b[1;32m     17\u001b[0m \u001b[0;31m# Find and return the best model\u001b[0m\u001b[0;34m\u001b[0m\u001b[0;34m\u001b[0m\u001b[0;34m\u001b[0m\u001b[0m\n\u001b[0;32m---> 18\u001b[0;31m \u001b[0mcvModel\u001b[0m \u001b[0;34m=\u001b[0m \u001b[0mcrossval\u001b[0m\u001b[0;34m.\u001b[0m\u001b[0mfit\u001b[0m\u001b[0;34m(\u001b[0m\u001b[0mtrainingSetDF\u001b[0m\u001b[0;34m)\u001b[0m\u001b[0;34m.\u001b[0m\u001b[0mbestModel\u001b[0m\u001b[0;34m\u001b[0m\u001b[0;34m\u001b[0m\u001b[0m\n\u001b[0m",
            "\u001b[0;32m/content/spark-2.4.7-bin-hadoop2.7/python/pyspark/ml/base.py\u001b[0m in \u001b[0;36mfit\u001b[0;34m(self, dataset, params)\u001b[0m\n\u001b[1;32m    130\u001b[0m                 \u001b[0;32mreturn\u001b[0m \u001b[0mself\u001b[0m\u001b[0;34m.\u001b[0m\u001b[0mcopy\u001b[0m\u001b[0;34m(\u001b[0m\u001b[0mparams\u001b[0m\u001b[0;34m)\u001b[0m\u001b[0;34m.\u001b[0m\u001b[0m_fit\u001b[0m\u001b[0;34m(\u001b[0m\u001b[0mdataset\u001b[0m\u001b[0;34m)\u001b[0m\u001b[0;34m\u001b[0m\u001b[0;34m\u001b[0m\u001b[0m\n\u001b[1;32m    131\u001b[0m             \u001b[0;32melse\u001b[0m\u001b[0;34m:\u001b[0m\u001b[0;34m\u001b[0m\u001b[0;34m\u001b[0m\u001b[0m\n\u001b[0;32m--> 132\u001b[0;31m                 \u001b[0;32mreturn\u001b[0m \u001b[0mself\u001b[0m\u001b[0;34m.\u001b[0m\u001b[0m_fit\u001b[0m\u001b[0;34m(\u001b[0m\u001b[0mdataset\u001b[0m\u001b[0;34m)\u001b[0m\u001b[0;34m\u001b[0m\u001b[0;34m\u001b[0m\u001b[0m\n\u001b[0m\u001b[1;32m    133\u001b[0m         \u001b[0;32melse\u001b[0m\u001b[0;34m:\u001b[0m\u001b[0;34m\u001b[0m\u001b[0;34m\u001b[0m\u001b[0m\n\u001b[1;32m    134\u001b[0m             raise ValueError(\"Params must be either a param map or a list/tuple of param maps, \"\n",
            "\u001b[0;32m/content/spark-2.4.7-bin-hadoop2.7/python/pyspark/ml/tuning.py\u001b[0m in \u001b[0;36m_fit\u001b[0;34m(self, dataset)\u001b[0m\n\u001b[1;32m    302\u001b[0m \u001b[0;34m\u001b[0m\u001b[0m\n\u001b[1;32m    303\u001b[0m             \u001b[0mtasks\u001b[0m \u001b[0;34m=\u001b[0m \u001b[0m_parallelFitTasks\u001b[0m\u001b[0;34m(\u001b[0m\u001b[0mest\u001b[0m\u001b[0;34m,\u001b[0m \u001b[0mtrain\u001b[0m\u001b[0;34m,\u001b[0m \u001b[0meva\u001b[0m\u001b[0;34m,\u001b[0m \u001b[0mvalidation\u001b[0m\u001b[0;34m,\u001b[0m \u001b[0mepm\u001b[0m\u001b[0;34m,\u001b[0m \u001b[0mcollectSubModelsParam\u001b[0m\u001b[0;34m)\u001b[0m\u001b[0;34m\u001b[0m\u001b[0;34m\u001b[0m\u001b[0m\n\u001b[0;32m--> 304\u001b[0;31m             \u001b[0;32mfor\u001b[0m \u001b[0mj\u001b[0m\u001b[0;34m,\u001b[0m \u001b[0mmetric\u001b[0m\u001b[0;34m,\u001b[0m \u001b[0msubModel\u001b[0m \u001b[0;32min\u001b[0m \u001b[0mpool\u001b[0m\u001b[0;34m.\u001b[0m\u001b[0mimap_unordered\u001b[0m\u001b[0;34m(\u001b[0m\u001b[0;32mlambda\u001b[0m \u001b[0mf\u001b[0m\u001b[0;34m:\u001b[0m \u001b[0mf\u001b[0m\u001b[0;34m(\u001b[0m\u001b[0;34m)\u001b[0m\u001b[0;34m,\u001b[0m \u001b[0mtasks\u001b[0m\u001b[0;34m)\u001b[0m\u001b[0;34m:\u001b[0m\u001b[0;34m\u001b[0m\u001b[0;34m\u001b[0m\u001b[0m\n\u001b[0m\u001b[1;32m    305\u001b[0m                 \u001b[0mmetrics\u001b[0m\u001b[0;34m[\u001b[0m\u001b[0mj\u001b[0m\u001b[0;34m]\u001b[0m \u001b[0;34m+=\u001b[0m \u001b[0;34m(\u001b[0m\u001b[0mmetric\u001b[0m \u001b[0;34m/\u001b[0m \u001b[0mnFolds\u001b[0m\u001b[0;34m)\u001b[0m\u001b[0;34m\u001b[0m\u001b[0;34m\u001b[0m\u001b[0m\n\u001b[1;32m    306\u001b[0m                 \u001b[0;32mif\u001b[0m \u001b[0mcollectSubModelsParam\u001b[0m\u001b[0;34m:\u001b[0m\u001b[0;34m\u001b[0m\u001b[0;34m\u001b[0m\u001b[0m\n",
            "\u001b[0;32m/usr/lib/python3.6/multiprocessing/pool.py\u001b[0m in \u001b[0;36mnext\u001b[0;34m(self, timeout)\u001b[0m\n\u001b[1;32m    722\u001b[0m                 \u001b[0;32mif\u001b[0m \u001b[0mself\u001b[0m\u001b[0;34m.\u001b[0m\u001b[0m_index\u001b[0m \u001b[0;34m==\u001b[0m \u001b[0mself\u001b[0m\u001b[0;34m.\u001b[0m\u001b[0m_length\u001b[0m\u001b[0;34m:\u001b[0m\u001b[0;34m\u001b[0m\u001b[0;34m\u001b[0m\u001b[0m\n\u001b[1;32m    723\u001b[0m                     \u001b[0;32mraise\u001b[0m \u001b[0mStopIteration\u001b[0m\u001b[0;34m\u001b[0m\u001b[0;34m\u001b[0m\u001b[0m\n\u001b[0;32m--> 724\u001b[0;31m                 \u001b[0mself\u001b[0m\u001b[0;34m.\u001b[0m\u001b[0m_cond\u001b[0m\u001b[0;34m.\u001b[0m\u001b[0mwait\u001b[0m\u001b[0;34m(\u001b[0m\u001b[0mtimeout\u001b[0m\u001b[0;34m)\u001b[0m\u001b[0;34m\u001b[0m\u001b[0;34m\u001b[0m\u001b[0m\n\u001b[0m\u001b[1;32m    725\u001b[0m                 \u001b[0;32mtry\u001b[0m\u001b[0;34m:\u001b[0m\u001b[0;34m\u001b[0m\u001b[0;34m\u001b[0m\u001b[0m\n\u001b[1;32m    726\u001b[0m                     \u001b[0mitem\u001b[0m \u001b[0;34m=\u001b[0m \u001b[0mself\u001b[0m\u001b[0;34m.\u001b[0m\u001b[0m_items\u001b[0m\u001b[0;34m.\u001b[0m\u001b[0mpopleft\u001b[0m\u001b[0;34m(\u001b[0m\u001b[0;34m)\u001b[0m\u001b[0;34m\u001b[0m\u001b[0;34m\u001b[0m\u001b[0m\n",
            "\u001b[0;32m/usr/lib/python3.6/threading.py\u001b[0m in \u001b[0;36mwait\u001b[0;34m(self, timeout)\u001b[0m\n\u001b[1;32m    293\u001b[0m         \u001b[0;32mtry\u001b[0m\u001b[0;34m:\u001b[0m    \u001b[0;31m# restore state no matter what (e.g., KeyboardInterrupt)\u001b[0m\u001b[0;34m\u001b[0m\u001b[0;34m\u001b[0m\u001b[0m\n\u001b[1;32m    294\u001b[0m             \u001b[0;32mif\u001b[0m \u001b[0mtimeout\u001b[0m \u001b[0;32mis\u001b[0m \u001b[0;32mNone\u001b[0m\u001b[0;34m:\u001b[0m\u001b[0;34m\u001b[0m\u001b[0;34m\u001b[0m\u001b[0m\n\u001b[0;32m--> 295\u001b[0;31m                 \u001b[0mwaiter\u001b[0m\u001b[0;34m.\u001b[0m\u001b[0macquire\u001b[0m\u001b[0;34m(\u001b[0m\u001b[0;34m)\u001b[0m\u001b[0;34m\u001b[0m\u001b[0;34m\u001b[0m\u001b[0m\n\u001b[0m\u001b[1;32m    296\u001b[0m                 \u001b[0mgotit\u001b[0m \u001b[0;34m=\u001b[0m \u001b[0;32mTrue\u001b[0m\u001b[0;34m\u001b[0m\u001b[0;34m\u001b[0m\u001b[0m\n\u001b[1;32m    297\u001b[0m             \u001b[0;32melse\u001b[0m\u001b[0;34m:\u001b[0m\u001b[0;34m\u001b[0m\u001b[0;34m\u001b[0m\u001b[0m\n",
            "\u001b[0;31mKeyboardInterrupt\u001b[0m: "
          ]
        }
      ]
    },
    {
      "cell_type": "code",
      "metadata": {
        "id": "3Gixa0vq6PGK"
      },
      "source": [
        "## Evaluate the new tuned model by comparing it to the default linear regression\n",
        "\n",
        "# Use cvModel to compute an evaluation metric for our test dataset: testSetDF\n",
        "predictionsRL = cvModel.transform(testSetDF).select(inputColNames+[labelColName]+[predictionColName])\n",
        "\n",
        "# Run the previously created RMSE evaluator, regEval, on the predictionsAndLabelsDF DataFrame\n",
        "rmseLR = regEval.evaluate(predictionsRL)\n",
        "\n",
        "# Compute the r2 evaluation metric for our test dataset\n",
        "r2LR = regEval.evaluate(predictionsRL, {regEval.metricName: \"r2\"})\n",
        "\n",
        "# Printing the rounded values to compare the 2 linear regression models.\n",
        "print(\"Original Root Mean Squared Error: {0:2.2f}\".format(rmse))\n",
        "print(\"New Root Mean Squared Error: {0:2.2f}\".format(rmseLR))\n",
        "print(\"Old r2: {0:2.2f}\".format(r2))\n",
        "print(\"New r2: {0:2.2f}\".format(r2LR))\n",
        "\n",
        "# Printing unrounded values for better testing purpose\n",
        "print(\"\\r\\n\",\"Un-rouned values printed above in same order:\\r\\n\",rmse,rmseLR,r2,r2LR)"
      ],
      "execution_count": null,
      "outputs": []
    },
    {
      "cell_type": "markdown",
      "metadata": {
        "id": "CClquqzcs9lM"
      },
      "source": [
        "# Visualization"
      ]
    },
    {
      "cell_type": "markdown",
      "metadata": {
        "id": "2N0JNXWVtI8Q"
      },
      "source": [
        "## Plotting sample of dataset against 1 column"
      ]
    },
    {
      "cell_type": "code",
      "metadata": {
        "id": "M9FkzfxCvcFR"
      },
      "source": [
        "## Copy of setting the correct columns to allow easier plotting\n",
        "\n",
        "### CHANGE inputColNames (list of x) AND LabelColName (y) TO CREATE THE\n",
        "### DESIRED PLOTS. # ONLY 10 x VALUES CAN BE ENTERED AT A TIME\n",
        "\n",
        "inputColNames = ['Protein preperiod (kg)','Fat preperiod (kg)','Crude fat (g/kg dm)','Protein%','Protein% preperiod','Fat%','Fat% preperiod']\n",
        "#inputColNames = doubleColumns[0:10]\n",
        "\n",
        "labelColName = \"Milk yield (kg)\"\n",
        "predictionColName = \"Predicted \" + labelColName\n",
        "\n",
        "# Removing the label column from the input column if it ended in there on accident\n",
        "if labelColName in inputColNames: inputColNames.remove(labelColName)\n",
        "\n",
        "# Drop empty values (otherwise it can't work with the data)\n",
        "# WE MIGHT NEED TO FIND AN ALTERNATIVE TO DROPPING ANY ROW WITH BLANKS!\n",
        "# CURRENTLY EXPERIMENTING WITH NOT DROPPING NA FOR THE PLOTTING\n",
        "#milk_rdd3 = milk_rdd2.dropna(how='any', subset=inputColNames+[labelColName])\n",
        "milk_rdd3 = milk_rdd2.select(inputColNames+[labelColName])"
      ],
      "execution_count": null,
      "outputs": []
    },
    {
      "cell_type": "code",
      "metadata": {
        "id": "XOSmSbuQtdAD"
      },
      "source": [
        "## Plotting the columns versus the labelcolumn to get inital idea of linear regression\n",
        "\n",
        "### Trying to plot more than 10 plots at the same time results in empty plots ###\n",
        "\n",
        "milk_rdd3_sample = milk_rdd3.select(inputColNames+[labelColName]).sample(False,0.5)\n",
        "#print(milk_rdd3_sample)\n",
        "sns.set(rc={'figure.figsize':(10,10)})\n",
        "\n",
        "for column in inputColNames:\n",
        "  plt.figure()\n",
        "  sns.lmplot(x=column, y=labelColName,data=milk_rdd3_sample.toPandas())\n",
        "  plt.title(labelColName+\" vs \"+column)\n",
        "  plt.xlabel(column)\n",
        "  plt.ylabel(labelColName)"
      ],
      "execution_count": null,
      "outputs": []
    },
    {
      "cell_type": "code",
      "metadata": {
        "id": "8fWEGG8IflSz"
      },
      "source": [
        "milk_rdd2.show(5)\n",
        "milk_rdd2_sample = milk_rdd2.sample(False,0.1)"
      ],
      "execution_count": null,
      "outputs": []
    },
    {
      "cell_type": "code",
      "metadata": {
        "id": "vxqU8omrpkpD"
      },
      "source": [
        "milk_rdd3_plus = milk_rdd3."
      ],
      "execution_count": null,
      "outputs": []
    },
    {
      "cell_type": "code",
      "metadata": {
        "id": "GdCzPUZrgFc1"
      },
      "source": [
        "sns.lmplot(x=\"Day number\", y=\"Milk yield (kg)\", hue=\"Treatment\", data=milk_rdd2_sample.toPandas(),height=10);\n",
        "\n",
        "sns.lmplot(x=\"Day number\", y=\"Milk yield (kg)\", hue=\"Treatment\", data=milk_rdd2_sample.filter(psf.col(\"Period (VP = preperiod, HP = trial period)\")==\"HP\").toPandas(),height=10);\n"
      ],
      "execution_count": null,
      "outputs": []
    }
  ]
}