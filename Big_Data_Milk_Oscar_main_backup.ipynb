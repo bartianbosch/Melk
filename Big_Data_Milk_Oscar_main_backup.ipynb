{
  "nbformat": 4,
  "nbformat_minor": 0,
  "metadata": {
    "colab": {
      "name": "Big Data Milk.ipynb",
      "provenance": [],
      "collapsed_sections": [],
      "include_colab_link": true
    },
    "kernelspec": {
      "name": "python3",
      "display_name": "Python 3"
    }
  },
  "cells": [
    {
      "cell_type": "markdown",
      "metadata": {
        "id": "view-in-github",
        "colab_type": "text"
      },
      "source": [
        "<a href=\"https://colab.research.google.com/github/bartianbosch/Melk/blob/Oscar/Big_Data_Milk_Oscar_main_backup.ipynb\" target=\"_parent\"><img src=\"https://colab.research.google.com/assets/colab-badge.svg\" alt=\"Open In Colab\"/></a>"
      ]
    },
    {
      "cell_type": "markdown",
      "metadata": {
        "id": "zSVRLt9dJyKM"
      },
      "source": [
        "Big Data Groupwork Milk\n"
      ]
    },
    {
      "cell_type": "code",
      "metadata": {
        "id": "o3LZGS6nWtSx",
        "colab": {
          "base_uri": "https://localhost:8080/"
        },
        "outputId": "9dc911ac-097a-4319-8041-fa0ddba8a434"
      },
      "source": [
        "## To download and update the necessary requirements initialize Apache Spark, run this cell\n",
        "!apt-get update\n",
        "!apt-get install openjdk-8-jdk-headless -qq > /dev/null\n",
        "!wget -q http://downloads.apache.org/spark/spark-2.4.7/spark-2.4.7-bin-hadoop2.7.tgz\n",
        "!tar xf spark-2.4.7-bin-hadoop2.7.tgz\n",
        "!pip install -q findspark\n",
        "\n",
        "import os\n",
        "os.environ[\"JAVA_HOME\"] = \"/usr/lib/jvm/java-8-openjdk-amd64\"\n",
        "os.environ[\"SPARK_HOME\"] = \"/content/spark-2.4.7-bin-hadoop2.7\"\n",
        "\n",
        "import findspark\n",
        "findspark.init()\n",
        "from pyspark.sql import SparkSession\n",
        "sp = SparkSession.builder.master(\"local[*]\").getOrCreate()\n",
        "\n",
        "from pyspark import SparkContext\n",
        "from pyspark.sql import SparkSession\n",
        "sc = SparkContext.getOrCreate()\n",
        "spark = SparkSession.builder.getOrCreate()\n",
        "\n",
        "from pyspark.sql import SQLContext\n",
        "sqlContext = SQLContext(sc)\n",
        "\n",
        "# Added our own necessary imports \n",
        "import seaborn as sns\n",
        "\n",
        "from pyspark import SparkFiles\n",
        "\n",
        "import pandas as pd\n",
        "import matplotlib.pyplot as plt\n",
        "plt.close('all')\n",
        "plt.rcParams['figure.figsize'] = [30, 20]\n",
        "\n",
        "from pyspark.sql import types, Window\n",
        "from pyspark.sql import functions as psf\n",
        "from pyspark.sql.functions import col, unix_timestamp, to_date\n",
        "from pyspark.ml.feature import VectorAssembler, StringIndexer, OneHotEncoderEstimator\n",
        "\n",
        "from pyspark.ml import Pipeline\n",
        "\n",
        "from pyspark.ml.regression import LinearRegression, LinearRegressionModel\n",
        "\n",
        "from pyspark.ml.evaluation import RegressionEvaluator\n",
        "\n",
        "from pyspark.ml.tuning import ParamGridBuilder, CrossValidator\n",
        "\n",
        "import sys\n",
        "\n",
        "\n",
        "# Mounting drive\n",
        "from google.colab import drive, files\n",
        "#drive.mount('/content/gdrive/')"
      ],
      "execution_count": null,
      "outputs": [
        {
          "output_type": "stream",
          "text": [
            "Hit:1 https://cloud.r-project.org/bin/linux/ubuntu bionic-cran40/ InRelease\n",
            "Ign:2 https://developer.download.nvidia.com/compute/cuda/repos/ubuntu1804/x86_64  InRelease\n",
            "Ign:3 https://developer.download.nvidia.com/compute/machine-learning/repos/ubuntu1804/x86_64  InRelease\n",
            "Hit:4 https://developer.download.nvidia.com/compute/cuda/repos/ubuntu1804/x86_64  Release\n",
            "Hit:5 https://developer.download.nvidia.com/compute/machine-learning/repos/ubuntu1804/x86_64  Release\n",
            "Hit:6 http://security.ubuntu.com/ubuntu bionic-security InRelease\n",
            "Hit:8 http://archive.ubuntu.com/ubuntu bionic InRelease\n",
            "Hit:9 http://ppa.launchpad.net/c2d4u.team/c2d4u4.0+/ubuntu bionic InRelease\n",
            "Hit:11 http://archive.ubuntu.com/ubuntu bionic-updates InRelease\n",
            "Hit:12 http://archive.ubuntu.com/ubuntu bionic-backports InRelease\n",
            "Hit:13 http://ppa.launchpad.net/graphics-drivers/ppa/ubuntu bionic InRelease\n",
            "Reading package lists... Done\n"
          ],
          "name": "stdout"
        }
      ]
    },
    {
      "cell_type": "markdown",
      "metadata": {
        "id": "BMSmDG4GLso4"
      },
      "source": [
        "Loading the data into a DF\n"
      ]
    },
    {
      "cell_type": "code",
      "metadata": {
        "colab": {
          "base_uri": "https://localhost:8080/"
        },
        "id": "5eQ2_oU-GC_1",
        "outputId": "c0750ea6-d937-4702-aac5-78d50e923efb"
      },
      "source": [
        "## Loading the data\n",
        "\n",
        "fileName = 'ff_dairy_v1.csv'\n",
        "if not os.path.isfile(fileName):\n",
        "  uploaded = files.upload()\n",
        "\n",
        "# Prepare and load the file into a spark rdd\n",
        "spark.sparkContext.addFile(fileName)\n",
        "milk_rdd = spark.read.csv(SparkFiles.get(fileName), header=True)\n",
        "milk_rdd = milk_rdd.repartitionByRange(\"Cow number\")\n",
        "print(\"Number of partitions: \", milk_rdd.rdd.getNumPartitions())\n",
        "\n",
        "# Also load the data to a pandas table, just in case we need it for testing.\n",
        "milk_pd=pd.read_csv(fileName, encoding='latin1')"
      ],
      "execution_count": null,
      "outputs": [
        {
          "output_type": "stream",
          "text": [
            "Number of partitions:  101\n"
          ],
          "name": "stdout"
        }
      ]
    },
    {
      "cell_type": "code",
      "metadata": {
        "id": "fDwnD2s2W-H-"
      },
      "source": [
        "# To check spark rdd, uncomment the following line:\n",
        "#milk_rdd.show(5)"
      ],
      "execution_count": null,
      "outputs": []
    },
    {
      "cell_type": "code",
      "metadata": {
        "id": "vFz1OVe9gzl-"
      },
      "source": [
        "# To check pandas dataframe, uncomment the following line:\n",
        "#milk_pd"
      ],
      "execution_count": null,
      "outputs": []
    },
    {
      "cell_type": "markdown",
      "metadata": {
        "id": "iCd12fxv0q5P"
      },
      "source": [
        "\n",
        "\n",
        "---\n",
        "\n",
        "\n",
        "## Creating a Machine Learning Model"
      ]
    },
    {
      "cell_type": "markdown",
      "metadata": {
        "id": "pMloXHglEdhH"
      },
      "source": [
        "### Data Preparation"
      ]
    },
    {
      "cell_type": "code",
      "metadata": {
        "id": "nsBJhDIZRAEg"
      },
      "source": [
        "## Renaming the columns with the unusable characters\n",
        "\n",
        "newColumnNames = list(map(lambda x: x.replace(\".\",\"\").replace(\"�C\",\"degC\").replace(\"�I\",\"plusI\"), milk_rdd.columns))\n",
        "\n",
        "milk_rdd2 = milk_rdd.toDF(*newColumnNames)"
      ],
      "execution_count": null,
      "outputs": []
    },
    {
      "cell_type": "code",
      "metadata": {
        "id": "bgm-WDfsu1Yz"
      },
      "source": [
        "## Fixing the RDD columns datatypes\n",
        "\n",
        "# We need to change the datatype of each column in the rdd, to be able to\n",
        "# process it correctly.\n",
        "\n",
        "# Creating a function to set the given columns to the given datatype.\n",
        "def fixType(datasetName, colName, dataType):\n",
        "  \"\"\"Takes a dataset and returns the dataset with the given column set to the given dataype\"\"\"\n",
        "  return datasetName.withColumn(colName, psf.col(colName).cast(dataType))\n",
        "\n",
        "# Preparing Lists with the column names according to which type they need to be.\n",
        "allColumns = ['Cow number', 'Date', 'Barn', 'Barn part', 'Treatment', 'Lactation number', 'Days in milk', 'Day number', 'Week', 'Period (VP = preperiod, HP = trial period)', 'Period part (VP = preperiod, HP = trial period)', 'Intake basal ration (kg dm)', 'Intake total ration (kg dm)', 'Water intake (kg)', 'Concentrate intake (kg)', 'Weight (kg)', 'BCS', 'Backfat Thickness', 'Milk yield (kg)', 'Fat%', 'Protein%', 'Urea (mg/kg)', 'SCC (*1000/ml)', 'Lactose%', 'Avg Temperature (degC)', 'Air speed', 'Max temperature (degC)', 'Rumination time (min/day)', 'Avg pH', 'Avg Rumen Temperature ', 'Time pH<5,8 (h)', 'Manure consistency (1=fluid, 5= hard)', 'Manure fibre score (1=short, 5 = long)', 'Number of kernels', 'Manure sieving residu (%)', 'Manure dm (g/kg OM)', 'Manure starch (g/kg dm)', 'Urin-pH', 'Intake pre-period (kg dm)', 'Milk yield prepreriod (kg)', 'Fat% preperiod', 'Protein% preperiod', 'Fat preperiod (kg)', 'Protein preperiod (kg)', 'ECM preperiod (kg)', 'ECM (kg)', 'Crude fiber (g/day)', 'Sugar (g/day)', 'Crude protein (g/day)', 'Crude fat (g/day)', 'Starch (g/day)', 'Ca (g/day)', 'P (g/day)', 'Na (g/day)', 'Cl (g/day)', 'K (g/day)', 'Mg (g/day)', 'nXP (g/day)', 'RNB (g/day)', 'MELK (g/day)', 'NEL (g/day)', 'WDE (g/day)', 'EKB (g/day)', 'WDS (g/day)', 'SPK (g/day)', 'TPK (g/day)', 'SPE (g/day)', 'TPE (g/day)', 'plusI (/day)', 'WI (/day)', 'GP (g/day)', 'Crude fiber (g/kg dm)', 'Sugar (g/kg dm)', 'Crude protein (g/kg dm)', 'Crude fat (g/kg dm)', 'Starch (g/kg dm)', 'Ca (g/kg dm)', 'P (g/kg dm)', 'Na (g/kg dm)', 'Cl (g/kg dm)', 'K (g/kg dm)', 'Mg (g/kg dm)', 'nXP (g/kg dm)', 'RNB (g/kg dm)', 'MELK (/kg dm)', 'NEL (MJ/kg dm)', 'WDE (g/kg dm)', 'EKB (g/kg dm)', 'WDS (g/kg dm)', 'SPK (g/kg dm)', 'TPK (g/kg dm)', 'SPE (g/kg dm)', 'TPE (g/kg dm)', 'plusI (/kg dm)', 'WI (/kg dm)', 'GP (g/kg dm)']\n",
        "doubleColumns = ['Intake basal ration (kg dm)', 'Intake total ration (kg dm)', 'Water intake (kg)', 'Concentrate intake (kg)', 'Weight (kg)', 'BCS', 'Milk yield (kg)', 'Fat%', 'Protein%', 'Lactose%', 'Avg Temperature (degC)', 'Air speed', 'Max temperature (degC)', 'Avg pH', 'Avg Rumen Temperature ', 'Time pH<5,8 (h)', 'Number of kernels', 'Manure sieving residu (%)', 'Manure starch (g/kg dm)', 'Urin-pH', 'Intake pre-period (kg dm)', 'Milk yield prepreriod (kg)', 'Fat% preperiod', 'Protein% preperiod', 'Fat preperiod (kg)', 'Protein preperiod (kg)', 'ECM preperiod (kg)', 'ECM (kg)']\n",
        "intColumns = ['Cow number', 'Barn', 'Barn part', 'Lactation number', 'Days in milk', 'Day number', 'Week', 'Backfat Thickness', 'Urea (mg/kg)', 'SCC (*1000/ml)', 'Rumination time (min/day)', 'Manure consistency (1=fluid, 5= hard)', 'Manure fibre score (1=short, 5 = long)', 'Manure dm (g/kg OM)', 'Crude fiber (g/day)', 'Sugar (g/day)', 'Crude protein (g/day)', 'Crude fat (g/day)', 'Starch (g/day)', 'Ca (g/day)', 'P (g/day)', 'Na (g/day)', 'Cl (g/day)', 'K (g/day)', 'Mg (g/day)', 'nXP (g/day)', 'RNB (g/day)', 'MELK (g/day)', 'NEL (g/day)', 'WDE (g/day)', 'EKB (g/day)', 'WDS (g/day)', 'SPK (g/day)', 'TPK (g/day)', 'SPE (g/day)', 'TPE (g/day)', 'plusI (/day)', 'WI (/day)', 'GP (g/day)', 'Crude fiber (g/kg dm)', 'Sugar (g/kg dm)', 'Crude protein (g/kg dm)', 'Crude fat (g/kg dm)', 'Starch (g/kg dm)', 'Ca (g/kg dm)', 'P (g/kg dm)', 'Na (g/kg dm)', 'Cl (g/kg dm)', 'K (g/kg dm)', 'Mg (g/kg dm)', 'nXP (g/kg dm)', 'RNB (g/kg dm)', 'MELK (/kg dm)', 'NEL (MJ/kg dm)', 'WDE (g/kg dm)', 'EKB (g/kg dm)', 'WDS (g/kg dm)', 'SPK (g/kg dm)', 'TPK (g/kg dm)', 'SPE (g/kg dm)', 'TPE (g/kg dm)', 'plusI (/kg dm)', 'WI (/kg dm)', 'GP (g/kg dm)']\n",
        "stringColumn = ['Treatment', 'Period (VP = preperiod, HP = trial period)', 'Period part (VP = preperiod, HP = trial period)']\n",
        "\n",
        "\n",
        "# Setting the columns to the correct type\n",
        "for colName in doubleColumns:\n",
        "  milk_rdd2 = fixType(milk_rdd2, colName, \"double\")\n",
        "for colName in intColumns:\n",
        "  milk_rdd2 = fixType(milk_rdd2, colName, \"int\")\n",
        "#milk_rdd2 = milk_rdd2.withColumn(\"Date\", psf.col(\"Date\").cast(\"date\"))\n",
        "milk_rdd2 = milk_rdd2.withColumn(\"Date\",\n",
        "                                 to_date(unix_timestamp(col('Date'), 'dd/MM/yy').cast(\"timestamp\")))\n",
        "\n",
        "# Uncomment the next line to check the schema\n",
        "#milk_rdd2.printSchema()\n"
      ],
      "execution_count": null,
      "outputs": []
    },
    {
      "cell_type": "code",
      "metadata": {
        "id": "AM5UfQQx0qbE",
        "colab": {
          "base_uri": "https://localhost:8080/"
        },
        "outputId": "11e35b8f-7b2f-4bab-daac-e04878bd2c2e"
      },
      "source": [
        "## Create the vectorizer that adds the features column needed to run the machine learning pipeline\n",
        "\n",
        "### To change on which columns the LR model is build you only need to change ###\n",
        "### the 2 variables: inputColNames and labelColName ###\n",
        "\n",
        "# Columns that should not be in the linear regression model\n",
        "doNotInput = ['Cow number', 'Date', 'Barn', 'Barn part']\n",
        "\n",
        "# Columns used as input for the LR model. Previously used are comented for ease of testing.\n",
        "#inputColNames = ['Protein preperiod (kg)','Crude fat (g/kg dm)','Protein%','Protein% preperiod','Fat%','Fat% preperiod']\n",
        "#inputColNames = ['Water intake (kg)','Fat%', 'Protein%', 'Lactose%','Urea (mg/kg)', 'SCC (*1000/ml)']\n",
        "#inputColNames = doubleColumns[0:10]\n",
        "#inputColNames = intColumns\n",
        "inputColNames = doubleColumns + intColumns + [f'{col}_encoded' for col in stringColumn]\n",
        "#inputColNames = [x for x in allColumns if x not in doNotInput]\n",
        "\n",
        "\n",
        "print(inputColNames)\n",
        "\n",
        "# The name of the column which value you want to predict.\n",
        "labelColName = \"Milk yield (kg)\"\n",
        "\n",
        "# Generating the name column which will be filled with the predicted values.\n",
        "predictionColName = \"Predicted \" + labelColName\n",
        "\n",
        "# Removing the label column from the input column if it ended in there on accident\n",
        "if labelColName in inputColNames: inputColNames.remove(labelColName)\n"
      ],
      "execution_count": null,
      "outputs": [
        {
          "output_type": "stream",
          "text": [
            "['Intake basal ration (kg dm)', 'Intake total ration (kg dm)', 'Water intake (kg)', 'Concentrate intake (kg)', 'Weight (kg)', 'BCS', 'Milk yield (kg)', 'Fat%', 'Protein%', 'Lactose%', 'Avg Temperature (degC)', 'Air speed', 'Max temperature (degC)', 'Avg pH', 'Avg Rumen Temperature ', 'Time pH<5,8 (h)', 'Number of kernels', 'Manure sieving residu (%)', 'Manure starch (g/kg dm)', 'Urin-pH', 'Intake pre-period (kg dm)', 'Milk yield prepreriod (kg)', 'Fat% preperiod', 'Protein% preperiod', 'Fat preperiod (kg)', 'Protein preperiod (kg)', 'ECM preperiod (kg)', 'ECM (kg)', 'Cow number', 'Barn', 'Barn part', 'Lactation number', 'Days in milk', 'Day number', 'Week', 'Backfat Thickness', 'Urea (mg/kg)', 'SCC (*1000/ml)', 'Rumination time (min/day)', 'Manure consistency (1=fluid, 5= hard)', 'Manure fibre score (1=short, 5 = long)', 'Manure dm (g/kg OM)', 'Crude fiber (g/day)', 'Sugar (g/day)', 'Crude protein (g/day)', 'Crude fat (g/day)', 'Starch (g/day)', 'Ca (g/day)', 'P (g/day)', 'Na (g/day)', 'Cl (g/day)', 'K (g/day)', 'Mg (g/day)', 'nXP (g/day)', 'RNB (g/day)', 'MELK (g/day)', 'NEL (g/day)', 'WDE (g/day)', 'EKB (g/day)', 'WDS (g/day)', 'SPK (g/day)', 'TPK (g/day)', 'SPE (g/day)', 'TPE (g/day)', 'plusI (/day)', 'WI (/day)', 'GP (g/day)', 'Crude fiber (g/kg dm)', 'Sugar (g/kg dm)', 'Crude protein (g/kg dm)', 'Crude fat (g/kg dm)', 'Starch (g/kg dm)', 'Ca (g/kg dm)', 'P (g/kg dm)', 'Na (g/kg dm)', 'Cl (g/kg dm)', 'K (g/kg dm)', 'Mg (g/kg dm)', 'nXP (g/kg dm)', 'RNB (g/kg dm)', 'MELK (/kg dm)', 'NEL (MJ/kg dm)', 'WDE (g/kg dm)', 'EKB (g/kg dm)', 'WDS (g/kg dm)', 'SPK (g/kg dm)', 'TPK (g/kg dm)', 'SPE (g/kg dm)', 'TPE (g/kg dm)', 'plusI (/kg dm)', 'WI (/kg dm)', 'GP (g/kg dm)', 'Treatment_encoded', 'Period (VP = preperiod, HP = trial period)_encoded', 'Period part (VP = preperiod, HP = trial period)_encoded']\n"
          ],
          "name": "stdout"
        }
      ]
    },
    {
      "cell_type": "code",
      "metadata": {
        "colab": {
          "base_uri": "https://localhost:8080/"
        },
        "id": "CNPiZnBtXHKd",
        "outputId": "c6b9edad-aa1f-490a-e34e-b16a8a3495c1"
      },
      "source": [
        "### TEMPORARY FIX, BECAUSE REMOVING NA MAKES ALL VP COLLUMNS DISSAPEAR WHICH GIVES ERRORS ###\n",
        "#inputColNames.remove('Period (VP = preperiod, HP = trial period)')\n",
        "#milk_rdd2 = milk_rdd2.drop('Period (VP = preperiod, HP = trial period)').collect()\n",
        "\n",
        "print(inputColNames)\n",
        "print(milk_rdd2)"
      ],
      "execution_count": null,
      "outputs": [
        {
          "output_type": "stream",
          "text": [
            "['Intake basal ration (kg dm)', 'Intake total ration (kg dm)', 'Water intake (kg)', 'Concentrate intake (kg)', 'Weight (kg)', 'BCS', 'Fat%', 'Protein%', 'Lactose%', 'Avg Temperature (degC)', 'Air speed', 'Max temperature (degC)', 'Avg pH', 'Avg Rumen Temperature ', 'Time pH<5,8 (h)', 'Number of kernels', 'Manure sieving residu (%)', 'Manure starch (g/kg dm)', 'Urin-pH', 'Intake pre-period (kg dm)', 'Milk yield prepreriod (kg)', 'Fat% preperiod', 'Protein% preperiod', 'Fat preperiod (kg)', 'Protein preperiod (kg)', 'ECM preperiod (kg)', 'ECM (kg)', 'Cow number', 'Barn', 'Barn part', 'Lactation number', 'Days in milk', 'Day number', 'Week', 'Backfat Thickness', 'Urea (mg/kg)', 'SCC (*1000/ml)', 'Rumination time (min/day)', 'Manure consistency (1=fluid, 5= hard)', 'Manure fibre score (1=short, 5 = long)', 'Manure dm (g/kg OM)', 'Crude fiber (g/day)', 'Sugar (g/day)', 'Crude protein (g/day)', 'Crude fat (g/day)', 'Starch (g/day)', 'Ca (g/day)', 'P (g/day)', 'Na (g/day)', 'Cl (g/day)', 'K (g/day)', 'Mg (g/day)', 'nXP (g/day)', 'RNB (g/day)', 'MELK (g/day)', 'NEL (g/day)', 'WDE (g/day)', 'EKB (g/day)', 'WDS (g/day)', 'SPK (g/day)', 'TPK (g/day)', 'SPE (g/day)', 'TPE (g/day)', 'plusI (/day)', 'WI (/day)', 'GP (g/day)', 'Crude fiber (g/kg dm)', 'Sugar (g/kg dm)', 'Crude protein (g/kg dm)', 'Crude fat (g/kg dm)', 'Starch (g/kg dm)', 'Ca (g/kg dm)', 'P (g/kg dm)', 'Na (g/kg dm)', 'Cl (g/kg dm)', 'K (g/kg dm)', 'Mg (g/kg dm)', 'nXP (g/kg dm)', 'RNB (g/kg dm)', 'MELK (/kg dm)', 'NEL (MJ/kg dm)', 'WDE (g/kg dm)', 'EKB (g/kg dm)', 'WDS (g/kg dm)', 'SPK (g/kg dm)', 'TPK (g/kg dm)', 'SPE (g/kg dm)', 'TPE (g/kg dm)', 'plusI (/kg dm)', 'WI (/kg dm)', 'GP (g/kg dm)', 'Treatment_encoded', 'Period (VP = preperiod, HP = trial period)_encoded', 'Period part (VP = preperiod, HP = trial period)_encoded']\n",
            "DataFrame[Cow number: int, Date: date, Barn: int, Barn part: int, Treatment: string, Lactation number: int, Days in milk: int, Day number: int, Week: int, Period (VP = preperiod, HP = trial period): string, Period part (VP = preperiod, HP = trial period): string, Intake basal ration (kg dm): double, Intake total ration (kg dm): double, Water intake (kg): double, Concentrate intake (kg): double, Weight (kg): double, BCS: double, Backfat Thickness: int, Milk yield (kg): double, Fat%: double, Protein%: double, Urea (mg/kg): int, SCC (*1000/ml): int, Lactose%: double, Avg Temperature (degC): double, Air speed: double, Max temperature (degC): double, Rumination time (min/day): int, Avg pH: double, Avg Rumen Temperature : double, Time pH<5,8 (h): double, Manure consistency (1=fluid, 5= hard): int, Manure fibre score (1=short, 5 = long): int, Number of kernels: double, Manure sieving residu (%): double, Manure dm (g/kg OM): int, Manure starch (g/kg dm): double, Urin-pH: double, Intake pre-period (kg dm): double, Milk yield prepreriod (kg): double, Fat% preperiod: double, Protein% preperiod: double, Fat preperiod (kg): double, Protein preperiod (kg): double, ECM preperiod (kg): double, ECM (kg): double, Crude fiber (g/day): int, Sugar (g/day): int, Crude protein (g/day): int, Crude fat (g/day): int, Starch (g/day): int, Ca (g/day): int, P (g/day): int, Na (g/day): int, Cl (g/day): int, K (g/day): int, Mg (g/day): int, nXP (g/day): int, RNB (g/day): int, MELK (g/day): int, NEL (g/day): int, WDE (g/day): int, EKB (g/day): int, WDS (g/day): int, SPK (g/day): int, TPK (g/day): int, SPE (g/day): int, TPE (g/day): int, plusI (/day): int, WI (/day): int, GP (g/day): int, Crude fiber (g/kg dm): int, Sugar (g/kg dm): int, Crude protein (g/kg dm): int, Crude fat (g/kg dm): int, Starch (g/kg dm): int, Ca (g/kg dm): int, P (g/kg dm): int, Na (g/kg dm): int, Cl (g/kg dm): int, K (g/kg dm): int, Mg (g/kg dm): int, nXP (g/kg dm): int, RNB (g/kg dm): int, MELK (/kg dm): int, NEL (MJ/kg dm): int, WDE (g/kg dm): int, EKB (g/kg dm): int, WDS (g/kg dm): int, SPK (g/kg dm): int, TPK (g/kg dm): int, SPE (g/kg dm): int, TPE (g/kg dm): int, plusI (/kg dm): int, WI (/kg dm): int, GP (g/kg dm): int]\n"
          ],
          "name": "stdout"
        }
      ]
    },
    {
      "cell_type": "code",
      "metadata": {
        "id": "5QBt3p08IFCU"
      },
      "source": [
        "# Forward fill blank values\n",
        "milk_data = milk_rdd2\n",
        "# define the window\n",
        "window = Window.partitionBy('Cow number').orderBy('Day number').rowsBetween(-sys.maxsize, 0)\n",
        "\n",
        "for column in milk_data.columns:\n",
        "  # define the forward-filled column\n",
        "  filled_column = psf.last(milk_data[column], ignorenulls=True).over(window)\n",
        "\n",
        "  # do the fill \n",
        "  milk_data = milk_data.withColumn(column,  filled_column)"
      ],
      "execution_count": null,
      "outputs": []
    },
    {
      "cell_type": "code",
      "metadata": {
        "colab": {
          "base_uri": "https://localhost:8080/"
        },
        "id": "mceLxQ7qIFub",
        "outputId": "cc07239e-577c-4b25-8925-295847a4b440"
      },
      "source": [
        "# Drop empty values (otherwise the pipeline can't work with the data)\n",
        "#milk_rdd3 = milk_data.dropna(how='any', subset=inputColNames+[labelColName])\n",
        "\n",
        "\n",
        "\n",
        "print(type(milk_data))\n",
        "milk_data.show()\n",
        "\n",
        "print(\"count before:\",milk_data.count())\n",
        "\n",
        "milk_rdd3 = milk_data.select().dropna(how='any')\n",
        "print(\"count after:\",milk_rdd3.count())\n",
        "\n",
        "#milk_rdd3.show(5)\n",
        "\n",
        "# Uncomment the next line if you don't want to dropNA\n",
        "#milk_rdd3 = milk_data \n",
        "\n",
        "\n",
        "\n",
        "### TEMPORARY FIX, BECAUSE REMOVING NA MAKES ALL VP COLLUMNS DISSAPEAR WHICH GIVES ERRORS ###\n",
        "#milk_rdd3 = milk_rdd3.drop('Period (VP = preperiod, HP = trial period)')"
      ],
      "execution_count": null,
      "outputs": [
        {
          "output_type": "stream",
          "text": [
            "<class 'pyspark.sql.dataframe.DataFrame'>\n",
            "+----------+----------+----+---------+---------+----------------+------------+----------+----+------------------------------------------+-----------------------------------------------+---------------------------+---------------------------+-----------------+-----------------------+-----------+----+-----------------+---------------+----+--------+------------+--------------+--------+----------------------+---------+----------------------+-------------------------+------+----------------------+---------------+-------------------------------------+--------------------------------------+-----------------+-------------------------+-------------------+-----------------------+-------+-------------------------+--------------------------+--------------+------------------+------------------+----------------------+------------------+--------+-------------------+-------------+---------------------+-----------------+--------------+----------+---------+----------+----------+---------+----------+-----------+-----------+------------+-----------+-----------+-----------+-----------+-----------+-----------+-----------+-----------+------------+---------+----------+---------------------+---------------+-----------------------+-------------------+----------------+------------+-----------+------------+------------+-----------+------------+-------------+-------------+-------------+--------------+-------------+-------------+-------------+-------------+-------------+-------------+-------------+--------------+-----------+------------+\n",
            "|Cow number|      Date|Barn|Barn part|Treatment|Lactation number|Days in milk|Day number|Week|Period (VP = preperiod, HP = trial period)|Period part (VP = preperiod, HP = trial period)|Intake basal ration (kg dm)|Intake total ration (kg dm)|Water intake (kg)|Concentrate intake (kg)|Weight (kg)| BCS|Backfat Thickness|Milk yield (kg)|Fat%|Protein%|Urea (mg/kg)|SCC (*1000/ml)|Lactose%|Avg Temperature (degC)|Air speed|Max temperature (degC)|Rumination time (min/day)|Avg pH|Avg Rumen Temperature |Time pH<5,8 (h)|Manure consistency (1=fluid, 5= hard)|Manure fibre score (1=short, 5 = long)|Number of kernels|Manure sieving residu (%)|Manure dm (g/kg OM)|Manure starch (g/kg dm)|Urin-pH|Intake pre-period (kg dm)|Milk yield prepreriod (kg)|Fat% preperiod|Protein% preperiod|Fat preperiod (kg)|Protein preperiod (kg)|ECM preperiod (kg)|ECM (kg)|Crude fiber (g/day)|Sugar (g/day)|Crude protein (g/day)|Crude fat (g/day)|Starch (g/day)|Ca (g/day)|P (g/day)|Na (g/day)|Cl (g/day)|K (g/day)|Mg (g/day)|nXP (g/day)|RNB (g/day)|MELK (g/day)|NEL (g/day)|WDE (g/day)|EKB (g/day)|WDS (g/day)|SPK (g/day)|TPK (g/day)|SPE (g/day)|TPE (g/day)|plusI (/day)|WI (/day)|GP (g/day)|Crude fiber (g/kg dm)|Sugar (g/kg dm)|Crude protein (g/kg dm)|Crude fat (g/kg dm)|Starch (g/kg dm)|Ca (g/kg dm)|P (g/kg dm)|Na (g/kg dm)|Cl (g/kg dm)|K (g/kg dm)|Mg (g/kg dm)|nXP (g/kg dm)|RNB (g/kg dm)|MELK (/kg dm)|NEL (MJ/kg dm)|WDE (g/kg dm)|EKB (g/kg dm)|WDS (g/kg dm)|SPK (g/kg dm)|TPK (g/kg dm)|SPE (g/kg dm)|TPE (g/kg dm)|plusI (/kg dm)|WI (/kg dm)|GP (g/kg dm)|\n",
            "+----------+----------+----+---------+---------+----------------+------------+----------+----+------------------------------------------+-----------------------------------------------+---------------------------+---------------------------+-----------------+-----------------------+-----------+----+-----------------+---------------+----+--------+------------+--------------+--------+----------------------+---------+----------------------+-------------------------+------+----------------------+---------------+-------------------------------------+--------------------------------------+-----------------+-------------------------+-------------------+-----------------------+-------+-------------------------+--------------------------+--------------+------------------+------------------+----------------------+------------------+--------+-------------------+-------------+---------------------+-----------------+--------------+----------+---------+----------+----------+---------+----------+-----------+-----------+------------+-----------+-----------+-----------+-----------+-----------+-----------+-----------+-----------+------------+---------+----------+---------------------+---------------+-----------------------+-------------------+----------------+------------+-----------+------------+------------+-----------+------------+-------------+-------------+-------------+--------------+-------------+-------------+-------------+-------------+-------------+-------------+-------------+--------------+-----------+------------+\n",
            "|       858|2014-06-16|   6|        2|        O|               1|         145|         0|   0|                                         0|                                              0|                       null|                       null|             87.3|                   null|      589.5|null|             null|           35.3|2.99|    2.95|         165|             7|     4.8|                  16.5|      1.4|                  19.5|                     null|  null|                  null|           null|                                 null|                                  null|             null|                     null|               null|                   null|   null|                    16.82|                     33.44|           3.1|              2.95|              1.04|                  0.99|             29.05|    null|                  0|            0|                    0|                0|             0|         0|        0|         0|         0|        0|         0|          0|          0|           0|          0|          0|          0|          0|          0|          0|          0|          0|           0|        0|         0|                 null|           null|                   null|               null|            null|        null|       null|        null|        null|       null|        null|         null|         null|         null|          null|         null|         null|         null|         null|         null|         null|         null|          null|       null|        null|\n",
            "|       858|2014-06-17|   6|        2|        O|               1|         146|         1|   1|                                        VP|                                            VP1|                       14.6|                       15.5|             66.5|                    1.0|      588.0|null|             null|          37.35|2.99|    2.95|         165|             7|     4.8|                  18.0|      1.6|                  22.9|                     null|  null|                  null|           null|                                 null|                                  null|             null|                     null|               null|                   null|   null|                    16.82|                     33.44|           3.1|              2.95|              1.04|                  0.99|             29.05|    null|               2777|          645|                 2393|              547|          3394|        88|       65|        31|        77|      233|        51|       2381|          4|       16751|        106|       1322|        237|        844|       3045|       6999|       1018|       1628|        1676|     1934|      2166|                  179|             42|                    155|                 35|             219|           6|          4|           2|           5|         15|           3|          154|            0|         1082|             7|           85|           15|           55|          197|          452|           66|          105|           108|        125|         140|\n",
            "|       858|2014-06-18|   6|        2|        O|               1|         147|         2|   1|                                        VP|                                            VP1|                       17.6|                       18.5|             72.1|                    1.0|      593.5|null|             null|          34.37|2.99|    2.95|         165|             7|     4.8|                  17.5|      1.2|                  23.4|                     null|  null|                  null|           null|                                 null|                                  null|             null|                     null|               null|                   null|   null|                    16.82|                     33.44|           3.1|              2.95|              1.04|                  0.99|             29.05|    null|               3342|          767|                 2851|              653|          4050|       105|       77|        37|        93|      280|        62|       2842|          4|       20029|        126|       1574|        282|       1004|       3643|       8383|       1221|       1946|        2006|     2332|      2591|                  181|             41|                    154|                 35|             219|           6|          4|           2|           5|         15|           3|          154|            0|         1082|             7|           85|           15|           54|          197|          453|           66|          105|           108|        126|         140|\n",
            "|       858|2014-06-19|   6|        2|        O|               1|         148|         3|   1|                                        VP|                                            VP1|                       16.4|                       17.3|             72.0|                    1.0|      596.5|null|             null|          35.45|2.99|    2.95|         165|             7|     4.8|                  15.9|      1.6|                  17.4|                     null|  null|                  null|           null|                                 null|                                  null|             null|                     null|               null|                   null|   null|                    16.82|                     33.44|           3.1|              2.95|              1.04|                  0.99|             29.05|    null|               3108|          717|                 2661|              609|          3779|        98|       72|        34|        87|      260|        57|       2651|          4|       18673|        118|       1470|        264|        938|       3395|       7810|       1137|       1814|        1869|     2167|      2415|                  180|             42|                    154|                 35|             219|           6|          4|           2|           5|         15|           3|          154|            0|         1082|             7|           85|           15|           54|          197|          453|           66|          105|           108|        126|         140|\n",
            "|       858|2014-06-20|   6|        2|        O|               1|         149|         4|   1|                                        VP|                                            VP1|                       14.6|                       15.5|             66.9|                    1.0|      594.5|null|             null|          35.56|2.99|    2.95|         165|             7|     4.8|                  15.6|      1.9|                  18.5|                     null|  null|                  null|           null|                                 null|                                  null|             null|                     null|               null|                   null|   null|                    16.82|                     33.44|           3.1|              2.95|              1.04|                  0.99|             29.05|    null|               2783|          647|                 2397|              548|          3401|        88|       65|        31|        78|      234|        51|       2386|          4|       16786|        106|       1325|        237|        845|       3051|       7013|       1020|       1631|        1679|     1939|      2171|                  179|             42|                    155|                 35|             219|           6|          4|           2|           5|         15|           3|          154|            0|         1082|             7|           85|           15|           54|          197|          452|           66|          105|           108|        125|         140|\n",
            "|       858|2014-06-21|   6|        2|        O|               1|         150|         5|   1|                                        VP|                                            VP1|                       15.4|                       16.3|             70.8|                    1.0|      593.5|null|             null|           18.5|2.99|    2.95|         165|             7|     4.8|                  17.5|      1.5|                  22.8|                     null|  null|                  null|           null|                                 null|                                  null|             null|                     null|               null|                   null|   null|                    16.82|                     33.44|           3.1|              2.95|              1.04|                  0.99|             29.05|    null|               2933|          679|                 2519|              576|          3575|        93|       68|        32|        82|      246|        54|       2508|          4|       17653|        112|       1391|        249|        888|       3209|       7379|       1074|       1715|        1767|     2044|      2283|                  180|             42|                    154|                 35|             219|           6|          4|           2|           5|         15|           3|          154|            0|         1082|             7|           85|           15|           54|          197|          452|           66|          105|           108|        125|         140|\n",
            "|       858|2014-06-22|   6|        2|        O|               1|         151|         6|   1|                                        VP|                                            VP1|                       15.4|                       16.3|             74.8|                    1.0|      601.5|null|             null|          30.58|2.99|    2.95|         165|             7|     4.8|                  18.4|      1.3|                  22.2|                     null|  null|                  null|           null|                                 null|                                  null|             null|                     null|               null|                   null|   null|                    16.82|                     33.44|           3.1|              2.95|              1.04|                  0.99|             29.05|    null|               2937|          680|                 2522|              577|          3580|        93|       68|        33|        82|      246|        54|       2511|          4|       17678|        112|       1393|        250|        889|       3214|       7390|       1076|       1718|        1769|     2047|      2286|                  180|             42|                    154|                 35|             219|           6|          4|           2|           5|         15|           3|          154|            0|         1082|             7|           85|           15|           54|          197|          452|           66|          105|           108|        125|         140|\n",
            "|       858|2014-06-23|   6|        2|        O|               1|         152|         7|   1|                                        VP|                                            VP1|                       14.1|                       15.0|             74.7|                    1.0|      595.5|null|             null|          32.03|2.93|    2.94|         264|            18|    4.64|                  18.2|      0.9|                  25.9|                     null|  null|                  null|           null|                                 null|                                  null|             null|                     null|               null|                   null|   null|                    16.82|                     33.44|           3.1|              2.95|              1.04|                  0.99|             29.05|    null|               2690|          627|                 2322|              531|          3293|        85|       63|        30|        75|      226|        50|       2310|          4|       16244|        103|       1283|        230|        819|       2952|       6785|        987|       1578|        1624|     1873|      2101|                  179|             42|                    155|                 35|             219|           6|          4|           2|           5|         15|           3|          154|            0|         1082|             7|           85|           15|           55|          197|          452|           66|          105|           108|        125|         140|\n",
            "|       858|2014-06-24|   6|        2|        O|               1|         153|         8|   2|                                        VP|                                            VP1|                       14.3|                       15.2|             68.6|                    1.0|      605.5|null|             null|          33.17|2.93|    2.94|         264|            18|    4.64|                  19.0|      1.0|                  22.8|                     null|  null|                  null|           null|                                 null|                                  null|             null|                     null|               null|                   null|   null|                    16.82|                     33.44|           3.1|              2.95|              1.04|                  0.99|             29.05|    null|               2729|          635|                 2353|              538|          3338|        87|       64|        30|        76|      229|        50|       2342|          4|       16471|        104|       1301|        233|        830|       2993|       6880|       1001|       1600|        1647|     1900|      2130|                  179|             42|                    155|                 35|             219|           6|          4|           2|           5|         15|           3|          154|            0|         1082|             7|           85|           15|           55|          197|          452|           66|          105|           108|        125|         140|\n",
            "|       858|2014-06-25|   6|        2|        O|               1|         154|         9|   2|                                        VP|                                            VP1|                       17.1|                       18.0|             75.5|                    1.0|      608.5|null|             null|          35.26|2.93|    2.94|         264|            18|    4.64|                  17.6|      1.3|                  24.0|                     null|  null|                  null|           null|                                 null|                                  null|             null|                     null|               null|                   null|   null|                    16.82|                     33.44|           3.1|              2.95|              1.04|                  0.99|             29.05|    null|               3250|          747|                 2777|              636|          3943|       102|       75|        36|        91|      272|        60|       2767|          4|       19497|        123|       1533|        275|        978|       3545|       8158|       1188|       1895|        1953|     2267|      2522|                  180|             41|                    154|                 35|             219|           6|          4|           2|           5|         15|           3|          154|            0|         1082|             7|           85|           15|           54|          197|          453|           66|          105|           108|        126|         140|\n",
            "|       858|2014-06-26|   6|        2|        O|               1|         155|        10|   2|                                        VP|                                            VP1|                       13.6|                       14.5|             84.2|                    1.0|      606.0|null|             null|           34.1|2.93|    2.94|         264|            18|    4.64|                  19.3|      0.5|                  24.5|                     null|  null|                  null|           null|                                 null|                                  null|             null|                     null|               null|                   null|   null|                    16.82|                     33.44|           3.1|              2.95|              1.04|                  0.99|             29.05|    null|               2593|          606|                 2243|              512|          3180|        83|       61|        29|        72|      218|        48|       2230|          4|       15679|         99|       1240|        222|        791|       2849|       6546|        952|       1523|        1567|     1804|      2027|                  179|             42|                    155|                 35|             220|           6|          4|           2|           5|         15|           3|          154|            0|         1082|             7|           86|           15|           55|          197|          452|           66|          105|           108|        125|         140|\n",
            "|       858|2014-06-27|   6|        2|        O|               1|         156|        11|   2|                                        VP|                                            VP1|                       16.8|                       17.7|             77.3|                    1.0|      607.5|null|             null|          34.33|2.93|    2.94|         264|            18|    4.64|                  19.1|      1.2|                  23.2|                     null|  null|                  null|           null|                                 null|                                  null|             null|                     null|               null|                   null|   null|                    16.82|                     33.44|           3.1|              2.95|              1.04|                  0.99|             29.05|    null|               3188|          734|                 2726|              624|          3871|       100|       73|        35|        89|      267|        59|       2716|          4|       19134|        121|       1505|        270|        961|       3479|       8005|       1166|       1859|        1916|     2223|      2475|                  180|             41|                    154|                 35|             219|           6|          4|           2|           5|         15|           3|          154|            0|         1082|             7|           85|           15|           54|          197|          453|           66|          105|           108|        126|         140|\n",
            "|       858|2014-06-28|   6|        2|        O|               1|         157|        12|   2|                                        VP|                                            VP1|                       15.9|                       16.8|             75.2|                    1.0|      612.0|null|             null|          33.54|2.93|    2.94|         264|            18|    4.64|                  17.1|      1.1|                  19.4|                     null|  null|                  null|           null|                                 null|                                  null|             null|                     null|               null|                   null|   null|                    16.82|                     33.44|           3.1|              2.95|              1.04|                  0.99|             29.05|    null|               3015|          696|                 2585|              592|          3670|        95|       70|        33|        84|      253|        56|       2575|          4|       18129|        115|       1428|        256|        911|       3296|       7580|       1104|       1762|        1815|     2101|      2345|                  180|             42|                    154|                 35|             219|           6|          4|           2|           5|         15|           3|          154|            0|         1082|             7|           85|           15|           54|          197|          452|           66|          105|           108|        125|         140|\n",
            "|       858|2014-06-29|   6|        2|        O|               1|         158|        13|   2|                                        VP|                                            VP1|                       16.1|                       17.0|             78.3|                    1.0|      599.0|null|             null|          33.67|2.93|    2.94|         264|            18|    4.64|                  17.6|      1.1|                  21.6|                     null|  null|                  null|           null|                                 null|                                  null|             null|                     null|               null|                   null|   null|                    16.82|                     33.44|           3.1|              2.95|              1.04|                  0.99|             29.05|    null|               3053|          705|                 2616|              599|          3714|        96|       71|        34|        85|      256|        56|       2606|          4|       18348|        116|       1445|        259|        922|       3336|       7673|       1117|       1783|        1837|     2128|      2373|                  180|             42|                    154|                 35|             219|           6|          4|           2|           5|         15|           3|          154|            0|         1082|             7|           85|           15|           54|          197|          452|           66|          105|           108|        125|         140|\n",
            "|       858|2014-06-30|   6|        2|        O|               1|         159|        14|   2|                                        VP|                                            VP1|                       15.1|                       16.0|             64.0|                    1.0|      610.0|null|             null|           34.3|3.17|    2.97|         198|            14|    4.74|                  16.6|      1.5|                  21.2|                     null|  null|                  null|           null|                                 null|                                  null|             null|                     null|               null|                   null|   null|                    16.82|                     33.44|           3.1|              2.95|              1.04|                  0.99|             29.05|    null|               2881|          668|                 2476|              567|          3514|        91|       67|        32|        80|      242|        53|       2465|          4|       17350|        110|       1368|        245|        873|       3154|       7251|       1055|       1686|        1736|     2007|      2244|                  180|             42|                    154|                 35|             219|           6|          4|           2|           5|         15|           3|          154|            0|         1082|             7|           85|           15|           54|          197|          452|           66|          105|           108|        125|         140|\n",
            "|       858|2014-07-01|   6|        2|        O|               1|         160|        15|   3|                                        VP|                                            VP2|                       13.2|                       14.1|             71.8|                    1.0|      606.5|null|             null|          35.06|3.17|    2.97|         198|            14|    4.74|                  16.7|      1.0|                  22.4|                     null|  null|                  null|           null|                                 null|                                  null|             null|                     null|               null|                   null|   null|                    16.82|                     33.44|           3.1|              2.95|              1.04|                  0.99|             29.05|    null|               2522|          590|                 2185|              499|          3097|        80|       59|        28|        70|      212|        47|       2172|          4|       15267|         97|       1208|        216|        771|       2774|       6372|        926|       1483|        1526|     1754|      1974|                  179|             42|                    155|                 35|             220|           6|          4|           2|           5|         15|           3|          154|            0|         1082|             7|           86|           15|           55|          197|          452|           66|          105|           108|        124|         140|\n",
            "|       858|2014-07-02|   6|        2|        O|               1|         161|        16|   3|                                        VP|                                            VP2|                       13.8|                       14.7|             74.8|                    1.0|      608.0|null|             null|           34.9|3.17|    2.97|         198|            14|    4.74|                  18.0|      0.8|                  25.2|                     null|  null|                  null|           null|                                 null|                                  null|             null|                     null|               null|                   null|   null|                    16.82|                     33.44|           3.1|              2.95|              1.04|                  0.99|             29.05|    null|               2629|          613|                 2272|              519|          3221|        84|       61|        29|        73|      221|        49|       2259|          4|       15887|        100|       1256|        225|        801|       2887|       6634|        964|       1544|        1588|     1830|      2054|                  179|             42|                    155|                 35|             219|           6|          4|           2|           5|         15|           3|          154|            0|         1082|             7|           86|           15|           55|          197|          452|           66|          105|           108|        125|         140|\n",
            "|       858|2014-07-03|   6|        2|        O|               1|         162|        17|   3|                                        VP|                                            VP2|                       22.2|                       23.1|             86.2|                    1.0|      609.5|null|             null|          34.33|3.17|    2.97|         198|            14|    4.74|                  21.0|      1.0|                  30.0|                     null|  null|                  null|           null|                                 null|                                  null|             null|                     null|               null|                   null|   null|                    16.82|                     33.44|           3.1|              2.95|              1.04|                  0.99|             29.05|    null|               4196|          950|                 3544|              814|          5041|       130|       95|        46|       117|      350|        77|       3540|          4|       24985|        158|       1955|        351|       1248|       4547|      10475|       1529|       2428|        2507|     2933|      3234|                  182|             41|                    153|                 35|             218|           6|          4|           2|           5|         15|           3|          153|            0|         1082|             7|           85|           15|           54|          197|          453|           66|          105|           109|        127|         140|\n",
            "|       858|2014-07-04|   6|        2|        O|               1|         163|        18|   3|                                        VP|                                            VP2|                       13.0|                       13.9|             93.1|                    1.0|      612.0| 3.5|                8|          31.82|3.17|    2.97|         198|            14|    4.74|                  23.3|      1.0|                  29.0|                     null|  null|                  null|           null|                                 null|                                  null|             null|                     null|               null|                   null|   null|                    16.82|                     33.44|           3.1|              2.95|              1.04|                  0.99|             29.05|    null|               2491|          584|                 2160|              493|          3061|        80|       58|        28|        69|      210|        46|       2147|          4|       15086|         95|       1194|        214|        762|       2741|       6296|        915|       1466|        1508|     1732|      1951|                  179|             42|                    155|                 35|             220|           6|          4|           2|           5|         15|           3|          154|            0|         1083|             7|           86|           15|           55|          197|          452|           66|          105|           108|        124|         140|\n",
            "|       858|2014-07-05|   6|        2|        O|               1|         164|        19|   3|                                        VP|                                            VP2|                       14.4|                       15.3|             69.2|                    1.0|      608.5| 3.5|                8|          35.23|3.17|    2.97|         198|            14|    4.74|                  22.1|      2.0|                  24.2|                     null|  null|                  null|           null|                                 null|                                  null|             null|                     null|               null|                   null|   null|                    16.82|                     33.44|           3.1|              2.95|              1.04|                  0.99|             29.05|    null|               2740|          637|                 2362|              540|          3351|        87|       64|        30|        76|      230|        51|       2350|          4|       16533|        105|       1305|        234|        833|       3005|       6907|       1005|       1606|        1654|     1908|      2138|                  179|             42|                    155|                 35|             219|           6|          4|           2|           5|         15|           3|          154|            0|         1082|             7|           85|           15|           55|          197|          452|           66|          105|           108|        125|         140|\n",
            "+----------+----------+----+---------+---------+----------------+------------+----------+----+------------------------------------------+-----------------------------------------------+---------------------------+---------------------------+-----------------+-----------------------+-----------+----+-----------------+---------------+----+--------+------------+--------------+--------+----------------------+---------+----------------------+-------------------------+------+----------------------+---------------+-------------------------------------+--------------------------------------+-----------------+-------------------------+-------------------+-----------------------+-------+-------------------------+--------------------------+--------------+------------------+------------------+----------------------+------------------+--------+-------------------+-------------+---------------------+-----------------+--------------+----------+---------+----------+----------+---------+----------+-----------+-----------+------------+-----------+-----------+-----------+-----------+-----------+-----------+-----------+-----------+------------+---------+----------+---------------------+---------------+-----------------------+-------------------+----------------+------------+-----------+------------+------------+-----------+------------+-------------+-------------+-------------+--------------+-------------+-------------+-------------+-------------+-------------+-------------+-------------+--------------+-----------+------------+\n",
            "only showing top 20 rows\n",
            "\n",
            "count before: 8782\n",
            "count after: 265\n"
          ],
          "name": "stdout"
        }
      ]
    },
    {
      "cell_type": "code",
      "metadata": {
        "id": "FGQ10MES4jFm"
      },
      "source": [
        "# Stages for pipeline\n",
        "\n",
        "# Index string columns\n",
        "index_strings = [StringIndexer(inputCol= col, outputCol= f'{col}_index') for col in stringColumn]\n",
        "\n",
        "# Encode string columns\n",
        "encoder = OneHotEncoderEstimator(inputCols=[string_indexer.getOutputCol() for string_indexer in index_strings], \n",
        "                                 outputCols= [f'{col}_encoded' for col in stringColumn])"
      ],
      "execution_count": null,
      "outputs": []
    },
    {
      "cell_type": "code",
      "metadata": {
        "id": "6YNUG7MEvJJv"
      },
      "source": [
        "## Assembling the vectorizer\n",
        "vectorizer = VectorAssembler(\n",
        "    inputCols=inputColNames, \n",
        "    outputCol=\"features\")"
      ],
      "execution_count": null,
      "outputs": []
    },
    {
      "cell_type": "code",
      "metadata": {
        "id": "buoMQkQtGRnD"
      },
      "source": [
        "## Splitting the dataset into a training and testing portion.\n",
        "\n",
        "# Setting a seed for reproducible results.\n",
        "ourSeed = 1234  # default = 1234\n",
        "\n",
        "# Randomly splitting the dataset (default 20% test, 80% train)\n",
        "(testSetDF, trainingSetDF) = milk_rdd3.randomSplit([2.0,8.0],seed=ourSeed)\n",
        "\n",
        "# Uncomment to cache these datasets for performance\n",
        "testSetDF.cache()\n",
        "trainingSetDF.cache()\n",
        "\n",
        "trainingSetDF.show(5)"
      ],
      "execution_count": null,
      "outputs": []
    },
    {
      "cell_type": "markdown",
      "metadata": {
        "id": "OVIF87r80veI"
      },
      "source": [
        "### Linear Regression Machine Learning Model"
      ]
    },
    {
      "cell_type": "code",
      "metadata": {
        "id": "C5RGiNe_0yYi"
      },
      "source": [
        "## Training a linear regression model with the default settings.\n",
        "\n",
        "# Initialize the linear regression learner with default values for the parameters\n",
        "lr = LinearRegression()\n",
        "\n",
        "# Setting the name of the column with the values that need to be learned\n",
        "# and setting the name of the column where the predicted results will be saved.\n",
        "lr.setLabelCol(labelColName)\\\n",
        "  .setPredictionCol(predictionColName)\n",
        "\n",
        "# Create a pipeline that performs the vectorizer and the Linear Regression\n",
        "# learning model.\n",
        "lrPipeline = Pipeline(stages = index_strings + [encoder] + [vectorizer] + [lr])\n",
        "\n",
        "# Uncomment the next line to show if the training set was created correctly\n",
        "#trainingSetDF.show(5)\n",
        "\n",
        "# Train the model on the training set with the default settings.\n",
        "lrModel = lrPipeline.fit(trainingSetDF)\n"
      ],
      "execution_count": null,
      "outputs": []
    },
    {
      "cell_type": "code",
      "metadata": {
        "id": "9cpYGku4pmNH"
      },
      "source": [
        "## Inspecting the results of the previous model\n",
        "\n",
        "# The coefficients (i.e., weights) are as follows:\n",
        "weights = lrModel.stages[1].coefficients\n",
        "\n",
        "# The corresponding features for these weights are:\n",
        "featuresNoLabel = vectorizer.getInputCols()\n",
        "print(featuresNoLabel)\n",
        "\n",
        "# Print coefficients \n",
        "list(zip(featuresNoLabel, weights))\n",
        "print(list(zip(featuresNoLabel, weights)))\n",
        " \n",
        " # Print the intercept\n",
        "print(\"Intercept: \",lrModel.stages[1].intercept)"
      ],
      "execution_count": null,
      "outputs": []
    },
    {
      "cell_type": "code",
      "metadata": {
        "id": "zMeIb7kUBSad"
      },
      "source": [
        "## Model Predictions:\n",
        "\n",
        " # Apply our LR model to the test data and predict power output\n",
        "predictionsLR = lrModel.transform(testSetDF).select(inputColNames+[labelColName]+[predictionColName])\n",
        "\n",
        " # Print the first 15 rows of your predictions\n",
        "predictionsLR.show(15)\n",
        "\n",
        "#Plotting predicted against actual values to show linearity\n",
        "sns.scatterplot(x=labelColName, y=predictionColName, data=predictionsLR.toPandas())"
      ],
      "execution_count": null,
      "outputs": []
    },
    {
      "cell_type": "code",
      "metadata": {
        "id": "_Yyx6H5QC-Qx"
      },
      "source": [
        "## Compute an evaluation metric for our test dataset\n",
        "\n",
        "# Create an RMSE evaluator using the label and predicted columns\n",
        "regEval = RegressionEvaluator(predictionCol=predictionColName, labelCol=labelColName, metricName=\"rmse\")\n",
        "\n",
        "# Run the evaluator on the DataFrame\n",
        "rmse = regEval.evaluate(predictionsLR)\n",
        "\n",
        "# Print the Root Mean Squared Error\n",
        "print(\"Root Mean Squared Error: %.2f\" % rmse)"
      ],
      "execution_count": null,
      "outputs": []
    },
    {
      "cell_type": "code",
      "metadata": {
        "id": "bNt3i7O3DiHn"
      },
      "source": [
        "## Compute R-squared evaluation metric for our test dataset\n",
        "\n",
        "r2 = regEval.evaluate(predictionsLR, {regEval.metricName: \"r2\"})\n",
        "\n",
        "# Print R-squard\n",
        "print(\"r2: {0:.2f}\".format(r2))"
      ],
      "execution_count": null,
      "outputs": []
    },
    {
      "cell_type": "markdown",
      "metadata": {
        "id": "tALWfJ9w29bf"
      },
      "source": [
        "### Parameter Tuning and Evaluation"
      ]
    },
    {
      "cell_type": "code",
      "metadata": {
        "id": "-6VStMZb3DMx"
      },
      "source": [
        "## Use paramater tuning to try to create a better linear regression model\n",
        "\n",
        "# We can reuse the RegressionEvaluator, regEval, to judge the model based on the best Root Mean Squared Error\n",
        "# Let's create our CrossValidator with 3 fold cross validation\n",
        "crossval = CrossValidator(estimator=lrPipeline, evaluator=regEval, numFolds=3)\n",
        "\n",
        "# Tune over our regularization parameter from 0.01 to 0.10\n",
        "regParam = [x / 100.0 for x in range(1, 11)]\n",
        "\n",
        "# Create a paramter grid using the ParamGridBuilder,\n",
        "# and add the grid to the CrossValidator\n",
        "paramGrid = (ParamGridBuilder()\n",
        "             .addGrid(lr.regParam, regParam)\n",
        "             .build())\n",
        "crossval.setEstimatorParamMaps(paramGrid)\n",
        "\n",
        "# Find and return the best model\n",
        "cvModel = crossval.fit(trainingSetDF).bestModel"
      ],
      "execution_count": null,
      "outputs": []
    },
    {
      "cell_type": "code",
      "metadata": {
        "id": "3Gixa0vq6PGK"
      },
      "source": [
        "## Evaluate the new tuned model by comparing it to the default linear regression\n",
        "\n",
        "# Use cvModel to compute an evaluation metric for our test dataset: testSetDF\n",
        "predictionsRL = cvModel.transform(testSetDF).select(inputColNames+[labelColName]+[predictionColName])\n",
        "\n",
        "# Run the previously created RMSE evaluator, regEval, on the predictionsAndLabelsDF DataFrame\n",
        "rmseLR = regEval.evaluate(predictionsRL)\n",
        "\n",
        "# Compute the r2 evaluation metric for our test dataset\n",
        "r2LR = regEval.evaluate(predictionsRL, {regEval.metricName: \"r2\"})\n",
        "\n",
        "# Printing the rounded values to compare the 2 linear regression models.\n",
        "print(\"Original Root Mean Squared Error: {0:2.2f}\".format(rmse))\n",
        "print(\"New Root Mean Squared Error: {0:2.2f}\".format(rmseLR))\n",
        "print(\"Old r2: {0:2.2f}\".format(r2))\n",
        "print(\"New r2: {0:2.2f}\".format(r2LR))\n",
        "\n",
        "# Printing unrounded values for better testing purpose\n",
        "print(\"\\r\\n\",\"Un-rouned values printed above in same order:\\r\\n\",rmse,rmseLR,r2,r2LR)"
      ],
      "execution_count": null,
      "outputs": []
    },
    {
      "cell_type": "markdown",
      "metadata": {
        "id": "CClquqzcs9lM"
      },
      "source": [
        "# Visualization"
      ]
    },
    {
      "cell_type": "markdown",
      "metadata": {
        "id": "2N0JNXWVtI8Q"
      },
      "source": [
        "## Plotting sample of dataset against 1 column"
      ]
    },
    {
      "cell_type": "code",
      "metadata": {
        "id": "M9FkzfxCvcFR"
      },
      "source": [
        "## Copy of setting the correct columns to allow easier plotting\n",
        "\n",
        "### CHANGE inputColNames (list of x) AND LabelColName (y) TO CREATE THE\n",
        "### DESIRED PLOTS. # ONLY 10 x VALUES CAN BE ENTERED AT A TIME\n",
        "\n",
        "inputColNames = ['Protein preperiod (kg)','Fat preperiod (kg)','Crude fat (g/kg dm)','Protein%','Protein% preperiod','Fat%','Fat% preperiod']\n",
        "#inputColNames = doubleColumns[0:10]\n",
        "\n",
        "labelColName = \"Milk yield (kg)\"\n",
        "predictionColName = \"Predicted \" + labelColName\n",
        "\n",
        "# Removing the label column from the input column if it ended in there on accident\n",
        "if labelColName in inputColNames: inputColNames.remove(labelColName)\n",
        "\n",
        "# Drop empty values (otherwise it can't work with the data)\n",
        "# WE MIGHT NEED TO FIND AN ALTERNATIVE TO DROPPING ANY ROW WITH BLANKS!\n",
        "# CURRENTLY EXPERIMENTING WITH NOT DROPPING NA FOR THE PLOTTING\n",
        "#milk_rdd3 = milk_rdd2.dropna(how='any', subset=inputColNames+[labelColName])\n",
        "milk_rdd3 = milk_rdd2.select(inputColNames+[labelColName])"
      ],
      "execution_count": null,
      "outputs": []
    },
    {
      "cell_type": "code",
      "metadata": {
        "id": "XOSmSbuQtdAD"
      },
      "source": [
        "## Plotting the columns versus the labelcolumn to get inital idea of linear regression\n",
        "\n",
        "### Trying to plot more than 10 plots at the same time results in empty plots ###\n",
        "\n",
        "milk_rdd3_sample = milk_rdd3.select(inputColNames+[labelColName]).sample(False,0.5)\n",
        "#print(milk_rdd3_sample)\n",
        "sns.set(rc={'figure.figsize':(10,10)})\n",
        "\n",
        "for column in inputColNames:\n",
        "  plt.figure()\n",
        "  sns.lmplot(x=column, y=labelColName,data=milk_rdd3_sample.toPandas())\n",
        "  plt.title(labelColName+\" vs \"+column)\n",
        "  plt.xlabel(column)\n",
        "  plt.ylabel(labelColName)"
      ],
      "execution_count": null,
      "outputs": []
    }
  ]
}