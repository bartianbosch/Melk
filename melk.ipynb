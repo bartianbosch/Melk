{
  "nbformat": 4,
  "nbformat_minor": 0,
  "metadata": {
    "colab": {
      "name": "melk.ipynb",
      "provenance": [],
      "collapsed_sections": [],
      "authorship_tag": "ABX9TyME0z2KmV2GoX3MTlAUvQ0F",
      "include_colab_link": true
    },
    "kernelspec": {
      "name": "python3",
      "display_name": "Python 3"
    }
  },
  "cells": [
    {
      "cell_type": "markdown",
      "metadata": {
        "id": "view-in-github",
        "colab_type": "text"
      },
      "source": [
        "<a href=\"https://colab.research.google.com/github/bartianbosch/Melk/blob/Bartian/melk.ipynb\" target=\"_parent\"><img src=\"https://colab.research.google.com/assets/colab-badge.svg\" alt=\"Open In Colab\"/></a>"
      ]
    },
    {
      "cell_type": "code",
      "metadata": {
        "id": "VZ2mPRZSHiRl"
      },
      "source": [
        "# To initialize Apache Spark, run this cell\n",
        "# !apt-get update\n",
        "# !apt-get install openjdk-8-jdk-headless -qq > /dev/null\n",
        "# # !wget -q http://downloads.apache.org/spark/spark-2.4.7/spark-2.4.7-bin-hadoop2.7.tgz\n",
        "# !wget -q http://downloads.apache.org/spark/spark-3.0.1/spark-3.0.1-bin-hadoop2.7.tgz\n",
        "# !tar xf spark-3.0.1-bin-hadoop2.7.tgz\n",
        "# !pip install -q findspark\n",
        "# !pip install -q pyspark\n",
        "\n",
        "import os\n",
        "os.environ[\"JAVA_HOME\"] = \"/usr/lib/jvm/java-8-openjdk-amd64\"\n",
        "os.environ[\"SPARK_HOME\"] = \"/content/spark-3.0.1-bin-hadoop2.7\"\n",
        "os.environ[\"PYTHON\"] = os.environ[\"SPARK_HOME\"] + \"/python\"\n",
        "import findspark\n",
        "findspark.init()\n",
        "from pyspark import SparkFiles\n",
        "from pyspark import SparkContext\n",
        "from pyspark.sql import SparkSession\n",
        "from pyspark.sql import types\n",
        "from pyspark.sql import functions as F\n",
        "from pyspark.sql import SparkSession\n",
        "from pyspark.sql import SQLContext\n",
        "from pyspark.sql import Window\n",
        "from pyspark.sql.functions import last\n",
        "from pyspark.ml.regression import LinearRegression, LinearRegressionModel\n",
        "from pyspark.ml.feature import StringIndexer, VectorAssembler, OneHotEncoder\n",
        "from pyspark.ml import Pipeline\n",
        "import pandas as pd\n",
        "import matplotlib.pyplot as plt\n",
        "import seaborn as sns \n",
        "from datetime import date\n",
        "import sys\n",
        "from google.colab import drive, files\n",
        "from sklearn.cross_decomposition import PLSRegression\n",
        "from sklearn.metrics import mean_squared_error, r2_score\n",
        "from sklearn.model_selection import cross_val_predict\n",
        "\n",
        "# Initialise stuff\n",
        "sp = SparkSession.builder.master(\"local[*]\").getOrCreate()\n",
        "sc = SparkContext.getOrCreate()\n",
        "spark = SparkSession.builder.getOrCreate()\n",
        "sqlContext = SQLContext(sc)\n",
        "\n",
        "plt.close('all')\n",
        "plt.rcParams['figure.figsize'] = [30, 20]\n",
        "\n",
        "fileName = 'ff_dairy_v1.csv'\n",
        "if not os.path.isfile(fileName):\n",
        "  uploaded = files.upload()\n",
        "\n",
        "# Prepare and load the file into a spark rdd\n",
        "spark.sparkContext.addFile(fileName)\n",
        "milk_data = spark.read.csv(SparkFiles.get(fileName), header=True)\n",
        "milk_data = milk_data.repartitionByRange(\"Cow number\")\n",
        "newColumnNames = list(map(lambda x: x.replace(\".\",\"\").replace(\"�C\",\"degC\").replace(\"�I\",\"plusI\"), milk_data.columns))\n",
        "\n",
        "milk_data = milk_data.toDF(*newColumnNames)\n",
        "\n",
        "def fixType(datasetName, colName, dataType):\n",
        "  \"\"\"Takes a dataset and returns the dataset with the given column set to the given dataype\"\"\"\n",
        "  return datasetName.withColumn(colName, F.col(colName).cast(dataType))\n",
        "\n",
        "# Preparing Lists with the colum names and which type they need to be\n",
        "allColumns = ['Cow number', 'Date', 'Barn', 'Barn part', 'Treatment', 'Lactation number', 'Days in milk', 'Day number', 'Week', 'Period (VP = preperiod, HP = trial period)', 'Period part (VP = preperiod, HP = trial period)', 'Intake basal ration (kg dm)', 'Intake total ration (kg dm)', 'Water intake (kg)', 'Concentrate intake (kg)', 'Weight (kg)', 'BCS', 'Backfat Thickness', 'Milk yield (kg)', 'Fat%', 'Protein%', 'Urea (mg/kg)', 'SCC (*1000/ml)', 'Lactose%', 'Avg Temperature (degC)', 'Air speed', 'Max temperature (degC)', 'Rumination time (min/day)', 'Avg pH', 'Avg Rumen Temperature ', 'Time pH<5,8 (h)', 'Manure consistency (1=fluid, 5= hard)', 'Manure fibre score (1=short, 5 = long)', 'Number of kernels', 'Manure sieving residu (%)', 'Manure dm (g/kg OM)', 'Manure starch (g/kg dm)', 'Urin-pH', 'Intake pre-period (kg dm)', 'Milk yield prepreriod (kg)', 'Fat% preperiod', 'Protein% preperiod', 'Fat preperiod (kg)', 'Protein preperiod (kg)', 'ECM preperiod (kg)', 'ECM (kg)', 'Crude fiber (g/day)', 'Sugar (g/day)', 'Crude protein (g/day)', 'Crude fat (g/day)', 'Starch (g/day)', 'Ca (g/day)', 'P (g/day)', 'Na (g/day)', 'Cl (g/day)', 'K (g/day)', 'Mg (g/day)', 'nXP (g/day)', 'RNB (g/day)', 'MELK (g/day)', 'NEL (g/day)', 'WDE (g/day)', 'EKB (g/day)', 'WDS (g/day)', 'SPK (g/day)', 'TPK (g/day)', 'SPE (g/day)', 'TPE (g/day)', 'plusI (/day)', 'WI (/day)', 'GP (g/day)', 'Crude fiber (g/kg dm)', 'Sugar (g/kg dm)', 'Crude protein (g/kg dm)', 'Crude fat (g/kg dm)', 'Starch (g/kg dm)', 'Ca (g/kg dm)', 'P (g/kg dm)', 'Na (g/kg dm)', 'Cl (g/kg dm)', 'K (g/kg dm)', 'Mg (g/kg dm)', 'nXP (g/kg dm)', 'RNB (g/kg dm)', 'MELK (/kg dm)', 'NEL (MJ/kg dm)', 'WDE (g/kg dm)', 'EKB (g/kg dm)', 'WDS (g/kg dm)', 'SPK (g/kg dm)', 'TPK (g/kg dm)', 'SPE (g/kg dm)', 'TPE (g/kg dm)', 'plusI (/kg dm)', 'WI (/kg dm)', 'GP (g/kg dm)']\n",
        "doubleColumns = ['Intake basal ration (kg dm)', 'Intake total ration (kg dm)', 'Water intake (kg)', 'Concentrate intake (kg)', 'Weight (kg)', 'BCS', 'Milk yield (kg)', 'Fat%', 'Protein%', 'Lactose%', 'Avg Temperature (degC)', 'Air speed', 'Max temperature (degC)', 'Avg pH', 'Avg Rumen Temperature ', 'Time pH<5,8 (h)', 'Number of kernels', 'Manure sieving residu (%)', 'Manure starch (g/kg dm)', 'Urin-pH', 'Intake pre-period (kg dm)', 'Milk yield prepreriod (kg)', 'Fat% preperiod', 'Protein% preperiod', 'Fat preperiod (kg)', 'Protein preperiod (kg)', 'ECM preperiod (kg)', 'ECM (kg)']\n",
        "intColumns = ['Cow number', 'Barn', 'Barn part', 'Lactation number', 'Days in milk', 'Day number', 'Week', 'Backfat Thickness', 'Urea (mg/kg)', 'SCC (*1000/ml)', 'Rumination time (min/day)', 'Manure consistency (1=fluid, 5= hard)', 'Manure fibre score (1=short, 5 = long)', 'Manure dm (g/kg OM)', 'Crude fiber (g/day)', 'Sugar (g/day)', 'Crude protein (g/day)', 'Crude fat (g/day)', 'Starch (g/day)', 'Ca (g/day)', 'P (g/day)', 'Na (g/day)', 'Cl (g/day)', 'K (g/day)', 'Mg (g/day)', 'nXP (g/day)', 'RNB (g/day)', 'MELK (g/day)', 'NEL (g/day)', 'WDE (g/day)', 'EKB (g/day)', 'WDS (g/day)', 'SPK (g/day)', 'TPK (g/day)', 'SPE (g/day)', 'TPE (g/day)', 'plusI (/day)', 'WI (/day)', 'GP (g/day)', 'Crude fiber (g/kg dm)', 'Sugar (g/kg dm)', 'Crude protein (g/kg dm)', 'Crude fat (g/kg dm)', 'Starch (g/kg dm)', 'Ca (g/kg dm)', 'P (g/kg dm)', 'Na (g/kg dm)', 'Cl (g/kg dm)', 'K (g/kg dm)', 'Mg (g/kg dm)', 'nXP (g/kg dm)', 'RNB (g/kg dm)', 'MELK (/kg dm)', 'NEL (MJ/kg dm)', 'WDE (g/kg dm)', 'EKB (g/kg dm)', 'WDS (g/kg dm)', 'SPK (g/kg dm)', 'TPK (g/kg dm)', 'SPE (g/kg dm)', 'TPE (g/kg dm)', 'plusI (/kg dm)', 'WI (/kg dm)', 'GP (g/kg dm)']\n",
        "stringColumn = ['Treatment', 'Period (VP = preperiod, HP = trial period)', 'Period part (VP = preperiod, HP = trial period)']\n",
        "\n",
        "columns_to_remove = ['Date', 'Period (VP = preperiod, HP = trial period)', 'Barn', 'Week', 'Rumination time (min/day)', 'Avg pH', 'Avg Rumen Temperature ', 'Time pH<5,8 (h)', 'Manure consistency (1=fluid, 5= hard)', 'Manure fibre score (1=short, 5 = long)', 'Number of kernels', 'Manure sieving residu (%)', 'Manure dm (g/kg OM)', 'Manure starch (g/kg dm)', 'Urin-pH']\n",
        "for column in columns_to_remove:\n",
        "  allColumns.remove(column)\n",
        "  # Try except ValueError because not every column is in every list\n",
        "  try: \n",
        "    doubleColumns.remove(column)\n",
        "  except ValueError:\n",
        "    pass\n",
        "  try: \n",
        "    intColumns.remove(column)\n",
        "  except ValueError:\n",
        "    pass\n",
        "  try: \n",
        "    stringColumn.remove(column)\n",
        "  except ValueError:\n",
        "    pass\n",
        "  milk_data = milk_data.drop(column)\n",
        "\n",
        "# Setting the columns to the correct type\n",
        "for colName in doubleColumns:\n",
        "  milk_data = fixType(milk_data, colName, \"double\")\n",
        "for colName in intColumns:\n",
        "  milk_data = fixType(milk_data, colName, \"int\")\n",
        "\n",
        "# Forward fill blank values\n",
        "# define the window\n",
        "window = Window.partitionBy('Cow number').orderBy('Day number').rowsBetween(-sys.maxsize, 0)\n",
        "\n",
        "for column in milk_data.columns:\n",
        "  # define the forward-filled column\n",
        "  filled_column = last(milk_data[column], ignorenulls=True).over(window)\n",
        "\n",
        "  # do the fill \n",
        "  milk_data = milk_data.withColumn(column,  filled_column)\n",
        "\n",
        "milk_data = milk_data.withColumn(\"Milk yield next day\", F.lead(\"Milk yield (kg)\", 1).over(Window.partitionBy('Cow number').orderBy('Day number')))\n",
        "intColumns.remove('Cow number')\n",
        "milk_data = milk_data.drop('Cow number')\n"
      ],
      "execution_count": 96,
      "outputs": []
    },
    {
      "cell_type": "code",
      "metadata": {
        "id": "XZoKULzabvt4",
        "colab": {
          "base_uri": "https://localhost:8080/"
        },
        "outputId": "6dd42769-e8fc-4cd6-8494-c1ff75bdca69"
      },
      "source": [
        "milk_data.select('Milk yield (kg)', 'Milk yield next day').show(10)"
      ],
      "execution_count": 105,
      "outputs": [
        {
          "output_type": "stream",
          "text": [
            "+---------------+-------------------+\n",
            "|Milk yield (kg)|Milk yield next day|\n",
            "+---------------+-------------------+\n",
            "|          29.35|              30.26|\n",
            "|          30.26|              30.74|\n",
            "|          30.74|              27.74|\n",
            "|          27.74|              27.95|\n",
            "|          27.95|              31.62|\n",
            "|          31.62|              29.24|\n",
            "|          29.24|              28.31|\n",
            "|          28.31|              25.38|\n",
            "|          25.38|              28.55|\n",
            "|          28.55|              30.11|\n",
            "+---------------+-------------------+\n",
            "only showing top 10 rows\n",
            "\n"
          ],
          "name": "stdout"
        }
      ]
    },
    {
      "cell_type": "code",
      "metadata": {
        "id": "aDNKg1KEtVZt"
      },
      "source": [
        ""
      ],
      "execution_count": 91,
      "outputs": []
    },
    {
      "cell_type": "code",
      "metadata": {
        "id": "odJJ8ZTnIEqt"
      },
      "source": [
        "predictionColName = 'predicted Milk yield'\n",
        "labelColName = \"Milk yield next day\"\n",
        "inputColNames = [f'{col}_encoded' for col in stringColumn] + doubleColumns + intColumns\n",
        "# inputColNames.remove(labelColName)\n",
        "\n",
        "milk_data = milk_data.dropna() #subset=inputColNames+[labelColName])\n",
        "\n",
        "# # Split dataset into test and training data\n",
        "train_data, test_data = milk_data.randomSplit([0.8, 0.2], 0)\n",
        "\n",
        "# Stages for pipeline\n",
        "# Index string columns\n",
        "index_strings = StringIndexer(inputCols = stringColumn, outputCols= [f'{col}_index'for col in stringColumn])\n",
        "\n",
        "# Encode string columns\n",
        "encoder = OneHotEncoder(inputCols=index_strings.getOutputCols(), \n",
        "                                 outputCols= [f'{col}_encoded' for col in stringColumn])\n",
        "\n",
        "# Vectorize input columns\n",
        "vectorizer = VectorAssembler(\n",
        "    inputCols = inputColNames,\n",
        "    # inputCols = inputColNames,\n",
        "    outputCol = \"features\")\n",
        "\n",
        "# standardizer = StandardScaler(True, True)\n",
        "\n",
        "lr = LinearRegression(featuresCol = 'features', labelCol=labelColName, predictionCol = predictionColName)\n",
        "\n",
        "# Create pipeline\n",
        "lr_pipeline = Pipeline(stages = [index_strings, encoder, vectorizer, lr])\n",
        "\n",
        "# Fit pipeline\n",
        "lr_model = lr_pipeline.fit(train_data)\n",
        "\n",
        "\n",
        "\n",
        "# standardizer.fit(lr_model).transform(lr_model)\n",
        "# scaled_features_matrix = RowMatrix(lr_model.select('features').rdd.map(lambda x: x[0].tolist()))\n",
        "# pca = scaled_features_matrix.computePrincipalComponents(5)\n",
        "# vectorized = vectorizer.transform(milk_data) #.select('features', 'Protein%')\n",
        "# test_data, train_data = vectorized.randomSplit([0.8, 0.2], 0)\n",
        "# lr_model = lr.fit(train_data)\n",
        "\n"
      ],
      "execution_count": 99,
      "outputs": []
    },
    {
      "cell_type": "code",
      "metadata": {
        "id": "N8wcTvDrGMi_"
      },
      "source": [
        ""
      ],
      "execution_count": null,
      "outputs": []
    },
    {
      "cell_type": "code",
      "metadata": {
        "colab": {
          "base_uri": "https://localhost:8080/"
        },
        "id": "WcD5Bv5TXilt",
        "outputId": "b6e2dec4-76c6-4e81-ab7f-127fe46392d1"
      },
      "source": [
        "# Inspecting the results of the previous model\n",
        "# The coefficients (i.e., weights) are as follows:\n",
        "weights = lr_model.stages[-1].coefficients\n",
        "weights_list = list(zip(inputColNames, weights))\n",
        "weights_list.sort(key=lambda tup: abs(tup[1]), reverse=True)\n",
        "# Print coefficients \n",
        "# list(zip(inputColNames, weights))\n",
        "print(weights_list[0:10])\n",
        " \n",
        "#  # Print the intercept\n",
        "# print(\"Intercept: \",lr_model.stages[-1].intercept)"
      ],
      "execution_count": 101,
      "outputs": [
        {
          "output_type": "stream",
          "text": [
            "[('Concentrate intake (kg)', -2.8589462201896274), ('Air speed', -2.662460199546413), ('Water intake (kg)', -2.111857311441087), ('Barn part', -2.055582542773407), ('Intake total ration (kg dm)', -1.7783645146884812), ('Lactation number', -1.7568089184335045), ('ECM preperiod (kg)', 1.5631854585018068), ('nXP (g/kg dm)', 1.3256963407635087), ('Intake pre-period (kg dm)', -1.0277614879263), ('Max temperature (degC)', -0.962208545222427)]\n"
          ],
          "name": "stdout"
        }
      ]
    },
    {
      "cell_type": "code",
      "metadata": {
        "colab": {
          "base_uri": "https://localhost:8080/"
        },
        "id": "vyAdt1gnKvnD",
        "outputId": "1eccff7a-ade8-4137-95d8-ab6d852af91b"
      },
      "source": [
        "# Model Predictions:\n",
        "\n",
        " # Apply our LR model to the test data and predict output\n",
        "predictionsLR = lr_model.transform(test_data)#.select(inputColNames + [labelColName] + [predictionColName])\n",
        "\n",
        " # Print the first 15 rows of your predictions\n",
        "predictionsLR.show(15)"
      ],
      "execution_count": 102,
      "outputs": [
        {
          "output_type": "stream",
          "text": [
            "+----------+---------+---------+----------------+------------+----------+-----------------------------------------------+---------------------------+---------------------------+-----------------+-----------------------+-----------+----+-----------------+---------------+----+--------+------------+--------------+--------+----------------------+---------+----------------------+-------------------------+--------------------------+--------------+------------------+------------------+----------------------+------------------+--------+-------------------+-------------+---------------------+-----------------+--------------+----------+---------+----------+----------+---------+----------+-----------+-----------+------------+-----------+-----------+-----------+-----------+-----------+-----------+-----------+-----------+------------+---------+----------+---------------------+---------------+-----------------------+-------------------+----------------+------------+-----------+------------+------------+-----------+------------+-------------+-------------+-------------+--------------+-------------+-------------+-------------+-------------+-------------+-------------+-------------+--------------+-----------+------------+-------------------+---------------+-----------------------------------------------------+-----------------+-------------------------------------------------------+--------------------+--------------------+\n",
            "|Cow number|Barn part|Treatment|Lactation number|Days in milk|Day number|Period part (VP = preperiod, HP = trial period)|Intake basal ration (kg dm)|Intake total ration (kg dm)|Water intake (kg)|Concentrate intake (kg)|Weight (kg)| BCS|Backfat Thickness|Milk yield (kg)|Fat%|Protein%|Urea (mg/kg)|SCC (*1000/ml)|Lactose%|Avg Temperature (degC)|Air speed|Max temperature (degC)|Intake pre-period (kg dm)|Milk yield prepreriod (kg)|Fat% preperiod|Protein% preperiod|Fat preperiod (kg)|Protein preperiod (kg)|ECM preperiod (kg)|ECM (kg)|Crude fiber (g/day)|Sugar (g/day)|Crude protein (g/day)|Crude fat (g/day)|Starch (g/day)|Ca (g/day)|P (g/day)|Na (g/day)|Cl (g/day)|K (g/day)|Mg (g/day)|nXP (g/day)|RNB (g/day)|MELK (g/day)|NEL (g/day)|WDE (g/day)|EKB (g/day)|WDS (g/day)|SPK (g/day)|TPK (g/day)|SPE (g/day)|TPE (g/day)|plusI (/day)|WI (/day)|GP (g/day)|Crude fiber (g/kg dm)|Sugar (g/kg dm)|Crude protein (g/kg dm)|Crude fat (g/kg dm)|Starch (g/kg dm)|Ca (g/kg dm)|P (g/kg dm)|Na (g/kg dm)|Cl (g/kg dm)|K (g/kg dm)|Mg (g/kg dm)|nXP (g/kg dm)|RNB (g/kg dm)|MELK (/kg dm)|NEL (MJ/kg dm)|WDE (g/kg dm)|EKB (g/kg dm)|WDS (g/kg dm)|SPK (g/kg dm)|TPK (g/kg dm)|SPE (g/kg dm)|TPE (g/kg dm)|plusI (/kg dm)|WI (/kg dm)|GP (g/kg dm)|Milk yield next day|Treatment_index|Period part (VP = preperiod, HP = trial period)_index|Treatment_encoded|Period part (VP = preperiod, HP = trial period)_encoded|            features|predicted Milk yield|\n",
            "+----------+---------+---------+----------------+------------+----------+-----------------------------------------------+---------------------------+---------------------------+-----------------+-----------------------+-----------+----+-----------------+---------------+----+--------+------------+--------------+--------+----------------------+---------+----------------------+-------------------------+--------------------------+--------------+------------------+------------------+----------------------+------------------+--------+-------------------+-------------+---------------------+-----------------+--------------+----------+---------+----------+----------+---------+----------+-----------+-----------+------------+-----------+-----------+-----------+-----------+-----------+-----------+-----------+-----------+------------+---------+----------+---------------------+---------------+-----------------------+-------------------+----------------+------------+-----------+------------+------------+-----------+------------+-------------+-------------+-------------+--------------+-------------+-------------+-------------+-------------+-------------+-------------+-------------+--------------+-----------+------------+-------------------+---------------+-----------------------------------------------------+-----------------+-------------------------------------------------------+--------------------+--------------------+\n",
            "|       858|        2|        O|               1|         184|        39|                                            HP1|                       12.3|                       14.7|             66.7|                  2.709|      597.0| 3.5|                8|          27.95|3.19|    2.85|         305|            95|    4.76|                  20.5|      1.5|                  22.6|                    16.82|                     33.44|           3.1|              2.95|              1.04|                  0.99|             29.05|   25.48|               2467|          661|                 2376|              531|          3323|        89|       66|        31|        68|      217|        48|       2318|         11|       16016|        103|       1325|        234|        844|       2892|       6562|        936|       1554|        1576|     1679|      2062|                  167|             45|                    161|                 36|             225|           6|          4|           2|           5|         15|           3|          157|            1|         1086|             7|           90|           16|           57|          196|          445|           64|          105|           107|        114|         140|              31.62|            2.0|                                                  2.0|    (3,[2],[1.0])|                                          (3,[2],[1.0])|[0.0,0.0,1.0,0.0,...|  27.679018542840463|\n",
            "|       858|        2|        O|               1|         193|        48|                                            HP1|                       14.2|                       14.4|             69.7|                  0.129|      593.0| 3.0|                7|          28.47|3.07|    2.89|         235|            62|    4.83|                  22.7|      0.9|                  29.3|                    16.82|                     33.44|           3.1|              2.95|              1.04|                  0.99|             29.05|   25.32|               2656|          577|                 2174|              503|          3106|        79|       58|        28|        74|      219|        48|       2185|          1|       15504|         97|       1196|        216|        764|       2827|       6537|        959|       1507|        1563|     1868|      2009|                  185|             40|                    151|                 35|             216|           6|          4|           2|           5|         15|           3|          152|            0|         1080|             7|           83|           15|           53|          197|          455|           67|          105|           109|        130|         140|              26.16|            2.0|                                                  2.0|    (3,[2],[1.0])|                                          (3,[2],[1.0])|[0.0,0.0,1.0,0.0,...|  27.742678282040107|\n",
            "|       858|        2|        O|               1|         194|        49|                                            HP1|                       15.0|                       15.2|             69.2|                  0.258|      601.0| 3.0|                7|          26.16|3.49|    2.93|         213|            76|    4.72|                  21.8|      1.2|                  26.3|                    16.82|                     33.44|           3.1|              2.95|              1.04|                  0.99|             29.05|    26.0|               2806|          616|                 2314|              534|          3303|        84|       62|        30|        78|      232|        51|       2322|          1|       16457|        104|       1274|        230|        813|       2999|       6929|       1015|       1600|        1657|     1971|      2132|                  184|             40|                    152|                 35|             217|           6|          4|           2|           5|         15|           3|          152|            0|         1081|             7|           84|           15|           53|          197|          455|           67|          105|           109|        129|         140|              23.72|            2.0|                                                  2.0|    (3,[2],[1.0])|                                          (3,[2],[1.0])|[0.0,0.0,1.0,0.0,...|  26.772824447538884|\n",
            "|       858|        2|        O|               1|         195|        50|                                            HP2|                       14.6|                       17.0|             83.6|                  2.709|      605.5| 3.0|                7|          23.72|3.49|    2.93|         213|            76|    4.72|                  21.6|      0.6|                  27.3|                    16.82|                     33.44|           3.1|              2.95|              1.04|                  0.99|             29.05|    26.0|               2883|          750|                 2714|              609|          3806|       101|       75|        36|        80|      251|        56|       2658|         11|       18433|        118|       1511|        268|        963|       3333|       7582|       1086|       1789|        1819|     1972|      2376|                  170|             44|                    160|                 36|             224|           6|          4|           2|           5|         15|           3|          157|            1|         1086|             7|           89|           16|           57|          196|          447|           64|          105|           107|        116|         140|              34.25|            2.0|                                                  0.0|    (3,[2],[1.0])|                                          (3,[0],[1.0])|[0.0,0.0,1.0,1.0,...|  29.191173516708925|\n",
            "|       858|        2|        O|               1|         197|        52|                                            HP2|                       14.0|                       16.4|             68.9|                  2.709|      604.0| 3.0|                7|          29.91|3.49|    2.93|         213|            76|    4.72|                  20.9|      1.1|                  26.8|                    16.82|                     33.44|           3.1|              2.95|              1.04|                  0.99|             29.05|    26.0|               2777|          728|                 2628|              589|          3683|        98|       72|        35|        77|      242|        54|       2571|         11|       17817|        114|       1463|        259|        933|       3220|       7322|       1048|       1729|        1757|     1897|      2296|                  169|             44|                    160|                 36|             224|           6|          4|           2|           5|         15|           3|          157|            1|         1086|             7|           89|           16|           57|          196|          446|           64|          105|           107|        116|         140|              29.64|            2.0|                                                  0.0|    (3,[2],[1.0])|                                          (3,[0],[1.0])|[0.0,0.0,1.0,1.0,...|   28.88439528486904|\n",
            "|       858|        2|        O|               1|         209|        64|                                            HP2|                       14.3|                       16.3|             56.6|                  2.193|      614.5| 3.0|                7|          25.57|3.35|    3.05|         198|            57|    4.77|                  14.0|      1.9|                  16.4|                    16.82|                     33.44|           3.1|              2.95|              1.04|                  0.99|             29.05|   24.89|               2795|          701|                 2578|              569|          3709|        96|       70|        33|        77|      240|        53|       2174|          0|       17710|        112|       1439|        240|        877|       3303|       7378|       1062|       1733|        1801|     1925|      2277|                  172|             43|                    159|                 35|             228|           6|          4|           2|           5|         15|           3|          134|            0|         1089|             7|           88|           15|           54|          203|          454|           65|          107|           111|        118|         140|              28.64|            2.0|                                                  0.0|    (3,[2],[1.0])|                                          (3,[0],[1.0])|[0.0,0.0,1.0,1.0,...|   27.25435860500955|\n",
            "|       858|        2|        O|               1|         212|        67|                                            HP2|                       11.9|                       14.3|             65.2|                  2.709|      611.0| 3.0|                7|          25.43|3.35|    3.05|         198|            57|    4.77|                  14.8|      1.5|                  17.9|                    16.82|                     33.44|           3.1|              2.95|              1.04|                  0.99|             29.05|   24.89|               2377|          635|                 2312|              501|          3333|        87|       63|        29|        65|      208|        46|       1807|          0|       15633|         99|       1297|        210|        778|       2942|       6478|        925|       1533|        1595|     1621|      2003|                  166|             44|                    162|                 35|             233|           6|          4|           2|           5|         15|           3|          126|            0|         1092|             7|           91|           15|           54|          206|          453|           65|          107|           111|        113|         140|              25.06|            2.0|                                                  0.0|    (3,[2],[1.0])|                                          (3,[0],[1.0])|[0.0,0.0,1.0,1.0,...|   27.69594860986123|\n",
            "|       858|        2|        O|               1|         213|        68|                                            HP2|                        8.0|                       10.5|             60.2|                  2.709|      606.5| 3.0|                7|          25.06|3.35|    3.05|         198|            57|    4.77|                  14.3|      1.3|                  18.4|                    16.82|                     33.44|           3.1|              2.95|              1.04|                  0.99|             29.05|   24.89|               1659|          480|                 1729|              366|          2499|        65|       48|        22|        45|      149|        33|       1220|          0|       11464|         73|        977|        152|        573|       2181|       4718|        666|       1128|        1174|     1115|      1463|                  159|             46|                    165|                 35|             239|           6|          5|           2|           4|         14|           3|          117|            0|         1097|             7|           93|           15|           55|          209|          451|           64|          108|           112|        107|         140|              25.19|            2.0|                                                  0.0|    (3,[2],[1.0])|                                          (3,[0],[1.0])|[0.0,0.0,1.0,1.0,...|   26.68164383203217|\n",
            "|       858|        2|        O|               1|         222|        77|                                            HP3|                       12.6|                       14.7|             65.7|                  2.322|      604.5| 3.0|                7|          32.89|3.82|     3.2|         178|            40|    4.68|                  16.6|      0.9|                  20.5|                    16.82|                     33.44|           3.1|              2.95|              1.04|                  0.99|             29.05|   27.88|               2481|          639|                 2342|              513|          3371|        87|       64|        30|        68|      214|        47|       1911|          0|       15974|        101|       1310|        216|        793|       2991|       6639|        953|       1565|        1627|     1701|      2051|                  169|             44|                    160|                 35|             230|           6|          4|           2|           5|         15|           3|          130|            0|         1090|             7|           89|           15|           54|          204|          453|           65|          107|           111|        116|         140|              33.39|            2.0|                                                  1.0|    (3,[2],[1.0])|                                          (3,[1],[1.0])|[0.0,0.0,1.0,0.0,...|   27.80605932383781|\n",
            "|       858|        2|        O|               1|         224|        79|                                            HP3|                       14.9|                       17.3|             67.0|                  2.709|      615.0| 3.0|                7|           26.6|3.82|     3.2|         178|            40|    4.68|                  18.0|      1.0|                  21.7|                    16.82|                     33.44|           3.1|              2.95|              1.04|                  0.99|             29.05|   27.88|               2936|          755|                 2766|              606|          3982|       103|       76|        35|        81|      254|        56|       2264|          0|       18877|        120|       1547|        255|        937|       3534|       7848|       1126|       1849|        1922|     2014|      2424|                  170|             44|                    160|                 35|             230|           6|          4|           2|           5|         15|           3|          131|            0|         1090|             7|           89|           15|           54|          204|          453|           65|          107|           111|        116|         140|              26.81|            2.0|                                                  1.0|    (3,[2],[1.0])|                                          (3,[1],[1.0])|[0.0,0.0,1.0,0.0,...|   27.77873842171064|\n",
            "|       858|        2|        O|               1|         231|        86|                                            HP3|                       16.4|                       18.8|             55.3|                  2.709|      606.0|3.25|               11|          23.18|3.68|    3.12|         312|            66|    4.82|                  16.5|      1.2|                  19.0|                    16.82|                     33.44|           3.1|              2.95|              1.04|                  0.99|             29.05|   26.35|               3208|          813|                 2987|              657|          4298|       111|       81|        38|        89|      276|        61|       2486|          0|       20458|        130|       1668|        277|       1014|       3822|       8515|       1224|       2003|        2081|     2206|      2629|                  171|             43|                    159|                 35|             229|           6|          4|           2|           5|         15|           3|          132|            0|         1089|             7|           89|           15|           54|          204|          453|           65|          107|           111|        117|         140|              26.89|            2.0|                                                  1.0|    (3,[2],[1.0])|                                          (3,[1],[1.0])|[0.0,0.0,1.0,0.0,...|  26.277799281543707|\n",
            "|       858|        2|        O|               1|         234|        89|                                            HP3|                       17.5|                       19.9|             69.5|                  2.709|      606.0|3.25|               11|          26.43|3.68|    3.12|         312|            66|    4.82|                  18.4|      1.7|                  23.4|                    16.82|                     33.44|           3.1|              2.95|              1.04|                  0.99|             29.05|   26.35|               3422|          859|                 3160|              697|          4546|       117|       86|        40|        95|      294|        65|       2661|          0|       21700|        137|       1764|        294|       1075|       4048|       9040|       1301|       2123|        2207|     2357|      2790|                  172|             43|                    159|                 35|             228|           6|          4|           2|           5|         15|           3|          134|            0|         1089|             7|           88|           15|           54|          203|          454|           65|          107|           111|        118|         140|              31.47|            2.0|                                                  1.0|    (3,[2],[1.0])|                                          (3,[1],[1.0])|[0.0,0.0,1.0,0.0,...|  27.442835281253004|\n",
            "|       897|        2|        O|               1|          97|        37|                                            HP1|                       15.1|                       18.5|             82.9|                  3.741|      551.5|3.75|               11|          27.22|3.72|    3.04|         358|            18|    4.98|                  25.2|      1.8|                  30.7|                    18.82|                     33.65|          3.46|              3.16|              1.16|                  1.06|             31.08|   28.59|               3054|          837|                 2995|              666|          4178|       113|       83|        40|        84|      270|        60|       2912|         16|       20067|        129|       1672|        295|       1066|       3619|       8196|       1166|       1947|        1969|     2069|      2582|                  165|             45|                    162|                 36|             226|           6|          4|           2|           5|         15|           3|          158|            1|         1087|             7|           91|           16|           58|          196|          444|           63|          105|           107|        112|         140|              32.94|            2.0|                                                  2.0|    (3,[2],[1.0])|                                          (3,[2],[1.0])|[0.0,0.0,1.0,0.0,...|  28.814574943905395|\n",
            "|       897|        2|        O|               1|         104|        44|                                            HP1|                       15.6|                       18.9|             74.7|                  3.741|      539.0|3.75|               11|          30.48|3.71|    3.26|         264|            38|    4.96|                  21.8|      1.7|                  25.4|                    18.82|                     33.65|          3.46|              3.16|              1.16|                  1.06|             31.08|   27.24|               3145|          856|                 3069|              683|          4284|       115|       85|        41|        87|      278|        62|       2986|         16|       20597|        132|       1713|        302|       1092|       3716|       8420|       1199|       1999|        2022|     2134|      2651|                  166|             45|                    162|                 36|             226|           6|          4|           2|           5|         15|           3|          158|            1|         1087|             7|           90|           16|           58|          196|          444|           63|          105|           107|        113|         140|              24.49|            2.0|                                                  2.0|    (3,[2],[1.0])|                                          (3,[2],[1.0])|[0.0,0.0,1.0,0.0,...|   27.86575237847099|\n",
            "|       897|        2|        O|               1|         113|        53|                                            HP2|                       21.8|                       25.1|             82.7|                  3.741|      564.5|4.25|                9|          30.22|3.82|    3.18|         237|            19|    4.87|                  20.9|      0.8|                  25.3|                    18.82|                     33.65|          3.46|              3.16|              1.16|                  1.06|             31.08|   27.31|               4295|         1104|                 4002|              900|          5619|       149|      110|        53|       119|      372|        82|       3926|         16|       27270|        174|       2226|        395|       1419|       4933|      11237|       1613|       2648|        2696|     2943|      3516|                  171|             44|                    159|                 36|             224|           6|          4|           2|           5|         15|           3|          156|            1|         1085|             7|           89|           16|           56|          196|          447|           64|          105|           107|        117|         140|              26.57|            2.0|                                                  0.0|    (3,[2],[1.0])|                                          (3,[0],[1.0])|[0.0,0.0,1.0,1.0,...|   30.24243193999302|\n",
            "+----------+---------+---------+----------------+------------+----------+-----------------------------------------------+---------------------------+---------------------------+-----------------+-----------------------+-----------+----+-----------------+---------------+----+--------+------------+--------------+--------+----------------------+---------+----------------------+-------------------------+--------------------------+--------------+------------------+------------------+----------------------+------------------+--------+-------------------+-------------+---------------------+-----------------+--------------+----------+---------+----------+----------+---------+----------+-----------+-----------+------------+-----------+-----------+-----------+-----------+-----------+-----------+-----------+-----------+------------+---------+----------+---------------------+---------------+-----------------------+-------------------+----------------+------------+-----------+------------+------------+-----------+------------+-------------+-------------+-------------+--------------+-------------+-------------+-------------+-------------+-------------+-------------+-------------+--------------+-----------+------------+-------------------+---------------+-----------------------------------------------------+-----------------+-------------------------------------------------------+--------------------+--------------------+\n",
            "only showing top 15 rows\n",
            "\n"
          ],
          "name": "stdout"
        }
      ]
    },
    {
      "cell_type": "code",
      "metadata": {
        "colab": {
          "base_uri": "https://localhost:8080/"
        },
        "id": "5tIoTyRxXums",
        "outputId": "15444306-e297-46b1-dd82-fef3ab29c9f7"
      },
      "source": [
        "print(lr_model.extractParamMap())"
      ],
      "execution_count": 41,
      "outputs": [
        {
          "output_type": "stream",
          "text": [
            "{}\n"
          ],
          "name": "stdout"
        }
      ]
    },
    {
      "cell_type": "code",
      "metadata": {
        "colab": {
          "base_uri": "https://localhost:8080/"
        },
        "id": "8FbVbCsrYC6N",
        "outputId": "68a9db25-b83e-4291-e6c9-c93b5ac6287c"
      },
      "source": [
        "# Now let's compute an evaluation metric for our test dataset\n",
        "from pyspark.ml.evaluation import RegressionEvaluator\n",
        "\n",
        " # Create an RMSE evaluator using the label and predicted columns\n",
        "regEval = RegressionEvaluator(predictionCol=predictionColName, labelCol=labelColName, metricName=\"rmse\")\n",
        "\n",
        " # Run the evaluator on the DataFrame\n",
        "rmse = regEval.evaluate(predictionsLR)\n",
        "\n",
        "print(f\"Root Mean Squared Error: {rmse}\")\n",
        "\n",
        "# Now let's compute another evaluation metric for our test dataset\n",
        "r2 = regEval.evaluate(predictionsLR, {regEval.metricName: \"r2\"})\n",
        "\n",
        "print(f\"r2: {r2}\")\n",
        "sns.scatterplot(x=labelColName, y=predictionColName, data=predictionsLR.toPandas())"
      ],
      "execution_count": null,
      "outputs": [
        {
          "output_type": "stream",
          "text": [
            "Root Mean Squared Error: 4.130870256377159\n",
            "r2: 0.6213039421349454\n"
          ],
          "name": "stdout"
        }
      ]
    },
    {
      "cell_type": "code",
      "metadata": {
        "id": "7c2p-QIoaI9c"
      },
      "source": [
        "## Use paramater tuning to try to create a better linear regression model\n",
        "from pyspark.ml.tuning import ParamGridBuilder, CrossValidator\n",
        "\n",
        "# We can reuse the RegressionEvaluator, regEval, to judge the model based on the best Root Mean Squared Error\n",
        "# Let's create our CrossValidator with 3 fold cross validation\n",
        "crossval = CrossValidator(estimator=lr_pipeline, evaluator=regEval, numFolds=3)\n",
        "\n",
        "# Tune over our regularization parameter from 0.01 to 0.10\n",
        "regParam = [x / 100.0 for x in range(1, 11, 2)]\n",
        "\n",
        "# Create a paramter grid using the ParamGridBuilder,\n",
        "# and add the grid to the CrossValidator\n",
        "paramGrid = (ParamGridBuilder()\n",
        "             .addGrid(lr.regParam, regParam)\n",
        "             .build())\n",
        "crossval.setEstimatorParamMaps(paramGrid)\n",
        "\n",
        "# Find and return the best model\n",
        "cvModel = crossval.fit(train_data).bestModel"
      ],
      "execution_count": 51,
      "outputs": []
    },
    {
      "cell_type": "code",
      "metadata": {
        "id": "GQ8GBX2ciPc2"
      },
      "source": [
        ""
      ],
      "execution_count": null,
      "outputs": []
    }
  ]
}