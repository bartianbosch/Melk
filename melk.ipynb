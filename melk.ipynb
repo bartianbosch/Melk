{
  "nbformat": 4,
  "nbformat_minor": 0,
  "metadata": {
    "colab": {
      "name": "melk.ipynb",
      "provenance": [],
      "collapsed_sections": [],
      "authorship_tag": "ABX9TyP32gMmiIB1/UB55qVo3xo6",
      "include_colab_link": true
    },
    "kernelspec": {
      "name": "python3",
      "display_name": "Python 3"
    }
  },
  "cells": [
    {
      "cell_type": "markdown",
      "metadata": {
        "id": "view-in-github",
        "colab_type": "text"
      },
      "source": [
        "<a href=\"https://colab.research.google.com/github/bartianbosch/Melk/blob/Bartian/melk.ipynb\" target=\"_parent\"><img src=\"https://colab.research.google.com/assets/colab-badge.svg\" alt=\"Open In Colab\"/></a>"
      ]
    },
    {
      "cell_type": "code",
      "metadata": {
        "colab": {
          "base_uri": "https://localhost:8080/"
        },
        "id": "VZ2mPRZSHiRl",
        "outputId": "86a712b2-97f2-4f62-8032-89345daf84fb"
      },
      "source": [
        "# To initialize Apache Spark, run this cell\n",
        "!apt-get update\n",
        "!apt-get install openjdk-8-jdk-headless -qq > /dev/null\n",
        "!wget -q http://downloads.apache.org/spark/spark-2.4.7/spark-2.4.7-bin-hadoop2.7.tgz\n",
        "!tar xf spark-2.4.7-bin-hadoop2.7.tgz\n",
        "!pip install -q findspark\n",
        "!pip install -q pyspark\n",
        "\n",
        "import os\n",
        "os.environ[\"JAVA_HOME\"] = \"/usr/lib/jvm/java-8-openjdk-amd64\"\n",
        "os.environ[\"SPARK_HOME\"] = \"/content/spark-2.4.7-bin-hadoop2.7\"\n",
        "os.environ[\"PYTHON\"] = os.environ[\"SPARK_HOME\"] + \"/python\"\n",
        "import findspark\n",
        "findspark.init()\n",
        "from pyspark import SparkFiles\n",
        "from pyspark import SparkContext\n",
        "from pyspark.sql import SparkSession\n",
        "from pyspark.sql import types\n",
        "from pyspark.sql import functions as F\n",
        "from pyspark.sql import SparkSession\n",
        "from pyspark.sql import SQLContext\n",
        "from pyspark.sql import Window\n",
        "from pyspark.sql.functions import last\n",
        "from pyspark.ml.regression import LinearRegression, LinearRegressionModel\n",
        "from pyspark.ml.feature import StringIndexer, OneHotEncoderEstimator, VectorAssembler\n",
        "from pyspark.ml import Pipeline\n",
        "import pandas as pd\n",
        "import matplotlib.pyplot as plt\n",
        "import seaborn as sns \n",
        "from datetime import date\n",
        "import sys\n",
        "\n",
        "# Initialise stuff\n",
        "sp = SparkSession.builder.master(\"local[*]\").getOrCreate()\n",
        "sc = SparkContext.getOrCreate()\n",
        "spark = SparkSession.builder.getOrCreate()\n",
        "sqlContext = SQLContext(sc)\n",
        "\n",
        "plt.close('all')\n",
        "plt.rcParams['figure.figsize'] = [30, 20]\n",
        "\n",
        "milk_data = spark.read.csv('/content/gdrive/MyDrive/Big_Data_Groupwork/ff_dairy_v1.csv', header=True, inferSchema = True)\n",
        "url = 'https://raw.githubusercontent.com/bartianbosch/Melk/main/ff_dairy_v1_preprocessed.csv'\n",
        "fileName = url.split('/')[-1]\n",
        "spark.sparkContext.addFile(url)\n",
        "# milk_data = spark.read.csv(SparkFiles.get(fileName), header=True)\n",
        "\n",
        "def fixType(datasetName, colName, dataType):\n",
        "  \"\"\"Takes a dataset and returns the dataset with the given column set to the given dataype\"\"\"\n",
        "  return datasetName.withColumn(colName, F.col(colName).cast(dataType))\n",
        "\n",
        "# Preparing Lists with the colum names and which type they need to be\n",
        "allColumns = ['Cow number', 'Date', 'Barn', 'Barn part', 'Treatment', 'Lactation number', 'Days in milk', 'Day number', 'Week', 'Period (VP = preperiod, HP = trial period)', 'Period part (VP = preperiod, HP = trial period)', 'Intake basal ration (kg dm)', 'Intake total ration (kg dm)', 'Water intake (kg)', 'Concentrate intake (kg)', 'Weight (kg)', 'BCS', 'Backfat Thickness', 'Milk yield (kg)', 'Fat%', 'Protein%', 'Urea (mg/kg)', 'SCC (*1000/ml)', 'Lactose%', 'Avg Temperature (degC)', 'Air speed', 'Max temperature (degC)', 'Rumination time (min/day)', 'Avg pH', 'Avg Rumen Temperature ', 'Time pH<5,8 (h)', 'Manure consistency (1=fluid, 5= hard)', 'Manure fibre score (1=short, 5 = long)', 'Number of kernels', 'Manure sieving residu (%)', 'Manure dm (g/kg OM)', 'Manure starch (g/kg dm)', 'Urin-pH', 'Intake pre-period (kg dm)', 'Milk yield prepreriod (kg)', 'Fat% preperiod', 'Protein% preperiod', 'Fat preperiod (kg)', 'Protein preperiod (kg)', 'ECM preperiod (kg)', 'ECM (kg)', 'Crude fiber (g/day)', 'Sugar (g/day)', 'Crude protein (g/day)', 'Crude fat (g/day)', 'Starch (g/day)', 'Ca (g/day)', 'P (g/day)', 'Na (g/day)', 'Cl (g/day)', 'K (g/day)', 'Mg (g/day)', 'nXP (g/day)', 'RNB (g/day)', 'MELK (g/day)', 'NEL (g/day)', 'WDE (g/day)', 'EKB (g/day)', 'WDS (g/day)', 'SPK (g/day)', 'TPK (g/day)', 'SPE (g/day)', 'TPE (g/day)', 'plusI (/day)', 'WI (/day)', 'GP (g/day)', 'Crude fiber (g/kg dm)', 'Sugar (g/kg dm)', 'Crude protein (g/kg dm)', 'Crude fat (g/kg dm)', 'Starch (g/kg dm)', 'Ca (g/kg dm)', 'P (g/kg dm)', 'Na (g/kg dm)', 'Cl (g/kg dm)', 'K (g/kg dm)', 'Mg (g/kg dm)', 'nXP (g/kg dm)', 'RNB (g/kg dm)', 'MELK (/kg dm)', 'NEL (MJ/kg dm)', 'WDE (g/kg dm)', 'EKB (g/kg dm)', 'WDS (g/kg dm)', 'SPK (g/kg dm)', 'TPK (g/kg dm)', 'SPE (g/kg dm)', 'TPE (g/kg dm)', 'plusI (/kg dm)', 'WI (/kg dm)', 'GP (g/kg dm)']\n",
        "doubleColumns = ['Intake basal ration (kg dm)', 'Intake total ration (kg dm)', 'Water intake (kg)', 'Concentrate intake (kg)', 'Weight (kg)', 'BCS', 'Milk yield (kg)', 'Fat%', 'Protein%', 'Lactose%', 'Avg Temperature (degC)', 'Air speed', 'Max temperature (degC)', 'Avg pH', 'Avg Rumen Temperature ', 'Time pH<5,8 (h)', 'Number of kernels', 'Manure sieving residu (%)', 'Manure starch (g/kg dm)', 'Urin-pH', 'Intake pre-period (kg dm)', 'Milk yield prepreriod (kg)', 'Fat% preperiod', 'Protein% preperiod', 'Fat preperiod (kg)', 'Protein preperiod (kg)', 'ECM preperiod (kg)', 'ECM (kg)']\n",
        "intColumns = ['Cow number', 'Barn', 'Barn part', 'Lactation number', 'Days in milk', 'Day number', 'Week', 'Backfat Thickness', 'Urea (mg/kg)', 'SCC (*1000/ml)', 'Rumination time (min/day)', 'Manure consistency (1=fluid, 5= hard)', 'Manure fibre score (1=short, 5 = long)', 'Manure dm (g/kg OM)', 'Crude fiber (g/day)', 'Sugar (g/day)', 'Crude protein (g/day)', 'Crude fat (g/day)', 'Starch (g/day)', 'Ca (g/day)', 'P (g/day)', 'Na (g/day)', 'Cl (g/day)', 'K (g/day)', 'Mg (g/day)', 'nXP (g/day)', 'RNB (g/day)', 'MELK (g/day)', 'NEL (g/day)', 'WDE (g/day)', 'EKB (g/day)', 'WDS (g/day)', 'SPK (g/day)', 'TPK (g/day)', 'SPE (g/day)', 'TPE (g/day)', 'plusI (/day)', 'WI (/day)', 'GP (g/day)', 'Crude fiber (g/kg dm)', 'Sugar (g/kg dm)', 'Crude protein (g/kg dm)', 'Crude fat (g/kg dm)', 'Starch (g/kg dm)', 'Ca (g/kg dm)', 'P (g/kg dm)', 'Na (g/kg dm)', 'Cl (g/kg dm)', 'K (g/kg dm)', 'Mg (g/kg dm)', 'nXP (g/kg dm)', 'RNB (g/kg dm)', 'MELK (/kg dm)', 'NEL (MJ/kg dm)', 'WDE (g/kg dm)', 'EKB (g/kg dm)', 'WDS (g/kg dm)', 'SPK (g/kg dm)', 'TPK (g/kg dm)', 'SPE (g/kg dm)', 'TPE (g/kg dm)', 'plusI (/kg dm)', 'WI (/kg dm)', 'GP (g/kg dm)']\n",
        "stringColumn = ['Treatment', 'Period (VP = preperiod, HP = trial period)', 'Period part (VP = preperiod, HP = trial period)']\n",
        "\n",
        "columns_to_remove = ['Date', 'Rumination time (min/day)', 'Avg pH', 'Avg Rumen Temperature ', 'Time pH<5,8 (h)', 'Manure consistency (1=fluid, 5= hard)', 'Manure fibre score (1=short, 5 = long)', 'Number of kernels', 'Manure sieving residu (%)', 'Manure dm (g/kg OM)', 'Manure starch (g/kg dm)', 'Urin-pH']\n",
        "for column in columns_to_remove:\n",
        "  allColumns.remove(column)\n",
        "  # Try excpet ValueError because not every column is in every list\n",
        "  try: \n",
        "    doubleColumns.remove(column)\n",
        "  except ValueError:\n",
        "    pass\n",
        "  try: \n",
        "    intColumns.remove(column)\n",
        "  except ValueError:\n",
        "    pass\n",
        "  try: \n",
        "    stringColumn.remove(column)\n",
        "  except ValueError:\n",
        "    pass\n",
        "  milk_data = milk_data.drop(column)\n",
        "\n",
        "# Setting the columns to the correct type\n",
        "for colName in doubleColumns:\n",
        "  milk_data = fixType(milk_data, colName, \"double\")\n",
        "for colName in intColumns:\n",
        "  milk_data = fixType(milk_data, colName, \"int\")\n",
        "\n",
        "milk_data.repartition('Cow number')\n",
        "\n",
        "# Forward fill blank values\n",
        "# define the window\n",
        "window = Window.partitionBy('Cow number').orderBy('Day number').rowsBetween(-sys.maxsize, 0)\n",
        "\n",
        "for column in milk_data.columns:\n",
        "  # define the forward-filled column\n",
        "  filled_column = last(milk_data[column], ignorenulls=True).over(window)\n",
        "\n",
        "  # do the fill \n",
        "  milk_data = milk_data.withColumn(column,  filled_column)\n",
        "\n",
        "# milk_data = milk_rdd2.withColumn(\"Date\", F.col(\"Date\").cast(\"date\"))\n",
        "\n",
        "# Remove units and characters SQL doesn't like from column names\n",
        "# str_to_remove = [r'(', r')'] #r' dm', r'kg/day', r'g/day', r'mg/day', r'mg/kg', r\"g/kg\", r\"*1000/ml\", 'min/day', '(g)', r\"kg\", '(h)', \"/\", r'%', , r' =', 'degC'\n",
        "# columns_list = [allColumns, doubleColumns, intColumns, stringColumn]\n",
        "# allColumnsTemp = [col for col in allColumns]\n",
        "# for column in columns_list:\n",
        "#   for i in range(len(column)):\n",
        "#     for substring in str_to_remove:\n",
        "#       column[i] = column[i].replace(substring, '').strip()\n",
        "#       column[i] = column[i].replace('/', ' ').strip()\n",
        "  \n",
        "\n",
        "# for col1, col2 in zip(allColumnsTemp, allColumns):\n",
        "#   milk_data = milk_data.withColumnRenamed(col1, col2)\n",
        "# milk_data.printSchema()\n"
      ],
      "execution_count": null,
      "outputs": [
        {
          "output_type": "stream",
          "text": [
            "Hit:1 https://cloud.r-project.org/bin/linux/ubuntu bionic-cran40/ InRelease\n",
            "Ign:2 https://developer.download.nvidia.com/compute/cuda/repos/ubuntu1804/x86_64  InRelease\n",
            "Hit:3 http://security.ubuntu.com/ubuntu bionic-security InRelease\n",
            "Ign:4 https://developer.download.nvidia.com/compute/machine-learning/repos/ubuntu1804/x86_64  InRelease\n",
            "Hit:5 https://developer.download.nvidia.com/compute/cuda/repos/ubuntu1804/x86_64  Release\n",
            "Hit:6 https://developer.download.nvidia.com/compute/machine-learning/repos/ubuntu1804/x86_64  Release\n",
            "Hit:7 http://archive.ubuntu.com/ubuntu bionic InRelease\n",
            "Hit:8 http://ppa.launchpad.net/c2d4u.team/c2d4u4.0+/ubuntu bionic InRelease\n",
            "Hit:10 http://archive.ubuntu.com/ubuntu bionic-updates InRelease\n",
            "Hit:12 http://archive.ubuntu.com/ubuntu bionic-backports InRelease\n",
            "Hit:13 http://ppa.launchpad.net/graphics-drivers/ppa/ubuntu bionic InRelease\n",
            "Reading package lists... Done\n"
          ],
          "name": "stdout"
        }
      ]
    },
    {
      "cell_type": "code",
      "metadata": {
        "id": "XZoKULzabvt4",
        "colab": {
          "base_uri": "https://localhost:8080/"
        },
        "outputId": "56db2938-f019-40f8-efa5-41cc8c7a987c"
      },
      "source": [
        "# allColumns = ['Cow number', 'Date', 'Barn', 'Barn part', 'Treatment', 'Lactation number', 'Days in milk', 'Day number', 'Week', 'Period (VP = preperiod, HP = trial period)', 'Period part (VP = preperiod, HP = trial period)', 'Intake basal ration (kg dm)', 'Intake total ration (kg dm)', 'Water intake (kg)', 'Concentrate intake (kg)', 'Weight (kg)', 'BCS', 'Backfat Thickness', 'Milk yield (kg)', 'Fat%', 'Protein%', 'Urea (mg/kg)', 'SCC (*1000/ml)', 'Lactose%', 'Avg Temperature (degC)', 'Air speed', 'Max temperature (degC)', 'Rumination time (min/day)', 'Avg pH', 'Avg Rumen Temperature ', 'Time pH<5,8 (h)', 'Manure consistency (1=fluid, 5= hard)', 'Manure fibre score (1=short, 5 = long)', 'Number of kernels', 'Manure sieving residu (%)', 'Manure dm (g/kg OM)', 'Manure starch (g/kg dm)', 'Urin-pH', 'Intake pre-period (kg dm)', 'Milk yield prepreriod (kg)', 'Fat% preperiod', 'Protein% preperiod', 'Fat preperiod (kg)', 'Protein preperiod (kg)', 'ECM preperiod (kg)', 'ECM (kg)', 'Crude fiber (g/day)', 'Sugar (g/day)', 'Crude protein (g/day)', 'Crude fat (g/day)', 'Starch (g/day)', 'Ca (g/day)', 'P (g/day)', 'Na (g/day)', 'Cl (g/day)', 'K (g/day)', 'Mg (g/day)', 'nXP (g/day)', 'RNB (g/day)', 'MELK (g/day)', 'NEL (g/day)', 'WDE (g/day)', 'EKB (g/day)', 'WDS (g/day)', 'SPK (g/day)', 'TPK (g/day)', 'SPE (g/day)', 'TPE (g/day)', 'plusI (/day)', 'WI (/day)', 'GP (g/day)', 'Crude fiber (g/kg dm)', 'Sugar (g/kg dm)', 'Crude protein (g/kg dm)', 'Crude fat (g/kg dm)', 'Starch (g/kg dm)', 'Ca (g/kg dm)', 'P (g/kg dm)', 'Na (g/kg dm)', 'Cl (g/kg dm)', 'K (g/kg dm)', 'Mg (g/kg dm)', 'nXP (g/kg dm)', 'RNB (g/kg dm)', 'MELK (/kg dm)', 'NEL (MJ/kg dm)', 'WDE (g/kg dm)', 'EKB (g/kg dm)', 'WDS (g/kg dm)', 'SPK (g/kg dm)', 'TPK (g/kg dm)', 'SPE (g/kg dm)', 'TPE (g/kg dm)', 'plusI (/kg dm)', 'WI (/kg dm)', 'GP (g/kg dm)']\n",
        "# doubleColumns = ['Intake basal ration (kg dm)', 'Intake total ration (kg dm)', 'Water intake (kg)', 'Concentrate intake (kg)', 'Weight (kg)', 'BCS', 'Milk yield (kg)', 'Fat%', 'Protein%', 'Lactose%', 'Avg Temperature (degC)', 'Air speed', 'Max temperature (degC)', 'Avg pH', 'Avg Rumen Temperature ', 'Time pH<5,8 (h)', 'Number of kernels', 'Manure sieving residu (%)', 'Manure starch (g/kg dm)', 'Urin-pH', 'Intake pre-period (kg dm)', 'Milk yield prepreriod (kg)', 'Fat% preperiod', 'Protein% preperiod', 'Fat preperiod (kg)', 'Protein preperiod (kg)', 'ECM preperiod (kg)', 'ECM (kg)']\n",
        "# intColumns = ['Cow number', 'Barn', 'Barn part', 'Lactation number', 'Days in milk', 'Day number', 'Week', 'Backfat Thickness', 'Urea (mg/kg)', 'SCC (*1000/ml)', 'Rumination time (min/day)', 'Manure consistency (1=fluid, 5= hard)', 'Manure fibre score (1=short, 5 = long)', 'Manure dm (g/kg OM)', 'Crude fiber (g/day)', 'Sugar (g/day)', 'Crude protein (g/day)', 'Crude fat (g/day)', 'Starch (g/day)', 'Ca (g/day)', 'P (g/day)', 'Na (g/day)', 'Cl (g/day)', 'K (g/day)', 'Mg (g/day)', 'nXP (g/day)', 'RNB (g/day)', 'MELK (g/day)', 'NEL (g/day)', 'WDE (g/day)', 'EKB (g/day)', 'WDS (g/day)', 'SPK (g/day)', 'TPK (g/day)', 'SPE (g/day)', 'TPE (g/day)', 'plusI (/day)', 'WI (/day)', 'GP (g/day)', 'Crude fiber (g/kg dm)', 'Sugar (g/kg dm)', 'Crude protein (g/kg dm)', 'Crude fat (g/kg dm)', 'Starch (g/kg dm)', 'Ca (g/kg dm)', 'P (g/kg dm)', 'Na (g/kg dm)', 'Cl (g/kg dm)', 'K (g/kg dm)', 'Mg (g/kg dm)', 'nXP (g/kg dm)', 'RNB (g/kg dm)', 'MELK (/kg dm)', 'NEL (MJ/kg dm)', 'WDE (g/kg dm)', 'EKB (g/kg dm)', 'WDS (g/kg dm)', 'SPK (g/kg dm)', 'TPK (g/kg dm)', 'SPE (g/kg dm)', 'TPE (g/kg dm)', 'plusI (/kg dm)', 'WI (/kg dm)', 'GP (g/kg dm)']\n",
        "# stringColumn = ['Treatment', 'Period (VP = preperiod, HP = trial period)', 'Period part (VP = preperiod, HP = trial period)']\n",
        "\n",
        "# str_to_remove = [r'(', r')'] #r' dm', r'kg/day', r'g/day', r'mg/day', r'mg/kg', r\"g/kg\", r\"*1000/ml\", 'min/day', '(g)', r\"kg\", '(h)', \"/\", r'%', , r' =', 'degC'\n",
        "# columns_list = [allColumns, doubleColumns, intColumns, stringColumn]\n",
        "# allColumnsTemp = [col for col in allColumns]\n",
        "# for column in columns_list:\n",
        "#   for i in range(len(column)):\n",
        "#     for substring in str_to_remove:\n",
        "#       column[i] = column[i].replace(substring, '').strip()\n",
        "#       column[i] = column[i].replace('/', ' ').strip()\n",
        "  \n",
        "\n",
        "# for col1, col2 in zip(allColumnsTemp, allColumns):\n",
        "#   milk_data = milk_data.withColumnRenamed(col1, col2)\n",
        "\n",
        "\n",
        "\n",
        "# fillInBlanks(milk_data.filter('`Cow number` = 61 and `Day number` = 1').collect())\n",
        "# milk_data.filter('`Cow number` = 61 and `Day number` = 1').collect()[0][0] #.filter('`Day number` = 1')['Cow number']\n",
        "# row[0][0]\n",
        "# # doubleColumns = [col.replace(string, '') for string in str_to_remove]\n",
        "# print(allColumns)\n",
        "# print(doubleColumns)\n",
        "# print(intColumns)\n",
        "# print(stringColumn)\n",
        "\n",
        "\n",
        "# milk_data.repartition('Cow number')\n",
        "\n",
        "# # Forward fill blank values\n",
        "# from pyspark.sql import Window\n",
        "# from pyspark.sql.functions import last\n",
        "# import sys\n",
        "\n",
        "# # define the window\n",
        "# window = Window.partitionBy('Cow number').orderBy('Day number').rowsBetween(-sys.maxsize, 0)\n",
        "\n",
        "# for column in milk_data.columns:\n",
        "#   # define the forward-filled column\n",
        "#   filled_column = last(milk_data[column], ignorenulls=True).over(window)\n",
        "\n",
        "#   # do the fill \n",
        "#   milk_data = milk_data.withColumn(column,  filled_column)\n",
        "\n",
        "# milk_data.show(10)\n",
        "# milk_data.printSchema()"
      ],
      "execution_count": 2,
      "outputs": [
        {
          "output_type": "stream",
          "text": [
            "+----------+----+---------+---------+----------------+------------+----------+----+------------------------------------------+-----------------------------------------------+---------------------------+---------------------------+-----------------+-----------------------+-----------+----+-----------------+---------------+----+--------+------------+--------------+--------+----------------------+---------+----------------------+-------------------------+--------------------------+--------------+------------------+------------------+----------------------+------------------+--------+-------------------+-------------+---------------------+-----------------+--------------+----------+---------+----------+----------+---------+----------+-----------+-----------+------------+-----------+-----------+-----------+-----------+-----------+-----------+-----------+-----------+------------+---------+----------+---------------------+---------------+-----------------------+-------------------+----------------+------------+-----------+------------+------------+-----------+------------+-------------+-------------+-------------+--------------+-------------+-------------+-------------+-------------+-------------+-------------+-------------+--------------+-----------+------------+\n",
            "|Cow number|Barn|Barn part|Treatment|Lactation number|Days in milk|Day number|Week|Period (VP = preperiod, HP = trial period)|Period part (VP = preperiod, HP = trial period)|Intake basal ration (kg dm)|Intake total ration (kg dm)|Water intake (kg)|Concentrate intake (kg)|Weight (kg)| BCS|Backfat Thickness|Milk yield (kg)|Fat%|Protein%|Urea (mg/kg)|SCC (*1000/ml)|Lactose%|Avg Temperature (degC)|Air speed|Max temperature (degC)|Intake pre-period (kg dm)|Milk yield prepreriod (kg)|Fat% preperiod|Protein% preperiod|Fat preperiod (kg)|Protein preperiod (kg)|ECM preperiod (kg)|ECM (kg)|Crude fiber (g/day)|Sugar (g/day)|Crude protein (g/day)|Crude fat (g/day)|Starch (g/day)|Ca (g/day)|P (g/day)|Na (g/day)|Cl (g/day)|K (g/day)|Mg (g/day)|nXP (g/day)|RNB (g/day)|MELK (g/day)|NEL (g/day)|WDE (g/day)|EKB (g/day)|WDS (g/day)|SPK (g/day)|TPK (g/day)|SPE (g/day)|TPE (g/day)|plusI (/day)|WI (/day)|GP (g/day)|Crude fiber (g/kg dm)|Sugar (g/kg dm)|Crude protein (g/kg dm)|Crude fat (g/kg dm)|Starch (g/kg dm)|Ca (g/kg dm)|P (g/kg dm)|Na (g/kg dm)|Cl (g/kg dm)|K (g/kg dm)|Mg (g/kg dm)|nXP (g/kg dm)|RNB (g/kg dm)|MELK (/kg dm)|NEL (MJ/kg dm)|WDE (g/kg dm)|EKB (g/kg dm)|WDS (g/kg dm)|SPK (g/kg dm)|TPK (g/kg dm)|SPE (g/kg dm)|TPE (g/kg dm)|plusI (/kg dm)|WI (/kg dm)|GP (g/kg dm)|\n",
            "+----------+----+---------+---------+----------------+------------+----------+----+------------------------------------------+-----------------------------------------------+---------------------------+---------------------------+-----------------+-----------------------+-----------+----+-----------------+---------------+----+--------+------------+--------------+--------+----------------------+---------+----------------------+-------------------------+--------------------------+--------------+------------------+------------------+----------------------+------------------+--------+-------------------+-------------+---------------------+-----------------+--------------+----------+---------+----------+----------+---------+----------+-----------+-----------+------------+-----------+-----------+-----------+-----------+-----------+-----------+-----------+-----------+------------+---------+----------+---------------------+---------------+-----------------------+-------------------+----------------+------------+-----------+------------+------------+-----------+------------+-------------+-------------+-------------+--------------+-------------+-------------+-------------+-------------+-------------+-------------+-------------+--------------+-----------+------------+\n",
            "|       858|   6|        2|        O|               1|         145|         0|   0|                                         0|                                              0|                       null|                       null|             87.3|                   null|      589.5|null|             null|           35.3|2.99|    2.95|         165|             7|     4.8|                  16.5|      1.4|                  19.5|                    16.82|                     33.44|           3.1|              2.95|              1.04|                  0.99|             29.05|    null|                  0|            0|                    0|                0|             0|         0|        0|         0|         0|        0|         0|          0|          0|           0|          0|          0|          0|          0|          0|          0|          0|          0|           0|        0|         0|                 null|           null|                   null|               null|            null|        null|       null|        null|        null|       null|        null|         null|         null|         null|          null|         null|         null|         null|         null|         null|         null|         null|          null|       null|        null|\n",
            "|       858|   6|        2|        O|               1|         146|         1|   1|                                        VP|                                            VP1|                       14.6|                       15.5|             66.5|                    1.0|      588.0|null|             null|          37.35|2.99|    2.95|         165|             7|     4.8|                  18.0|      1.6|                  22.9|                    16.82|                     33.44|           3.1|              2.95|              1.04|                  0.99|             29.05|    null|               2777|          645|                 2393|              547|          3394|        88|       65|        31|        77|      233|        51|       2381|          4|       16751|        106|       1322|        237|        844|       3045|       6999|       1018|       1628|        1676|     1934|      2166|                  179|             42|                    155|                 35|             219|           6|          4|           2|           5|         15|           3|          154|            0|         1082|             7|           85|           15|           55|          197|          452|           66|          105|           108|        125|         140|\n",
            "|       858|   6|        2|        O|               1|         147|         2|   1|                                        VP|                                            VP1|                       17.6|                       18.5|             72.1|                    1.0|      593.5|null|             null|          34.37|2.99|    2.95|         165|             7|     4.8|                  17.5|      1.2|                  23.4|                    16.82|                     33.44|           3.1|              2.95|              1.04|                  0.99|             29.05|    null|               3342|          767|                 2851|              653|          4050|       105|       77|        37|        93|      280|        62|       2842|          4|       20029|        126|       1574|        282|       1004|       3643|       8383|       1221|       1946|        2006|     2332|      2591|                  181|             41|                    154|                 35|             219|           6|          4|           2|           5|         15|           3|          154|            0|         1082|             7|           85|           15|           54|          197|          453|           66|          105|           108|        126|         140|\n",
            "|       858|   6|        2|        O|               1|         148|         3|   1|                                        VP|                                            VP1|                       16.4|                       17.3|             72.0|                    1.0|      596.5|null|             null|          35.45|2.99|    2.95|         165|             7|     4.8|                  15.9|      1.6|                  17.4|                    16.82|                     33.44|           3.1|              2.95|              1.04|                  0.99|             29.05|    null|               3108|          717|                 2661|              609|          3779|        98|       72|        34|        87|      260|        57|       2651|          4|       18673|        118|       1470|        264|        938|       3395|       7810|       1137|       1814|        1869|     2167|      2415|                  180|             42|                    154|                 35|             219|           6|          4|           2|           5|         15|           3|          154|            0|         1082|             7|           85|           15|           54|          197|          453|           66|          105|           108|        126|         140|\n",
            "|       858|   6|        2|        O|               1|         149|         4|   1|                                        VP|                                            VP1|                       14.6|                       15.5|             66.9|                    1.0|      594.5|null|             null|          35.56|2.99|    2.95|         165|             7|     4.8|                  15.6|      1.9|                  18.5|                    16.82|                     33.44|           3.1|              2.95|              1.04|                  0.99|             29.05|    null|               2783|          647|                 2397|              548|          3401|        88|       65|        31|        78|      234|        51|       2386|          4|       16786|        106|       1325|        237|        845|       3051|       7013|       1020|       1631|        1679|     1939|      2171|                  179|             42|                    155|                 35|             219|           6|          4|           2|           5|         15|           3|          154|            0|         1082|             7|           85|           15|           54|          197|          452|           66|          105|           108|        125|         140|\n",
            "|       858|   6|        2|        O|               1|         150|         5|   1|                                        VP|                                            VP1|                       15.4|                       16.3|             70.8|                    1.0|      593.5|null|             null|           18.5|2.99|    2.95|         165|             7|     4.8|                  17.5|      1.5|                  22.8|                    16.82|                     33.44|           3.1|              2.95|              1.04|                  0.99|             29.05|    null|               2933|          679|                 2519|              576|          3575|        93|       68|        32|        82|      246|        54|       2508|          4|       17653|        112|       1391|        249|        888|       3209|       7379|       1074|       1715|        1767|     2044|      2283|                  180|             42|                    154|                 35|             219|           6|          4|           2|           5|         15|           3|          154|            0|         1082|             7|           85|           15|           54|          197|          452|           66|          105|           108|        125|         140|\n",
            "|       858|   6|        2|        O|               1|         151|         6|   1|                                        VP|                                            VP1|                       15.4|                       16.3|             74.8|                    1.0|      601.5|null|             null|          30.58|2.99|    2.95|         165|             7|     4.8|                  18.4|      1.3|                  22.2|                    16.82|                     33.44|           3.1|              2.95|              1.04|                  0.99|             29.05|    null|               2937|          680|                 2522|              577|          3580|        93|       68|        33|        82|      246|        54|       2511|          4|       17678|        112|       1393|        250|        889|       3214|       7390|       1076|       1718|        1769|     2047|      2286|                  180|             42|                    154|                 35|             219|           6|          4|           2|           5|         15|           3|          154|            0|         1082|             7|           85|           15|           54|          197|          452|           66|          105|           108|        125|         140|\n",
            "|       858|   6|        2|        O|               1|         152|         7|   1|                                        VP|                                            VP1|                       14.1|                       15.0|             74.7|                    1.0|      595.5|null|             null|          32.03|2.93|    2.94|         264|            18|    4.64|                  18.2|      0.9|                  25.9|                    16.82|                     33.44|           3.1|              2.95|              1.04|                  0.99|             29.05|    null|               2690|          627|                 2322|              531|          3293|        85|       63|        30|        75|      226|        50|       2310|          4|       16244|        103|       1283|        230|        819|       2952|       6785|        987|       1578|        1624|     1873|      2101|                  179|             42|                    155|                 35|             219|           6|          4|           2|           5|         15|           3|          154|            0|         1082|             7|           85|           15|           55|          197|          452|           66|          105|           108|        125|         140|\n",
            "|       858|   6|        2|        O|               1|         153|         8|   2|                                        VP|                                            VP1|                       14.3|                       15.2|             68.6|                    1.0|      605.5|null|             null|          33.17|2.93|    2.94|         264|            18|    4.64|                  19.0|      1.0|                  22.8|                    16.82|                     33.44|           3.1|              2.95|              1.04|                  0.99|             29.05|    null|               2729|          635|                 2353|              538|          3338|        87|       64|        30|        76|      229|        50|       2342|          4|       16471|        104|       1301|        233|        830|       2993|       6880|       1001|       1600|        1647|     1900|      2130|                  179|             42|                    155|                 35|             219|           6|          4|           2|           5|         15|           3|          154|            0|         1082|             7|           85|           15|           55|          197|          452|           66|          105|           108|        125|         140|\n",
            "|       858|   6|        2|        O|               1|         154|         9|   2|                                        VP|                                            VP1|                       17.1|                       18.0|             75.5|                    1.0|      608.5|null|             null|          35.26|2.93|    2.94|         264|            18|    4.64|                  17.6|      1.3|                  24.0|                    16.82|                     33.44|           3.1|              2.95|              1.04|                  0.99|             29.05|    null|               3250|          747|                 2777|              636|          3943|       102|       75|        36|        91|      272|        60|       2767|          4|       19497|        123|       1533|        275|        978|       3545|       8158|       1188|       1895|        1953|     2267|      2522|                  180|             41|                    154|                 35|             219|           6|          4|           2|           5|         15|           3|          154|            0|         1082|             7|           85|           15|           54|          197|          453|           66|          105|           108|        126|         140|\n",
            "+----------+----+---------+---------+----------------+------------+----------+----+------------------------------------------+-----------------------------------------------+---------------------------+---------------------------+-----------------+-----------------------+-----------+----+-----------------+---------------+----+--------+------------+--------------+--------+----------------------+---------+----------------------+-------------------------+--------------------------+--------------+------------------+------------------+----------------------+------------------+--------+-------------------+-------------+---------------------+-----------------+--------------+----------+---------+----------+----------+---------+----------+-----------+-----------+------------+-----------+-----------+-----------+-----------+-----------+-----------+-----------+-----------+------------+---------+----------+---------------------+---------------+-----------------------+-------------------+----------------+------------+-----------+------------+------------+-----------+------------+-------------+-------------+-------------+--------------+-------------+-------------+-------------+-------------+-------------+-------------+-------------+--------------+-----------+------------+\n",
            "only showing top 10 rows\n",
            "\n"
          ],
          "name": "stdout"
        }
      ]
    },
    {
      "cell_type": "code",
      "metadata": {
        "id": "aDNKg1KEtVZt"
      },
      "source": [
        "# milk_data = milk_rdd2.withColumn(\"Date\", F.col(\"Date\").cast(\"date\"))\n",
        "# milk_data.show(10)\n"
      ],
      "execution_count": 3,
      "outputs": []
    },
    {
      "cell_type": "code",
      "metadata": {
        "colab": {
          "base_uri": "https://localhost:8080/",
          "height": 229
        },
        "id": "odJJ8ZTnIEqt",
        "outputId": "cc70e63b-cb67-4504-d1ca-a5d3046b4af5"
      },
      "source": [
        "# inputColNames = ['Crude fiber g day', 'Sugar g day', 'Crude protein g day', 'Crude fat g day', 'Starch g day', \n",
        "#                              'Ca g day', 'P g day', 'Na g day', 'Cl g day', 'K g day', 'Mg g day']\n",
        "# inputColNames = ['Crude fiber (g/day)', 'Sugar (g/day)', 'Crude protein (g/day)', 'Crude fat (g/day)', 'Starch (g/day)', \n",
        "                            #  'Ca (g/day)', 'P (g/day)', 'Na (g/day)', 'Cl (g/day)', 'K (g/day)', 'Mg (g/day)']\n",
        "# features_cols = ['Cow number', 'Date', 'Barn', 'Barn part', 'Treatment', 'Lactation number', 'Days in milk', 'Day number', 'Week', 'Period (VP = preperiod, HP = trial period)', 'Period part (VP = preperiod, HP = trial period)', 'Intake basal ration (kg dm)', 'Intake total ration (kg dm)', 'Water intake (kg)', 'Concentrate intake (kg)', 'Weight (kg)', 'BCS', 'Backfat Thickness', 'Milk yield (kg)', 'Fat%', 'Protein%', 'Urea (mg/kg)', 'SCC (*1000/ml)', 'Lactose%', 'Avg Temperature (degC)', 'Air speed', 'Max temperature (degC)', 'Rumination time (min/day)', 'Avg pH', 'Avg Rumen Temperature ', 'Time pH<5,8 (h)', 'Manure consistency (1=fluid, 5= hard)', 'Manure fibre score (1=short, 5 = long)', 'Number of kernels', 'Manure sieving residu (%)', 'Manure dm (g/kg OM)', 'Manure starch (g/kg dm)', 'Urin-pH', 'Intake pre-period (kg dm)', 'Milk yield prepreriod (kg)', 'Fat% preperiod', 'Protein% preperiod', 'Fat preperiod (kg)', 'Protein preperiod (kg)', 'ECM preperiod (kg)', 'ECM (kg)', 'Crude fiber (g/day)', 'Sugar (g/day)', 'Crude protein (g/day)', 'Crude fat (g/day)', 'Starch (g/day)', 'Ca (g/day)', 'P (g/day)', 'Na (g/day)', 'Cl (g/day)', 'K (g/day)', 'Mg (g/day)', 'nXP (g/day)', 'RNB (g/day)', 'MELK (g/day)', 'NEL (g/day)', 'WDE (g/day)', 'EKB (g/day)', 'WDS (g/day)', 'SPK (g/day)', 'TPK (g/day)', 'SPE (g/day)', 'TPE (g/day)', 'plusI (/day)', 'WI (/day)', 'GP (g/day)', 'Crude fiber (g/kg dm)', 'Sugar (g/kg dm)', 'Crude protein (g/kg dm)', 'Crude fat (g/kg dm)', 'Starch (g/kg dm)', 'Ca (g/kg dm)', 'P (g/kg dm)', 'Na (g/kg dm)', 'Cl (g/kg dm)', 'K (g/kg dm)', 'Mg (g/kg dm)', 'nXP (g/kg dm)', 'RNB (g/kg dm)', 'MELK (/kg dm)', 'NEL (MJ/kg dm)', 'WDE (g/kg dm)', 'EKB (g/kg dm)', 'WDS (g/kg dm)', 'SPK (g/kg dm)', 'TPK (g/kg dm)', 'SPE (g/kg dm)', 'TPE (g/kg dm)', 'plusI (/kg dm)', 'WI (/kg dm)', 'GP (g/kg dm)']\n",
        "\n",
        "predictionColName = 'predicted Milk yield'\n",
        "labelColName = \"Milk yield (kg)\"\n",
        "inputColNames = [f'{col}_encoded' for col in stringColumn] # doubleColumns + intColumns +\n",
        "# inputColNames.remove(labelColName)\n",
        "print(inputColNames)\n",
        "\n",
        "milk_data = milk_data.dropna() #subset=inputColNames+[labelColName])\n",
        "\n",
        "# # Split dataset into test and training data\n",
        "test_data, train_data = milk_data.randomSplit([0.8, 0.2], 0)\n",
        "\n",
        "# Stages for pipeline\n",
        "\n",
        "# Index string columns\n",
        "index_strings = [StringIndexer(inputCol= col, outputCol= f'{col}_index') for col in stringColumn]\n",
        "\n",
        "# Encode string columns\n",
        "encoder = OneHotEncoderEstimator(inputCols=[string_indexer.getOutputCol() for string_indexer in index_strings], \n",
        "                                 outputCols= [f'{col}_encoded' for col in stringColumn])\n",
        "\n",
        "\n",
        "# Vectorize input columns\n",
        "vectorizer = VectorAssembler(\n",
        "    inputCols = inputColNames,\n",
        "    # inputCols = inputColNames,\n",
        "    outputCol = \"features\")\n",
        "\n",
        "lr = LinearRegression(featuresCol = 'features', labelCol=labelColName, predictionCol = predictionColName)\n",
        "\n",
        "# Create pipeline\n",
        "lr_pipeline = Pipeline(stages = index_strings + [encoder] + [vectorizer] + [lr])\n",
        "\n",
        "# Fit pipeline\n",
        "lr_model = lr_pipeline.fit(train_data)\n",
        "\n",
        "# vectorized = vectorizer.transform(milk_data) #.select('features', 'Protein%')\n",
        "# test_data, train_data = vectorized.randomSplit([0.8, 0.2], 0)\n",
        "# lr_model = lr.fit(train_data)\n",
        "\n"
      ],
      "execution_count": 1,
      "outputs": [
        {
          "output_type": "error",
          "ename": "NameError",
          "evalue": "ignored",
          "traceback": [
            "\u001b[0;31m---------------------------------------------------------------------------\u001b[0m",
            "\u001b[0;31mNameError\u001b[0m                                 Traceback (most recent call last)",
            "\u001b[0;32m<ipython-input-1-7637fcefcde4>\u001b[0m in \u001b[0;36m<module>\u001b[0;34m()\u001b[0m\n\u001b[1;32m      7\u001b[0m \u001b[0mpredictionColName\u001b[0m \u001b[0;34m=\u001b[0m \u001b[0;34m'predicted Milk yield'\u001b[0m\u001b[0;34m\u001b[0m\u001b[0;34m\u001b[0m\u001b[0m\n\u001b[1;32m      8\u001b[0m \u001b[0mlabelColName\u001b[0m \u001b[0;34m=\u001b[0m \u001b[0;34m\"Milk yield (kg)\"\u001b[0m\u001b[0;34m\u001b[0m\u001b[0;34m\u001b[0m\u001b[0m\n\u001b[0;32m----> 9\u001b[0;31m \u001b[0minputColNames\u001b[0m \u001b[0;34m=\u001b[0m \u001b[0;34m[\u001b[0m\u001b[0;34mf'{col}_encoded'\u001b[0m \u001b[0;32mfor\u001b[0m \u001b[0mcol\u001b[0m \u001b[0;32min\u001b[0m \u001b[0mstringColumn\u001b[0m\u001b[0;34m]\u001b[0m \u001b[0;31m# doubleColumns + intColumns +\u001b[0m\u001b[0;34m\u001b[0m\u001b[0;34m\u001b[0m\u001b[0m\n\u001b[0m\u001b[1;32m     10\u001b[0m \u001b[0;31m# inputColNames.remove(labelColName)\u001b[0m\u001b[0;34m\u001b[0m\u001b[0;34m\u001b[0m\u001b[0;34m\u001b[0m\u001b[0m\n\u001b[1;32m     11\u001b[0m \u001b[0mprint\u001b[0m\u001b[0;34m(\u001b[0m\u001b[0minputColNames\u001b[0m\u001b[0;34m)\u001b[0m\u001b[0;34m\u001b[0m\u001b[0;34m\u001b[0m\u001b[0m\n",
            "\u001b[0;31mNameError\u001b[0m: name 'stringColumn' is not defined"
          ]
        }
      ]
    },
    {
      "cell_type": "code",
      "metadata": {
        "id": "N8wcTvDrGMi_"
      },
      "source": [
        "\n",
        "# milk_data = milk_data.select([milk_data[col] != 0 for col in milk_data.columns])\n",
        "train_data.describe().show()"
      ],
      "execution_count": null,
      "outputs": []
    },
    {
      "cell_type": "code",
      "metadata": {
        "id": "WcD5Bv5TXilt"
      },
      "source": [
        "# Inspecting the results of the previous model\n",
        "# The coefficients (i.e., weights) are as follows:\n",
        "# weights = lr_model.coefficients\n",
        "print(lr_model.extractParamMap())\n",
        "\n",
        "# Print coefficients \n",
        "# list(zip(inputColNames, weights))\n",
        "# print(list(zip(inputColNames, weights)))\n",
        " \n",
        "#  # Print the intercept\n",
        "# print(\"Intercept: \",lr_model.intercept)"
      ],
      "execution_count": null,
      "outputs": []
    },
    {
      "cell_type": "code",
      "metadata": {
        "id": "vyAdt1gnKvnD"
      },
      "source": [
        "# Model Predictions:\n",
        "\n",
        " # Apply our LR model to the test data and predict output\n",
        "predictionsLR = lr_model.transform(test_data).select(inputColNames + [labelColName] + [predictionColName])\n",
        "\n",
        " # Print the first 15 rows of your predictions\n",
        "predictionsLR.show(15)"
      ],
      "execution_count": null,
      "outputs": []
    },
    {
      "cell_type": "code",
      "metadata": {
        "id": "8FbVbCsrYC6N"
      },
      "source": [
        "# Now let's compute an evaluation metric for our test dataset\n",
        "from pyspark.ml.evaluation import RegressionEvaluator\n",
        "\n",
        " # Create an RMSE evaluator using the label and predicted columns\n",
        "regEval = RegressionEvaluator(predictionCol=predictionColName, labelCol=labelColName, metricName=\"rmse\")\n",
        "\n",
        " # Run the evaluator on the DataFrame\n",
        "rmse = regEval.evaluate(predictionsLR)\n",
        "\n",
        "print(\"Root Mean Squared Error: %.2f\" % rmse)\n",
        "\n",
        "# Now let's compute another evaluation metric for our test dataset\n",
        "r2 = regEval.evaluate(predictionsLR, {regEval.metricName: \"r2\"})\n",
        "\n",
        "print(\"r2: {0:.2f}\".format(r2))\n",
        "sns.scatterplot(x=labelColName, y=predictionColName, data=predictionsLR.toPandas())"
      ],
      "execution_count": null,
      "outputs": []
    },
    {
      "cell_type": "code",
      "metadata": {
        "id": "7c2p-QIoaI9c"
      },
      "source": [
        ""
      ],
      "execution_count": null,
      "outputs": []
    }
  ]
}