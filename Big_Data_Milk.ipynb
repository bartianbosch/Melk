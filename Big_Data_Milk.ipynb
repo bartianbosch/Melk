{
  "nbformat": 4,
  "nbformat_minor": 0,
  "metadata": {
    "colab": {
      "name": "Big Data Milk.ipynb",
      "provenance": [],
      "collapsed_sections": [],
      "include_colab_link": true
    },
    "kernelspec": {
      "name": "python3",
      "display_name": "Python 3"
    }
  },
  "cells": [
    {
      "cell_type": "markdown",
      "metadata": {
        "id": "view-in-github",
        "colab_type": "text"
      },
      "source": [
        "<a href=\"https://colab.research.google.com/github/bartianbosch/Melk/blob/Jinli/Big_Data_Milk.ipynb\" target=\"_parent\"><img src=\"https://colab.research.google.com/assets/colab-badge.svg\" alt=\"Open In Colab\"/></a>"
      ]
    },
    {
      "cell_type": "markdown",
      "metadata": {
        "id": "zSVRLt9dJyKM"
      },
      "source": [
        "Big Data Groupwork Milk\n"
      ]
    },
    {
      "cell_type": "code",
      "metadata": {
        "id": "o3LZGS6nWtSx",
        "colab": {
          "base_uri": "https://localhost:8080/"
        },
        "outputId": "8dca9ee8-088c-479d-a88c-c1a4beb2a4c1"
      },
      "source": [
        "# To download and update the necessary requirements, run this cell\n",
        "!apt-get update\n",
        "!apt-get install openjdk-8-jdk-headless -qq > /dev/null\n",
        "!wget -q http://downloads.apache.org/spark/spark-2.4.7/spark-2.4.7-bin-hadoop2.7.tgz\n",
        "!tar xf spark-2.4.7-bin-hadoop2.7.tgz\n",
        "!pip install -q findspark"
      ],
      "execution_count": 1,
      "outputs": [
        {
          "output_type": "stream",
          "text": [
            "\r0% [Working]\r            \rIgn:1 https://developer.download.nvidia.com/compute/cuda/repos/ubuntu1804/x86_64  InRelease\n",
            "Get:2 https://cloud.r-project.org/bin/linux/ubuntu bionic-cran40/ InRelease [3,626 B]\n",
            "Get:3 http://ppa.launchpad.net/c2d4u.team/c2d4u4.0+/ubuntu bionic InRelease [15.9 kB]\n",
            "Hit:4 http://archive.ubuntu.com/ubuntu bionic InRelease\n",
            "Get:5 http://security.ubuntu.com/ubuntu bionic-security InRelease [88.7 kB]\n",
            "Ign:6 https://developer.download.nvidia.com/compute/machine-learning/repos/ubuntu1804/x86_64  InRelease\n",
            "Get:7 https://developer.download.nvidia.com/compute/cuda/repos/ubuntu1804/x86_64  Release [697 B]\n",
            "Hit:8 https://developer.download.nvidia.com/compute/machine-learning/repos/ubuntu1804/x86_64  Release\n",
            "Get:9 https://developer.download.nvidia.com/compute/cuda/repos/ubuntu1804/x86_64  Release.gpg [836 B]\n",
            "Get:10 http://archive.ubuntu.com/ubuntu bionic-updates InRelease [88.7 kB]\n",
            "Get:11 http://ppa.launchpad.net/graphics-drivers/ppa/ubuntu bionic InRelease [21.3 kB]\n",
            "Get:12 http://archive.ubuntu.com/ubuntu bionic-backports InRelease [74.6 kB]\n",
            "Ign:14 https://developer.download.nvidia.com/compute/cuda/repos/ubuntu1804/x86_64  Packages\n",
            "Get:14 https://developer.download.nvidia.com/compute/cuda/repos/ubuntu1804/x86_64  Packages [443 kB]\n",
            "Get:15 http://ppa.launchpad.net/c2d4u.team/c2d4u4.0+/ubuntu bionic/main Sources [1,690 kB]\n",
            "Get:16 http://security.ubuntu.com/ubuntu bionic-security/main amd64 Packages [1,781 kB]\n",
            "Get:17 http://archive.ubuntu.com/ubuntu bionic-updates/restricted amd64 Packages [252 kB]\n",
            "Get:18 http://archive.ubuntu.com/ubuntu bionic-updates/multiverse amd64 Packages [54.3 kB]\n",
            "Get:19 http://archive.ubuntu.com/ubuntu bionic-updates/universe amd64 Packages [2,130 kB]\n",
            "Get:20 http://security.ubuntu.com/ubuntu bionic-security/universe amd64 Packages [1,365 kB]\n",
            "Get:21 http://ppa.launchpad.net/c2d4u.team/c2d4u4.0+/ubuntu bionic/main amd64 Packages [865 kB]\n",
            "Get:22 http://archive.ubuntu.com/ubuntu bionic-updates/main amd64 Packages [2,208 kB]\n",
            "Get:23 http://ppa.launchpad.net/graphics-drivers/ppa/ubuntu bionic/main amd64 Packages [46.5 kB]\n",
            "Fetched 11.1 MB in 3s (3,531 kB/s)\n",
            "Reading package lists... Done\n"
          ],
          "name": "stdout"
        }
      ]
    },
    {
      "cell_type": "code",
      "metadata": {
        "id": "eTb7CCLrJvOG",
        "colab": {
          "base_uri": "https://localhost:8080/"
        },
        "outputId": "54b27faa-3945-47e1-908a-b6f34b8e39d8"
      },
      "source": [
        "# To initialize Apache Spark, run this cell\n",
        "import os\n",
        "os.environ[\"JAVA_HOME\"] = \"/usr/lib/jvm/java-8-openjdk-amd64\"\n",
        "os.environ[\"SPARK_HOME\"] = \"/content/spark-2.4.7-bin-hadoop2.7\"\n",
        "\n",
        "import findspark\n",
        "findspark.init()\n",
        "from pyspark.sql import SparkSession\n",
        "sp = SparkSession.builder.master(\"local[*]\").getOrCreate()\n",
        "\n",
        "from pyspark import SparkContext\n",
        "from pyspark.sql import SparkSession\n",
        "sc = SparkContext.getOrCreate()\n",
        "spark = SparkSession.builder.getOrCreate()\n",
        "\n",
        "from pyspark.sql import SQLContext\n",
        "sqlContext = SQLContext(sc)\n",
        "\n",
        "from google.colab import drive\n",
        "drive.mount('/content/gdrive/')"
      ],
      "execution_count": 2,
      "outputs": [
        {
          "output_type": "stream",
          "text": [
            "Mounted at /content/gdrive/\n"
          ],
          "name": "stdout"
        }
      ]
    },
    {
      "cell_type": "markdown",
      "metadata": {
        "id": "BMSmDG4GLso4"
      },
      "source": [
        "Loading the data into a DF\n"
      ]
    },
    {
      "cell_type": "code",
      "metadata": {
        "colab": {
          "base_uri": "https://localhost:8080/"
        },
        "id": "o2y0SrtoXxif",
        "outputId": "8963b845-fbaf-4fce-fa6a-a4a4ed50302a"
      },
      "source": [
        "!ls 'gdrive/MyDrive/'"
      ],
      "execution_count": 3,
      "outputs": [
        {
          "output_type": "stream",
          "text": [
            "'App ontwikkeling.gdoc'\n",
            " Big_Data_Groupwork_Project\n",
            " Bijbaan\n",
            "'Bus 356 Connexion.gdoc'\n",
            "'Citygames Delft:.gdoc'\n",
            "'Colab Notebooks'\n",
            "'Conneccie 2018-2019'\n",
            " CV\n",
            "'DIPP meetings notebook.gdoc'\n",
            "'edX courses, Udemy and more online courses.gdoc'\n",
            "'(EUR) Erasmus Universiteit'\n",
            "'Experiment 1 FP&D.gsheet'\n",
            "'Experiment 1 FP&D.xlsx'\n",
            "'Food Hazards Case Study Beer-Can Chicken.gdoc'\n",
            " GOT.gdoc\n",
            " Group39_Assignment2.gdoc\n",
            " Group39_Assignment4.gdoc\n",
            " IMG_5467.JPG\n",
            " IMG_5468.JPG\n",
            " IMG_5469.JPG\n",
            " IMG_5470.JPG\n",
            " IMG_5471.JPG\n",
            " INF33806\n",
            "'Nooit meer vergeten'\n",
            "'Online Examination Test 10 april 2020.gdoc'\n",
            "'Quality Systems Operations Definitions sheet.gdoc'\n",
            " Roblox\n",
            "'safari leeslijst.gdoc'\n",
            " Thee.gdoc\n",
            "'Thymos evaluation survey 6 april 2020.gdoc'\n",
            " Vossius\n",
            "'(VU) Vrije Universiteit'\n",
            " Wageningen\n",
            "' Wild, Janniek de; Witsenboer, Jin-Li Food P&D practical 1, 2, 3 .gdoc'\n",
            "'WSR ARGO ALV pagina.gdoc'\n"
          ],
          "name": "stdout"
        }
      ]
    },
    {
      "cell_type": "code",
      "metadata": {
        "id": "E9lkii3ALw4O"
      },
      "source": [
        "# Read the data from the csv file\n",
        "\n",
        "\n",
        "#milk_rdd = spark.read.csv('gdrive/MyDrive/Big_Data_Groupwork/ff_dairy_v1.csv', header=True, inferSchema = True)\n",
        "milk_rdd = spark.read.csv('/content/gdrive/MyDrive/Big_Data_Groupwork_Project/Big_Data_Groupwork/ff_dairy_v1.csv', header=True, inferSchema = True)\n",
        "\n",
        "# work from dataframes is sufficient"
      ],
      "execution_count": 21,
      "outputs": []
    },
    {
      "cell_type": "code",
      "metadata": {
        "colab": {
          "base_uri": "https://localhost:8080/"
        },
        "id": "fDwnD2s2W-H-",
        "outputId": "ea6727b5-ab42-48f5-8bd9-87f773c82981"
      },
      "source": [
        "milk_rdd.show(5)"
      ],
      "execution_count": 22,
      "outputs": [
        {
          "output_type": "stream",
          "text": [
            "+----------+-------+----+---------+---------+----------------+------------+----------+----+------------------------------------------+-----------------------------------------------+---------------------------+---------------------------+-----------------+-----------------------+-----------+----+-----------------+---------------+----+--------+------------+--------------+--------+---------------------+---------+---------------------+-------------------------+-------+-----------------------+---------------+-------------------------------------+--------------------------------------+-----------------+-------------------------+-------------------+-----------------------+-------+-------------------------+--------------------------+--------------+------------------+------------------+----------------------+------------------+--------+-------------------+-------------+---------------------+-----------------+--------------+----------+---------+----------+----------+---------+----------+-----------+-----------+------------+-----------+-----------+-----------+-----------+-----------+-----------+-----------+-----------+---------+---------+----------+---------------------+---------------+-----------------------+-------------------+----------------+------------+-----------+------------+------------+-----------+------------+-------------+-------------+-------------+--------------+-------------+-------------+-------------+-------------+-------------+-------------+-------------+-----------+-----------+------------+\n",
            "|Cow number|   Date|Barn|Barn part|Treatment|Lactation number|Days in milk|Day number|Week|Period (VP = preperiod, HP = trial period)|Period part (VP = preperiod, HP = trial period)|Intake basal ration (kg dm)|Intake total ration (kg dm)|Water intake (kg)|Concentrate intake (kg)|Weight (kg)| BCS|Backfat Thickness|Milk yield (kg)|Fat%|Protein%|Urea (mg/kg)|SCC (*1000/ml)|Lactose%|Avg. Temperature (�C)|Air speed|Max. temperature (�C)|Rumination time (min/day)|Avg. pH|Avg. Rumen Temperature |Time pH<5,8 (h)|Manure consistency (1=fluid, 5= hard)|Manure fibre score (1=short, 5 = long)|Number of kernels|Manure sieving residu (%)|Manure dm (g/kg OM)|Manure starch (g/kg dm)|Urin-pH|Intake pre-period (kg dm)|Milk yield prepreriod (kg)|Fat% preperiod|Protein% preperiod|Fat preperiod (kg)|Protein preperiod (kg)|ECM preperiod (kg)|ECM (kg)|Crude fiber (g/day)|Sugar (g/day)|Crude protein (g/day)|Crude fat (g/day)|Starch (g/day)|Ca (g/day)|P (g/day)|Na (g/day)|Cl (g/day)|K (g/day)|Mg (g/day)|nXP (g/day)|RNB (g/day)|MELK (g/day)|NEL (g/day)|WDE (g/day)|EKB (g/day)|WDS (g/day)|SPK (g/day)|TPK (g/day)|SPE (g/day)|TPE (g/day)|�I (/day)|WI (/day)|GP (g/day)|Crude fiber (g/kg dm)|Sugar (g/kg dm)|Crude protein (g/kg dm)|Crude fat (g/kg dm)|Starch (g/kg dm)|Ca (g/kg dm)|P (g/kg dm)|Na (g/kg dm)|Cl (g/kg dm)|K (g/kg dm)|Mg (g/kg dm)|nXP (g/kg dm)|RNB (g/kg dm)|MELK (/kg dm)|NEL (MJ/kg dm)|WDE (g/kg dm)|EKB (g/kg dm)|WDS (g/kg dm)|SPK (g/kg dm)|TPK (g/kg dm)|SPE (g/kg dm)|TPE (g/kg dm)|�I (/kg dm)|WI (/kg dm)|GP (g/kg dm)|\n",
            "+----------+-------+----+---------+---------+----------------+------------+----------+----+------------------------------------------+-----------------------------------------------+---------------------------+---------------------------+-----------------+-----------------------+-----------+----+-----------------+---------------+----+--------+------------+--------------+--------+---------------------+---------+---------------------+-------------------------+-------+-----------------------+---------------+-------------------------------------+--------------------------------------+-----------------+-------------------------+-------------------+-----------------------+-------+-------------------------+--------------------------+--------------+------------------+------------------+----------------------+------------------+--------+-------------------+-------------+---------------------+-----------------+--------------+----------+---------+----------+----------+---------+----------+-----------+-----------+------------+-----------+-----------+-----------+-----------+-----------+-----------+-----------+-----------+---------+---------+----------+---------------------+---------------+-----------------------+-------------------+----------------+------------+-----------+------------+------------+-----------+------------+-------------+-------------+-------------+--------------+-------------+-------------+-------------+-------------+-------------+-------------+-------------+-----------+-----------+------------+\n",
            "|        61|16/6/14|   6|        2|        O|               9|          71|         0|   0|                                         0|                                              0|                       null|                       null|             88.2|                   null|      627.5|null|             null|          40.47|3.55|    2.89|         211|            22|    4.76|                 16.5|      1.4|                 19.5|                     null|   null|                   null|           null|                                 null|                                  null|             null|                     null|               null|                   null|   null|                    22.22|                     38.63|          3.54|               2.9|              1.37|                  1.12|             35.39|    null|                  0|            0|                    0|                0|             0|         0|        0|         0|         0|        0|         0|          0|          0|           0|          0|          0|          0|          0|          0|          0|          0|          0|        0|        0|         0|                 null|           null|                   null|               null|            null|        null|       null|        null|        null|       null|        null|         null|         null|         null|          null|         null|         null|         null|         null|         null|         null|         null|       null|       null|        null|\n",
            "|        61|17/6/14|   6|        2|        O|               9|          72|         1|   1|                                        VP|                                            VP1|                       19.9|                       24.3|             94.6|                  4.875|      595.0|null|             null|          38.29|null|    null|        null|          null|    null|                 18.0|      1.6|                 22.9|                     null|   null|                   null|           null|                                 null|                                  null|             null|                     null|               null|                   null|   null|                    22.22|                     38.63|          3.54|               2.9|              1.37|                  1.12|             35.39|    null|               4022|         1100|                 3937|              876|          5493|       148|      109|        52|       111|      355|        79|       3829|         20|       26394|        169|       2198|        388|       1401|       4761|      10783|       1535|       2561|     2590|     2726|      3396|                  166|             45|                    162|                 36|             226|           6|          4|           2|           5|         15|           3|          158|            1|         1087|             7|           91|           16|           58|          196|          444|           63|          105|        107|        112|         140|\n",
            "|        61|18/6/14|   6|        2|        O|               9|          73|         2|   1|                                        VP|                                            VP1|                       17.7|                       22.0|             92.9|                  4.875|      609.0|null|             null|          39.28|null|    null|        null|          null|    null|                 17.5|      1.2|                 23.4|                     null|   null|                   null|           null|                                 null|                                  null|             null|                     null|               null|                   null|   null|                    22.22|                     38.63|          3.54|               2.9|              1.37|                  1.12|             35.39|    null|               3600|         1009|                 3594|              797|          5004|       136|      100|        48|        99|      321|        71|       3484|         20|       23945|        154|       2010|        354|       1280|       4314|       9749|       1383|       2323|     2343|     2429|      3079|                  164|             46|                    163|                 36|             227|           6|          5|           2|           5|         15|           3|          158|            1|         1088|             7|           91|           16|           58|          196|          443|           63|          106|        106|        110|         140|\n",
            "|        61|19/6/14|   6|        2|        O|               9|          74|         3|   1|                                        VP|                                            VP1|                       16.5|                       21.1|             97.6|                  5.125|      614.0|null|             null|          38.16|null|    null|        null|          null|    null|                 15.9|      1.6|                 17.4|                     null|   null|                   null|           null|                                 null|                                  null|             null|                     null|               null|                   null|   null|                    22.22|                     38.63|          3.54|               2.9|              1.37|                  1.12|             35.39|    null|               3409|          980|                 3473|              767|          4823|       132|       97|        46|        94|      306|        68|       3355|         22|       22989|        148|       1945|        341|       1239|       4137|       9327|       1318|       2230|     2243|     2289|      2954|                  161|             46|                    164|                 36|             228|           6|          5|           2|           4|         14|           3|          159|            1|         1088|             7|           92|           16|           59|          196|          442|           62|          106|        106|        108|         140|\n",
            "|        61|20/6/14|   6|        2|        O|               9|          75|         4|   1|                                        VP|                                            VP1|                       20.2|                       24.8|            106.6|                  5.125|      614.0|null|             null|          44.06|null|    null|        null|          null|    null|                 15.6|      1.9|                 18.5|                     null|   null|                   null|           null|                                 null|                                  null|             null|                     null|               null|                   null|   null|                    22.22|                     38.63|          3.54|               2.9|              1.37|                  1.12|             35.39|    null|               4089|         1126|                 4025|              895|          5613|       152|      112|        53|       113|      362|        80|       3911|         22|       26938|        173|       2249|        396|       1433|       4858|      10994|       1563|       2614|     2641|     2768|      3466|                  165|             45|                    162|                 36|             227|           6|          5|           2|           5|         15|           3|          158|            1|         1087|             7|           91|           16|           58|          196|          444|           63|          105|        107|        112|         140|\n",
            "+----------+-------+----+---------+---------+----------------+------------+----------+----+------------------------------------------+-----------------------------------------------+---------------------------+---------------------------+-----------------+-----------------------+-----------+----+-----------------+---------------+----+--------+------------+--------------+--------+---------------------+---------+---------------------+-------------------------+-------+-----------------------+---------------+-------------------------------------+--------------------------------------+-----------------+-------------------------+-------------------+-----------------------+-------+-------------------------+--------------------------+--------------+------------------+------------------+----------------------+------------------+--------+-------------------+-------------+---------------------+-----------------+--------------+----------+---------+----------+----------+---------+----------+-----------+-----------+------------+-----------+-----------+-----------+-----------+-----------+-----------+-----------+-----------+---------+---------+----------+---------------------+---------------+-----------------------+-------------------+----------------+------------+-----------+------------+------------+-----------+------------+-------------+-------------+-------------+--------------+-------------+-------------+-------------+-------------+-------------+-------------+-------------+-----------+-----------+------------+\n",
            "only showing top 5 rows\n",
            "\n"
          ],
          "name": "stdout"
        }
      ]
    },
    {
      "cell_type": "markdown",
      "metadata": {
        "id": "XVDR5A7zbJ8T"
      },
      "source": [
        "Qusetion 1: \n",
        "\n",
        "Which combination of nutrients is the best predictor for the fat yield (milk yield * fat %) ?"
      ]
    },
    {
      "cell_type": "code",
      "metadata": {
        "colab": {
          "base_uri": "https://localhost:8080/"
        },
        "id": "aoRSZiYJbYi8",
        "outputId": "58ef2b45-40b8-441f-f042-41b5b9719a4c"
      },
      "source": [
        "# select the yield column and fat% column\n",
        "\n",
        "subDF_null = milk_rdd.select('Milk yield (kg)', 'Fat%')\n",
        "subDF_null.show(5)\n",
        "\n",
        "subDF = subDF_null.dropna()\n",
        "yield_col = subDF.select('Milk yield (kg)')\n",
        "fat_pc_col = subDF.select('Fat%')\n",
        "\n",
        "subDF.show(5)\n",
        "\n",
        "fat_yield = list(map(lambda x, y : x*y, yield_col, fat_pc_col))\n",
        "\n",
        "# or \n",
        "\n",
        "milk_yield = data.loc[:, \"Milk yield (kg)\"]\n",
        "fat = data.loc[:, \"Fat%\"]\n",
        "total_fat = milk_yield * fat\n"
      ],
      "execution_count": 82,
      "outputs": [
        {
          "output_type": "stream",
          "text": [
            "+---------------+----+\n",
            "|Milk yield (kg)|Fat%|\n",
            "+---------------+----+\n",
            "|          40.47|3.55|\n",
            "|          38.29|null|\n",
            "|          39.28|null|\n",
            "|          38.16|null|\n",
            "|          44.06|null|\n",
            "+---------------+----+\n",
            "only showing top 5 rows\n",
            "\n",
            "+---------------+----+\n",
            "|Milk yield (kg)|Fat%|\n",
            "+---------------+----+\n",
            "|          40.47|3.55|\n",
            "|          40.12|3.49|\n",
            "|          42.09|3.33|\n",
            "|          36.26|3.45|\n",
            "|          31.12|3.89|\n",
            "+---------------+----+\n",
            "only showing top 5 rows\n",
            "\n",
            "[Column<b'(Milk yield (kg) * Fat%)'>]\n"
          ],
          "name": "stdout"
        }
      ]
    },
    {
      "cell_type": "code",
      "metadata": {
        "id": "rxeDThKDbI-a"
      },
      "source": [
        "# seletc the nutrient columns in g/day\n",
        "\n",
        "# crude fiber, sugar, crude protein, crude fat, starch, Ca, P, Na, Cl, K, Mg, WDS, SPK, TPK, SPE, TPE, +I, Wi, GP \n",
        "# intestines: nXP, RNB, MELK, NEL, WDE, EKB\n",
        "\n",
        "data_pandas = milk_rdd.toPandas()\n",
        "\n",
        "cr_fiber_col = data_pandas.loc[:,'Crude fiber (g/day)']\n",
        "sugar_col = data_pandas.loc[:,'Sugar (g/day)']\n",
        "cr_protein_col = data_pandas.loc[:,'Crude protein (g/day)']\n",
        "cr_fat_col = data_pandas.loc[:,'Crude fat (g/day)']\n",
        "starch_col = data_pandas.loc[:,'Starch (g/day)']\n",
        "\n",
        "ca_col = data_pandas.loc[:,'Ca (g/day)']\n",
        "p_col = data_pandas.loc[:,'P (g/day)']\n",
        "na_col = data_pandas.loc[:,'Na (g/day)']\n",
        "cl_col = data_pandas.loc[:,'Cl (g/day)']\n",
        "k_col = data_pandas.loc[:,'K (g/day)']\n",
        "mg_col = data_pandas.loc[:,'Mg (g/day)']\n",
        "\n"
      ],
      "execution_count": 72,
      "outputs": []
    },
    {
      "cell_type": "code",
      "metadata": {
        "id": "VU-rxHFebkTQ",
        "colab": {
          "base_uri": "https://localhost:8080/",
          "height": 297
        },
        "outputId": "d5df781d-2756-4cb9-e176-f42b31b663a4"
      },
      "source": [
        "# create linear regression models \n",
        "import seaborn as sns \n",
        "\n",
        "#sns.scatterplot(x = total_fat, y = crude_fiber)\n",
        "\n",
        "# or \n",
        "\n",
        "milk_rdd2 = milk_rdd.withColumn('total_fat', milk_rdd['Milk yield (kg)'] * milk_rdd['Fat%'])\n",
        "\n",
        "sns.scatterplot(x='total_fat', y='Crude fiber (g/day)', data=milk_rdd2.toPandas())\n"
      ],
      "execution_count": 92,
      "outputs": [
        {
          "output_type": "execute_result",
          "data": {
            "text/plain": [
              "<matplotlib.axes._subplots.AxesSubplot at 0x7f0bc2bf47f0>"
            ]
          },
          "metadata": {
            "tags": []
          },
          "execution_count": 92
        },
        {
          "output_type": "display_data",
          "data": {
            "image/png": "[encoded data removed]",
            "text/plain": [
              "<Figure size 432x288 with 1 Axes>"
            ]
          },
          "metadata": {
            "tags": [],
            "needs_background": "light"
          }
        }
      ]
    },
    {
      "cell_type": "code",
      "metadata": {
        "id": "v1iIQ4s2hqCr"
      },
      "source": [
        ""
      ],
      "execution_count": null,
      "outputs": []
    },
    {
      "cell_type": "code",
      "metadata": {
        "id": "us93qgYPhqLk"
      },
      "source": [
        ""
      ],
      "execution_count": null,
      "outputs": []
    },
    {
      "cell_type": "code",
      "metadata": {
        "id": "DYwKrOvahqPx"
      },
      "source": [
        ""
      ],
      "execution_count": null,
      "outputs": []
    },
    {
      "cell_type": "code",
      "metadata": {
        "id": "WfLUxWDjhqT3"
      },
      "source": [
        ""
      ],
      "execution_count": null,
      "outputs": []
    }
  ]
}