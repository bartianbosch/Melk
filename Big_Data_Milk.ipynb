{
  "nbformat": 4,
  "nbformat_minor": 0,
  "metadata": {
    "colab": {
      "name": "Big Data Milk.ipynb",
      "provenance": [],
      "collapsed_sections": [],
      "include_colab_link": true
    },
    "kernelspec": {
      "name": "python3",
      "display_name": "Python 3"
    }
  },
  "cells": [
    {
      "cell_type": "markdown",
      "metadata": {
        "id": "view-in-github",
        "colab_type": "text"
      },
      "source": [
        "<a href=\"https://colab.research.google.com/github/bartianbosch/Melk/blob/Jinli/Big_Data_Milk.ipynb\" target=\"_parent\"><img src=\"https://colab.research.google.com/assets/colab-badge.svg\" alt=\"Open In Colab\"/></a>"
      ]
    },
    {
      "cell_type": "markdown",
      "metadata": {
        "id": "zSVRLt9dJyKM"
      },
      "source": [
        "Big Data Groupwork Milk\n"
      ]
    },
    {
      "cell_type": "code",
      "metadata": {
        "id": "o3LZGS6nWtSx",
        "colab": {
          "base_uri": "https://localhost:8080/"
        },
        "outputId": "8b6a80d6-1057-4b0d-d6fe-bfa82cb4d973"
      },
      "source": [
        "# To download and update the necessary requirements, run this cell\n",
        "!apt-get update\n",
        "!apt-get install openjdk-8-jdk-headless -qq > /dev/null\n",
        "!wget -q http://downloads.apache.org/spark/spark-2.4.7/spark-2.4.7-bin-hadoop2.7.tgz\n",
        "!tar xf spark-2.4.7-bin-hadoop2.7.tgz\n",
        "!pip install -q findspark"
      ],
      "execution_count": 1,
      "outputs": [
        {
          "output_type": "stream",
          "text": [
            "\r0% [Working]\r            \rGet:1 http://security.ubuntu.com/ubuntu bionic-security InRelease [88.7 kB]\n",
            "\r0% [Connecting to archive.ubuntu.com (91.189.88.142)] [1 InRelease 4,096 B/88.7\r                                                                               \rIgn:2 https://developer.download.nvidia.com/compute/cuda/repos/ubuntu1804/x86_64  InRelease\n",
            "\r0% [Waiting for headers] [1 InRelease 14.2 kB/88.7 kB 16%] [Connected to cloud.\r                                                                               \rGet:3 https://cloud.r-project.org/bin/linux/ubuntu bionic-cran40/ InRelease [3,626 B]\n",
            "\r0% [Waiting for headers] [1 InRelease 46.0 kB/88.7 kB 52%] [3 InRelease 3,626 B\r0% [Waiting for headers] [1 InRelease 86.6 kB/88.7 kB 98%] [Waiting for headers\r                                                                               \r0% [Waiting for headers] [Waiting for headers] [Waiting for headers]\r0% [3 InRelease gpgv 3,626 B] [Waiting for headers] [Waiting for headers] [Wait\r                                                                               \rIgn:4 https://developer.download.nvidia.com/compute/machine-learning/repos/ubuntu1804/x86_64  InRelease\n",
            "\r                                                                               \r0% [3 InRelease gpgv 3,626 B] [Waiting for headers] [Waiting for headers]\r                                                                         \rGet:5 http://ppa.launchpad.net/c2d4u.team/c2d4u4.0+/ubuntu bionic InRelease [15.9 kB]\n",
            "\r0% [3 InRelease gpgv 3,626 B] [Waiting for headers] [5 InRelease 14.2 kB/15.9 k\r                                                                               \rGet:6 https://developer.download.nvidia.com/compute/cuda/repos/ubuntu1804/x86_64  Release [697 B]\n",
            "\r0% [3 InRelease gpgv 3,626 B] [Waiting for headers] [5 InRelease 14.2 kB/15.9 k\r0% [3 InRelease gpgv 3,626 B] [Waiting for headers] [5 InRelease 14.2 kB/15.9 k\r                                                                               \rHit:7 https://developer.download.nvidia.com/compute/machine-learning/repos/ubuntu1804/x86_64  Release\n",
            "\r0% [3 InRelease gpgv 3,626 B] [Waiting for headers] [5 InRelease 14.2 kB/15.9 k\r                                                                               \rHit:8 http://archive.ubuntu.com/ubuntu bionic InRelease\n",
            "Get:9 https://developer.download.nvidia.com/compute/cuda/repos/ubuntu1804/x86_64  Release.gpg [836 B]\n",
            "Get:10 http://archive.ubuntu.com/ubuntu bionic-updates InRelease [88.7 kB]\n",
            "Get:11 http://ppa.launchpad.net/graphics-drivers/ppa/ubuntu bionic InRelease [21.3 kB]\n",
            "Get:12 http://archive.ubuntu.com/ubuntu bionic-backports InRelease [74.6 kB]\n",
            "Get:13 http://security.ubuntu.com/ubuntu bionic-security/universe amd64 Packages [1,366 kB]\n",
            "Get:14 http://security.ubuntu.com/ubuntu bionic-security/main amd64 Packages [1,781 kB]\n",
            "Ign:16 https://developer.download.nvidia.com/compute/cuda/repos/ubuntu1804/x86_64  Packages\n",
            "Get:16 https://developer.download.nvidia.com/compute/cuda/repos/ubuntu1804/x86_64  Packages [443 kB]\n",
            "Get:17 http://ppa.launchpad.net/c2d4u.team/c2d4u4.0+/ubuntu bionic/main Sources [1,691 kB]\n",
            "Get:18 http://archive.ubuntu.com/ubuntu bionic-updates/main amd64 Packages [2,218 kB]\n",
            "Get:19 http://archive.ubuntu.com/ubuntu bionic-updates/restricted amd64 Packages [257 kB]\n",
            "Get:20 http://archive.ubuntu.com/ubuntu bionic-updates/universe amd64 Packages [2,131 kB]\n",
            "Get:21 http://archive.ubuntu.com/ubuntu bionic-updates/multiverse amd64 Packages [54.3 kB]\n",
            "Get:22 http://ppa.launchpad.net/c2d4u.team/c2d4u4.0+/ubuntu bionic/main amd64 Packages [865 kB]\n",
            "Get:23 http://ppa.launchpad.net/graphics-drivers/ppa/ubuntu bionic/main amd64 Packages [46.5 kB]\n",
            "Fetched 11.1 MB in 4s (2,736 kB/s)\n",
            "Reading package lists... Done\n"
          ],
          "name": "stdout"
        }
      ]
    },
    {
      "cell_type": "code",
      "metadata": {
        "id": "eTb7CCLrJvOG",
        "colab": {
          "base_uri": "https://localhost:8080/"
        },
        "outputId": "19b509ec-6b75-40fc-9c6e-43af8a5a0855"
      },
      "source": [
        "# To initialize Apache Spark, run this cell\n",
        "import os\n",
        "os.environ[\"JAVA_HOME\"] = \"/usr/lib/jvm/java-8-openjdk-amd64\"\n",
        "os.environ[\"SPARK_HOME\"] = \"/content/spark-2.4.7-bin-hadoop2.7\"\n",
        "\n",
        "import findspark\n",
        "findspark.init()\n",
        "from pyspark.sql import SparkSession\n",
        "sp = SparkSession.builder.master(\"local[*]\").getOrCreate()\n",
        "\n",
        "from pyspark import SparkContext\n",
        "from pyspark.sql import SparkSession\n",
        "sc = SparkContext.getOrCreate()\n",
        "spark = SparkSession.builder.getOrCreate()\n",
        "\n",
        "from pyspark.sql import SQLContext\n",
        "sqlContext = SQLContext(sc)\n",
        "\n",
        "from google.colab import drive\n",
        "drive.mount('/content/gdrive/')"
      ],
      "execution_count": 2,
      "outputs": [
        {
          "output_type": "stream",
          "text": [
            "Mounted at /content/gdrive/\n"
          ],
          "name": "stdout"
        }
      ]
    },
    {
      "cell_type": "markdown",
      "metadata": {
        "id": "BMSmDG4GLso4"
      },
      "source": [
        "Loading the data into a DF\n"
      ]
    },
    {
      "cell_type": "code",
      "metadata": {
        "colab": {
          "base_uri": "https://localhost:8080/"
        },
        "id": "o2y0SrtoXxif",
        "outputId": "3930b27c-69f5-451e-e960-060e43ef61cb"
      },
      "source": [
        "!ls 'gdrive/MyDrive/'"
      ],
      "execution_count": 102,
      "outputs": [
        {
          "output_type": "stream",
          "text": [
            "'App ontwikkeling.gdoc'\n",
            " Big_Data_Groupwork_Project\n",
            " Bijbaan\n",
            "'Bus 356 Connexion.gdoc'\n",
            "'Citygames Delft:.gdoc'\n",
            "'Colab Notebooks'\n",
            "'Conneccie 2018-2019'\n",
            " CV\n",
            "'DIPP meetings notebook.gdoc'\n",
            "'edX courses, Udemy and more online courses.gdoc'\n",
            "'(EUR) Erasmus Universiteit'\n",
            "'Experiment 1 FP&D.gsheet'\n",
            "'Experiment 1 FP&D.xlsx'\n",
            "'Food Hazards Case Study Beer-Can Chicken.gdoc'\n",
            " GOT.gdoc\n",
            " Group39_Assignment2.gdoc\n",
            " Group39_Assignment4.gdoc\n",
            " IMG_5467.JPG\n",
            " IMG_5468.JPG\n",
            " IMG_5469.JPG\n",
            " IMG_5470.JPG\n",
            " IMG_5471.JPG\n",
            " INF33806\n",
            "'Nooit meer vergeten'\n",
            "'Online Examination Test 10 april 2020.gdoc'\n",
            "'Quality Systems Operations Definitions sheet.gdoc'\n",
            " Roblox\n",
            "'safari leeslijst.gdoc'\n",
            " Thee.gdoc\n",
            "'Thymos evaluation survey 6 april 2020.gdoc'\n",
            " Vossius\n",
            "'(VU) Vrije Universiteit'\n",
            " Wageningen\n",
            "' Wild, Janniek de; Witsenboer, Jin-Li Food P&D practical 1, 2, 3 .gdoc'\n",
            "'WSR ARGO ALV pagina.gdoc'\n"
          ],
          "name": "stdout"
        }
      ]
    },
    {
      "cell_type": "code",
      "metadata": {
        "id": "E9lkii3ALw4O"
      },
      "source": [
        "# WRONGG\n",
        "\n",
        "\"\"\"\n",
        "# Read the data from the csv file\n",
        "\n",
        "\n",
        "#milk_rdd = spark.read.csv('gdrive/MyDrive/Big_Data_Groupwork/ff_dairy_v1.csv', header=True, inferSchema = True)\n",
        "milk_data = spark.read.csv('/content/gdrive/MyDrive/Big_Data_Groupwork_Project/Big_Data_Groupwork/ff_dairy_v1.csv', header=True, inferSchema = True)\n",
        "\n",
        "# work from dataframes is sufficient\n",
        "\"\"\""
      ],
      "execution_count": 111,
      "outputs": []
    },
    {
      "cell_type": "code",
      "metadata": {
        "colab": {
          "base_uri": "https://localhost:8080/"
        },
        "id": "fDwnD2s2W-H-",
        "outputId": "b53957f0-6426-4fd4-e9b4-fb59352f0e24"
      },
      "source": [
        "milk_data.show(5)"
      ],
      "execution_count": 132,
      "outputs": [
        {
          "output_type": "stream",
          "text": [
            "+----------+-------+----+---------+---------+----------------+------------+----------+----+------------------------------------------+-----------------------------------------------+---------------------------+---------------------------+-----------------+-----------------------+-----------+----+-----------------+---------------+----+--------+------------+--------------+--------+---------------------+---------+---------------------+-------------------------+-------+-----------------------+---------------+-------------------------------------+--------------------------------------+-----------------+-------------------------+-------------------+-----------------------+-------+-------------------------+--------------------------+--------------+------------------+------------------+----------------------+------------------+--------+-------------------+-------------+---------------------+-----------------+--------------+----------+---------+----------+----------+---------+----------+-----------+-----------+------------+-----------+-----------+-----------+-----------+-----------+-----------+-----------+-----------+---------+---------+----------+---------------------+---------------+-----------------------+-------------------+----------------+------------+-----------+------------+------------+-----------+------------+-------------+-------------+-------------+--------------+-------------+-------------+-------------+-------------+-------------+-------------+-------------+-----------+-----------+------------+\n",
            "|Cow number|   Date|Barn|Barn part|Treatment|Lactation number|Days in milk|Day number|Week|Period (VP = preperiod, HP = trial period)|Period part (VP = preperiod, HP = trial period)|Intake basal ration (kg dm)|Intake total ration (kg dm)|Water intake (kg)|Concentrate intake (kg)|Weight (kg)| BCS|Backfat Thickness|Milk yield (kg)|Fat%|Protein%|Urea (mg/kg)|SCC (*1000/ml)|Lactose%|Avg. Temperature (�C)|Air speed|Max. temperature (�C)|Rumination time (min/day)|Avg. pH|Avg. Rumen Temperature |Time pH<5,8 (h)|Manure consistency (1=fluid, 5= hard)|Manure fibre score (1=short, 5 = long)|Number of kernels|Manure sieving residu (%)|Manure dm (g/kg OM)|Manure starch (g/kg dm)|Urin-pH|Intake pre-period (kg dm)|Milk yield prepreriod (kg)|Fat% preperiod|Protein% preperiod|Fat preperiod (kg)|Protein preperiod (kg)|ECM preperiod (kg)|ECM (kg)|Crude fiber (g/day)|Sugar (g/day)|Crude protein (g/day)|Crude fat (g/day)|Starch (g/day)|Ca (g/day)|P (g/day)|Na (g/day)|Cl (g/day)|K (g/day)|Mg (g/day)|nXP (g/day)|RNB (g/day)|MELK (g/day)|NEL (g/day)|WDE (g/day)|EKB (g/day)|WDS (g/day)|SPK (g/day)|TPK (g/day)|SPE (g/day)|TPE (g/day)|�I (/day)|WI (/day)|GP (g/day)|Crude fiber (g/kg dm)|Sugar (g/kg dm)|Crude protein (g/kg dm)|Crude fat (g/kg dm)|Starch (g/kg dm)|Ca (g/kg dm)|P (g/kg dm)|Na (g/kg dm)|Cl (g/kg dm)|K (g/kg dm)|Mg (g/kg dm)|nXP (g/kg dm)|RNB (g/kg dm)|MELK (/kg dm)|NEL (MJ/kg dm)|WDE (g/kg dm)|EKB (g/kg dm)|WDS (g/kg dm)|SPK (g/kg dm)|TPK (g/kg dm)|SPE (g/kg dm)|TPE (g/kg dm)|�I (/kg dm)|WI (/kg dm)|GP (g/kg dm)|\n",
            "+----------+-------+----+---------+---------+----------------+------------+----------+----+------------------------------------------+-----------------------------------------------+---------------------------+---------------------------+-----------------+-----------------------+-----------+----+-----------------+---------------+----+--------+------------+--------------+--------+---------------------+---------+---------------------+-------------------------+-------+-----------------------+---------------+-------------------------------------+--------------------------------------+-----------------+-------------------------+-------------------+-----------------------+-------+-------------------------+--------------------------+--------------+------------------+------------------+----------------------+------------------+--------+-------------------+-------------+---------------------+-----------------+--------------+----------+---------+----------+----------+---------+----------+-----------+-----------+------------+-----------+-----------+-----------+-----------+-----------+-----------+-----------+-----------+---------+---------+----------+---------------------+---------------+-----------------------+-------------------+----------------+------------+-----------+------------+------------+-----------+------------+-------------+-------------+-------------+--------------+-------------+-------------+-------------+-------------+-------------+-------------+-------------+-----------+-----------+------------+\n",
            "|        61|16/6/14|   6|        2|        O|               9|          71|         0|   0|                                         0|                                              0|                       null|                       null|             88.2|                   null|      627.5|null|             null|          40.47|3.55|    2.89|         211|            22|    4.76|                 16.5|      1.4|                 19.5|                     null|   null|                   null|           null|                                 null|                                  null|             null|                     null|               null|                   null|   null|                    22.22|                     38.63|          3.54|               2.9|              1.37|                  1.12|             35.39|    null|                  0|            0|                    0|                0|             0|         0|        0|         0|         0|        0|         0|          0|          0|           0|          0|          0|          0|          0|          0|          0|          0|          0|        0|        0|         0|                 null|           null|                   null|               null|            null|        null|       null|        null|        null|       null|        null|         null|         null|         null|          null|         null|         null|         null|         null|         null|         null|         null|       null|       null|        null|\n",
            "|        61|17/6/14|   6|        2|        O|               9|          72|         1|   1|                                        VP|                                            VP1|                       19.9|                       24.3|             94.6|                  4.875|      595.0|null|             null|          38.29|null|    null|        null|          null|    null|                 18.0|      1.6|                 22.9|                     null|   null|                   null|           null|                                 null|                                  null|             null|                     null|               null|                   null|   null|                    22.22|                     38.63|          3.54|               2.9|              1.37|                  1.12|             35.39|    null|               4022|         1100|                 3937|              876|          5493|       148|      109|        52|       111|      355|        79|       3829|         20|       26394|        169|       2198|        388|       1401|       4761|      10783|       1535|       2561|     2590|     2726|      3396|                  166|             45|                    162|                 36|             226|           6|          4|           2|           5|         15|           3|          158|            1|         1087|             7|           91|           16|           58|          196|          444|           63|          105|        107|        112|         140|\n",
            "|        61|18/6/14|   6|        2|        O|               9|          73|         2|   1|                                        VP|                                            VP1|                       17.7|                       22.0|             92.9|                  4.875|      609.0|null|             null|          39.28|null|    null|        null|          null|    null|                 17.5|      1.2|                 23.4|                     null|   null|                   null|           null|                                 null|                                  null|             null|                     null|               null|                   null|   null|                    22.22|                     38.63|          3.54|               2.9|              1.37|                  1.12|             35.39|    null|               3600|         1009|                 3594|              797|          5004|       136|      100|        48|        99|      321|        71|       3484|         20|       23945|        154|       2010|        354|       1280|       4314|       9749|       1383|       2323|     2343|     2429|      3079|                  164|             46|                    163|                 36|             227|           6|          5|           2|           5|         15|           3|          158|            1|         1088|             7|           91|           16|           58|          196|          443|           63|          106|        106|        110|         140|\n",
            "|        61|19/6/14|   6|        2|        O|               9|          74|         3|   1|                                        VP|                                            VP1|                       16.5|                       21.1|             97.6|                  5.125|      614.0|null|             null|          38.16|null|    null|        null|          null|    null|                 15.9|      1.6|                 17.4|                     null|   null|                   null|           null|                                 null|                                  null|             null|                     null|               null|                   null|   null|                    22.22|                     38.63|          3.54|               2.9|              1.37|                  1.12|             35.39|    null|               3409|          980|                 3473|              767|          4823|       132|       97|        46|        94|      306|        68|       3355|         22|       22989|        148|       1945|        341|       1239|       4137|       9327|       1318|       2230|     2243|     2289|      2954|                  161|             46|                    164|                 36|             228|           6|          5|           2|           4|         14|           3|          159|            1|         1088|             7|           92|           16|           59|          196|          442|           62|          106|        106|        108|         140|\n",
            "|        61|20/6/14|   6|        2|        O|               9|          75|         4|   1|                                        VP|                                            VP1|                       20.2|                       24.8|            106.6|                  5.125|      614.0|null|             null|          44.06|null|    null|        null|          null|    null|                 15.6|      1.9|                 18.5|                     null|   null|                   null|           null|                                 null|                                  null|             null|                     null|               null|                   null|   null|                    22.22|                     38.63|          3.54|               2.9|              1.37|                  1.12|             35.39|    null|               4089|         1126|                 4025|              895|          5613|       152|      112|        53|       113|      362|        80|       3911|         22|       26938|        173|       2249|        396|       1433|       4858|      10994|       1563|       2614|     2641|     2768|      3466|                  165|             45|                    162|                 36|             227|           6|          5|           2|           5|         15|           3|          158|            1|         1087|             7|           91|           16|           58|          196|          444|           63|          105|        107|        112|         140|\n",
            "+----------+-------+----+---------+---------+----------------+------------+----------+----+------------------------------------------+-----------------------------------------------+---------------------------+---------------------------+-----------------+-----------------------+-----------+----+-----------------+---------------+----+--------+------------+--------------+--------+---------------------+---------+---------------------+-------------------------+-------+-----------------------+---------------+-------------------------------------+--------------------------------------+-----------------+-------------------------+-------------------+-----------------------+-------+-------------------------+--------------------------+--------------+------------------+------------------+----------------------+------------------+--------+-------------------+-------------+---------------------+-----------------+--------------+----------+---------+----------+----------+---------+----------+-----------+-----------+------------+-----------+-----------+-----------+-----------+-----------+-----------+-----------+-----------+---------+---------+----------+---------------------+---------------+-----------------------+-------------------+----------------+------------+-----------+------------+------------+-----------+------------+-------------+-------------+-------------+--------------+-------------+-------------+-------------+-------------+-------------+-------------+-------------+-----------+-----------+------------+\n",
            "only showing top 5 rows\n",
            "\n"
          ],
          "name": "stdout"
        }
      ]
    },
    {
      "cell_type": "markdown",
      "metadata": {
        "id": "XVDR5A7zbJ8T"
      },
      "source": [
        "Question 1: \n",
        "\n",
        "Which combination of nutrients is the best predictor for the fat yield (milk yield * fat %) ?"
      ]
    },
    {
      "cell_type": "code",
      "metadata": {
        "colab": {
          "base_uri": "https://localhost:8080/"
        },
        "id": "aoRSZiYJbYi8",
        "outputId": "4e1ed54c-d532-4b99-f579-7a4290e3d90e"
      },
      "source": [
        "\n",
        "\"\"\"\n",
        "# select the yield column and fat% column\n",
        "\n",
        "subDF_null = milk_data.select('Milk yield (kg)', 'Fat%')\n",
        "subDF_null.show(5)\n",
        "\n",
        "subDF = subDF_null.dropna()\n",
        "yield_col = subDF.select('Milk yield (kg)')\n",
        "fat_pc_col = subDF.select('Fat%')\n",
        "\n",
        "subDF.show(5)\n",
        "\n",
        "fat_yield = list(map(lambda x, y : x*y, yield_col, fat_pc_col))\n",
        "\n",
        "# or \n",
        "\n",
        "data = milk_data.toPandas()\n",
        "\n",
        "milk_yield = data.loc[:, \"Milk yield (kg)\"]\n",
        "fat = data.loc[:, \"Fat%\"]\n",
        "total_fat = milk_yield * fat\n",
        "\"\"\""
      ],
      "execution_count": 110,
      "outputs": [
        {
          "output_type": "stream",
          "text": [
            "+---------------+----+\n",
            "|Milk yield (kg)|Fat%|\n",
            "+---------------+----+\n",
            "|          40.47|3.55|\n",
            "|          38.29|null|\n",
            "|          39.28|null|\n",
            "|          38.16|null|\n",
            "|          44.06|null|\n",
            "+---------------+----+\n",
            "only showing top 5 rows\n",
            "\n",
            "+---------------+----+\n",
            "|Milk yield (kg)|Fat%|\n",
            "+---------------+----+\n",
            "|          40.47|3.55|\n",
            "|          40.12|3.49|\n",
            "|          42.09|3.33|\n",
            "|          36.26|3.45|\n",
            "|          31.12|3.89|\n",
            "+---------------+----+\n",
            "only showing top 5 rows\n",
            "\n"
          ],
          "name": "stdout"
        }
      ]
    },
    {
      "cell_type": "markdown",
      "metadata": {
        "id": "_12sa5DSpvsG"
      },
      "source": [
        "**Import plot libraries**"
      ]
    },
    {
      "cell_type": "code",
      "metadata": {
        "id": "QSbjOmWgp6rx"
      },
      "source": [
        "import seaborn as sns\n",
        "\n",
        "import matplotlib.pyplot as plt\n",
        "\n",
        "import pandas as pd\n",
        "\n",
        "from pyspark import SparkFiles\n",
        "\n",
        "from pyspark.sql import types\n",
        "from pyspark.sql import functions as psf\n",
        "from pyspark.ml.feature import VectorAssembler\n",
        "\n",
        "from pyspark.ml.regression import LinearRegression\n",
        "from pyspark.ml.regression import LinearRegressionModel\n",
        "from pyspark.ml import Pipeline\n",
        "\n",
        "from pyspark.ml.evaluation import RegressionEvaluator\n",
        "\n",
        "from pyspark.ml.tuning import ParamGridBuilder, CrossValidator\n",
        "\n",
        "from pyspark.ml.regression import LinearRegression\n",
        "\n",
        "from patsy import dmatrices\n",
        "import statsmodels.api as sm\n",
        "from statsmodels.stats.outliers_influence import variance_inflation_factor\n",
        "\n",
        "# software\n",
        "\n",
        "import os\n",
        "os.environ[\"JAVA_HOME\"] = \"/usr/lib/jvm/java-8-openjdk-amd64\"\n",
        "os.environ[\"SPARK_HOME\"] = \"/content/spark-2.4.7-bin-hadoop2.7\"\n",
        "\n",
        "import findspark\n",
        "findspark.init()\n",
        "from pyspark.sql import SparkSession\n",
        "sp = SparkSession.builder.master(\"local[*]\").getOrCreate()\n",
        "\n",
        "from pyspark import SparkContext\n",
        "from pyspark.sql import SparkSession\n",
        "sc = SparkContext.getOrCreate()\n",
        "spark = SparkSession.builder.getOrCreate()\n",
        "\n",
        "from pyspark.sql import SQLContext\n",
        "sqlContext = SQLContext(sc)"
      ],
      "execution_count": 107,
      "outputs": []
    },
    {
      "cell_type": "markdown",
      "metadata": {
        "id": "MXbp1k1F7Bnr"
      },
      "source": [
        "**Select the variables**"
      ]
    },
    {
      "cell_type": "markdown",
      "metadata": {
        "id": "Ngc8zcTl7vPj"
      },
      "source": [
        "Read the file and convert to both Spark and Pandas dataframe"
      ]
    },
    {
      "cell_type": "code",
      "metadata": {
        "id": "u0gc8EiT5c8Q"
      },
      "source": [
        "# Downloading the preprocessed datafile from the github in raw format\n",
        "url = 'https://raw.githubusercontent.com/bartianbosch/Melk/main/ff_dairy_v1_preprocessed.csv'\n",
        "fileName = url.split('/')[-1] #The filename is everything after \"main/\"\n",
        "\n",
        "# Prepare and load the file into a spark rdd\n",
        "spark.sparkContext.addFile(url)\n",
        "milk_url = spark.read.csv(SparkFiles.get(fileName), header=True)\n",
        "\n",
        "# Also load the data to a pandas table, just in case we need it for testing.\n",
        "milk_url_pd=pd.read_csv(url, encoding='latin1')"
      ],
      "execution_count": 138,
      "outputs": []
    },
    {
      "cell_type": "markdown",
      "metadata": {
        "id": "V9tbrSQR70lZ"
      },
      "source": [
        "Add an extra column for the total fat (fat yield)"
      ]
    },
    {
      "cell_type": "code",
      "metadata": {
        "id": "rxeDThKDbI-a"
      },
      "source": [
        "# extra column total fat (fat yield)\n",
        "\n",
        "milk_url2 = milk_url.withColumn('total_fat', milk_url['Milk yield (kg)'] * milk_url['Fat%'])\n",
        "milk_url_pd2 = milk_url2.toPandas()"
      ],
      "execution_count": 139,
      "outputs": []
    },
    {
      "cell_type": "markdown",
      "metadata": {
        "id": "nSZ2BEq-76I5"
      },
      "source": [
        "Select a subset with nutrients"
      ]
    },
    {
      "cell_type": "code",
      "metadata": {
        "id": "LpJArRVZ79yc"
      },
      "source": [
        "# crude fiber, sugar, crude protein, crude fat, starch, Ca, P, Na, Cl, K, Mg, WDS, SPK, TPK, SPE, TPE, +I, Wi, GP \n",
        "# intestines: nXP, RNB, MELK, NEL, WDE, EKB\n",
        "\n",
        "nutrients_selected = milk_url.select(['Fat%', 'Crude fiber (g/day)', 'Sugar (g/day)', 'Crude protein (g/day)', 'Crude fat (g/day)', 'Starch (g/day)', \n",
        "                             'Ca (g/day)', 'P (g/day)', 'Na (g/day)', 'Cl (g/day)', 'K (g/day)', 'Mg (g/day)']).dropna(subset = \"Fat%\")\n",
        "nutrients = nutrients_selected.select([nutrients_selected[col].cast('float') for col in nutrients_selected.columns])\n",
        "\n",
        "nutrients_pd = nutrients.select('*').toPandas()\n",
        "nutrients_pd[['Fat%', 'Crude fiber (g/day)', 'Sugar (g/day)', 'Crude protein (g/day)', 'Crude fat (g/day)', 'Starch (g/day)', \n",
        "              'Ca (g/day)', 'P (g/day)', 'Na (g/day)', 'Cl (g/day)', 'K (g/day)', 'Mg (g/day)']] = nutrients_pd[['Fat%', 'Crude fiber (g/day)', 'Sugar (g/day)', 'Crude protein (g/day)', 'Crude fat (g/day)', 'Starch (g/day)', \n",
        "              'Ca (g/day)', 'P (g/day)', 'Na (g/day)', 'Cl (g/day)', 'K (g/day)', 'Mg (g/day)']].apply(pd.to_numeric)\n",
        "\n",
        "# don't forget to import pandas as pd before running apply(pd.to_numeric)"
      ],
      "execution_count": 140,
      "outputs": []
    },
    {
      "cell_type": "markdown",
      "metadata": {
        "id": "vy_fa3xy9gPS"
      },
      "source": [
        "Fix the datatype"
      ]
    },
    {
      "cell_type": "code",
      "metadata": {
        "id": "KoOoFNav9iSy"
      },
      "source": [
        "from pyspark.sql import functions as F\n",
        "def fixType(datasetName, colName, dataType):\n",
        "  \"\"\"Takes a dataset and returns the dataset with the given column set to the given dataype\"\"\"\n",
        "  return datasetName.withColumn(colName, F.col(colName).cast(dataType))\n",
        "\n",
        "# Preparing Lists with the colum names and which type they need to be\n",
        "allColumns = ['Cow number', 'Date', 'Barn', 'Barn part', 'Treatment', 'Lactation number', 'Days in milk', 'Day number', 'Week', 'Period (VP = preperiod, HP = trial period)', 'Period part (VP = preperiod, HP = trial period)', 'Intake basal ration (kg dm)', 'Intake total ration (kg dm)', 'Water intake (kg)', 'Concentrate intake (kg)', 'Weight (kg)', 'BCS', 'Backfat Thickness', 'Milk yield (kg)', 'Fat%', 'Protein%', 'Urea (mg/kg)', 'SCC (*1000/ml)', 'Lactose%', 'Avg Temperature (degC)', 'Air speed', 'Max temperature (degC)', 'Rumination time (min/day)', 'Avg pH', 'Avg Rumen Temperature ', 'Time pH<5,8 (h)', 'Manure consistency (1=fluid, 5= hard)', 'Manure fibre score (1=short, 5 = long)', 'Number of kernels', 'Manure sieving residu (%)', 'Manure dm (g/kg OM)', 'Manure starch (g/kg dm)', 'Urin-pH', 'Intake pre-period (kg dm)', 'Milk yield prepreriod (kg)', 'Fat% preperiod', 'Protein% preperiod', 'Fat preperiod (kg)', 'Protein preperiod (kg)', 'ECM preperiod (kg)', 'ECM (kg)', 'Crude fiber (g/day)', 'Sugar (g/day)', 'Crude protein (g/day)', 'Crude fat (g/day)', 'Starch (g/day)', 'Ca (g/day)', 'P (g/day)', 'Na (g/day)', 'Cl (g/day)', 'K (g/day)', 'Mg (g/day)', 'nXP (g/day)', 'RNB (g/day)', 'MELK (g/day)', 'NEL (g/day)', 'WDE (g/day)', 'EKB (g/day)', 'WDS (g/day)', 'SPK (g/day)', 'TPK (g/day)', 'SPE (g/day)', 'TPE (g/day)', 'plusI (/day)', 'WI (/day)', 'GP (g/day)', 'Crude fiber (g/kg dm)', 'Sugar (g/kg dm)', 'Crude protein (g/kg dm)', 'Crude fat (g/kg dm)', 'Starch (g/kg dm)', 'Ca (g/kg dm)', 'P (g/kg dm)', 'Na (g/kg dm)', 'Cl (g/kg dm)', 'K (g/kg dm)', 'Mg (g/kg dm)', 'nXP (g/kg dm)', 'RNB (g/kg dm)', 'MELK (/kg dm)', 'NEL (MJ/kg dm)', 'WDE (g/kg dm)', 'EKB (g/kg dm)', 'WDS (g/kg dm)', 'SPK (g/kg dm)', 'TPK (g/kg dm)', 'SPE (g/kg dm)', 'TPE (g/kg dm)', 'plusI (/kg dm)', 'WI (/kg dm)', 'GP (g/kg dm)']\n",
        "doubleColumns = ['Intake basal ration (kg dm)', 'Intake total ration (kg dm)', 'Water intake (kg)', 'Concentrate intake (kg)', 'Weight (kg)', 'BCS', 'Milk yield (kg)', 'Fat%', 'Protein%', 'Lactose%', 'Avg Temperature (degC)', 'Air speed', 'Max temperature (degC)', 'Avg pH', 'Avg Rumen Temperature ', 'Time pH<5,8 (h)', 'Number of kernels', 'Manure sieving residu (%)', 'Manure starch (g/kg dm)', 'Urin-pH', 'Intake pre-period (kg dm)', 'Milk yield prepreriod (kg)', 'Fat% preperiod', 'Protein% preperiod', 'Fat preperiod (kg)', 'Protein preperiod (kg)', 'ECM preperiod (kg)', 'ECM (kg)', 'total_fat']\n",
        "intColumns = ['Cow number', 'Barn', 'Barn part', 'Lactation number', 'Days in milk', 'Day number', 'Week', 'Backfat Thickness', 'Urea (mg/kg)', 'SCC (*1000/ml)', 'Rumination time (min/day)', 'Manure consistency (1=fluid, 5= hard)', 'Manure fibre score (1=short, 5 = long)', 'Manure dm (g/kg OM)', 'Crude fiber (g/day)', 'Sugar (g/day)', 'Crude protein (g/day)', 'Crude fat (g/day)', 'Starch (g/day)', 'Ca (g/day)', 'P (g/day)', 'Na (g/day)', 'Cl (g/day)', 'K (g/day)', 'Mg (g/day)', 'nXP (g/day)', 'RNB (g/day)', 'MELK (g/day)', 'NEL (g/day)', 'WDE (g/day)', 'EKB (g/day)', 'WDS (g/day)', 'SPK (g/day)', 'TPK (g/day)', 'SPE (g/day)', 'TPE (g/day)', 'plusI (/day)', 'WI (/day)', 'GP (g/day)', 'Crude fiber (g/kg dm)', 'Sugar (g/kg dm)', 'Crude protein (g/kg dm)', 'Crude fat (g/kg dm)', 'Starch (g/kg dm)', 'Ca (g/kg dm)', 'P (g/kg dm)', 'Na (g/kg dm)', 'Cl (g/kg dm)', 'K (g/kg dm)', 'Mg (g/kg dm)', 'nXP (g/kg dm)', 'RNB (g/kg dm)', 'MELK (/kg dm)', 'NEL (MJ/kg dm)', 'WDE (g/kg dm)', 'EKB (g/kg dm)', 'WDS (g/kg dm)', 'SPK (g/kg dm)', 'TPK (g/kg dm)', 'SPE (g/kg dm)', 'TPE (g/kg dm)', 'plusI (/kg dm)', 'WI (/kg dm)', 'GP (g/kg dm)']\n",
        "stringColumn = ['Treatment', 'Period (VP = preperiod, HP = trial period)', 'Period part (VP = preperiod, HP = trial period)']\n",
        "milk_data = milk_url2\n",
        "\n",
        "# Setting the columns to the correct type\n",
        "for colName in doubleColumns:\n",
        "  milk_data = fixType(milk_data, colName, \"double\")\n",
        "for colName in intColumns:\n",
        "  milk_data = fixType(milk_data, colName, \"int\")\n",
        "milk_data = milk_data.withColumn(\"Date\", F.col(\"Date\").cast(\"date\"))\n"
      ],
      "execution_count": 146,
      "outputs": []
    },
    {
      "cell_type": "markdown",
      "metadata": {
        "id": "55JFf56yz2nr"
      },
      "source": [
        "**Variable names and datatypes**"
      ]
    },
    {
      "cell_type": "markdown",
      "metadata": {
        "id": "rWdCHzzAz93D"
      },
      "source": [
        "milk_data = Spark dataframe \n",
        " - from spark.read_csv()\n",
        " - pyspark.sql.dataframe.DataFrame\n",
        " - wrong columnnames AVG temp, Max temp and I (/day)\n",
        "\n",
        "\n",
        "**correct**\n",
        "\n",
        "milk_url = Spark dataframe \n",
        " - from spark.read_csv()\n",
        " - pyspark.sql.dataframe.DataFrame\n",
        " - correct AVG temp, max temp and I (/day)\n",
        "\n",
        "milk_url_pd = Pandas dataframe\n",
        " - from toPandas()\n",
        " - pandas.core.frame.DataFrame\n",
        " - correct AVG temp, max temp and I (/day)\n",
        "\n",
        "milk_url2 = Spark dataframe\n",
        " - extra 'total_fat' column added -> last column is 'total' fat\n",
        " - can be converted to pandas using toPandas()\n",
        "\n",
        "\n",
        "milk_url_pd2 = Pandas dataframe \n",
        " - extra 'total_fat' column included -> last column is 'total' fat\n",
        " - derived from milk_data2\n",
        "\n",
        "nutrients = Spark dataframe\n",
        " - selected the nutrients (Crude fiber and Ca etc)\n",
        " - pyspark.sql.dataframe.DataFrame\n",
        "\n",
        "\n",
        "nutrients_pd = Pandas dataframe\n",
        " - convert nutrients to pandas \n",
        " - also used: apply(pd.to_numeric) so expect numeric values ipv strings\n",
        "\n",
        "milk_data = Spark dataframe\n",
        " - fixed datatype for all variables + extra total_fat column"
      ]
    },
    {
      "cell_type": "code",
      "metadata": {
        "id": "kAYfqnuv0S1D"
      },
      "source": [
        "milk_url2.show()"
      ],
      "execution_count": null,
      "outputs": []
    },
    {
      "cell_type": "markdown",
      "metadata": {
        "id": "PILEWPHN9KPm"
      },
      "source": [
        "# **Visualization**"
      ]
    },
    {
      "cell_type": "markdown",
      "metadata": {
        "id": "TR0U6GN5paJa"
      },
      "source": [
        "**Scatterplots**"
      ]
    },
    {
      "cell_type": "code",
      "metadata": {
        "id": "VU-rxHFebkTQ"
      },
      "source": [
        "sns.scatterplot(x='total_fat', y='Ca (g/day)', data=milk_url_pd2)\n"
      ],
      "execution_count": null,
      "outputs": []
    },
    {
      "cell_type": "markdown",
      "metadata": {
        "id": "ryIA4UfeyPKy"
      },
      "source": [
        "**Linear regression models**\n",
        "\n",
        "werkt niet: zie verderop\n"
      ]
    },
    {
      "cell_type": "code",
      "metadata": {
        "id": "lUIGiGNbyOB7"
      },
      "source": [
        "# werkt niet\n",
        "\n",
        "corr_mat = data_pandas.corr(method='pearson')\n",
        "#plt.subplots(figsize=(30,30))\n",
        "\n",
        "corr_mat.loc[:, \"Fat%\"]\n",
        "\n",
        "#sns.heatmap(corr_mat, cmap='coolwarm')\n",
        "\n",
        "assembler = VectorAssembler(\n",
        "    inputCols = [col for col in nutrients.columns if col != \"Fat%\"],\n",
        "    outputCol = \"features\")\n",
        "output = assembler.transform(nutrients).select('features', 'Fat%')\n",
        "\n",
        "test_data, train_data = output.randomSplit([0.8, 0.2], 0)\n",
        "lr = LinearRegression(featuresCol = 'features', labelCol='Fat%')\n",
        "lrModel = lr.fit(train_data)"
      ],
      "execution_count": null,
      "outputs": []
    },
    {
      "cell_type": "markdown",
      "metadata": {
        "id": "-_DRBUO-3Irh"
      },
      "source": [
        "**Barplot**"
      ]
    },
    {
      "cell_type": "code",
      "metadata": {
        "id": "djufYjgz3JKd",
        "colab": {
          "base_uri": "https://localhost:8080/"
        },
        "outputId": "174fdb8d-e774-4d3e-b624-cd2e389646ea"
      },
      "source": [
        "df_corr = nutrients.corr('Fat%', 'Crude fiber (g/day)')\n",
        "df_corr\n",
        "#df_corr[['cor_fiber']].plot(kind='hist')"
      ],
      "execution_count": 17,
      "outputs": [
        {
          "output_type": "execute_result",
          "data": {
            "text/plain": [
              "0.05765395562892454"
            ]
          },
          "metadata": {
            "tags": []
          },
          "execution_count": 17
        }
      ]
    },
    {
      "cell_type": "code",
      "metadata": {
        "id": "n8DoCrix45xN",
        "colab": {
          "base_uri": "https://localhost:8080/",
          "height": 122
        },
        "outputId": "2fa770cf-5a7c-4c74-b4e1-121ba57a9100"
      },
      "source": [
        "print(type(total_fat))\n",
        "print('hello')\n",
        "print(type(cr_fiber_col))\n",
        "\n",
        "\n",
        "\"\"\"\n",
        "lines = plt.xcorr(total_fat, cr_fiber_col)\n",
        "\n",
        "plot.title('Hypothetical Data: Angle of collision vs Energy lost')\n",
        "\n",
        "plot.xlabel('Angle of collision')\n",
        "\n",
        "plot.ylabel('Energy lost')    \n",
        "\n",
        "plot.grid(True)\n",
        "\n",
        "plot.axhline(0, color='red', lw=2)\n",
        "\n",
        "plot.show()\n",
        "\"\"\""
      ],
      "execution_count": 18,
      "outputs": [
        {
          "output_type": "stream",
          "text": [
            "<class 'pandas.core.series.Series'>\n",
            "hello\n",
            "<class 'pandas.core.series.Series'>\n"
          ],
          "name": "stdout"
        },
        {
          "output_type": "execute_result",
          "data": {
            "application/vnd.google.colaboratory.intrinsic+json": {
              "type": "string"
            },
            "text/plain": [
              "\"\\nlines = plt.xcorr(total_fat, cr_fiber_col)\\n\\nplot.title('Hypothetical Data: Angle of collision vs Energy lost')\\n\\nplot.xlabel('Angle of collision')\\n\\nplot.ylabel('Energy lost')    \\n\\nplot.grid(True)\\n\\nplot.axhline(0, color='red', lw=2)\\n\\nplot.show()\\n\""
            ]
          },
          "metadata": {
            "tags": []
          },
          "execution_count": 18
        }
      ]
    },
    {
      "cell_type": "code",
      "metadata": {
        "id": "isOV1xjo7kPQ"
      },
      "source": [
        "# library & dataset\n",
        "import seaborn as sns\n",
        "df = sns.load_dataset('iris')\n",
        "import matplotlib.pyplot as plt\n",
        " \n",
        "# Basic correlogram\n",
        "#sns.pairplot(nutrients_pd)\n"
      ],
      "execution_count": 19,
      "outputs": []
    },
    {
      "cell_type": "markdown",
      "metadata": {
        "id": "uAdg_JqO-ZDt"
      },
      "source": [
        "**Correlation Matrix**"
      ]
    },
    {
      "cell_type": "code",
      "metadata": {
        "id": "LyfcTF7e-ZhZ"
      },
      "source": [
        "#\n",
        "# create column dataframe without NULL values -> returns a series object\n",
        "cr_fiber_col2 = data_pandas.loc[:,'Crude fiber (g/day)'].dropna()\n",
        "sugar_col2 = data_pandas.loc[:,'Sugar (g/day)'].dropna()\n",
        "cr_protein_col2 = data_pandas.loc[:,'Crude protein (g/day)'].dropna()\n",
        "cr_fat_col2 = data_pandas.loc[:,'Crude fat (g/day)'].dropna()\n",
        "starch_col2 = data_pandas.loc[:,'Starch (g/day)'].dropna()\n",
        "\n",
        "ca_col2 = data_pandas.loc[:,'Ca (g/day)'].dropna()\n",
        "p_col2 = data_pandas.loc[:,'P (g/day)'].dropna()\n",
        "na_col2 = data_pandas.loc[:,'Na (g/day)'].dropna()\n",
        "cl_col2 = data_pandas.loc[:,'Cl (g/day)'].dropna()\n",
        "k_col2 = data_pandas.loc[:,'K (g/day)'].dropna()\n",
        "mg_col2 = data_pandas.loc[:,'Mg (g/day)'].dropna()\n",
        "\n",
        "# create a list/array from the columns -> returns a list/array\n",
        "cr_fiber_array = cr_fiber_col2.values\n",
        "sugar_array = sugar_col2.values\n",
        "cr_protein_array = cr_protein_col2.values\n",
        "cr_fat_array = cr_fat_col2.values\n",
        "starch_array = starch_col2.values\n",
        "\n",
        "ca_array = ca_col2.values\n",
        "p_array = p_col2.values\n",
        "na_array = na_col2.values\n",
        "cl_array = cl_col2.values\n",
        "k_array = k_col2.values\n",
        "mg_array = mg_col2.values\n",
        "\n",
        "# fix the datatype\n",
        "\n",
        "# create a dictionary from the arrays\n",
        "\n",
        "data_dict = {'cr_fiber': cr_fiber_array, \n",
        "             'sugar':sugar_array,\n",
        "             'cr_protein':cr_protein_array,\n",
        "             'cr_fat':cr_fat_array,\n",
        "             'starch':starch_array,\n",
        "             'ca':ca_array,\n",
        "             'p':p_array,\n",
        "             'na':na_array,\n",
        "             'cl':cl_array,\n",
        "             'k':k_array,\n",
        "             'mg':mg_array }\n",
        "\n",
        "# create a panda dataframe from the dictionary\n",
        "\n",
        "nutrients_pd_df = pd.DataFrame(data_dict, columns=['cr_fiber', 'sugar', 'cr_protein', 'cr_fat', 'starch', 'ca', 'p', 'na', 'cl', 'k', 'mg'])\n",
        "short_df = pd.DataFrame(data_dict, columns=['cr_fiber', 'sugar', 'cr_protein',])\n",
        "print(short_df)\n",
        "\n",
        "\n",
        "print(short_df.dtypes)\n",
        "\n",
        "\n",
        "# create a correlation matrix\n",
        "\n",
        "corrMatrix = short_df.corr()\n",
        "print(corrMatrix)\n",
        "\n",
        "#nutrients_corr_mat = nutrients_pd_df.corr()\n",
        "#print(nutrients_corr_mat)\n",
        "\n",
        "cr_fiber_col22 = nutrients_pd.loc[:,'Crude fiber (g/day)'].dropna()\n",
        "sugar_col22 = nutrients_pd.loc[:,'Sugar (g/day)'].dropna()\n",
        "print(cr_fiber_col2)\n",
        "print(cr_fiber_col22)\n",
        "print(sugar_col2)\n",
        "print(sugar_col22)"
      ],
      "execution_count": null,
      "outputs": []
    },
    {
      "cell_type": "markdown",
      "metadata": {
        "id": "uBek-Hokpg2J"
      },
      "source": [
        "**Line plots**"
      ]
    },
    {
      "cell_type": "code",
      "metadata": {
        "id": "v1iIQ4s2hqCr",
        "colab": {
          "base_uri": "https://localhost:8080/"
        },
        "outputId": "f2917c73-d2a3-4f1c-ae86-86999758040d"
      },
      "source": [
        "cr_fiber_col = data_pandas.loc[:,'Crude fiber (g/day)'].dropna()\n",
        "\n",
        "yield_fiber = milk_rdd.select('Milk yield (kg)', 'Fat%', 'Crude fiber (g/day)').dropna()\n",
        "# nr of rows of all three columns = 1337\n",
        "\n",
        "cr_fiber_col2 = yield_fiber.select('Crude fiber (g/day)')\n",
        "yield_fiber_total = yield_fiber.withColumn('total_fat', milk_rdd['Milk yield (kg)'] * milk_rdd['Fat%'])\n",
        "# add an extra column fat yield\n",
        "fat_yield2 = yield_fiber_total.select('total_fat')\n",
        "\n",
        "type(cr_fiber_col) # pandas series\n",
        "type(fat_yield2) # dataframe\n",
        "\n"
      ],
      "execution_count": null,
      "outputs": [
        {
          "output_type": "execute_result",
          "data": {
            "text/plain": [
              "pyspark.sql.dataframe.DataFrame"
            ]
          },
          "metadata": {
            "tags": []
          },
          "execution_count": 9
        }
      ]
    },
    {
      "cell_type": "markdown",
      "metadata": {
        "id": "IvjlY5fV3DhV"
      },
      "source": [
        "**Pandas basic information**"
      ]
    },
    {
      "cell_type": "code",
      "metadata": {
        "id": "us93qgYPhqLk"
      },
      "source": [
        "milk_data = pd.read_csv('/content/gdrive/MyDrive/Big_Data_Groupwork_Project/Big_Data_Groupwork/ff_dairy_v1.csv')"
      ],
      "execution_count": null,
      "outputs": []
    },
    {
      "cell_type": "markdown",
      "metadata": {
        "id": "2di4hFOJiIl5"
      },
      "source": [
        "**Plotting sample of dataset against 1 column**"
      ]
    },
    {
      "cell_type": "code",
      "metadata": {
        "id": "0s3i4ydWkCb3"
      },
      "source": [
        "## Loading the data\n",
        "\n",
        "# Downloading the preprocessed datafile from the github in raw format\n",
        "url = 'https://raw.githubusercontent.com/bartianbosch/Melk/main/ff_dairy_v1_preprocessed.csv'\n",
        "fileName = url.split('/')[-1] #The filename is everything after \"main/\"\n",
        "\n",
        "# Prepare and load the file into a spark rdd\n",
        "spark.sparkContext.addFile(url)\n",
        "milk_rdd = spark.read.csv(SparkFiles.get(fileName), header=True)\n",
        "\n",
        "# Also load the data to a pandas table, just in case we need it for testing.\n",
        "milk_pd=pd.read_csv(url, encoding='latin1')"
      ],
      "execution_count": 75,
      "outputs": []
    },
    {
      "cell_type": "code",
      "metadata": {
        "id": "DYwKrOvahqPx"
      },
      "source": [
        "## Copy of setting the correct columns to allow easier plotting\n",
        "\n",
        "### CHANGE inputColNames (list of x) AND LabelColName (y) TO CREATE THE\n",
        "### DESIRED PLOTS. # ONLY 10 x VALUES CAN BE ENTERED AT A TIME\n",
        "\n",
        "inputColNames = ['Ca (g/day)', 'P (g/day)', 'Na (g/day)' ]\n",
        "#inputColNames = doubleColumns[0:10]\n",
        "\n",
        "cr_fiber_col2 = data_pandas.loc[:,'Crude fiber (g/day)'].dropna()\n",
        "sugar_col2 = data_pandas.loc[:,'Sugar (g/day)'].dropna()\n",
        "cr_protein_col2 = data_pandas.loc[:,'Crude protein (g/day)'].dropna()\n",
        "cr_fat_col2 = data_pandas.loc[:,'Crude fat (g/day)'].dropna()\n",
        "starch_col2 = data_pandas.loc[:,'Starch (g/day)'].dropna()\n",
        "\n",
        "ca_col2 = data_pandas.loc[:,'Ca (g/day)'].dropna()\n",
        "p_col2 = data_pandas.loc[:,'P (g/day)'].dropna()\n",
        "na_col2 = data_pandas.loc[:,'Na (g/day)'].dropna()\n",
        "cl_col2 = data_pandas.loc[:,'Cl (g/day)'].dropna()\n",
        "k_col2 = data_pandas.loc[:,'K (g/day)'].dropna()\n",
        "mg_col2 = data_pandas.loc[:,'Mg (g/day)'].dropna()\n",
        "\n",
        "\n",
        "#labelColName = \"Milk yield (kg)\"\n",
        "labelColName = 'Sugar (g/day)'\n",
        "predictionColName = \"Predicted \" + labelColName\n",
        "\n",
        "# Removing the label column from the input column if it ended in there on accident\n",
        "if labelColName in inputColNames: inputColNames.remove(labelColName)\n",
        "\n",
        "# Drop empty values (otherwise it can't work with the data)\n",
        "# WE MIGHT NEED TO FIND AN ALTERNATIVE TO DROPPING ANY ROW WITH BLANKS!\n",
        "# CURRENTLY EXPERIMENTING WITH NOT DROPPING NA FOR THE PLOTTING\n",
        "#milk_rdd3 = milk_rdd2.dropna(how='any', subset=inputColNames+[labelColName])\n",
        "milk_rdd3 = milk_rdd2.select(inputColNames+[labelColName])"
      ],
      "execution_count": 52,
      "outputs": []
    },
    {
      "cell_type": "code",
      "metadata": {
        "id": "WfLUxWDjhqT3"
      },
      "source": [
        "## Plotting the columns versus the labelcolumn to get inital idea of linear regression\n",
        "\n",
        "### Trying to plot more than 10 plots at the same time results in empty plots ###\n",
        "\n",
        "milk_rdd3_sample = milk_rdd3.select(inputColNames+[labelColName]).sample(False,0.5)\n",
        "#print(milk_rdd3_sample)\n",
        "sns.set(rc={'figure.figsize':(10,10)})\n",
        "\n",
        "for column in inputColNames:\n",
        "  plt.figure()\n",
        "  sns.lmplot(x=column, y=labelColName,data=milk_rdd3_sample.toPandas())\n",
        "  plt.title(labelColName+\" vs \"+column)\n",
        "  plt.xlabel(column)\n",
        "  plt.ylabel(labelColName)"
      ],
      "execution_count": null,
      "outputs": []
    },
    {
      "cell_type": "code",
      "metadata": {
        "id": "qxQvkGHUpo1H",
        "outputId": "af0be519-0e43-45eb-da58-5b9ff167f815",
        "colab": {
          "base_uri": "https://localhost:8080/",
          "height": 130
        }
      },
      "source": [
        "# calculate VIF\n",
        "\n",
        "\n",
        "#df_vif = df[['Ca (g/day)', 'P (g/day)', 'Na (g/day)' ]].dropna()\n",
        "\n",
        "#df[['annual_inc','loan_amnt', 'funded_amnt','annual_inc','dti']].dropna()\n",
        "\n",
        "# str_to_remove = [r'(', r')'] \n",
        "# columns_list = [allColumns, doubleColumns, intColumns, stringColumn]\n",
        "# allColumnsTemp = [col for col in allColumns]\n",
        "# for column in columns_list:\n",
        "#   for i in range(len(column)):\n",
        "#     for substring in str_to_remove:\n",
        "#       column[i] = column[i].replace(substring, '').strip()\n",
        "#       column[i] = column[i].replace('/', ' ').strip()\n",
        "\n",
        "# for col1, col2 in zip(allColumnsTemp, allColumns):\n",
        "#   milk_data = milk_rdd.withColumnRenamed(col1, col2)\n",
        "\n",
        "#%%capture\n",
        "#gather features\n",
        "features = \"+\".join(milk_data.columns)\n",
        "\n",
        "\n",
        "# get y and X dataframes based on this regression:\n",
        "y, X = dmatrices('Ca (g/day) ~' + features, milk_pd, return_type='dataframe')\n",
        "\n",
        "vif = pd.DataFrame()\n",
        "vif[\"VIF Factor\"] = [variance_inflation_factor(X.values, i) for i in range(X.shape[1])]\n",
        "vif[\"features\"] = X.columns"
      ],
      "execution_count": 101,
      "outputs": [
        {
          "output_type": "error",
          "ename": "SyntaxError",
          "evalue": "ignored",
          "traceback": [
            "\u001b[0;36m  File \u001b[0;32m\"<unknown>\"\u001b[0;36m, line \u001b[0;32m1\u001b[0m\n\u001b[0;31m    Max temperature(degC)\u001b[0m\n\u001b[0m                  ^\u001b[0m\n\u001b[0;31mSyntaxError\u001b[0m\u001b[0;31m:\u001b[0m invalid syntax\n"
          ]
        }
      ]
    },
    {
      "cell_type": "code",
      "metadata": {
        "id": "hvRH7qjlppG1",
        "outputId": "e989a738-b872-4d08-8151-efc91271590c",
        "colab": {
          "base_uri": "https://localhost:8080/"
        }
      },
      "source": [
        "print(milk_pd.columns)"
      ],
      "execution_count": 83,
      "outputs": [
        {
          "output_type": "stream",
          "text": [
            "['Cow number', 'Date', 'Barn', 'Barn part', 'Treatment', 'Lactation number', 'Days in milk', 'Day number', 'Week', 'Period (VP = preperiod, HP = trial period)', 'Period part (VP = preperiod, HP = trial period)', 'Intake basal ration (kg dm)', 'Intake total ration (kg dm)', 'Water intake (kg)', 'Concentrate intake (kg)', 'Weight (kg)', 'BCS', 'Backfat Thickness', 'Milk yield (kg)', 'Fat%', 'Protein%', 'Urea (mg/kg)', 'SCC (*1000/ml)', 'Lactose%', 'Avg Temperature (degC)', 'Air speed', 'Max temperature (degC)', 'Rumination time (min/day)', 'Avg pH', 'Avg Rumen Temperature ', 'Time pH<5,8 (h)', 'Manure consistency (1=fluid, 5= hard)', 'Manure fibre score (1=short, 5 = long)', 'Number of kernels', 'Manure sieving residu (%)', 'Manure dm (g/kg OM)', 'Manure starch (g/kg dm)', 'Urin-pH', 'Intake pre-period (kg dm)', 'Milk yield prepreriod (kg)', 'Fat% preperiod', 'Protein% preperiod', 'Fat preperiod (kg)', 'Protein preperiod (kg)', 'ECM preperiod (kg)', 'ECM (kg)', 'Crude fiber (g/day)', 'Sugar (g/day)', 'Crude protein (g/day)', 'Crude fat (g/day)', 'Starch (g/day)', 'Ca (g/day)', 'P (g/day)', 'Na (g/day)', 'Cl (g/day)', 'K (g/day)', 'Mg (g/day)', 'nXP (g/day)', 'RNB (g/day)', 'MELK (g/day)', 'NEL (g/day)', 'WDE (g/day)', 'EKB (g/day)', 'WDS (g/day)', 'SPK (g/day)', 'TPK (g/day)', 'SPE (g/day)', 'TPE (g/day)', 'plusI (/day)', 'WI (/day)', 'GP (g/day)', 'Crude fiber (g/kg dm)', 'Sugar (g/kg dm)', 'Crude protein (g/kg dm)', 'Crude fat (g/kg dm)', 'Starch (g/kg dm)', 'Ca (g/kg dm)', 'P (g/kg dm)', 'Na (g/kg dm)', 'Cl (g/kg dm)', 'K (g/kg dm)', 'Mg (g/kg dm)', 'nXP (g/kg dm)', 'RNB (g/kg dm)', 'MELK (/kg dm)', 'NEL (MJ/kg dm)', 'WDE (g/kg dm)', 'EKB (g/kg dm)', 'WDS (g/kg dm)', 'SPK (g/kg dm)', 'TPK (g/kg dm)', 'SPE (g/kg dm)', 'TPE (g/kg dm)', 'plusI (/kg dm)', 'WI (/kg dm)', 'GP (g/kg dm)']\n"
          ],
          "name": "stdout"
        }
      ]
    },
    {
      "cell_type": "code",
      "metadata": {
        "id": "8Fnp4Y2gvmh2"
      },
      "source": [
        ""
      ],
      "execution_count": null,
      "outputs": []
    }
  ]
}