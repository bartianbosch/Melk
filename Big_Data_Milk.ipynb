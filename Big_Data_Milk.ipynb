{
  "nbformat": 4,
  "nbformat_minor": 0,
  "metadata": {
    "colab": {
      "name": "Big Data Milk.ipynb",
      "provenance": [],
      "collapsed_sections": [],
      "include_colab_link": true
    },
    "kernelspec": {
      "name": "python3",
      "display_name": "Python 3"
    }
  },
  "cells": [
    {
      "cell_type": "markdown",
      "metadata": {
        "id": "view-in-github",
        "colab_type": "text"
      },
      "source": [
        "<a href=\"https://colab.research.google.com/github/bartianbosch/Melk/blob/Jinli/Big_Data_Milk.ipynb\" target=\"_parent\"><img src=\"https://colab.research.google.com/assets/colab-badge.svg\" alt=\"Open In Colab\"/></a>"
      ]
    },
    {
      "cell_type": "markdown",
      "metadata": {
        "id": "zSVRLt9dJyKM"
      },
      "source": [
        "Big Data Groupwork Milk\n"
      ]
    },
    {
      "cell_type": "code",
      "metadata": {
        "id": "o3LZGS6nWtSx",
        "colab": {
          "base_uri": "https://localhost:8080/"
        },
        "outputId": "44a16c40-53f3-4f17-dabc-97ed209e0f35"
      },
      "source": [
        "# To download and update the necessary requirements, run this cell\n",
        "!apt-get update\n",
        "!apt-get install openjdk-8-jdk-headless -qq > /dev/null\n",
        "!wget -q http://downloads.apache.org/spark/spark-2.4.7/spark-2.4.7-bin-hadoop2.7.tgz\n",
        "!tar xf spark-2.4.7-bin-hadoop2.7.tgz\n",
        "!pip install -q findspark"
      ],
      "execution_count": 1,
      "outputs": [
        {
          "output_type": "stream",
          "text": [
            "Get:1 https://cloud.r-project.org/bin/linux/ubuntu bionic-cran40/ InRelease [3,626 B]\n",
            "Ign:2 https://developer.download.nvidia.com/compute/cuda/repos/ubuntu1804/x86_64  InRelease\n",
            "Get:3 http://security.ubuntu.com/ubuntu bionic-security InRelease [88.7 kB]\n",
            "Ign:4 https://developer.download.nvidia.com/compute/machine-learning/repos/ubuntu1804/x86_64  InRelease\n",
            "Get:5 https://developer.download.nvidia.com/compute/cuda/repos/ubuntu1804/x86_64  Release [697 B]\n",
            "Hit:6 https://developer.download.nvidia.com/compute/machine-learning/repos/ubuntu1804/x86_64  Release\n",
            "Get:7 https://developer.download.nvidia.com/compute/cuda/repos/ubuntu1804/x86_64  Release.gpg [836 B]\n",
            "Get:8 http://ppa.launchpad.net/c2d4u.team/c2d4u4.0+/ubuntu bionic InRelease [15.9 kB]\n",
            "Hit:10 http://archive.ubuntu.com/ubuntu bionic InRelease\n",
            "Get:11 http://archive.ubuntu.com/ubuntu bionic-updates InRelease [88.7 kB]\n",
            "Ign:12 https://developer.download.nvidia.com/compute/cuda/repos/ubuntu1804/x86_64  Packages\n",
            "Get:12 https://developer.download.nvidia.com/compute/cuda/repos/ubuntu1804/x86_64  Packages [443 kB]\n",
            "Get:13 http://ppa.launchpad.net/graphics-drivers/ppa/ubuntu bionic InRelease [21.3 kB]\n",
            "Get:14 http://archive.ubuntu.com/ubuntu bionic-backports InRelease [74.6 kB]\n",
            "Get:15 http://security.ubuntu.com/ubuntu bionic-security/restricted amd64 Packages [230 kB]\n",
            "Get:16 http://ppa.launchpad.net/c2d4u.team/c2d4u4.0+/ubuntu bionic/main Sources [1,691 kB]\n",
            "Get:17 http://archive.ubuntu.com/ubuntu bionic-updates/restricted amd64 Packages [265 kB]\n",
            "Get:18 http://security.ubuntu.com/ubuntu bionic-security/main amd64 Packages [1,800 kB]\n",
            "Get:19 http://archive.ubuntu.com/ubuntu bionic-updates/main amd64 Packages [2,244 kB]\n",
            "Get:20 http://security.ubuntu.com/ubuntu bionic-security/universe amd64 Packages [1,365 kB]\n",
            "Get:21 http://archive.ubuntu.com/ubuntu bionic-updates/universe amd64 Packages [2,134 kB]\n",
            "Get:22 http://archive.ubuntu.com/ubuntu bionic-updates/multiverse amd64 Packages [54.3 kB]\n",
            "Get:23 http://ppa.launchpad.net/c2d4u.team/c2d4u4.0+/ubuntu bionic/main amd64 Packages [865 kB]\n",
            "Get:24 http://ppa.launchpad.net/graphics-drivers/ppa/ubuntu bionic/main amd64 Packages [46.5 kB]\n",
            "Fetched 11.4 MB in 8s (1,505 kB/s)\n",
            "Reading package lists... Done\n"
          ],
          "name": "stdout"
        }
      ]
    },
    {
      "cell_type": "code",
      "metadata": {
        "id": "eTb7CCLrJvOG",
        "colab": {
          "base_uri": "https://localhost:8080/"
        },
        "outputId": "6f998039-dcfc-47ff-c1bd-7f3bf73e7dae"
      },
      "source": [
        "# To initialize Apache Spark, run this cell\n",
        "import os\n",
        "os.environ[\"JAVA_HOME\"] = \"/usr/lib/jvm/java-8-openjdk-amd64\"\n",
        "os.environ[\"SPARK_HOME\"] = \"/content/spark-2.4.7-bin-hadoop2.7\"\n",
        "\n",
        "import findspark\n",
        "findspark.init()\n",
        "from pyspark.sql import SparkSession\n",
        "sp = SparkSession.builder.master(\"local[*]\").getOrCreate()\n",
        "\n",
        "from pyspark import SparkContext\n",
        "from pyspark.sql import SparkSession\n",
        "sc = SparkContext.getOrCreate()\n",
        "spark = SparkSession.builder.getOrCreate()\n",
        "\n",
        "from pyspark.sql import SQLContext\n",
        "sqlContext = SQLContext(sc)\n",
        "\n",
        "from google.colab import drive\n",
        "drive.mount('/content/gdrive/')"
      ],
      "execution_count": 2,
      "outputs": [
        {
          "output_type": "stream",
          "text": [
            "Mounted at /content/gdrive/\n"
          ],
          "name": "stdout"
        }
      ]
    },
    {
      "cell_type": "markdown",
      "metadata": {
        "id": "BMSmDG4GLso4"
      },
      "source": [
        "Loading the data into a DF\n"
      ]
    },
    {
      "cell_type": "code",
      "metadata": {
        "colab": {
          "base_uri": "https://localhost:8080/"
        },
        "id": "o2y0SrtoXxif",
        "outputId": "03f1b4b6-4b85-4f0a-c07a-488874f70025"
      },
      "source": [
        "!ls 'gdrive/MyDrive/'"
      ],
      "execution_count": 3,
      "outputs": [
        {
          "output_type": "stream",
          "text": [
            "'App ontwikkeling.gdoc'\n",
            " Big_Data_Groupwork_Project\n",
            " Bijbaan\n",
            "'Bus 356 Connexion.gdoc'\n",
            "'Citygames Delft:.gdoc'\n",
            "'Colab Notebooks'\n",
            "'Conneccie 2018-2019'\n",
            " CV\n",
            "'DIPP meetings notebook.gdoc'\n",
            "'edX courses, Udemy and more online courses.gdoc'\n",
            "'(EUR) Erasmus Universiteit'\n",
            "'Experiment 1 FP&D.gsheet'\n",
            "'Experiment 1 FP&D.xlsx'\n",
            "'Food Hazards Case Study Beer-Can Chicken.gdoc'\n",
            " GOT.gdoc\n",
            " Group39_Assignment2.gdoc\n",
            " Group39_Assignment4.gdoc\n",
            " IMG_5467.JPG\n",
            " IMG_5468.JPG\n",
            " IMG_5469.JPG\n",
            " IMG_5470.JPG\n",
            " IMG_5471.JPG\n",
            " INF33806\n",
            "'Nooit meer vergeten'\n",
            "'Online Examination Test 10 april 2020.gdoc'\n",
            "'Quality Systems Operations Definitions sheet.gdoc'\n",
            " Roblox\n",
            "'safari leeslijst.gdoc'\n",
            " Thee.gdoc\n",
            "'Thymos evaluation survey 6 april 2020.gdoc'\n",
            " Vossius\n",
            "'(VU) Vrije Universiteit'\n",
            " Wageningen\n",
            "' Wild, Janniek de; Witsenboer, Jin-Li Food P&D practical 1, 2, 3 .gdoc'\n",
            "'WSR ARGO ALV pagina.gdoc'\n"
          ],
          "name": "stdout"
        }
      ]
    },
    {
      "cell_type": "code",
      "metadata": {
        "id": "E9lkii3ALw4O"
      },
      "source": [
        "# WRONGG\n",
        "\n",
        "\"\"\"\n",
        "# Read the data from the csv file\n",
        "\n",
        "\n",
        "#milk_rdd = spark.read.csv('gdrive/MyDrive/Big_Data_Groupwork/ff_dairy_v1.csv', header=True, inferSchema = True)\n",
        "milk_data = spark.read.csv('/content/gdrive/MyDrive/Big_Data_Groupwork_Project/Big_Data_Groupwork/ff_dairy_v1.csv', header=True, inferSchema = True)\n",
        "\n",
        "# work from dataframes is sufficient\n",
        "\"\"\""
      ],
      "execution_count": null,
      "outputs": []
    },
    {
      "cell_type": "code",
      "metadata": {
        "colab": {
          "base_uri": "https://localhost:8080/"
        },
        "id": "fDwnD2s2W-H-",
        "outputId": "0d00cb04-5342-4feb-bffe-8dc2ef5c7d47"
      },
      "source": [
        "milk_data.show(5)"
      ],
      "execution_count": 49,
      "outputs": [
        {
          "output_type": "stream",
          "text": [
            "+----------+----+----+---------+---------+----------------+------------+----------+----+------------------------------------------+-----------------------------------------------+---------------------------+---------------------------+-----------------+-----------------------+-----------+----+-----------------+---------------+----+--------+------------+--------------+--------+----------------------+---------+----------------------+-------------------------+------+----------------------+---------------+-------------------------------------+--------------------------------------+-----------------+-------------------------+-------------------+-----------------------+-------+-------------------------+--------------------------+--------------+------------------+------------------+----------------------+------------------+--------+-------------------+-------------+---------------------+-----------------+--------------+----------+---------+----------+----------+---------+----------+-----------+-----------+------------+-----------+-----------+-----------+-----------+-----------+-----------+-----------+-----------+------------+---------+----------+---------------------+---------------+-----------------------+-------------------+----------------+------------+-----------+------------+------------+-----------+------------+-------------+-------------+-------------+--------------+-------------+-------------+-------------+-------------+-------------+-------------+-------------+--------------+-----------+------------+---------+\n",
            "|Cow number|Date|Barn|Barn part|Treatment|Lactation number|Days in milk|Day number|Week|Period (VP = preperiod, HP = trial period)|Period part (VP = preperiod, HP = trial period)|Intake basal ration (kg dm)|Intake total ration (kg dm)|Water intake (kg)|Concentrate intake (kg)|Weight (kg)| BCS|Backfat Thickness|Milk yield (kg)|Fat%|Protein%|Urea (mg/kg)|SCC (*1000/ml)|Lactose%|Avg Temperature (degC)|Air speed|Max temperature (degC)|Rumination time (min/day)|Avg pH|Avg Rumen Temperature |Time pH<5,8 (h)|Manure consistency (1=fluid, 5= hard)|Manure fibre score (1=short, 5 = long)|Number of kernels|Manure sieving residu (%)|Manure dm (g/kg OM)|Manure starch (g/kg dm)|Urin-pH|Intake pre-period (kg dm)|Milk yield prepreriod (kg)|Fat% preperiod|Protein% preperiod|Fat preperiod (kg)|Protein preperiod (kg)|ECM preperiod (kg)|ECM (kg)|Crude fiber (g/day)|Sugar (g/day)|Crude protein (g/day)|Crude fat (g/day)|Starch (g/day)|Ca (g/day)|P (g/day)|Na (g/day)|Cl (g/day)|K (g/day)|Mg (g/day)|nXP (g/day)|RNB (g/day)|MELK (g/day)|NEL (g/day)|WDE (g/day)|EKB (g/day)|WDS (g/day)|SPK (g/day)|TPK (g/day)|SPE (g/day)|TPE (g/day)|plusI (/day)|WI (/day)|GP (g/day)|Crude fiber (g/kg dm)|Sugar (g/kg dm)|Crude protein (g/kg dm)|Crude fat (g/kg dm)|Starch (g/kg dm)|Ca (g/kg dm)|P (g/kg dm)|Na (g/kg dm)|Cl (g/kg dm)|K (g/kg dm)|Mg (g/kg dm)|nXP (g/kg dm)|RNB (g/kg dm)|MELK (/kg dm)|NEL (MJ/kg dm)|WDE (g/kg dm)|EKB (g/kg dm)|WDS (g/kg dm)|SPK (g/kg dm)|TPK (g/kg dm)|SPE (g/kg dm)|TPE (g/kg dm)|plusI (/kg dm)|WI (/kg dm)|GP (g/kg dm)|total_fat|\n",
            "+----------+----+----+---------+---------+----------------+------------+----------+----+------------------------------------------+-----------------------------------------------+---------------------------+---------------------------+-----------------+-----------------------+-----------+----+-----------------+---------------+----+--------+------------+--------------+--------+----------------------+---------+----------------------+-------------------------+------+----------------------+---------------+-------------------------------------+--------------------------------------+-----------------+-------------------------+-------------------+-----------------------+-------+-------------------------+--------------------------+--------------+------------------+------------------+----------------------+------------------+--------+-------------------+-------------+---------------------+-----------------+--------------+----------+---------+----------+----------+---------+----------+-----------+-----------+------------+-----------+-----------+-----------+-----------+-----------+-----------+-----------+-----------+------------+---------+----------+---------------------+---------------+-----------------------+-------------------+----------------+------------+-----------+------------+------------+-----------+------------+-------------+-------------+-------------+--------------+-------------+-------------+-------------+-------------+-------------+-------------+-------------+--------------+-----------+------------+---------+\n",
            "|        61|null|   6|        2|        O|               9|          71|         0|   0|                                         0|                                              0|                       null|                       null|             88.2|                   null|      627.5|null|             null|          40.47|3.55|    2.89|         211|            22|    4.76|                  16.5|      1.4|                  19.5|                     null|  null|                  null|           null|                                 null|                                  null|             null|                     null|               null|                   null|   null|                    22.22|                     38.63|          3.54|               2.9|              1.37|                  1.12|             35.39|    null|                  0|            0|                    0|                0|             0|         0|        0|         0|         0|        0|         0|          0|          0|           0|          0|          0|          0|          0|          0|          0|          0|          0|           0|        0|         0|                 null|           null|                   null|               null|            null|        null|       null|        null|        null|       null|        null|         null|         null|         null|          null|         null|         null|         null|         null|         null|         null|         null|          null|       null|        null| 143.6685|\n",
            "|        61|null|   6|        2|        O|               9|          72|         1|   1|                                        VP|                                            VP1|                       19.9|                       24.3|             94.6|                  4.875|      595.0|null|             null|          38.29|null|    null|        null|          null|    null|                  18.0|      1.6|                  22.9|                     null|  null|                  null|           null|                                 null|                                  null|             null|                     null|               null|                   null|   null|                    22.22|                     38.63|          3.54|               2.9|              1.37|                  1.12|             35.39|    null|               4022|         1100|                 3937|              876|          5493|       148|      109|        52|       111|      355|        79|       3829|         20|       26394|        169|       2198|        388|       1401|       4761|      10783|       1535|       2561|        2590|     2726|      3396|                  166|             45|                    162|                 36|             226|           6|          4|           2|           5|         15|           3|          158|            1|         1087|             7|           91|           16|           58|          196|          444|           63|          105|           107|        112|         140|     null|\n",
            "|        61|null|   6|        2|        O|               9|          73|         2|   1|                                        VP|                                            VP1|                       17.7|                       22.0|             92.9|                  4.875|      609.0|null|             null|          39.28|null|    null|        null|          null|    null|                  17.5|      1.2|                  23.4|                     null|  null|                  null|           null|                                 null|                                  null|             null|                     null|               null|                   null|   null|                    22.22|                     38.63|          3.54|               2.9|              1.37|                  1.12|             35.39|    null|               3600|         1009|                 3594|              797|          5004|       136|      100|        48|        99|      321|        71|       3484|         20|       23945|        154|       2010|        354|       1280|       4314|       9749|       1383|       2323|        2343|     2429|      3079|                  164|             46|                    163|                 36|             227|           6|          5|           2|           5|         15|           3|          158|            1|         1088|             7|           91|           16|           58|          196|          443|           63|          106|           106|        110|         140|     null|\n",
            "|        61|null|   6|        2|        O|               9|          74|         3|   1|                                        VP|                                            VP1|                       16.5|                       21.1|             97.6|                  5.125|      614.0|null|             null|          38.16|null|    null|        null|          null|    null|                  15.9|      1.6|                  17.4|                     null|  null|                  null|           null|                                 null|                                  null|             null|                     null|               null|                   null|   null|                    22.22|                     38.63|          3.54|               2.9|              1.37|                  1.12|             35.39|    null|               3409|          980|                 3473|              767|          4823|       132|       97|        46|        94|      306|        68|       3355|         22|       22989|        148|       1945|        341|       1239|       4137|       9327|       1318|       2230|        2243|     2289|      2954|                  161|             46|                    164|                 36|             228|           6|          5|           2|           4|         14|           3|          159|            1|         1088|             7|           92|           16|           59|          196|          442|           62|          106|           106|        108|         140|     null|\n",
            "|        61|null|   6|        2|        O|               9|          75|         4|   1|                                        VP|                                            VP1|                       20.2|                       24.8|            106.6|                  5.125|      614.0|null|             null|          44.06|null|    null|        null|          null|    null|                  15.6|      1.9|                  18.5|                     null|  null|                  null|           null|                                 null|                                  null|             null|                     null|               null|                   null|   null|                    22.22|                     38.63|          3.54|               2.9|              1.37|                  1.12|             35.39|    null|               4089|         1126|                 4025|              895|          5613|       152|      112|        53|       113|      362|        80|       3911|         22|       26938|        173|       2249|        396|       1433|       4858|      10994|       1563|       2614|        2641|     2768|      3466|                  165|             45|                    162|                 36|             227|           6|          5|           2|           5|         15|           3|          158|            1|         1087|             7|           91|           16|           58|          196|          444|           63|          105|           107|        112|         140|     null|\n",
            "+----------+----+----+---------+---------+----------------+------------+----------+----+------------------------------------------+-----------------------------------------------+---------------------------+---------------------------+-----------------+-----------------------+-----------+----+-----------------+---------------+----+--------+------------+--------------+--------+----------------------+---------+----------------------+-------------------------+------+----------------------+---------------+-------------------------------------+--------------------------------------+-----------------+-------------------------+-------------------+-----------------------+-------+-------------------------+--------------------------+--------------+------------------+------------------+----------------------+------------------+--------+-------------------+-------------+---------------------+-----------------+--------------+----------+---------+----------+----------+---------+----------+-----------+-----------+------------+-----------+-----------+-----------+-----------+-----------+-----------+-----------+-----------+------------+---------+----------+---------------------+---------------+-----------------------+-------------------+----------------+------------+-----------+------------+------------+-----------+------------+-------------+-------------+-------------+--------------+-------------+-------------+-------------+-------------+-------------+-------------+-------------+--------------+-----------+------------+---------+\n",
            "only showing top 5 rows\n",
            "\n"
          ],
          "name": "stdout"
        }
      ]
    },
    {
      "cell_type": "markdown",
      "metadata": {
        "id": "XVDR5A7zbJ8T"
      },
      "source": [
        "Question 1: \n",
        "\n",
        "Which combination of nutrients is the best predictor for the fat yield (milk yield * fat %) ?"
      ]
    },
    {
      "cell_type": "code",
      "metadata": {
        "colab": {
          "base_uri": "https://localhost:8080/"
        },
        "id": "aoRSZiYJbYi8",
        "outputId": "4e1ed54c-d532-4b99-f579-7a4290e3d90e"
      },
      "source": [
        "\n",
        "\"\"\"\n",
        "# select the yield column and fat% column\n",
        "\n",
        "subDF_null = milk_data.select('Milk yield (kg)', 'Fat%')\n",
        "subDF_null.show(5)\n",
        "\n",
        "subDF = subDF_null.dropna()\n",
        "yield_col = subDF.select('Milk yield (kg)')\n",
        "fat_pc_col = subDF.select('Fat%')\n",
        "\n",
        "subDF.show(5)\n",
        "\n",
        "fat_yield = list(map(lambda x, y : x*y, yield_col, fat_pc_col))\n",
        "\n",
        "# or \n",
        "\n",
        "data = milk_data.toPandas()\n",
        "\n",
        "milk_yield = data.loc[:, \"Milk yield (kg)\"]\n",
        "fat = data.loc[:, \"Fat%\"]\n",
        "total_fat = milk_yield * fat\n",
        "\"\"\""
      ],
      "execution_count": null,
      "outputs": [
        {
          "output_type": "stream",
          "text": [
            "+---------------+----+\n",
            "|Milk yield (kg)|Fat%|\n",
            "+---------------+----+\n",
            "|          40.47|3.55|\n",
            "|          38.29|null|\n",
            "|          39.28|null|\n",
            "|          38.16|null|\n",
            "|          44.06|null|\n",
            "+---------------+----+\n",
            "only showing top 5 rows\n",
            "\n",
            "+---------------+----+\n",
            "|Milk yield (kg)|Fat%|\n",
            "+---------------+----+\n",
            "|          40.47|3.55|\n",
            "|          40.12|3.49|\n",
            "|          42.09|3.33|\n",
            "|          36.26|3.45|\n",
            "|          31.12|3.89|\n",
            "+---------------+----+\n",
            "only showing top 5 rows\n",
            "\n"
          ],
          "name": "stdout"
        }
      ]
    },
    {
      "cell_type": "markdown",
      "metadata": {
        "id": "_12sa5DSpvsG"
      },
      "source": [
        "**Import plot libraries**"
      ]
    },
    {
      "cell_type": "code",
      "metadata": {
        "id": "QSbjOmWgp6rx",
        "outputId": "30a01d7d-9947-4b1b-f7a4-919fac68f452",
        "colab": {
          "base_uri": "https://localhost:8080/"
        }
      },
      "source": [
        "import seaborn as sns\n",
        "\n",
        "import matplotlib.pyplot as plt\n",
        "\n",
        "import pandas as pd\n",
        "\n",
        "from pyspark import SparkFiles\n",
        "\n",
        "from pyspark.sql import types\n",
        "from pyspark.sql import functions as psf\n",
        "from pyspark.ml.feature import VectorAssembler\n",
        "\n",
        "from pyspark.ml.regression import LinearRegression\n",
        "from pyspark.ml.regression import LinearRegressionModel\n",
        "from pyspark.ml import Pipeline\n",
        "\n",
        "from pyspark.ml.evaluation import RegressionEvaluator\n",
        "\n",
        "from pyspark.ml.tuning import ParamGridBuilder, CrossValidator\n",
        "\n",
        "from pyspark.ml.regression import LinearRegression\n",
        "\n",
        "from patsy import dmatrices\n",
        "import statsmodels.api as sm\n",
        "from statsmodels.stats.outliers_influence import variance_inflation_factor\n",
        "\n",
        "# software\n",
        "\n",
        "import os\n",
        "os.environ[\"JAVA_HOME\"] = \"/usr/lib/jvm/java-8-openjdk-amd64\"\n",
        "os.environ[\"SPARK_HOME\"] = \"/content/spark-2.4.7-bin-hadoop2.7\"\n",
        "\n",
        "import findspark\n",
        "findspark.init()\n",
        "from pyspark.sql import SparkSession\n",
        "sp = SparkSession.builder.master(\"local[*]\").getOrCreate()\n",
        "\n",
        "from pyspark import SparkContext\n",
        "from pyspark.sql import SparkSession\n",
        "sc = SparkContext.getOrCreate()\n",
        "spark = SparkSession.builder.getOrCreate()\n",
        "\n",
        "from pyspark.sql import SQLContext\n",
        "sqlContext = SQLContext(sc)"
      ],
      "execution_count": 4,
      "outputs": [
        {
          "output_type": "stream",
          "text": [
            "/usr/local/lib/python3.6/dist-packages/statsmodels/tools/_testing.py:19: FutureWarning: pandas.util.testing is deprecated. Use the functions in the public API at pandas.testing instead.\n",
            "  import pandas.util.testing as tm\n"
          ],
          "name": "stderr"
        }
      ]
    },
    {
      "cell_type": "markdown",
      "metadata": {
        "id": "MXbp1k1F7Bnr"
      },
      "source": [
        "**Select the variables**"
      ]
    },
    {
      "cell_type": "markdown",
      "metadata": {
        "id": "Ngc8zcTl7vPj"
      },
      "source": [
        "Read the file and convert to both Spark and Pandas dataframe"
      ]
    },
    {
      "cell_type": "code",
      "metadata": {
        "id": "u0gc8EiT5c8Q"
      },
      "source": [
        "# Downloading the preprocessed datafile from the github in raw format\n",
        "url = 'https://raw.githubusercontent.com/bartianbosch/Melk/main/ff_dairy_v1_preprocessed.csv'\n",
        "fileName = url.split('/')[-1] #The filename is everything after \"main/\"\n",
        "\n",
        "# Prepare and load the file into a spark rdd\n",
        "spark.sparkContext.addFile(url)\n",
        "milk_url = spark.read.csv(SparkFiles.get(fileName), header=True)\n",
        "\n",
        "# Also load the data to a pandas table, just in case we need it for testing.\n",
        "milk_url_pd=pd.read_csv(url, encoding='latin1')"
      ],
      "execution_count": 6,
      "outputs": []
    },
    {
      "cell_type": "markdown",
      "metadata": {
        "id": "V9tbrSQR70lZ"
      },
      "source": [
        "Add an extra column for the total fat (fat yield)"
      ]
    },
    {
      "cell_type": "code",
      "metadata": {
        "id": "rxeDThKDbI-a"
      },
      "source": [
        "# extra column total fat (fat yield)\n",
        "\n",
        "milk_url2 = milk_url.withColumn('total_fat', milk_url['Milk yield (kg)'] * milk_url['Fat%'])\n",
        "milk_url_pd2 = milk_url2.toPandas()"
      ],
      "execution_count": 7,
      "outputs": []
    },
    {
      "cell_type": "markdown",
      "metadata": {
        "id": "nSZ2BEq-76I5"
      },
      "source": [
        "Select a subset with nutrients"
      ]
    },
    {
      "cell_type": "code",
      "metadata": {
        "id": "LpJArRVZ79yc"
      },
      "source": [
        "# crude fiber, sugar, crude protein, crude fat, starch, Ca, P, Na, Cl, K, Mg, WDS, SPK, TPK, SPE, TPE, +I, Wi, GP \n",
        "# intestines: nXP, RNB, MELK, NEL, WDE, EKB\n",
        "\n",
        "nutrients_selected = milk_url.select(['Fat%', 'Crude fiber (g/day)', 'Sugar (g/day)', 'Crude protein (g/day)', 'Crude fat (g/day)', 'Starch (g/day)', \n",
        "                             'Ca (g/day)', 'P (g/day)', 'Na (g/day)', 'Cl (g/day)', 'K (g/day)', 'Mg (g/day)']).dropna(subset = \"Fat%\")\n",
        "nutrients = nutrients_selected.select([nutrients_selected[col].cast('float') for col in nutrients_selected.columns])\n",
        "\n",
        "nutrients_pd = nutrients.select('*').toPandas()\n",
        "nutrients_pd[['Fat%', 'Crude fiber (g/day)', 'Sugar (g/day)', 'Crude protein (g/day)', 'Crude fat (g/day)', 'Starch (g/day)', \n",
        "              'Ca (g/day)', 'P (g/day)', 'Na (g/day)', 'Cl (g/day)', 'K (g/day)', 'Mg (g/day)']] = nutrients_pd[['Fat%', 'Crude fiber (g/day)', 'Sugar (g/day)', 'Crude protein (g/day)', 'Crude fat (g/day)', 'Starch (g/day)', \n",
        "              'Ca (g/day)', 'P (g/day)', 'Na (g/day)', 'Cl (g/day)', 'K (g/day)', 'Mg (g/day)']].apply(pd.to_numeric)\n",
        "\n",
        "# don't forget to import pandas as pd before running apply(pd.to_numeric)"
      ],
      "execution_count": 8,
      "outputs": []
    },
    {
      "cell_type": "markdown",
      "metadata": {
        "id": "vy_fa3xy9gPS"
      },
      "source": [
        "Fix the datatype"
      ]
    },
    {
      "cell_type": "code",
      "metadata": {
        "id": "KoOoFNav9iSy"
      },
      "source": [
        "from pyspark.sql import functions as F\n",
        "def fixType(datasetName, colName, dataType):\n",
        "  \"\"\"Takes a dataset and returns the dataset with the given column set to the given dataype\"\"\"\n",
        "  return datasetName.withColumn(colName, F.col(colName).cast(dataType))\n",
        "\n",
        "# Preparing Lists with the colum names and which type they need to be\n",
        "allColumns = ['Cow number', 'Date', 'Barn', 'Barn part', 'Treatment', 'Lactation number', 'Days in milk', 'Day number', 'Week', 'Period (VP = preperiod, HP = trial period)', 'Period part (VP = preperiod, HP = trial period)', 'Intake basal ration (kg dm)', 'Intake total ration (kg dm)', 'Water intake (kg)', 'Concentrate intake (kg)', 'Weight (kg)', 'BCS', 'Backfat Thickness', 'Milk yield (kg)', 'Fat%', 'Protein%', 'Urea (mg/kg)', 'SCC (*1000/ml)', 'Lactose%', 'Avg Temperature (degC)', 'Air speed', 'Max temperature (degC)', 'Rumination time (min/day)', 'Avg pH', 'Avg Rumen Temperature ', 'Time pH<5,8 (h)', 'Manure consistency (1=fluid, 5= hard)', 'Manure fibre score (1=short, 5 = long)', 'Number of kernels', 'Manure sieving residu (%)', 'Manure dm (g/kg OM)', 'Manure starch (g/kg dm)', 'Urin-pH', 'Intake pre-period (kg dm)', 'Milk yield prepreriod (kg)', 'Fat% preperiod', 'Protein% preperiod', 'Fat preperiod (kg)', 'Protein preperiod (kg)', 'ECM preperiod (kg)', 'ECM (kg)', 'Crude fiber (g/day)', 'Sugar (g/day)', 'Crude protein (g/day)', 'Crude fat (g/day)', 'Starch (g/day)', 'Ca (g/day)', 'P (g/day)', 'Na (g/day)', 'Cl (g/day)', 'K (g/day)', 'Mg (g/day)', 'nXP (g/day)', 'RNB (g/day)', 'MELK (g/day)', 'NEL (g/day)', 'WDE (g/day)', 'EKB (g/day)', 'WDS (g/day)', 'SPK (g/day)', 'TPK (g/day)', 'SPE (g/day)', 'TPE (g/day)', 'plusI (/day)', 'WI (/day)', 'GP (g/day)', 'Crude fiber (g/kg dm)', 'Sugar (g/kg dm)', 'Crude protein (g/kg dm)', 'Crude fat (g/kg dm)', 'Starch (g/kg dm)', 'Ca (g/kg dm)', 'P (g/kg dm)', 'Na (g/kg dm)', 'Cl (g/kg dm)', 'K (g/kg dm)', 'Mg (g/kg dm)', 'nXP (g/kg dm)', 'RNB (g/kg dm)', 'MELK (/kg dm)', 'NEL (MJ/kg dm)', 'WDE (g/kg dm)', 'EKB (g/kg dm)', 'WDS (g/kg dm)', 'SPK (g/kg dm)', 'TPK (g/kg dm)', 'SPE (g/kg dm)', 'TPE (g/kg dm)', 'plusI (/kg dm)', 'WI (/kg dm)', 'GP (g/kg dm)']\n",
        "doubleColumns = ['Intake basal ration (kg dm)', 'Intake total ration (kg dm)', 'Water intake (kg)', 'Concentrate intake (kg)', 'Weight (kg)', 'BCS', 'Milk yield (kg)', 'Fat%', 'Protein%', 'Lactose%', 'Avg Temperature (degC)', 'Air speed', 'Max temperature (degC)', 'Avg pH', 'Avg Rumen Temperature ', 'Time pH<5,8 (h)', 'Number of kernels', 'Manure sieving residu (%)', 'Manure starch (g/kg dm)', 'Urin-pH', 'Intake pre-period (kg dm)', 'Milk yield prepreriod (kg)', 'Fat% preperiod', 'Protein% preperiod', 'Fat preperiod (kg)', 'Protein preperiod (kg)', 'ECM preperiod (kg)', 'ECM (kg)', 'total_fat']\n",
        "intColumns = ['Cow number', 'Barn', 'Barn part', 'Lactation number', 'Days in milk', 'Day number', 'Week', 'Backfat Thickness', 'Urea (mg/kg)', 'SCC (*1000/ml)', 'Rumination time (min/day)', 'Manure consistency (1=fluid, 5= hard)', 'Manure fibre score (1=short, 5 = long)', 'Manure dm (g/kg OM)', 'Crude fiber (g/day)', 'Sugar (g/day)', 'Crude protein (g/day)', 'Crude fat (g/day)', 'Starch (g/day)', 'Ca (g/day)', 'P (g/day)', 'Na (g/day)', 'Cl (g/day)', 'K (g/day)', 'Mg (g/day)', 'nXP (g/day)', 'RNB (g/day)', 'MELK (g/day)', 'NEL (g/day)', 'WDE (g/day)', 'EKB (g/day)', 'WDS (g/day)', 'SPK (g/day)', 'TPK (g/day)', 'SPE (g/day)', 'TPE (g/day)', 'plusI (/day)', 'WI (/day)', 'GP (g/day)', 'Crude fiber (g/kg dm)', 'Sugar (g/kg dm)', 'Crude protein (g/kg dm)', 'Crude fat (g/kg dm)', 'Starch (g/kg dm)', 'Ca (g/kg dm)', 'P (g/kg dm)', 'Na (g/kg dm)', 'Cl (g/kg dm)', 'K (g/kg dm)', 'Mg (g/kg dm)', 'nXP (g/kg dm)', 'RNB (g/kg dm)', 'MELK (/kg dm)', 'NEL (MJ/kg dm)', 'WDE (g/kg dm)', 'EKB (g/kg dm)', 'WDS (g/kg dm)', 'SPK (g/kg dm)', 'TPK (g/kg dm)', 'SPE (g/kg dm)', 'TPE (g/kg dm)', 'plusI (/kg dm)', 'WI (/kg dm)', 'GP (g/kg dm)']\n",
        "stringColumn = ['Treatment', 'Period (VP = preperiod, HP = trial period)', 'Period part (VP = preperiod, HP = trial period)']\n",
        "milk_data = milk_url2\n",
        "\n",
        "# Setting the columns to the correct type\n",
        "for colName in doubleColumns:\n",
        "  milk_data = fixType(milk_data, colName, \"double\")\n",
        "for colName in intColumns:\n",
        "  milk_data = fixType(milk_data, colName, \"int\")\n",
        "milk_data = milk_data.withColumn(\"Date\", F.col(\"Date\").cast(\"date\"))\n",
        "\n",
        "milk_data_pd = milk_data.toPandas()\n"
      ],
      "execution_count": 52,
      "outputs": []
    },
    {
      "cell_type": "markdown",
      "metadata": {
        "id": "55JFf56yz2nr"
      },
      "source": [
        "**Variable names and datatypes**"
      ]
    },
    {
      "cell_type": "markdown",
      "metadata": {
        "id": "rWdCHzzAz93D"
      },
      "source": [
        "milk_data = Spark dataframe \n",
        " - from spark.read_csv()\n",
        " - pyspark.sql.dataframe.DataFrame\n",
        " - wrong columnnames AVG temp, Max temp and I (/day)\n",
        "\n",
        "\n",
        "**correct**\n",
        "\n",
        "milk_url = Spark dataframe \n",
        " - from spark.read_csv()\n",
        " - pyspark.sql.dataframe.DataFrame\n",
        " - correct AVG temp, max temp and I (/day)\n",
        "\n",
        "milk_url_pd = Pandas dataframe\n",
        " - from toPandas()\n",
        " - pandas.core.frame.DataFrame\n",
        " - correct AVG temp, max temp and I (/day)\n",
        "\n",
        "milk_url2 = Spark dataframe\n",
        " - extra 'total_fat' column added -> last column is 'total' fat\n",
        " - can be converted to pandas using toPandas()\n",
        "\n",
        "\n",
        "milk_url_pd2 = Pandas dataframe \n",
        " - extra 'total_fat' column included -> last column is 'total' fat\n",
        " - derived from milk_data2\n",
        "\n",
        "nutrients = Spark dataframe\n",
        " - selected the nutrients (Crude fiber and Ca etc)\n",
        " - pyspark.sql.dataframe.DataFrame\n",
        "\n",
        "\n",
        "nutrients_pd = Pandas dataframe\n",
        " - convert nutrients to pandas \n",
        " - also used: apply(pd.to_numeric) so expect numeric values ipv strings\n",
        "\n",
        "milk_data = Spark dataframe\n",
        " - fixed datatype for all variables + extra total_fat column\n",
        "\n",
        "milk_data_pd = Pandas dataframe\n",
        " - converted milk_data to pandas"
      ]
    },
    {
      "cell_type": "code",
      "metadata": {
        "id": "kAYfqnuv0S1D",
        "outputId": "b3a9a845-ac3b-4a1e-9249-3539f7d474da",
        "colab": {
          "base_uri": "https://localhost:8080/"
        }
      },
      "source": [
        "milk_data.show(5)\n",
        "\n"
      ],
      "execution_count": 38,
      "outputs": [
        {
          "output_type": "stream",
          "text": [
            "+----------+----+----+---------+---------+----------------+------------+----------+----+------------------------------------------+-----------------------------------------------+---------------------------+---------------------------+-----------------+-----------------------+-----------+----+-----------------+---------------+----+--------+------------+--------------+--------+----------------------+---------+----------------------+-------------------------+------+----------------------+---------------+-------------------------------------+--------------------------------------+-----------------+-------------------------+-------------------+-----------------------+-------+-------------------------+--------------------------+--------------+------------------+------------------+----------------------+------------------+--------+-------------------+-------------+---------------------+-----------------+--------------+----------+---------+----------+----------+---------+----------+-----------+-----------+------------+-----------+-----------+-----------+-----------+-----------+-----------+-----------+-----------+------------+---------+----------+---------------------+---------------+-----------------------+-------------------+----------------+------------+-----------+------------+------------+-----------+------------+-------------+-------------+-------------+--------------+-------------+-------------+-------------+-------------+-------------+-------------+-------------+--------------+-----------+------------+---------+\n",
            "|Cow number|Date|Barn|Barn part|Treatment|Lactation number|Days in milk|Day number|Week|Period (VP = preperiod, HP = trial period)|Period part (VP = preperiod, HP = trial period)|Intake basal ration (kg dm)|Intake total ration (kg dm)|Water intake (kg)|Concentrate intake (kg)|Weight (kg)| BCS|Backfat Thickness|Milk yield (kg)|Fat%|Protein%|Urea (mg/kg)|SCC (*1000/ml)|Lactose%|Avg Temperature (degC)|Air speed|Max temperature (degC)|Rumination time (min/day)|Avg pH|Avg Rumen Temperature |Time pH<5,8 (h)|Manure consistency (1=fluid, 5= hard)|Manure fibre score (1=short, 5 = long)|Number of kernels|Manure sieving residu (%)|Manure dm (g/kg OM)|Manure starch (g/kg dm)|Urin-pH|Intake pre-period (kg dm)|Milk yield prepreriod (kg)|Fat% preperiod|Protein% preperiod|Fat preperiod (kg)|Protein preperiod (kg)|ECM preperiod (kg)|ECM (kg)|Crude fiber (g/day)|Sugar (g/day)|Crude protein (g/day)|Crude fat (g/day)|Starch (g/day)|Ca (g/day)|P (g/day)|Na (g/day)|Cl (g/day)|K (g/day)|Mg (g/day)|nXP (g/day)|RNB (g/day)|MELK (g/day)|NEL (g/day)|WDE (g/day)|EKB (g/day)|WDS (g/day)|SPK (g/day)|TPK (g/day)|SPE (g/day)|TPE (g/day)|plusI (/day)|WI (/day)|GP (g/day)|Crude fiber (g/kg dm)|Sugar (g/kg dm)|Crude protein (g/kg dm)|Crude fat (g/kg dm)|Starch (g/kg dm)|Ca (g/kg dm)|P (g/kg dm)|Na (g/kg dm)|Cl (g/kg dm)|K (g/kg dm)|Mg (g/kg dm)|nXP (g/kg dm)|RNB (g/kg dm)|MELK (/kg dm)|NEL (MJ/kg dm)|WDE (g/kg dm)|EKB (g/kg dm)|WDS (g/kg dm)|SPK (g/kg dm)|TPK (g/kg dm)|SPE (g/kg dm)|TPE (g/kg dm)|plusI (/kg dm)|WI (/kg dm)|GP (g/kg dm)|total_fat|\n",
            "+----------+----+----+---------+---------+----------------+------------+----------+----+------------------------------------------+-----------------------------------------------+---------------------------+---------------------------+-----------------+-----------------------+-----------+----+-----------------+---------------+----+--------+------------+--------------+--------+----------------------+---------+----------------------+-------------------------+------+----------------------+---------------+-------------------------------------+--------------------------------------+-----------------+-------------------------+-------------------+-----------------------+-------+-------------------------+--------------------------+--------------+------------------+------------------+----------------------+------------------+--------+-------------------+-------------+---------------------+-----------------+--------------+----------+---------+----------+----------+---------+----------+-----------+-----------+------------+-----------+-----------+-----------+-----------+-----------+-----------+-----------+-----------+------------+---------+----------+---------------------+---------------+-----------------------+-------------------+----------------+------------+-----------+------------+------------+-----------+------------+-------------+-------------+-------------+--------------+-------------+-------------+-------------+-------------+-------------+-------------+-------------+--------------+-----------+------------+---------+\n",
            "|        61|null|   6|        2|        O|               9|          71|         0|   0|                                         0|                                              0|                       null|                       null|             88.2|                   null|      627.5|null|             null|          40.47|3.55|    2.89|         211|            22|    4.76|                  16.5|      1.4|                  19.5|                     null|  null|                  null|           null|                                 null|                                  null|             null|                     null|               null|                   null|   null|                    22.22|                     38.63|          3.54|               2.9|              1.37|                  1.12|             35.39|    null|                  0|            0|                    0|                0|             0|         0|        0|         0|         0|        0|         0|          0|          0|           0|          0|          0|          0|          0|          0|          0|          0|          0|           0|        0|         0|                 null|           null|                   null|               null|            null|        null|       null|        null|        null|       null|        null|         null|         null|         null|          null|         null|         null|         null|         null|         null|         null|         null|          null|       null|        null| 143.6685|\n",
            "|        61|null|   6|        2|        O|               9|          72|         1|   1|                                        VP|                                            VP1|                       19.9|                       24.3|             94.6|                  4.875|      595.0|null|             null|          38.29|null|    null|        null|          null|    null|                  18.0|      1.6|                  22.9|                     null|  null|                  null|           null|                                 null|                                  null|             null|                     null|               null|                   null|   null|                    22.22|                     38.63|          3.54|               2.9|              1.37|                  1.12|             35.39|    null|               4022|         1100|                 3937|              876|          5493|       148|      109|        52|       111|      355|        79|       3829|         20|       26394|        169|       2198|        388|       1401|       4761|      10783|       1535|       2561|        2590|     2726|      3396|                  166|             45|                    162|                 36|             226|           6|          4|           2|           5|         15|           3|          158|            1|         1087|             7|           91|           16|           58|          196|          444|           63|          105|           107|        112|         140|     null|\n",
            "|        61|null|   6|        2|        O|               9|          73|         2|   1|                                        VP|                                            VP1|                       17.7|                       22.0|             92.9|                  4.875|      609.0|null|             null|          39.28|null|    null|        null|          null|    null|                  17.5|      1.2|                  23.4|                     null|  null|                  null|           null|                                 null|                                  null|             null|                     null|               null|                   null|   null|                    22.22|                     38.63|          3.54|               2.9|              1.37|                  1.12|             35.39|    null|               3600|         1009|                 3594|              797|          5004|       136|      100|        48|        99|      321|        71|       3484|         20|       23945|        154|       2010|        354|       1280|       4314|       9749|       1383|       2323|        2343|     2429|      3079|                  164|             46|                    163|                 36|             227|           6|          5|           2|           5|         15|           3|          158|            1|         1088|             7|           91|           16|           58|          196|          443|           63|          106|           106|        110|         140|     null|\n",
            "|        61|null|   6|        2|        O|               9|          74|         3|   1|                                        VP|                                            VP1|                       16.5|                       21.1|             97.6|                  5.125|      614.0|null|             null|          38.16|null|    null|        null|          null|    null|                  15.9|      1.6|                  17.4|                     null|  null|                  null|           null|                                 null|                                  null|             null|                     null|               null|                   null|   null|                    22.22|                     38.63|          3.54|               2.9|              1.37|                  1.12|             35.39|    null|               3409|          980|                 3473|              767|          4823|       132|       97|        46|        94|      306|        68|       3355|         22|       22989|        148|       1945|        341|       1239|       4137|       9327|       1318|       2230|        2243|     2289|      2954|                  161|             46|                    164|                 36|             228|           6|          5|           2|           4|         14|           3|          159|            1|         1088|             7|           92|           16|           59|          196|          442|           62|          106|           106|        108|         140|     null|\n",
            "|        61|null|   6|        2|        O|               9|          75|         4|   1|                                        VP|                                            VP1|                       20.2|                       24.8|            106.6|                  5.125|      614.0|null|             null|          44.06|null|    null|        null|          null|    null|                  15.6|      1.9|                  18.5|                     null|  null|                  null|           null|                                 null|                                  null|             null|                     null|               null|                   null|   null|                    22.22|                     38.63|          3.54|               2.9|              1.37|                  1.12|             35.39|    null|               4089|         1126|                 4025|              895|          5613|       152|      112|        53|       113|      362|        80|       3911|         22|       26938|        173|       2249|        396|       1433|       4858|      10994|       1563|       2614|        2641|     2768|      3466|                  165|             45|                    162|                 36|             227|           6|          5|           2|           5|         15|           3|          158|            1|         1087|             7|           91|           16|           58|          196|          444|           63|          105|           107|        112|         140|     null|\n",
            "+----------+----+----+---------+---------+----------------+------------+----------+----+------------------------------------------+-----------------------------------------------+---------------------------+---------------------------+-----------------+-----------------------+-----------+----+-----------------+---------------+----+--------+------------+--------------+--------+----------------------+---------+----------------------+-------------------------+------+----------------------+---------------+-------------------------------------+--------------------------------------+-----------------+-------------------------+-------------------+-----------------------+-------+-------------------------+--------------------------+--------------+------------------+------------------+----------------------+------------------+--------+-------------------+-------------+---------------------+-----------------+--------------+----------+---------+----------+----------+---------+----------+-----------+-----------+------------+-----------+-----------+-----------+-----------+-----------+-----------+-----------+-----------+------------+---------+----------+---------------------+---------------+-----------------------+-------------------+----------------+------------+-----------+------------+------------+-----------+------------+-------------+-------------+-------------+--------------+-------------+-------------+-------------+-------------+-------------+-------------+-------------+--------------+-----------+------------+---------+\n",
            "only showing top 5 rows\n",
            "\n"
          ],
          "name": "stdout"
        }
      ]
    },
    {
      "cell_type": "markdown",
      "metadata": {
        "id": "PILEWPHN9KPm"
      },
      "source": [
        "# **Visualization**"
      ]
    },
    {
      "cell_type": "markdown",
      "metadata": {
        "id": "TR0U6GN5paJa"
      },
      "source": [
        "**Scatterplots**"
      ]
    },
    {
      "cell_type": "code",
      "metadata": {
        "id": "VU-rxHFebkTQ"
      },
      "source": [
        "sns.scatterplot(x='total_fat', y='Ca (g/day)', data=milk_url_pd2)\n"
      ],
      "execution_count": null,
      "outputs": []
    },
    {
      "cell_type": "markdown",
      "metadata": {
        "id": "ryIA4UfeyPKy"
      },
      "source": [
        "**Linear regression models**\n",
        "\n",
        "werkt niet: zie verderop\n"
      ]
    },
    {
      "cell_type": "code",
      "metadata": {
        "id": "lUIGiGNbyOB7"
      },
      "source": [
        "# werkt niet\n",
        "\n",
        "corr_mat = data_pandas.corr(method='pearson')\n",
        "#plt.subplots(figsize=(30,30))\n",
        "\n",
        "corr_mat.loc[:, \"Fat%\"]\n",
        "\n",
        "#sns.heatmap(corr_mat, cmap='coolwarm')\n",
        "\n",
        "assembler = VectorAssembler(\n",
        "    inputCols = [col for col in nutrients.columns if col != \"Fat%\"],\n",
        "    outputCol = \"features\")\n",
        "output = assembler.transform(nutrients).select('features', 'Fat%')\n",
        "\n",
        "test_data, train_data = output.randomSplit([0.8, 0.2], 0)\n",
        "lr = LinearRegression(featuresCol = 'features', labelCol='Fat%')\n",
        "lrModel = lr.fit(train_data)"
      ],
      "execution_count": null,
      "outputs": []
    },
    {
      "cell_type": "markdown",
      "metadata": {
        "id": "-_DRBUO-3Irh"
      },
      "source": [
        "**Barplot**"
      ]
    },
    {
      "cell_type": "code",
      "metadata": {
        "id": "djufYjgz3JKd",
        "colab": {
          "base_uri": "https://localhost:8080/"
        },
        "outputId": "174fdb8d-e774-4d3e-b624-cd2e389646ea"
      },
      "source": [
        "df_corr = nutrients.corr('Fat%', 'Crude fiber (g/day)')\n",
        "df_corr\n",
        "#df_corr[['cor_fiber']].plot(kind='hist')"
      ],
      "execution_count": null,
      "outputs": [
        {
          "output_type": "execute_result",
          "data": {
            "text/plain": [
              "0.05765395562892454"
            ]
          },
          "metadata": {
            "tags": []
          },
          "execution_count": 17
        }
      ]
    },
    {
      "cell_type": "code",
      "metadata": {
        "id": "n8DoCrix45xN",
        "colab": {
          "base_uri": "https://localhost:8080/",
          "height": 122
        },
        "outputId": "2fa770cf-5a7c-4c74-b4e1-121ba57a9100"
      },
      "source": [
        "print(type(total_fat))\n",
        "print('hello')\n",
        "print(type(cr_fiber_col))\n",
        "\n",
        "\n",
        "\"\"\"\n",
        "lines = plt.xcorr(total_fat, cr_fiber_col)\n",
        "\n",
        "plot.title('Hypothetical Data: Angle of collision vs Energy lost')\n",
        "\n",
        "plot.xlabel('Angle of collision')\n",
        "\n",
        "plot.ylabel('Energy lost')    \n",
        "\n",
        "plot.grid(True)\n",
        "\n",
        "plot.axhline(0, color='red', lw=2)\n",
        "\n",
        "plot.show()\n",
        "\"\"\""
      ],
      "execution_count": null,
      "outputs": [
        {
          "output_type": "stream",
          "text": [
            "<class 'pandas.core.series.Series'>\n",
            "hello\n",
            "<class 'pandas.core.series.Series'>\n"
          ],
          "name": "stdout"
        },
        {
          "output_type": "execute_result",
          "data": {
            "application/vnd.google.colaboratory.intrinsic+json": {
              "type": "string"
            },
            "text/plain": [
              "\"\\nlines = plt.xcorr(total_fat, cr_fiber_col)\\n\\nplot.title('Hypothetical Data: Angle of collision vs Energy lost')\\n\\nplot.xlabel('Angle of collision')\\n\\nplot.ylabel('Energy lost')    \\n\\nplot.grid(True)\\n\\nplot.axhline(0, color='red', lw=2)\\n\\nplot.show()\\n\""
            ]
          },
          "metadata": {
            "tags": []
          },
          "execution_count": 18
        }
      ]
    },
    {
      "cell_type": "code",
      "metadata": {
        "id": "isOV1xjo7kPQ"
      },
      "source": [
        "# library & dataset\n",
        "import seaborn as sns\n",
        "df = sns.load_dataset('iris')\n",
        "import matplotlib.pyplot as plt\n",
        " \n",
        "# Basic correlogram\n",
        "#sns.pairplot(nutrients_pd)\n"
      ],
      "execution_count": null,
      "outputs": []
    },
    {
      "cell_type": "markdown",
      "metadata": {
        "id": "uAdg_JqO-ZDt"
      },
      "source": [
        "**Correlation Matrix**"
      ]
    },
    {
      "cell_type": "markdown",
      "metadata": {
        "id": "Zig-RUZG8Hsr"
      },
      "source": [
        "Correlation matrix for the nutrients"
      ]
    },
    {
      "cell_type": "code",
      "metadata": {
        "id": "LyfcTF7e-ZhZ"
      },
      "source": [
        "#\n",
        "# create column dataframe without NULL values -> returns a series object\n",
        "cr_fiberss = milk_data_pd.loc[:,'Crude fiber (g/day)']\n",
        "cr_fiber_col2 = milk_data_pd.loc[:,'Crude fiber (g/day)']\n",
        "sugar_col2 = milk_data_pd.loc[:,'Sugar (g/day)']\n",
        "cr_protein_col2 = milk_data_pd.loc[:,'Crude protein (g/day)']\n",
        "cr_fat_col2 = milk_data_pd.loc[:,'Crude fat (g/day)']\n",
        "starch_col2 = milk_data_pd.loc[:,'Starch (g/day)']\n",
        "\n",
        "ca_col2 = milk_data_pd.loc[:,'Ca (g/day)']\n",
        "p_col2 = milk_data_pd.loc[:,'P (g/day)']\n",
        "na_col2 = milk_data_pd.loc[:,'Na (g/day)']\n",
        "cl_col2 = milk_data_pd.loc[:,'Cl (g/day)']\n",
        "k_col2 = milk_data_pd.loc[:,'K (g/day)']\n",
        "mg_col2 = milk_data_pd.loc[:,'Mg (g/day)']\n",
        "\n",
        "fat_col2 = milk_data_pd.loc[:,'Fat%']\n",
        "milk_yield_col2 = milk_data_pd.loc[:,'Milk yield (kg)']\n",
        "fat_yield_col2 = milk_data_pd.loc[:,'total_fat']\n",
        "\n",
        "# create a list/array from the columns -> returns a list/array\n",
        "cr_fiber_array = cr_fiber_col2.values\n",
        "sugar_array = sugar_col2.values\n",
        "cr_protein_array = cr_protein_col2.values\n",
        "cr_fat_array = cr_fat_col2.values\n",
        "starch_array = starch_col2.values\n",
        "\n",
        "ca_array = ca_col2.values\n",
        "p_array = p_col2.values\n",
        "na_array = na_col2.values\n",
        "cl_array = cl_col2.values\n",
        "k_array = k_col2.values\n",
        "mg_array = mg_col2.values\n",
        "\n",
        "fat_array = fat_col2.values\n",
        "milk_yield_array = milk_yield_col2.values\n",
        "fat_yield_array = fat_yield_col2.values\n",
        "\n",
        "# create a dictionary from the arrays\n",
        "\n",
        "data_dict = {'cr_fiber': cr_fiber_array, \n",
        "             'sugar':sugar_array,\n",
        "             'cr_protein':cr_protein_array,\n",
        "             'cr_fat':cr_fat_array,\n",
        "             'starch':starch_array,\n",
        "             'ca':ca_array,\n",
        "             'p':p_array,\n",
        "             'na':na_array,\n",
        "             'cl':cl_array,\n",
        "             'k':k_array,\n",
        "             'mg':mg_array,\n",
        "             'fat':fat_array,\n",
        "             'milk_yield':milk_yield_array,\n",
        "             'fat_yield':fat_yield_array}\n",
        "\n",
        "# create a panda dataframe from the dictionary\n",
        "\n",
        "nutrients_pd_df = pd.DataFrame(data_dict, columns=['cr_fiber', 'sugar', 'cr_protein', 'cr_fat', 'starch', 'ca', 'p', 'na', 'cl', 'k', 'mg', 'fat', 'milk_yield', 'fat_yield'])\n",
        "\n",
        "#print(nutrients_pd_df.dtypes) \n",
        "# -> test if all column datatypes are float64\n",
        "\n",
        "\n",
        "# create a correlation matrix\n",
        "\n",
        "corrMatrix = nutrients_pd_df.corr()\n",
        "print(corrMatrix)\n",
        "\n",
        "# plot the correlation matrix\n",
        "\n",
        "sns.heatmap(corrMatrix, annot=True)\n",
        "plt.show()"
      ],
      "execution_count": null,
      "outputs": []
    },
    {
      "cell_type": "markdown",
      "metadata": {
        "id": "93oGrxEH8iZD"
      },
      "source": [
        "Correlation matrix for the conditions"
      ]
    },
    {
      "cell_type": "code",
      "metadata": {
        "id": "QK38qp6m8nXZ"
      },
      "source": [
        "#Intake basal ration (kg dm), Intake total ration (kg dm), Water intake (kg), Concentrate intake (kg), Weight (kg), Avg Temperature (degC), Max temperature (degC)\n",
        "# Milk yield prepreriod (kg), Fat% preperiod\n",
        "# create column dataframe = -> returns a series object\n",
        "cr_fiberss = milk_data_pd.loc[:,'Intake basal ration (kg dm)']\n",
        "cr_fiber_col2 = milk_data_pd.loc[:,'Intake total ration (kg dm)']\n",
        "sugar_col2 = milk_data_pd.loc[:,'Water intake (kg)']\n",
        "cr_protein_col2 = milk_data_pd.loc[:,'Concentrate intake (kg)']\n",
        "cr_fat_col2 = milk_data_pd.loc[:,'Weight (kg)']\n",
        "starch_col2 = milk_data_pd.loc[:,'Avg Temperature (degC)']\n",
        "\n",
        "ca_col2 = milk_data_pd.loc[:,'Max temperature (degC)']\n",
        "\n",
        "k_col2 = milk_data_pd.loc[:,'Milk yield prepreriod (kg)']\n",
        "mg_col2 = milk_data_pd.loc[:,'Fat% preperiod']\n",
        "\n",
        "fat_col2 = milk_data_pd.loc[:,'Fat%']\n",
        "milk_yield_col2 = milk_data_pd.loc[:,'Milk yield (kg)']\n",
        "fat_yield_col2 = milk_data_pd.loc[:,'total_fat']\n",
        "\n",
        "# create a list/array from the columns -> returns a list/array\n",
        "cr_fiber_array = cr_fiber_col2.values\n",
        "sugar_array = sugar_col2.values\n",
        "cr_protein_array = cr_protein_col2.values\n",
        "cr_fat_array = cr_fat_col2.values\n",
        "starch_array = starch_col2.values\n",
        "\n",
        "ca_array = ca_col2.values\n",
        "p_array = p_col2.values\n",
        "na_array = na_col2.values\n",
        "cl_array = cl_col2.values\n",
        "k_array = k_col2.values\n",
        "mg_array = mg_col2.values\n",
        "\n",
        "fat_array = fat_col2.values\n",
        "milk_yield_array = milk_yield_col2.values\n",
        "fat_yield_array = fat_yield_col2.values\n",
        "\n",
        "# create a dictionary from the arrays\n",
        "\n",
        "data_dict = {'cr_fiber': cr_fiber_array, \n",
        "             'sugar':sugar_array,\n",
        "             'cr_protein':cr_protein_array,\n",
        "             'cr_fat':cr_fat_array,\n",
        "             'starch':starch_array,\n",
        "             'ca':ca_array,\n",
        "             'p':p_array,\n",
        "             'na':na_array,\n",
        "             'cl':cl_array,\n",
        "             'k':k_array,\n",
        "             'mg':mg_array,\n",
        "             'fat':fat_array,\n",
        "             'milk_yield':milk_yield_array,\n",
        "             'fat_yield':fat_yield_array}\n",
        "\n",
        "# create a panda dataframe from the dictionary\n",
        "\n",
        "nutrients_pd_df = pd.DataFrame(data_dict, columns=['cr_fiber', 'sugar', 'cr_protein', 'cr_fat', 'starch', 'ca', 'p', 'na', 'cl', 'k', 'mg', 'fat', 'milk_yield', 'fat_yield'])\n",
        "\n",
        "#print(nutrients_pd_df.dtypes) \n",
        "# -> test if all column datatypes are float64\n",
        "\n",
        "\n",
        "# create a correlation matrix\n",
        "\n",
        "corrMatrix = nutrients_pd_df.corr()\n",
        "print(corrMatrix)\n",
        "\n",
        "# plot the correlation matrix\n",
        "\n",
        "sns.heatmap(corrMatrix, annot=True)\n",
        "plt.show()"
      ],
      "execution_count": null,
      "outputs": []
    },
    {
      "cell_type": "markdown",
      "metadata": {
        "id": "uBek-Hokpg2J"
      },
      "source": [
        "**Line plots**"
      ]
    },
    {
      "cell_type": "code",
      "metadata": {
        "id": "v1iIQ4s2hqCr",
        "colab": {
          "base_uri": "https://localhost:8080/"
        },
        "outputId": "f2917c73-d2a3-4f1c-ae86-86999758040d"
      },
      "source": [
        "cr_fiber_col = data_pandas.loc[:,'Crude fiber (g/day)'].dropna()\n",
        "\n",
        "yield_fiber = milk_rdd.select('Milk yield (kg)', 'Fat%', 'Crude fiber (g/day)').dropna()\n",
        "# nr of rows of all three columns = 1337\n",
        "\n",
        "cr_fiber_col2 = yield_fiber.select('Crude fiber (g/day)')\n",
        "yield_fiber_total = yield_fiber.withColumn('total_fat', milk_rdd['Milk yield (kg)'] * milk_rdd['Fat%'])\n",
        "# add an extra column fat yield\n",
        "fat_yield2 = yield_fiber_total.select('total_fat')\n",
        "\n",
        "type(cr_fiber_col) # pandas series\n",
        "type(fat_yield2) # dataframe\n",
        "\n"
      ],
      "execution_count": null,
      "outputs": [
        {
          "output_type": "execute_result",
          "data": {
            "text/plain": [
              "pyspark.sql.dataframe.DataFrame"
            ]
          },
          "metadata": {
            "tags": []
          },
          "execution_count": 9
        }
      ]
    },
    {
      "cell_type": "markdown",
      "metadata": {
        "id": "IvjlY5fV3DhV"
      },
      "source": [
        "**Pandas basic information**"
      ]
    },
    {
      "cell_type": "code",
      "metadata": {
        "id": "us93qgYPhqLk"
      },
      "source": [
        "milk_data = pd.read_csv('/content/gdrive/MyDrive/Big_Data_Groupwork_Project/Big_Data_Groupwork/ff_dairy_v1.csv')"
      ],
      "execution_count": null,
      "outputs": []
    },
    {
      "cell_type": "markdown",
      "metadata": {
        "id": "2di4hFOJiIl5"
      },
      "source": [
        "**Plotting sample of dataset against 1 column**"
      ]
    },
    {
      "cell_type": "code",
      "metadata": {
        "id": "DYwKrOvahqPx"
      },
      "source": [
        "## Copy of setting the correct columns to allow easier plotting\n",
        "\n",
        "### CHANGE inputColNames (list of x) AND LabelColName (y) TO CREATE THE\n",
        "### DESIRED PLOTS. # ONLY 10 x VALUES CAN BE ENTERED AT A TIME\n",
        "\n",
        "inputColNames = ['Ca (g/day)' ]\n",
        "#inputColNames = doubleColumns[0:10]\n",
        "\n",
        "\n",
        "\n",
        "#labelColName = \"Milk yield (kg)\"\n",
        "labelColName = 'Sugar (g/day)'\n",
        "predictionColName = \"Predicted \" + labelColName\n",
        "\n",
        "# Removing the label column from the input column if it ended in there on accident\n",
        "if labelColName in inputColNames: inputColNames.remove(labelColName)\n",
        "\n",
        "# Drop empty values (otherwise it can't work with the data)\n",
        "# WE MIGHT NEED TO FIND AN ALTERNATIVE TO DROPPING ANY ROW WITH BLANKS!\n",
        "# CURRENTLY EXPERIMENTING WITH NOT DROPPING NA FOR THE PLOTTING\n",
        "#milk_rdd3 = milk_rdd2.dropna(how='any', subset=inputColNames+[labelColName])\n",
        "milk_subset = milk_data.select(inputColNames+[labelColName])"
      ],
      "execution_count": 33,
      "outputs": []
    },
    {
      "cell_type": "code",
      "metadata": {
        "id": "-YLX7BiDuwPj",
        "outputId": "f1801508-23e3-4a1c-820b-ccdfd0de5ddc",
        "colab": {
          "base_uri": "https://localhost:8080/"
        }
      },
      "source": [
        "type(inputColNames)\n",
        "milk_sample.show(5)"
      ],
      "execution_count": 31,
      "outputs": [
        {
          "output_type": "stream",
          "text": [
            "+----------+-------------+\n",
            "|Ca (g/day)|Sugar (g/day)|\n",
            "+----------+-------------+\n",
            "|         0|            0|\n",
            "|       148|         1100|\n",
            "|       132|          980|\n",
            "|       148|         1094|\n",
            "|       160|         1190|\n",
            "+----------+-------------+\n",
            "only showing top 5 rows\n",
            "\n"
          ],
          "name": "stdout"
        }
      ]
    },
    {
      "cell_type": "code",
      "metadata": {
        "id": "WfLUxWDjhqT3",
        "outputId": "fe092e44-5cb8-410e-adcb-8e0d9d4284fe",
        "colab": {
          "base_uri": "https://localhost:8080/",
          "height": 415
        }
      },
      "source": [
        "## Plotting the columns versus the labelcolumn to get inital idea of linear regression\n",
        "\n",
        "### Trying to plot more than 10 plots at the same time results in empty plots ###\n",
        "\n",
        "milk_sample = milk_subset.select(inputColNames+[labelColName]).sample(False,0.5)\n",
        "#print(milk_rdd3_sample)\n",
        "sns.set(rc={'figure.figsize':(10,10)})\n",
        "\n",
        "for column in inputColNames:\n",
        "  plt.figure()\n",
        "  sns.lmplot(x=column, y=labelColName,data=milk_sample.toPandas())\n",
        "  plt.title(labelColName+\" vs \"+column)\n",
        "  plt.xlabel(column)\n",
        "  plt.ylabel(labelColName)"
      ],
      "execution_count": 34,
      "outputs": [
        {
          "output_type": "display_data",
          "data": {
            "text/plain": [
              "<Figure size 720x720 with 0 Axes>"
            ]
          },
          "metadata": {
            "tags": []
          }
        },
        {
          "output_type": "display_data",
          "data": {
            "image/png": "[encoded data removed]",
            "text/plain": [
              "<Figure size 360x360 with 1 Axes>"
            ]
          },
          "metadata": {
            "tags": []
          }
        }
      ]
    },
    {
      "cell_type": "code",
      "metadata": {
        "id": "qxQvkGHUpo1H",
        "colab": {
          "base_uri": "https://localhost:8080/",
          "height": 130
        },
        "outputId": "3250f736-ac05-47c2-d4c5-a03b1a41320d"
      },
      "source": [
        "# calculate VIF\n",
        "\n",
        "\n",
        "#df_vif = df[['Ca (g/day)', 'P (g/day)', 'Na (g/day)' ]].dropna()\n",
        "\n",
        "#df[['annual_inc','loan_amnt', 'funded_amnt','annual_inc','dti']].dropna()\n",
        "\n",
        "# str_to_remove = [r'(', r')'] \n",
        "# columns_list = [allColumns, doubleColumns, intColumns, stringColumn]\n",
        "# allColumnsTemp = [col for col in allColumns]\n",
        "# for column in columns_list:\n",
        "#   for i in range(len(column)):\n",
        "#     for substring in str_to_remove:\n",
        "#       column[i] = column[i].replace(substring, '').strip()\n",
        "#       column[i] = column[i].replace('/', ' ').strip()\n",
        "\n",
        "# for col1, col2 in zip(allColumnsTemp, allColumns):\n",
        "#   milk_data = milk_rdd.withColumnRenamed(col1, col2)\n",
        "\n",
        "#%%capture\n",
        "#gather features\n",
        "milk_data_pd = milk_data.toPandas()\n",
        "milk_selection = milk_data_pd[['Ca (g/day)', 'Sugar (g/day)']]\n",
        "features = \"+\".join(milk_data.columns)\n",
        "\n",
        "\n",
        "# get y and X dataframes based on this regression:\n",
        "y, X = dmatrices('Sugar (g/day) ~' + features, milk_pd, return_type='dataframe')\n",
        "\n",
        "vif = pd.DataFrame()\n",
        "vif[\"VIF Factor\"] = [variance_inflation_factor(X.values, i) for i in range(X.shape[1])]\n",
        "vif[\"features\"] = X.columns"
      ],
      "execution_count": 46,
      "outputs": [
        {
          "output_type": "error",
          "ename": "SyntaxError",
          "evalue": "ignored",
          "traceback": [
            "\u001b[0;36m  File \u001b[0;32m\"<unknown>\"\u001b[0;36m, line \u001b[0;32m1\u001b[0m\n\u001b[0;31m    Manure consistency(1=fluid, 5=hard)\u001b[0m\n\u001b[0m                     ^\u001b[0m\n\u001b[0;31mSyntaxError\u001b[0m\u001b[0;31m:\u001b[0m invalid syntax\n"
          ]
        }
      ]
    },
    {
      "cell_type": "code",
      "metadata": {
        "id": "hvRH7qjlppG1",
        "colab": {
          "base_uri": "https://localhost:8080/",
          "height": 409
        },
        "outputId": "51db5b22-eb47-458f-c00a-6dc3410cf5e7"
      },
      "source": [
        "from patsy import dmatrices\n",
        "from statsmodels.stats.outliers_influence import variance_inflation_factor\n",
        "\n",
        "#find design matrix for linear regression model using 'rating' as response variable \n",
        "y, X = dmatrices('Sugar (g/day) ~ Ca (g/day)', data=milk_data_pd, return_type='dataframe')\n",
        "\n",
        "#calculate VIF for each explanatory variable\n",
        "vif = pd.DataFrame()\n",
        "vif['VIF'] = [variance_inflation_factor(X.values, i) for i in range(X.shape[1])]\n",
        "vif['variable'] = X.columns\n",
        "\n",
        "#view VIF for each explanatory variable \n",
        "vif"
      ],
      "execution_count": 51,
      "outputs": [
        {
          "output_type": "error",
          "ename": "PatsyError",
          "evalue": "ignored",
          "traceback": [
            "\u001b[0;31m---------------------------------------------------------------------------\u001b[0m",
            "\u001b[0;31mNameError\u001b[0m                                 Traceback (most recent call last)",
            "\u001b[0;32m/usr/local/lib/python3.6/dist-packages/patsy/compat.py\u001b[0m in \u001b[0;36mcall_and_wrap_exc\u001b[0;34m(msg, origin, f, *args, **kwargs)\u001b[0m\n\u001b[1;32m     35\u001b[0m     \u001b[0;32mtry\u001b[0m\u001b[0;34m:\u001b[0m\u001b[0;34m\u001b[0m\u001b[0;34m\u001b[0m\u001b[0m\n\u001b[0;32m---> 36\u001b[0;31m         \u001b[0;32mreturn\u001b[0m \u001b[0mf\u001b[0m\u001b[0;34m(\u001b[0m\u001b[0;34m*\u001b[0m\u001b[0margs\u001b[0m\u001b[0;34m,\u001b[0m \u001b[0;34m**\u001b[0m\u001b[0mkwargs\u001b[0m\u001b[0;34m)\u001b[0m\u001b[0;34m\u001b[0m\u001b[0;34m\u001b[0m\u001b[0m\n\u001b[0m\u001b[1;32m     37\u001b[0m     \u001b[0;32mexcept\u001b[0m \u001b[0mException\u001b[0m \u001b[0;32mas\u001b[0m \u001b[0me\u001b[0m\u001b[0;34m:\u001b[0m\u001b[0;34m\u001b[0m\u001b[0;34m\u001b[0m\u001b[0m\n",
            "\u001b[0;32m/usr/local/lib/python3.6/dist-packages/patsy/eval.py\u001b[0m in \u001b[0;36meval\u001b[0;34m(self, expr, source_name, inner_namespace)\u001b[0m\n\u001b[1;32m    165\u001b[0m         return eval(code, {}, VarLookupDict([inner_namespace]\n\u001b[0;32m--> 166\u001b[0;31m                                             + self._namespaces))\n\u001b[0m\u001b[1;32m    167\u001b[0m \u001b[0;34m\u001b[0m\u001b[0m\n",
            "\u001b[0;32m<string>\u001b[0m in \u001b[0;36m<module>\u001b[0;34m()\u001b[0m\n",
            "\u001b[0;31mNameError\u001b[0m: name 'Ca' is not defined",
            "\nThe above exception was the direct cause of the following exception:\n",
            "\u001b[0;31mPatsyError\u001b[0m                                Traceback (most recent call last)",
            "\u001b[0;32m<ipython-input-51-969def00c312>\u001b[0m in \u001b[0;36m<module>\u001b[0;34m()\u001b[0m\n\u001b[1;32m      3\u001b[0m \u001b[0;34m\u001b[0m\u001b[0m\n\u001b[1;32m      4\u001b[0m \u001b[0;31m#find design matrix for linear regression model using 'rating' as response variable\u001b[0m\u001b[0;34m\u001b[0m\u001b[0;34m\u001b[0m\u001b[0;34m\u001b[0m\u001b[0m\n\u001b[0;32m----> 5\u001b[0;31m \u001b[0my\u001b[0m\u001b[0;34m,\u001b[0m \u001b[0mX\u001b[0m \u001b[0;34m=\u001b[0m \u001b[0mdmatrices\u001b[0m\u001b[0;34m(\u001b[0m\u001b[0;34m'Sugar (g/day) ~ Ca (g/day)'\u001b[0m\u001b[0;34m,\u001b[0m \u001b[0mdata\u001b[0m\u001b[0;34m=\u001b[0m\u001b[0mmilk_data_pd\u001b[0m\u001b[0;34m,\u001b[0m \u001b[0mreturn_type\u001b[0m\u001b[0;34m=\u001b[0m\u001b[0;34m'dataframe'\u001b[0m\u001b[0;34m)\u001b[0m\u001b[0;34m\u001b[0m\u001b[0;34m\u001b[0m\u001b[0m\n\u001b[0m\u001b[1;32m      6\u001b[0m \u001b[0;34m\u001b[0m\u001b[0m\n\u001b[1;32m      7\u001b[0m \u001b[0;31m#calculate VIF for each explanatory variable\u001b[0m\u001b[0;34m\u001b[0m\u001b[0;34m\u001b[0m\u001b[0;34m\u001b[0m\u001b[0m\n",
            "\u001b[0;32m/usr/local/lib/python3.6/dist-packages/patsy/highlevel.py\u001b[0m in \u001b[0;36mdmatrices\u001b[0;34m(formula_like, data, eval_env, NA_action, return_type)\u001b[0m\n\u001b[1;32m    308\u001b[0m     \u001b[0meval_env\u001b[0m \u001b[0;34m=\u001b[0m \u001b[0mEvalEnvironment\u001b[0m\u001b[0;34m.\u001b[0m\u001b[0mcapture\u001b[0m\u001b[0;34m(\u001b[0m\u001b[0meval_env\u001b[0m\u001b[0;34m,\u001b[0m \u001b[0mreference\u001b[0m\u001b[0;34m=\u001b[0m\u001b[0;36m1\u001b[0m\u001b[0;34m)\u001b[0m\u001b[0;34m\u001b[0m\u001b[0;34m\u001b[0m\u001b[0m\n\u001b[1;32m    309\u001b[0m     (lhs, rhs) = _do_highlevel_design(formula_like, data, eval_env,\n\u001b[0;32m--> 310\u001b[0;31m                                       NA_action, return_type)\n\u001b[0m\u001b[1;32m    311\u001b[0m     \u001b[0;32mif\u001b[0m \u001b[0mlhs\u001b[0m\u001b[0;34m.\u001b[0m\u001b[0mshape\u001b[0m\u001b[0;34m[\u001b[0m\u001b[0;36m1\u001b[0m\u001b[0;34m]\u001b[0m \u001b[0;34m==\u001b[0m \u001b[0;36m0\u001b[0m\u001b[0;34m:\u001b[0m\u001b[0;34m\u001b[0m\u001b[0;34m\u001b[0m\u001b[0m\n\u001b[1;32m    312\u001b[0m         \u001b[0;32mraise\u001b[0m \u001b[0mPatsyError\u001b[0m\u001b[0;34m(\u001b[0m\u001b[0;34m\"model is missing required outcome variables\"\u001b[0m\u001b[0;34m)\u001b[0m\u001b[0;34m\u001b[0m\u001b[0;34m\u001b[0m\u001b[0m\n",
            "\u001b[0;32m/usr/local/lib/python3.6/dist-packages/patsy/highlevel.py\u001b[0m in \u001b[0;36m_do_highlevel_design\u001b[0;34m(formula_like, data, eval_env, NA_action, return_type)\u001b[0m\n\u001b[1;32m    163\u001b[0m         \u001b[0;32mreturn\u001b[0m \u001b[0miter\u001b[0m\u001b[0;34m(\u001b[0m\u001b[0;34m[\u001b[0m\u001b[0mdata\u001b[0m\u001b[0;34m]\u001b[0m\u001b[0;34m)\u001b[0m\u001b[0;34m\u001b[0m\u001b[0;34m\u001b[0m\u001b[0m\n\u001b[1;32m    164\u001b[0m     design_infos = _try_incr_builders(formula_like, data_iter_maker, eval_env,\n\u001b[0;32m--> 165\u001b[0;31m                                       NA_action)\n\u001b[0m\u001b[1;32m    166\u001b[0m     \u001b[0;32mif\u001b[0m \u001b[0mdesign_infos\u001b[0m \u001b[0;32mis\u001b[0m \u001b[0;32mnot\u001b[0m \u001b[0;32mNone\u001b[0m\u001b[0;34m:\u001b[0m\u001b[0;34m\u001b[0m\u001b[0;34m\u001b[0m\u001b[0m\n\u001b[1;32m    167\u001b[0m         return build_design_matrices(design_infos, data,\n",
            "\u001b[0;32m/usr/local/lib/python3.6/dist-packages/patsy/highlevel.py\u001b[0m in \u001b[0;36m_try_incr_builders\u001b[0;34m(formula_like, data_iter_maker, eval_env, NA_action)\u001b[0m\n\u001b[1;32m     68\u001b[0m                                       \u001b[0mdata_iter_maker\u001b[0m\u001b[0;34m,\u001b[0m\u001b[0;34m\u001b[0m\u001b[0;34m\u001b[0m\u001b[0m\n\u001b[1;32m     69\u001b[0m                                       \u001b[0meval_env\u001b[0m\u001b[0;34m,\u001b[0m\u001b[0;34m\u001b[0m\u001b[0;34m\u001b[0m\u001b[0m\n\u001b[0;32m---> 70\u001b[0;31m                                       NA_action)\n\u001b[0m\u001b[1;32m     71\u001b[0m     \u001b[0;32melse\u001b[0m\u001b[0;34m:\u001b[0m\u001b[0;34m\u001b[0m\u001b[0;34m\u001b[0m\u001b[0m\n\u001b[1;32m     72\u001b[0m         \u001b[0;32mreturn\u001b[0m \u001b[0;32mNone\u001b[0m\u001b[0;34m\u001b[0m\u001b[0;34m\u001b[0m\u001b[0m\n",
            "\u001b[0;32m/usr/local/lib/python3.6/dist-packages/patsy/build.py\u001b[0m in \u001b[0;36mdesign_matrix_builders\u001b[0;34m(termlists, data_iter_maker, eval_env, NA_action)\u001b[0m\n\u001b[1;32m    694\u001b[0m                                                    \u001b[0mfactor_states\u001b[0m\u001b[0;34m,\u001b[0m\u001b[0;34m\u001b[0m\u001b[0;34m\u001b[0m\u001b[0m\n\u001b[1;32m    695\u001b[0m                                                    \u001b[0mdata_iter_maker\u001b[0m\u001b[0;34m,\u001b[0m\u001b[0;34m\u001b[0m\u001b[0;34m\u001b[0m\u001b[0m\n\u001b[0;32m--> 696\u001b[0;31m                                                    NA_action)\n\u001b[0m\u001b[1;32m    697\u001b[0m     \u001b[0;31m# Now we need the factor infos, which encapsulate the knowledge of\u001b[0m\u001b[0;34m\u001b[0m\u001b[0;34m\u001b[0m\u001b[0;34m\u001b[0m\u001b[0m\n\u001b[1;32m    698\u001b[0m     \u001b[0;31m# how to turn any given factor into a chunk of data:\u001b[0m\u001b[0;34m\u001b[0m\u001b[0;34m\u001b[0m\u001b[0;34m\u001b[0m\u001b[0m\n",
            "\u001b[0;32m/usr/local/lib/python3.6/dist-packages/patsy/build.py\u001b[0m in \u001b[0;36m_examine_factor_types\u001b[0;34m(factors, factor_states, data_iter_maker, NA_action)\u001b[0m\n\u001b[1;32m    441\u001b[0m     \u001b[0;32mfor\u001b[0m \u001b[0mdata\u001b[0m \u001b[0;32min\u001b[0m \u001b[0mdata_iter_maker\u001b[0m\u001b[0;34m(\u001b[0m\u001b[0;34m)\u001b[0m\u001b[0;34m:\u001b[0m\u001b[0;34m\u001b[0m\u001b[0;34m\u001b[0m\u001b[0m\n\u001b[1;32m    442\u001b[0m         \u001b[0;32mfor\u001b[0m \u001b[0mfactor\u001b[0m \u001b[0;32min\u001b[0m \u001b[0mlist\u001b[0m\u001b[0;34m(\u001b[0m\u001b[0mexamine_needed\u001b[0m\u001b[0;34m)\u001b[0m\u001b[0;34m:\u001b[0m\u001b[0;34m\u001b[0m\u001b[0;34m\u001b[0m\u001b[0m\n\u001b[0;32m--> 443\u001b[0;31m             \u001b[0mvalue\u001b[0m \u001b[0;34m=\u001b[0m \u001b[0mfactor\u001b[0m\u001b[0;34m.\u001b[0m\u001b[0meval\u001b[0m\u001b[0;34m(\u001b[0m\u001b[0mfactor_states\u001b[0m\u001b[0;34m[\u001b[0m\u001b[0mfactor\u001b[0m\u001b[0;34m]\u001b[0m\u001b[0;34m,\u001b[0m \u001b[0mdata\u001b[0m\u001b[0;34m)\u001b[0m\u001b[0;34m\u001b[0m\u001b[0;34m\u001b[0m\u001b[0m\n\u001b[0m\u001b[1;32m    444\u001b[0m             \u001b[0;32mif\u001b[0m \u001b[0mfactor\u001b[0m \u001b[0;32min\u001b[0m \u001b[0mcat_sniffers\u001b[0m \u001b[0;32mor\u001b[0m \u001b[0mguess_categorical\u001b[0m\u001b[0;34m(\u001b[0m\u001b[0mvalue\u001b[0m\u001b[0;34m)\u001b[0m\u001b[0;34m:\u001b[0m\u001b[0;34m\u001b[0m\u001b[0;34m\u001b[0m\u001b[0m\n\u001b[1;32m    445\u001b[0m                 \u001b[0;32mif\u001b[0m \u001b[0mfactor\u001b[0m \u001b[0;32mnot\u001b[0m \u001b[0;32min\u001b[0m \u001b[0mcat_sniffers\u001b[0m\u001b[0;34m:\u001b[0m\u001b[0;34m\u001b[0m\u001b[0;34m\u001b[0m\u001b[0m\n",
            "\u001b[0;32m/usr/local/lib/python3.6/dist-packages/patsy/eval.py\u001b[0m in \u001b[0;36meval\u001b[0;34m(self, memorize_state, data)\u001b[0m\n\u001b[1;32m    564\u001b[0m         return self._eval(memorize_state[\"eval_code\"],\n\u001b[1;32m    565\u001b[0m                           \u001b[0mmemorize_state\u001b[0m\u001b[0;34m,\u001b[0m\u001b[0;34m\u001b[0m\u001b[0;34m\u001b[0m\u001b[0m\n\u001b[0;32m--> 566\u001b[0;31m                           data)\n\u001b[0m\u001b[1;32m    567\u001b[0m \u001b[0;34m\u001b[0m\u001b[0m\n\u001b[1;32m    568\u001b[0m     \u001b[0m__getstate__\u001b[0m \u001b[0;34m=\u001b[0m \u001b[0mno_pickling\u001b[0m\u001b[0;34m\u001b[0m\u001b[0;34m\u001b[0m\u001b[0m\n",
            "\u001b[0;32m/usr/local/lib/python3.6/dist-packages/patsy/eval.py\u001b[0m in \u001b[0;36m_eval\u001b[0;34m(self, code, memorize_state, data)\u001b[0m\n\u001b[1;32m    549\u001b[0m                                  \u001b[0mmemorize_state\u001b[0m\u001b[0;34m[\u001b[0m\u001b[0;34m\"eval_env\"\u001b[0m\u001b[0;34m]\u001b[0m\u001b[0;34m.\u001b[0m\u001b[0meval\u001b[0m\u001b[0;34m,\u001b[0m\u001b[0;34m\u001b[0m\u001b[0;34m\u001b[0m\u001b[0m\n\u001b[1;32m    550\u001b[0m                                  \u001b[0mcode\u001b[0m\u001b[0;34m,\u001b[0m\u001b[0;34m\u001b[0m\u001b[0;34m\u001b[0m\u001b[0m\n\u001b[0;32m--> 551\u001b[0;31m                                  inner_namespace=inner_namespace)\n\u001b[0m\u001b[1;32m    552\u001b[0m \u001b[0;34m\u001b[0m\u001b[0m\n\u001b[1;32m    553\u001b[0m     \u001b[0;32mdef\u001b[0m \u001b[0mmemorize_chunk\u001b[0m\u001b[0;34m(\u001b[0m\u001b[0mself\u001b[0m\u001b[0;34m,\u001b[0m \u001b[0mstate\u001b[0m\u001b[0;34m,\u001b[0m \u001b[0mwhich_pass\u001b[0m\u001b[0;34m,\u001b[0m \u001b[0mdata\u001b[0m\u001b[0;34m)\u001b[0m\u001b[0;34m:\u001b[0m\u001b[0;34m\u001b[0m\u001b[0;34m\u001b[0m\u001b[0m\n",
            "\u001b[0;32m/usr/local/lib/python3.6/dist-packages/patsy/compat.py\u001b[0m in \u001b[0;36mcall_and_wrap_exc\u001b[0;34m(msg, origin, f, *args, **kwargs)\u001b[0m\n\u001b[1;32m     41\u001b[0m                                  origin)\n\u001b[1;32m     42\u001b[0m             \u001b[0;31m# Use 'exec' to hide this syntax from the Python 2 parser:\u001b[0m\u001b[0;34m\u001b[0m\u001b[0;34m\u001b[0m\u001b[0;34m\u001b[0m\u001b[0m\n\u001b[0;32m---> 43\u001b[0;31m             \u001b[0mexec\u001b[0m\u001b[0;34m(\u001b[0m\u001b[0;34m\"raise new_exc from e\"\u001b[0m\u001b[0;34m)\u001b[0m\u001b[0;34m\u001b[0m\u001b[0;34m\u001b[0m\u001b[0m\n\u001b[0m\u001b[1;32m     44\u001b[0m         \u001b[0;32melse\u001b[0m\u001b[0;34m:\u001b[0m\u001b[0;34m\u001b[0m\u001b[0;34m\u001b[0m\u001b[0m\n\u001b[1;32m     45\u001b[0m             \u001b[0;31m# In python 2, we just let the original exception escape -- better\u001b[0m\u001b[0;34m\u001b[0m\u001b[0;34m\u001b[0m\u001b[0;34m\u001b[0m\u001b[0m\n",
            "\u001b[0;32m/usr/local/lib/python3.6/dist-packages/patsy/compat.py\u001b[0m in \u001b[0;36m<module>\u001b[0;34m()\u001b[0m\n",
            "\u001b[0;31mPatsyError\u001b[0m: Error evaluating factor: NameError: name 'Ca' is not defined\n    Sugar (g/day) ~ Ca (g/day)\n                    ^^^^^^^^^^"
          ]
        }
      ]
    },
    {
      "cell_type": "code",
      "metadata": {
        "id": "8Fnp4Y2gvmh2"
      },
      "source": [
        ""
      ],
      "execution_count": null,
      "outputs": []
    }
  ]
}