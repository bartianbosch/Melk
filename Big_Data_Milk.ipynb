{
  "nbformat": 4,
  "nbformat_minor": 0,
  "metadata": {
    "colab": {
      "name": "Big Data Milk.ipynb",
      "provenance": [],
      "collapsed_sections": [],
      "include_colab_link": true
    },
    "kernelspec": {
      "name": "python3",
      "display_name": "Python 3"
    }
  },
  "cells": [
    {
      "cell_type": "markdown",
      "metadata": {
        "id": "view-in-github",
        "colab_type": "text"
      },
      "source": [
        "<a href=\"https://colab.research.google.com/github/bartianbosch/Melk/blob/main/Big_Data_Milk.ipynb\" target=\"_parent\"><img src=\"https://colab.research.google.com/assets/colab-badge.svg\" alt=\"Open In Colab\"/></a>"
      ]
    },
    {
      "cell_type": "markdown",
      "metadata": {
        "id": "zSVRLt9dJyKM"
      },
      "source": [
        "Big Data Groupwork Milk\n"
      ]
    },
    {
      "cell_type": "code",
      "metadata": {
        "id": "o3LZGS6nWtSx",
        "colab": {
          "base_uri": "https://localhost:8080/"
        },
        "outputId": "162659cf-25a3-4543-c9ae-21ae450686d2"
      },
      "source": [
        "## To download and update the necessary requirements initialize Apache Spark, run this cell\n",
        "!apt-get update\n",
        "!apt-get install openjdk-8-jdk-headless -qq > /dev/null\n",
        "!wget -q http://downloads.apache.org/spark/spark-2.4.7/spark-2.4.7-bin-hadoop2.7.tgz\n",
        "!tar xf spark-2.4.7-bin-hadoop2.7.tgz\n",
        "!pip install -q findspark\n",
        "\n",
        "import os\n",
        "os.environ[\"JAVA_HOME\"] = \"/usr/lib/jvm/java-8-openjdk-amd64\"\n",
        "os.environ[\"SPARK_HOME\"] = \"/content/spark-2.4.7-bin-hadoop2.7\"\n",
        "\n",
        "import findspark\n",
        "findspark.init()\n",
        "from pyspark.sql import SparkSession\n",
        "sp = SparkSession.builder.master(\"local[*]\").getOrCreate()\n",
        "\n",
        "from pyspark import SparkContext\n",
        "from pyspark.sql import SparkSession\n",
        "sc = SparkContext.getOrCreate()\n",
        "spark = SparkSession.builder.getOrCreate()\n",
        "\n",
        "from pyspark.sql import SQLContext\n",
        "sqlContext = SQLContext(sc)\n",
        "\n",
        "# Added our own necessary imports \n",
        "import seaborn as sns\n",
        "\n",
        "from pyspark import SparkFiles\n",
        "\n",
        "import pandas as pd\n",
        "import matplotlib.pyplot as plt\n",
        "plt.close('all')\n",
        "plt.rcParams['figure.figsize'] = [30, 20]\n",
        "\n",
        "from pyspark.sql import types, Window\n",
        "from pyspark.sql import functions as psf\n",
        "from pyspark.sql.functions import col, unix_timestamp, to_date\n",
        "from pyspark.ml.feature import VectorAssembler, StringIndexer, OneHotEncoderEstimator\n",
        "\n",
        "from pyspark.ml import Pipeline\n",
        "\n",
        "from pyspark.ml.regression import LinearRegression, LinearRegressionModel\n",
        "\n",
        "from pyspark.ml.evaluation import RegressionEvaluator\n",
        "\n",
        "from pyspark.ml.tuning import ParamGridBuilder, CrossValidator\n",
        "\n",
        "import sys\n",
        "\n",
        "\n",
        "# Mounting drive\n",
        "from google.colab import drive\n",
        "drive.mount('/content/gdrive/')"
      ],
      "execution_count": 1,
      "outputs": [
        {
          "output_type": "stream",
          "text": [
            "\r0% [Working]\r            \rHit:1 http://security.ubuntu.com/ubuntu bionic-security InRelease\n",
            "\r0% [Connecting to archive.ubuntu.com (91.189.88.142)] [Connected to cloud.r-pro\r0% [1 InRelease gpgv 88.7 kB] [Connecting to archive.ubuntu.com (91.189.88.142)\r                                                                               \rIgn:2 https://developer.download.nvidia.com/compute/cuda/repos/ubuntu1804/x86_64  InRelease\n",
            "\r0% [1 InRelease gpgv 88.7 kB] [Waiting for headers] [Waiting for headers] [Wait\r                                                                               \rHit:3 https://cloud.r-project.org/bin/linux/ubuntu bionic-cran40/ InRelease\n",
            "\r0% [1 InRelease gpgv 88.7 kB] [Waiting for headers] [Waiting for headers] [Wait\r                                                                               \rGet:4 http://ppa.launchpad.net/c2d4u.team/c2d4u4.0+/ubuntu bionic InRelease [15.9 kB]\n",
            "Ign:5 https://developer.download.nvidia.com/compute/machine-learning/repos/ubuntu1804/x86_64  InRelease\n",
            "Hit:6 https://developer.download.nvidia.com/compute/cuda/repos/ubuntu1804/x86_64  Release\n",
            "Hit:7 http://archive.ubuntu.com/ubuntu bionic InRelease\n",
            "Hit:8 https://developer.download.nvidia.com/compute/machine-learning/repos/ubuntu1804/x86_64  Release\n",
            "Hit:9 http://archive.ubuntu.com/ubuntu bionic-updates InRelease\n",
            "Hit:10 http://archive.ubuntu.com/ubuntu bionic-backports InRelease\n",
            "Hit:11 http://ppa.launchpad.net/graphics-drivers/ppa/ubuntu bionic InRelease\n",
            "Get:14 http://ppa.launchpad.net/c2d4u.team/c2d4u4.0+/ubuntu bionic/main amd64 Packages [866 kB]\n",
            "Fetched 882 kB in 2s (417 kB/s)\n",
            "Reading package lists... Done\n",
            "Drive already mounted at /content/gdrive/; to attempt to forcibly remount, call drive.mount(\"/content/gdrive/\", force_remount=True).\n"
          ],
          "name": "stdout"
        }
      ]
    },
    {
      "cell_type": "markdown",
      "metadata": {
        "id": "BMSmDG4GLso4"
      },
      "source": [
        "Loading the data into a DF\n"
      ]
    },
    {
      "cell_type": "code",
      "metadata": {
        "id": "E9lkii3ALw4O",
        "colab": {
          "base_uri": "https://localhost:8080/"
        },
        "outputId": "b79ca458-6240-446a-f278-da1729976f24"
      },
      "source": [
        "## Loading the data\n",
        "\n",
        "# Downloading the preprocessed datafile from the github in raw format\n",
        "url = 'https://raw.githubusercontent.com/bartianbosch/Melk/main/ff_dairy_v1_preprocessed.csv'\n",
        "fileName = url.split('/')[-1] #The filename is everything after \"main/\"\n",
        "\n",
        "# Prepare and load the file into a spark rdd\n",
        "spark.sparkContext.addFile(url)\n",
        "milk_rdd = spark.read.csv(SparkFiles.get(fileName), header=True)\n",
        "milk_rdd = milk_rdd.repartitionByRange(\"Cow number\")\n",
        "print(type(milk_rdd))\n",
        "print(milk_rdd.rdd.getNumPartitions())\n",
        "\n",
        "# Also load the data to a pandas table, just in case we need it for testing.\n",
        "milk_pd=pd.read_csv(url, encoding='latin1')"
      ],
      "execution_count": 2,
      "outputs": [
        {
          "output_type": "stream",
          "text": [
            "<class 'pyspark.sql.dataframe.DataFrame'>\n",
            "101\n"
          ],
          "name": "stdout"
        }
      ]
    },
    {
      "cell_type": "code",
      "metadata": {
        "id": "fDwnD2s2W-H-"
      },
      "source": [
        "# To check spark rdd, uncomment the following line:\n",
        "#milk_rdd.show(5)"
      ],
      "execution_count": 3,
      "outputs": []
    },
    {
      "cell_type": "code",
      "metadata": {
        "id": "vFz1OVe9gzl-"
      },
      "source": [
        "# To check pandas dataframe, uncomment the following line:\n",
        "#milk_pd"
      ],
      "execution_count": 4,
      "outputs": []
    },
    {
      "cell_type": "markdown",
      "metadata": {
        "id": "iCd12fxv0q5P"
      },
      "source": [
        "\n",
        "\n",
        "---\n",
        "\n",
        "\n",
        "## Creating a Machine Learning Model"
      ]
    },
    {
      "cell_type": "markdown",
      "metadata": {
        "id": "pMloXHglEdhH"
      },
      "source": [
        "### Data Preparation"
      ]
    },
    {
      "cell_type": "code",
      "metadata": {
        "id": "bgm-WDfsu1Yz"
      },
      "source": [
        "## Fixing the RDD columns datatypes\n",
        "\n",
        "# We need to change the datatype of each column in the rdd, to be able to\n",
        "# process it correctly.\n",
        "\n",
        "# Creating a function to set the given columns to the given datatype.\n",
        "def fixType(datasetName, colName, dataType):\n",
        "  \"\"\"Takes a dataset and returns the dataset with the given column set to the given dataype\"\"\"\n",
        "  return datasetName.withColumn(colName, psf.col(colName).cast(dataType))\n",
        "\n",
        "# Preparing Lists with the column names according to which type they need to be.\n",
        "allColumns = ['Cow number', 'Date', 'Barn', 'Barn part', 'Treatment', 'Lactation number', 'Days in milk', 'Day number', 'Week', 'Period (VP = preperiod, HP = trial period)', 'Period part (VP = preperiod, HP = trial period)', 'Intake basal ration (kg dm)', 'Intake total ration (kg dm)', 'Water intake (kg)', 'Concentrate intake (kg)', 'Weight (kg)', 'BCS', 'Backfat Thickness', 'Milk yield (kg)', 'Fat%', 'Protein%', 'Urea (mg/kg)', 'SCC (*1000/ml)', 'Lactose%', 'Avg Temperature (degC)', 'Air speed', 'Max temperature (degC)', 'Rumination time (min/day)', 'Avg pH', 'Avg Rumen Temperature ', 'Time pH<5,8 (h)', 'Manure consistency (1=fluid, 5= hard)', 'Manure fibre score (1=short, 5 = long)', 'Number of kernels', 'Manure sieving residu (%)', 'Manure dm (g/kg OM)', 'Manure starch (g/kg dm)', 'Urin-pH', 'Intake pre-period (kg dm)', 'Milk yield prepreriod (kg)', 'Fat% preperiod', 'Protein% preperiod', 'Fat preperiod (kg)', 'Protein preperiod (kg)', 'ECM preperiod (kg)', 'ECM (kg)', 'Crude fiber (g/day)', 'Sugar (g/day)', 'Crude protein (g/day)', 'Crude fat (g/day)', 'Starch (g/day)', 'Ca (g/day)', 'P (g/day)', 'Na (g/day)', 'Cl (g/day)', 'K (g/day)', 'Mg (g/day)', 'nXP (g/day)', 'RNB (g/day)', 'MELK (g/day)', 'NEL (g/day)', 'WDE (g/day)', 'EKB (g/day)', 'WDS (g/day)', 'SPK (g/day)', 'TPK (g/day)', 'SPE (g/day)', 'TPE (g/day)', 'plusI (/day)', 'WI (/day)', 'GP (g/day)', 'Crude fiber (g/kg dm)', 'Sugar (g/kg dm)', 'Crude protein (g/kg dm)', 'Crude fat (g/kg dm)', 'Starch (g/kg dm)', 'Ca (g/kg dm)', 'P (g/kg dm)', 'Na (g/kg dm)', 'Cl (g/kg dm)', 'K (g/kg dm)', 'Mg (g/kg dm)', 'nXP (g/kg dm)', 'RNB (g/kg dm)', 'MELK (/kg dm)', 'NEL (MJ/kg dm)', 'WDE (g/kg dm)', 'EKB (g/kg dm)', 'WDS (g/kg dm)', 'SPK (g/kg dm)', 'TPK (g/kg dm)', 'SPE (g/kg dm)', 'TPE (g/kg dm)', 'plusI (/kg dm)', 'WI (/kg dm)', 'GP (g/kg dm)']\n",
        "doubleColumns = ['Intake basal ration (kg dm)', 'Intake total ration (kg dm)', 'Water intake (kg)', 'Concentrate intake (kg)', 'Weight (kg)', 'BCS', 'Milk yield (kg)', 'Fat%', 'Protein%', 'Lactose%', 'Avg Temperature (degC)', 'Air speed', 'Max temperature (degC)', 'Avg pH', 'Avg Rumen Temperature ', 'Time pH<5,8 (h)', 'Number of kernels', 'Manure sieving residu (%)', 'Manure starch (g/kg dm)', 'Urin-pH', 'Intake pre-period (kg dm)', 'Milk yield prepreriod (kg)', 'Fat% preperiod', 'Protein% preperiod', 'Fat preperiod (kg)', 'Protein preperiod (kg)', 'ECM preperiod (kg)', 'ECM (kg)']\n",
        "intColumns = ['Cow number', 'Barn', 'Barn part', 'Lactation number', 'Days in milk', 'Day number', 'Week', 'Backfat Thickness', 'Urea (mg/kg)', 'SCC (*1000/ml)', 'Rumination time (min/day)', 'Manure consistency (1=fluid, 5= hard)', 'Manure fibre score (1=short, 5 = long)', 'Manure dm (g/kg OM)', 'Crude fiber (g/day)', 'Sugar (g/day)', 'Crude protein (g/day)', 'Crude fat (g/day)', 'Starch (g/day)', 'Ca (g/day)', 'P (g/day)', 'Na (g/day)', 'Cl (g/day)', 'K (g/day)', 'Mg (g/day)', 'nXP (g/day)', 'RNB (g/day)', 'MELK (g/day)', 'NEL (g/day)', 'WDE (g/day)', 'EKB (g/day)', 'WDS (g/day)', 'SPK (g/day)', 'TPK (g/day)', 'SPE (g/day)', 'TPE (g/day)', 'plusI (/day)', 'WI (/day)', 'GP (g/day)', 'Crude fiber (g/kg dm)', 'Sugar (g/kg dm)', 'Crude protein (g/kg dm)', 'Crude fat (g/kg dm)', 'Starch (g/kg dm)', 'Ca (g/kg dm)', 'P (g/kg dm)', 'Na (g/kg dm)', 'Cl (g/kg dm)', 'K (g/kg dm)', 'Mg (g/kg dm)', 'nXP (g/kg dm)', 'RNB (g/kg dm)', 'MELK (/kg dm)', 'NEL (MJ/kg dm)', 'WDE (g/kg dm)', 'EKB (g/kg dm)', 'WDS (g/kg dm)', 'SPK (g/kg dm)', 'TPK (g/kg dm)', 'SPE (g/kg dm)', 'TPE (g/kg dm)', 'plusI (/kg dm)', 'WI (/kg dm)', 'GP (g/kg dm)']\n",
        "stringColumn = ['Treatment', 'Period (VP = preperiod, HP = trial period)', 'Period part (VP = preperiod, HP = trial period)']\n",
        "milk_rdd2 = milk_rdd\n",
        "\n",
        "# Setting the columns to the correct type\n",
        "for colName in doubleColumns:\n",
        "  milk_rdd2 = fixType(milk_rdd2, colName, \"double\")\n",
        "for colName in intColumns:\n",
        "  milk_rdd2 = fixType(milk_rdd2, colName, \"int\")\n",
        "#milk_rdd2 = milk_rdd2.withColumn(\"Date\", psf.col(\"Date\").cast(\"date\"))\n",
        "milk_rdd2 = milk_rdd2.withColumn(\"Date\",\n",
        "                                 to_date(unix_timestamp(col('Date'), 'dd/MM/yy').cast(\"timestamp\")))\n",
        "\n",
        "# Uncomment the next line to check the schema\n",
        "#milk_rdd2.printSchema()\n"
      ],
      "execution_count": 5,
      "outputs": []
    },
    {
      "cell_type": "code",
      "metadata": {
        "id": "AM5UfQQx0qbE",
        "colab": {
          "base_uri": "https://localhost:8080/"
        },
        "outputId": "cff502c1-db10-42f8-dfef-fa0f198e9f21"
      },
      "source": [
        "## Create the vectorizer that adds the features column needed to run the machine learning pipeline\n",
        "\n",
        "### To change on which columns the LR model is build you only need to change ###\n",
        "### the 2 variables: inputColNames and labelColName ###\n",
        "\n",
        "# Columns that should not be in the linear regression model\n",
        "doNotInput = ['Cow number', 'Date', 'Barn', 'Barn part']\n",
        "\n",
        "# Columns used as input for the LR model. Previously used are comented for ease of testing.\n",
        "#inputColNames = ['Protein preperiod (kg)','Crude fat (g/kg dm)','Protein%','Protein% preperiod','Fat%','Fat% preperiod']\n",
        "#inputColNames = ['Water intake (kg)','Fat%', 'Protein%', 'Lactose%','Urea (mg/kg)', 'SCC (*1000/ml)']\n",
        "#inputColNames = doubleColumns[0:10]\n",
        "#inputColNames = intColumn\n",
        "inputColNames = [x for x in allColumns if x not in doNotInput]\n",
        "\n",
        "### TEMPORARY FIX, BECAUSE REMOVING NA MAKES ALL VP COLLUMNS DISSAPEAR WHICH GIVES ERRORS ###\n",
        "inputColNames.remove('Period (VP = preperiod, HP = trial period)')\n",
        "\n",
        "print(inputColNames)\n",
        "\n",
        "# The name of the column which value you want to predict.\n",
        "labelColName = \"Milk yield (kg)\"\n",
        "\n",
        "# Generating the name column which will be filled with the predicted values.\n",
        "predictionColName = \"Predicted \" + labelColName\n",
        "\n",
        "# Removing the label column from the input column if it ended in there on accident\n",
        "if labelColName in inputColNames: inputColNames.remove(labelColName)\n"
      ],
      "execution_count": 6,
      "outputs": [
        {
          "output_type": "stream",
          "text": [
            "['Treatment', 'Lactation number', 'Days in milk', 'Day number', 'Week', 'Period part (VP = preperiod, HP = trial period)', 'Intake basal ration (kg dm)', 'Intake total ration (kg dm)', 'Water intake (kg)', 'Concentrate intake (kg)', 'Weight (kg)', 'BCS', 'Backfat Thickness', 'Milk yield (kg)', 'Fat%', 'Protein%', 'Urea (mg/kg)', 'SCC (*1000/ml)', 'Lactose%', 'Avg Temperature (degC)', 'Air speed', 'Max temperature (degC)', 'Rumination time (min/day)', 'Avg pH', 'Avg Rumen Temperature ', 'Time pH<5,8 (h)', 'Manure consistency (1=fluid, 5= hard)', 'Manure fibre score (1=short, 5 = long)', 'Number of kernels', 'Manure sieving residu (%)', 'Manure dm (g/kg OM)', 'Manure starch (g/kg dm)', 'Urin-pH', 'Intake pre-period (kg dm)', 'Milk yield prepreriod (kg)', 'Fat% preperiod', 'Protein% preperiod', 'Fat preperiod (kg)', 'Protein preperiod (kg)', 'ECM preperiod (kg)', 'ECM (kg)', 'Crude fiber (g/day)', 'Sugar (g/day)', 'Crude protein (g/day)', 'Crude fat (g/day)', 'Starch (g/day)', 'Ca (g/day)', 'P (g/day)', 'Na (g/day)', 'Cl (g/day)', 'K (g/day)', 'Mg (g/day)', 'nXP (g/day)', 'RNB (g/day)', 'MELK (g/day)', 'NEL (g/day)', 'WDE (g/day)', 'EKB (g/day)', 'WDS (g/day)', 'SPK (g/day)', 'TPK (g/day)', 'SPE (g/day)', 'TPE (g/day)', 'plusI (/day)', 'WI (/day)', 'GP (g/day)', 'Crude fiber (g/kg dm)', 'Sugar (g/kg dm)', 'Crude protein (g/kg dm)', 'Crude fat (g/kg dm)', 'Starch (g/kg dm)', 'Ca (g/kg dm)', 'P (g/kg dm)', 'Na (g/kg dm)', 'Cl (g/kg dm)', 'K (g/kg dm)', 'Mg (g/kg dm)', 'nXP (g/kg dm)', 'RNB (g/kg dm)', 'MELK (/kg dm)', 'NEL (MJ/kg dm)', 'WDE (g/kg dm)', 'EKB (g/kg dm)', 'WDS (g/kg dm)', 'SPK (g/kg dm)', 'TPK (g/kg dm)', 'SPE (g/kg dm)', 'TPE (g/kg dm)', 'plusI (/kg dm)', 'WI (/kg dm)', 'GP (g/kg dm)']\n"
          ],
          "name": "stdout"
        }
      ]
    },
    {
      "cell_type": "code",
      "metadata": {
        "id": "5QBt3p08IFCU"
      },
      "source": [
        "# Forward fill blank values\n",
        "milk_data = milk_rdd2\n",
        "# define the window\n",
        "window = Window.partitionBy('Cow number').orderBy('Day number').rowsBetween(-sys.maxsize, 0)\n",
        "\n",
        "for column in milk_data.columns:\n",
        "  # define the forward-filled column\n",
        "  filled_column = psf.last(milk_data[column], ignorenulls=True).over(window)\n",
        "\n",
        "  # do the fill \n",
        "  milk_data = milk_data.withColumn(column,  filled_column)"
      ],
      "execution_count": 7,
      "outputs": []
    },
    {
      "cell_type": "code",
      "metadata": {
        "colab": {
          "base_uri": "https://localhost:8080/"
        },
        "id": "mceLxQ7qIFub",
        "outputId": "d8a3beaa-40e5-4011-cf67-7fe6cd8f3dd0"
      },
      "source": [
        "# Drop empty values (otherwise the pipeline can't work with the data)\n",
        "milk_rdd3 = milk_data.dropna(how='any', subset=inputColNames+[labelColName])\n",
        "milk_rdd3.show(5)\n",
        "\n",
        "# Uncomment the next line if you don't want to dropNA\n",
        "#milk_rdd3 = milk_data \n",
        "\n",
        "\n",
        "\n",
        "### TEMPORARY FIX, BECAUSE REMOVING NA MAKES ALL VP COLLUMNS DISSAPEAR WHICH GIVES ERRORS ###\n",
        "milk_rdd3 = milk_rdd3.drop('Period (VP = preperiod, HP = trial period)')"
      ],
      "execution_count": 8,
      "outputs": [
        {
          "output_type": "stream",
          "text": [
            "+----------+----------+----+---------+---------+----------------+------------+----------+----+------------------------------------------+-----------------------------------------------+---------------------------+---------------------------+-----------------+-----------------------+-----------+----+-----------------+---------------+----+--------+------------+--------------+--------+----------------------+---------+----------------------+-------------------------+------+----------------------+---------------+-------------------------------------+--------------------------------------+-----------------+-------------------------+-------------------+-----------------------+-------+-------------------------+--------------------------+--------------+------------------+------------------+----------------------+------------------+--------+-------------------+-------------+---------------------+-----------------+--------------+----------+---------+----------+----------+---------+----------+-----------+-----------+------------+-----------+-----------+-----------+-----------+-----------+-----------+-----------+-----------+------------+---------+----------+---------------------+---------------+-----------------------+-------------------+----------------+------------+-----------+------------+------------+-----------+------------+-------------+-------------+-------------+--------------+-------------+-------------+-------------+-------------+-------------+-------------+-------------+--------------+-----------+------------+\n",
            "|Cow number|      Date|Barn|Barn part|Treatment|Lactation number|Days in milk|Day number|Week|Period (VP = preperiod, HP = trial period)|Period part (VP = preperiod, HP = trial period)|Intake basal ration (kg dm)|Intake total ration (kg dm)|Water intake (kg)|Concentrate intake (kg)|Weight (kg)| BCS|Backfat Thickness|Milk yield (kg)|Fat%|Protein%|Urea (mg/kg)|SCC (*1000/ml)|Lactose%|Avg Temperature (degC)|Air speed|Max temperature (degC)|Rumination time (min/day)|Avg pH|Avg Rumen Temperature |Time pH<5,8 (h)|Manure consistency (1=fluid, 5= hard)|Manure fibre score (1=short, 5 = long)|Number of kernels|Manure sieving residu (%)|Manure dm (g/kg OM)|Manure starch (g/kg dm)|Urin-pH|Intake pre-period (kg dm)|Milk yield prepreriod (kg)|Fat% preperiod|Protein% preperiod|Fat preperiod (kg)|Protein preperiod (kg)|ECM preperiod (kg)|ECM (kg)|Crude fiber (g/day)|Sugar (g/day)|Crude protein (g/day)|Crude fat (g/day)|Starch (g/day)|Ca (g/day)|P (g/day)|Na (g/day)|Cl (g/day)|K (g/day)|Mg (g/day)|nXP (g/day)|RNB (g/day)|MELK (g/day)|NEL (g/day)|WDE (g/day)|EKB (g/day)|WDS (g/day)|SPK (g/day)|TPK (g/day)|SPE (g/day)|TPE (g/day)|plusI (/day)|WI (/day)|GP (g/day)|Crude fiber (g/kg dm)|Sugar (g/kg dm)|Crude protein (g/kg dm)|Crude fat (g/kg dm)|Starch (g/kg dm)|Ca (g/kg dm)|P (g/kg dm)|Na (g/kg dm)|Cl (g/kg dm)|K (g/kg dm)|Mg (g/kg dm)|nXP (g/kg dm)|RNB (g/kg dm)|MELK (/kg dm)|NEL (MJ/kg dm)|WDE (g/kg dm)|EKB (g/kg dm)|WDS (g/kg dm)|SPK (g/kg dm)|TPK (g/kg dm)|SPE (g/kg dm)|TPE (g/kg dm)|plusI (/kg dm)|WI (/kg dm)|GP (g/kg dm)|\n",
            "+----------+----------+----+---------+---------+----------------+------------+----------+----+------------------------------------------+-----------------------------------------------+---------------------------+---------------------------+-----------------+-----------------------+-----------+----+-----------------+---------------+----+--------+------------+--------------+--------+----------------------+---------+----------------------+-------------------------+------+----------------------+---------------+-------------------------------------+--------------------------------------+-----------------+-------------------------+-------------------+-----------------------+-------+-------------------------+--------------------------+--------------+------------------+------------------+----------------------+------------------+--------+-------------------+-------------+---------------------+-----------------+--------------+----------+---------+----------+----------+---------+----------+-----------+-----------+------------+-----------+-----------+-----------+-----------+-----------+-----------+-----------+-----------+------------+---------+----------+---------------------+---------------+-----------------------+-------------------+----------------+------------+-----------+------------+------------+-----------+------------+-------------+-------------+-------------+--------------+-------------+-------------+-------------+-------------+-------------+-------------+-------------+--------------+-----------+------------+\n",
            "|       897|2014-08-14|   6|        2|        O|               1|         119|        59|   9|                                        HP|                                            HP2|                       35.5|                       38.9|             77.6|                  3.741|      560.0|4.25|                9|          34.61|3.68|     3.4|         252|            41|    4.92|                  17.5|      1.2|                  19.8|                      720|   5.9|                  38.9|            4.0|                                    3|                                     4|              0.0|                     31.8|                124|                    1.5|    8.2|                    18.82|                     33.65|          3.46|              3.16|              1.16|                  1.06|             31.08|   28.74|               6837|         1641|                 6078|             1361|          8730|       224|      164|        77|       190|      579|       128|       5400|          0|       42226|        267|       3378|        577|       2087|       7827|      17660|       2558|       4124|        4285|     4741|      5442|                  176|             42|                    156|                 35|             225|           6|          4|           2|           5|         15|           3|          139|            0|         1086|             7|           87|           15|           54|          201|          454|           66|          106|           110|        122|         140|\n",
            "|       897|2014-08-15|   6|        2|        O|               1|         120|        60|   9|                                        HP|                                            HP2|                       16.4|                       19.8|             77.7|                  3.741|      562.0|4.25|                9|          31.45|3.68|     3.4|         252|            41|    4.92|                  16.7|      1.0|                  20.0|                      714|   5.9|                  38.9|            6.2|                                    3|                                     4|              0.0|                     31.8|                124|                    1.5|    8.2|                    18.82|                     33.65|          3.46|              3.16|              1.16|                  1.06|             31.08|   28.74|               3284|          877|                 3193|              692|          4603|       120|       88|        41|        90|      287|        64|       2496|          0|       21591|        137|       1792|        290|       1074|       4063|       8947|       1278|       2118|        2202|     2238|      2767|                  166|             44|                    162|                 35|             233|           6|          4|           2|           5|         15|           3|          126|            0|         1092|             7|           91|           15|           54|          206|          453|           65|          107|           111|        113|         140|\n",
            "|       897|2014-08-16|   6|        2|        O|               1|         121|        61|   9|                                        HP|                                            HP2|                       21.2|                       24.5|             82.6|                  3.741|      566.0|4.25|                9|          33.09|3.68|     3.4|         252|            41|    4.92|                  16.6|      1.7|                  19.0|                      674|   5.9|                  38.9|            7.0|                                    3|                                     4|              0.0|                     31.8|                124|                    1.5|    8.2|                    18.82|                     33.65|          3.46|              3.16|              1.16|                  1.06|             31.08|   28.74|               4172|         1068|                 3915|              859|          5635|       146|      107|        50|       115|      360|        80|       3222|          0|       26752|        170|       2188|        362|       1327|       5004|      11126|       1598|       2620|        2723|     2864|      3436|                  170|             44|                    159|                 35|             230|           6|          4|           2|           5|         15|           3|          131|            0|         1090|             7|           89|           15|           54|          204|          453|           65|          107|           111|        117|         140|\n",
            "|       897|2014-08-17|   6|        2|        O|               1|         122|        62|   9|                                        HP|                                            HP2|                       17.4|                       20.7|             67.6|                  3.736|      561.0|4.25|                9|          27.03|3.68|     3.4|         252|            41|    4.92|                  16.0|      2.0|                  17.7|                      653|   5.8|                  39.0|            8.3|                                    3|                                     4|              0.0|                     31.8|                124|                    1.5|    8.2|                    18.82|                     33.65|          3.46|              3.16|              1.16|                  1.06|             31.08|   28.74|               3465|          915|                 3339|              726|          4812|       125|       92|        43|        95|      302|        67|       2644|          0|       22639|        144|       1872|        305|       1125|       4254|       9390|       1343|       2220|        2308|     2366|      2903|                  167|             44|                    161|                 35|             232|           6|          4|           2|           5|         15|           3|          128|            0|         1092|             7|           90|           15|           54|          205|          453|           65|          107|           111|        114|         140|\n",
            "|       897|2014-08-18|   6|        2|        O|               1|         123|        63|   9|                                        HP|                                            HP2|                       17.5|                       20.9|             70.2|                  3.741|      557.0|4.25|                9|          24.06|3.73|    3.33|         259|            45|    4.93|                  15.6|      2.0|                  17.2|                      688|   5.8|                  38.9|           11.7|                                    3|                                     4|              0.0|                     31.8|                124|                    1.5|    8.2|                    18.82|                     33.65|          3.46|              3.16|              1.16|                  1.06|             31.08|   30.05|               3488|          921|                 3359|              730|          4841|       126|       92|        43|        96|      304|        67|       2663|          0|       22780|        145|       1883|        307|       1132|       4280|       9449|       1351|       2233|        2322|     2383|      2921|                  167|             44|                    161|                 35|             232|           6|          4|           2|           5|         15|           3|          128|            0|         1092|             7|           90|           15|           54|          205|          453|           65|          107|           111|        114|         140|\n",
            "+----------+----------+----+---------+---------+----------------+------------+----------+----+------------------------------------------+-----------------------------------------------+---------------------------+---------------------------+-----------------+-----------------------+-----------+----+-----------------+---------------+----+--------+------------+--------------+--------+----------------------+---------+----------------------+-------------------------+------+----------------------+---------------+-------------------------------------+--------------------------------------+-----------------+-------------------------+-------------------+-----------------------+-------+-------------------------+--------------------------+--------------+------------------+------------------+----------------------+------------------+--------+-------------------+-------------+---------------------+-----------------+--------------+----------+---------+----------+----------+---------+----------+-----------+-----------+------------+-----------+-----------+-----------+-----------+-----------+-----------+-----------+-----------+------------+---------+----------+---------------------+---------------+-----------------------+-------------------+----------------+------------+-----------+------------+------------+-----------+------------+-------------+-------------+-------------+--------------+-------------+-------------+-------------+-------------+-------------+-------------+-------------+--------------+-----------+------------+\n",
            "only showing top 5 rows\n",
            "\n"
          ],
          "name": "stdout"
        }
      ]
    },
    {
      "cell_type": "code",
      "metadata": {
        "id": "FGQ10MES4jFm"
      },
      "source": [
        "# Stages for pipeline\n",
        "\n",
        "# Index string columns\n",
        "index_strings = [StringIndexer(inputCol= col, outputCol= f'{col}_index') for col in stringColumn]\n",
        "\n",
        "# Encode string columns\n",
        "encoder = OneHotEncoderEstimator(inputCols=[string_indexer.getOutputCol() for string_indexer in index_strings], \n",
        "                                 outputCols= [f'{col}_encoded' for col in stringColumn])"
      ],
      "execution_count": 9,
      "outputs": []
    },
    {
      "cell_type": "code",
      "metadata": {
        "id": "6YNUG7MEvJJv"
      },
      "source": [
        "## Assembling the vectorizer\n",
        "vectorizer = VectorAssembler(\n",
        "    inputCols=inputColNames, \n",
        "    outputCol=\"features\")"
      ],
      "execution_count": 10,
      "outputs": []
    },
    {
      "cell_type": "code",
      "metadata": {
        "id": "buoMQkQtGRnD",
        "colab": {
          "base_uri": "https://localhost:8080/"
        },
        "outputId": "c8d57fb3-724a-4bb2-b09e-a11519e66347"
      },
      "source": [
        "## Splitting the dataset into a training and testing portion.\n",
        "\n",
        "# Setting a seed for reproducible results.\n",
        "ourSeed = 1234  # default = 1234\n",
        "\n",
        "# Randomly splitting the dataset (default 20% test, 80% train)\n",
        "(testSetDF, trainingSetDF) = milk_rdd3.randomSplit([2.0,8.0],seed=ourSeed)\n",
        "\n",
        "# Uncomment to cache these datasets for performance\n",
        "testSetDF.cache()\n",
        "trainingSetDF.cache()\n",
        "\n",
        "trainingSetDF.show(5)"
      ],
      "execution_count": 11,
      "outputs": [
        {
          "output_type": "execute_result",
          "data": {
            "text/plain": [
              "DataFrame[Cow number: int, Date: date, Barn: int, Barn part: int, Treatment: string, Lactation number: int, Days in milk: int, Day number: int, Week: int, Period part (VP = preperiod, HP = trial period): string, Intake basal ration (kg dm): double, Intake total ration (kg dm): double, Water intake (kg): double, Concentrate intake (kg): double, Weight (kg): double, BCS: double, Backfat Thickness: int, Milk yield (kg): double, Fat%: double, Protein%: double, Urea (mg/kg): int, SCC (*1000/ml): int, Lactose%: double, Avg Temperature (degC): double, Air speed: double, Max temperature (degC): double, Rumination time (min/day): int, Avg pH: double, Avg Rumen Temperature : double, Time pH<5,8 (h): double, Manure consistency (1=fluid, 5= hard): int, Manure fibre score (1=short, 5 = long): int, Number of kernels: double, Manure sieving residu (%): double, Manure dm (g/kg OM): int, Manure starch (g/kg dm): double, Urin-pH: double, Intake pre-period (kg dm): double, Milk yield prepreriod (kg): double, Fat% preperiod: double, Protein% preperiod: double, Fat preperiod (kg): double, Protein preperiod (kg): double, ECM preperiod (kg): double, ECM (kg): double, Crude fiber (g/day): int, Sugar (g/day): int, Crude protein (g/day): int, Crude fat (g/day): int, Starch (g/day): int, Ca (g/day): int, P (g/day): int, Na (g/day): int, Cl (g/day): int, K (g/day): int, Mg (g/day): int, nXP (g/day): int, RNB (g/day): int, MELK (g/day): int, NEL (g/day): int, WDE (g/day): int, EKB (g/day): int, WDS (g/day): int, SPK (g/day): int, TPK (g/day): int, SPE (g/day): int, TPE (g/day): int, plusI (/day): int, WI (/day): int, GP (g/day): int, Crude fiber (g/kg dm): int, Sugar (g/kg dm): int, Crude protein (g/kg dm): int, Crude fat (g/kg dm): int, Starch (g/kg dm): int, Ca (g/kg dm): int, P (g/kg dm): int, Na (g/kg dm): int, Cl (g/kg dm): int, K (g/kg dm): int, Mg (g/kg dm): int, nXP (g/kg dm): int, RNB (g/kg dm): int, MELK (/kg dm): int, NEL (MJ/kg dm): int, WDE (g/kg dm): int, EKB (g/kg dm): int, WDS (g/kg dm): int, SPK (g/kg dm): int, TPK (g/kg dm): int, SPE (g/kg dm): int, TPE (g/kg dm): int, plusI (/kg dm): int, WI (/kg dm): int, GP (g/kg dm): int]"
            ]
          },
          "metadata": {
            "tags": []
          },
          "execution_count": 11
        }
      ]
    },
    {
      "cell_type": "markdown",
      "metadata": {
        "id": "OVIF87r80veI"
      },
      "source": [
        "### Linear Regression Machine Learning Model"
      ]
    },
    {
      "cell_type": "code",
      "metadata": {
        "id": "C5RGiNe_0yYi"
      },
      "source": [
        "## Training a linear regression model with the default settings.\n",
        "\n",
        "# Initialize the linear regression learner with default values for the parameters\n",
        "lr = LinearRegression()\n",
        "\n",
        "# Setting the name of the column with the values that need to be learned\n",
        "# and setting the name of the column where the predicted results will be saved.\n",
        "lr.setLabelCol(labelColName)\\\n",
        "  .setPredictionCol(predictionColName)\n",
        "\n",
        "# Create a pipeline that performs the vectorizer and the Linear Regression\n",
        "# learning model.\n",
        "lrPipeline = Pipeline(stages = index_strings + [encoder] + [vectorizer] + [lr])\n",
        "\n",
        "# Uncomment the next line to show if the training set was created correctly\n",
        "#trainingSetDF.show(5)\n",
        "\n",
        "# Train the model on the training set with the default settings.\n",
        "lrModel = lrPipeline.fit(trainingSetDF)\n"
      ],
      "execution_count": null,
      "outputs": []
    },
    {
      "cell_type": "code",
      "metadata": {
        "id": "9cpYGku4pmNH"
      },
      "source": [
        "## Inspecting the results of the previous model\n",
        "\n",
        "# The coefficients (i.e., weights) are as follows:\n",
        "weights = lrModel.stages[1].coefficients\n",
        "\n",
        "# The corresponding features for these weights are:\n",
        "featuresNoLabel = vectorizer.getInputCols()\n",
        "print(featuresNoLabel)\n",
        "\n",
        "# Print coefficients \n",
        "list(zip(featuresNoLabel, weights))\n",
        "print(list(zip(featuresNoLabel, weights)))\n",
        " \n",
        " # Print the intercept\n",
        "print(\"Intercept: \",lrModel.stages[1].intercept)"
      ],
      "execution_count": null,
      "outputs": []
    },
    {
      "cell_type": "code",
      "metadata": {
        "id": "zMeIb7kUBSad"
      },
      "source": [
        "## Model Predictions:\n",
        "\n",
        " # Apply our LR model to the test data and predict power output\n",
        "predictionsLR = lrModel.transform(testSetDF).select(inputColNames+[labelColName]+[predictionColName])\n",
        "\n",
        " # Print the first 15 rows of your predictions\n",
        "predictionsLR.show(15)\n",
        "\n",
        "#Plotting predicted against actual values to show linearity\n",
        "sns.scatterplot(x=labelColName, y=predictionColName, data=predictionsLR.toPandas())"
      ],
      "execution_count": null,
      "outputs": []
    },
    {
      "cell_type": "code",
      "metadata": {
        "id": "_Yyx6H5QC-Qx"
      },
      "source": [
        "## Compute an evaluation metric for our test dataset\n",
        "\n",
        "# Create an RMSE evaluator using the label and predicted columns\n",
        "regEval = RegressionEvaluator(predictionCol=predictionColName, labelCol=labelColName, metricName=\"rmse\")\n",
        "\n",
        "# Run the evaluator on the DataFrame\n",
        "rmse = regEval.evaluate(predictionsLR)\n",
        "\n",
        "# Print the Root Mean Squared Error\n",
        "print(\"Root Mean Squared Error: %.2f\" % rmse)"
      ],
      "execution_count": null,
      "outputs": []
    },
    {
      "cell_type": "code",
      "metadata": {
        "id": "bNt3i7O3DiHn"
      },
      "source": [
        "## Compute R-squared evaluation metric for our test dataset\n",
        "\n",
        "r2 = regEval.evaluate(predictionsLR, {regEval.metricName: \"r2\"})\n",
        "\n",
        "# Print R-squard\n",
        "print(\"r2: {0:.2f}\".format(r2))"
      ],
      "execution_count": null,
      "outputs": []
    },
    {
      "cell_type": "markdown",
      "metadata": {
        "id": "tALWfJ9w29bf"
      },
      "source": [
        "### Parameter Tuning and Evaluation"
      ]
    },
    {
      "cell_type": "code",
      "metadata": {
        "id": "-6VStMZb3DMx"
      },
      "source": [
        "## Use paramater tuning to try to create a better linear regression model\n",
        "\n",
        "# We can reuse the RegressionEvaluator, regEval, to judge the model based on the best Root Mean Squared Error\n",
        "# Let's create our CrossValidator with 3 fold cross validation\n",
        "crossval = CrossValidator(estimator=lrPipeline, evaluator=regEval, numFolds=3)\n",
        "\n",
        "# Tune over our regularization parameter from 0.01 to 0.10\n",
        "regParam = [x / 100.0 for x in range(1, 11)]\n",
        "\n",
        "# Create a paramter grid using the ParamGridBuilder,\n",
        "# and add the grid to the CrossValidator\n",
        "paramGrid = (ParamGridBuilder()\n",
        "             .addGrid(lr.regParam, regParam)\n",
        "             .build())\n",
        "crossval.setEstimatorParamMaps(paramGrid)\n",
        "\n",
        "# Find and return the best model\n",
        "cvModel = crossval.fit(trainingSetDF).bestModel"
      ],
      "execution_count": null,
      "outputs": []
    },
    {
      "cell_type": "code",
      "metadata": {
        "id": "3Gixa0vq6PGK"
      },
      "source": [
        "## Evaluate the new tuned model by comparing it to the default linear regression\n",
        "\n",
        "# Use cvModel to compute an evaluation metric for our test dataset: testSetDF\n",
        "predictionsRL = cvModel.transform(testSetDF).select(inputColNames+[labelColName]+[predictionColName])\n",
        "\n",
        "# Run the previously created RMSE evaluator, regEval, on the predictionsAndLabelsDF DataFrame\n",
        "rmseLR = regEval.evaluate(predictionsRL)\n",
        "\n",
        "# Compute the r2 evaluation metric for our test dataset\n",
        "r2LR = regEval.evaluate(predictionsRL, {regEval.metricName: \"r2\"})\n",
        "\n",
        "# Printing the rounded values to compare the 2 linear regression models.\n",
        "print(\"Original Root Mean Squared Error: {0:2.2f}\".format(rmse))\n",
        "print(\"New Root Mean Squared Error: {0:2.2f}\".format(rmseLR))\n",
        "print(\"Old r2: {0:2.2f}\".format(r2))\n",
        "print(\"New r2: {0:2.2f}\".format(r2LR))\n",
        "\n",
        "# Printing unrounded values for better testing purpose\n",
        "print(\"\\r\\n\",\"Un-rouned values printed above in same order:\\r\\n\",rmse,rmseLR,r2,r2LR)"
      ],
      "execution_count": null,
      "outputs": []
    },
    {
      "cell_type": "markdown",
      "metadata": {
        "id": "CClquqzcs9lM"
      },
      "source": [
        "# Visualization"
      ]
    },
    {
      "cell_type": "markdown",
      "metadata": {
        "id": "2N0JNXWVtI8Q"
      },
      "source": [
        "## Plotting sample of dataset against 1 column"
      ]
    },
    {
      "cell_type": "code",
      "metadata": {
        "id": "M9FkzfxCvcFR"
      },
      "source": [
        "## Copy of setting the correct columns to allow easier plotting\n",
        "\n",
        "### CHANGE inputColNames (list of x) AND LabelColName (y) TO CREATE THE\n",
        "### DESIRED PLOTS. # ONLY 10 x VALUES CAN BE ENTERED AT A TIME\n",
        "\n",
        "inputColNames = ['Protein preperiod (kg)','Fat preperiod (kg)','Crude fat (g/kg dm)','Protein%','Protein% preperiod','Fat%','Fat% preperiod']\n",
        "#inputColNames = doubleColumns[0:10]\n",
        "\n",
        "labelColName = \"Milk yield (kg)\"\n",
        "predictionColName = \"Predicted \" + labelColName\n",
        "\n",
        "# Removing the label column from the input column if it ended in there on accident\n",
        "if labelColName in inputColNames: inputColNames.remove(labelColName)\n",
        "\n",
        "# Drop empty values (otherwise it can't work with the data)\n",
        "# WE MIGHT NEED TO FIND AN ALTERNATIVE TO DROPPING ANY ROW WITH BLANKS!\n",
        "# CURRENTLY EXPERIMENTING WITH NOT DROPPING NA FOR THE PLOTTING\n",
        "#milk_rdd3 = milk_rdd2.dropna(how='any', subset=inputColNames+[labelColName])\n",
        "milk_rdd3 = milk_rdd2.select(inputColNames+[labelColName])"
      ],
      "execution_count": null,
      "outputs": []
    },
    {
      "cell_type": "code",
      "metadata": {
        "id": "XOSmSbuQtdAD"
      },
      "source": [
        "## Plotting the columns versus the labelcolumn to get inital idea of linear regression\n",
        "\n",
        "### Trying to plot more than 10 plots at the same time results in empty plots ###\n",
        "\n",
        "milk_rdd3_sample = milk_rdd3.select(inputColNames+[labelColName]).sample(False,0.5)\n",
        "#print(milk_rdd3_sample)\n",
        "sns.set(rc={'figure.figsize':(10,10)})\n",
        "\n",
        "for column in inputColNames:\n",
        "  plt.figure()\n",
        "  sns.lmplot(x=column, y=labelColName,data=milk_rdd3_sample.toPandas())\n",
        "  plt.title(labelColName+\" vs \"+column)\n",
        "  plt.xlabel(column)\n",
        "  plt.ylabel(labelColName)"
      ],
      "execution_count": null,
      "outputs": []
    }
  ]
}